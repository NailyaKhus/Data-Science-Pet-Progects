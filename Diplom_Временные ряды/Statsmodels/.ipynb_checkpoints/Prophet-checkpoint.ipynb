{
 "cells": [
  {
   "cell_type": "code",
   "execution_count": null,
   "metadata": {
    "_cell_guid": "b1076dfc-b9ad-4769-8c92-a6c4dae69d19",
    "_uuid": "8f2839f25d086af736a60e9eeb907d3b93b6e0e5"
   },
   "outputs": [],
   "source": []
  },
  {
   "cell_type": "markdown",
   "metadata": {},
   "source": [
    "В данных 54 магазина и 33 семейства продуктов.                     \n",
    "Временной ряд тренировочных данных с 01.01.2013 по 15.08.2017.              \n",
    "Временной ряд тестовых данных для submition составляет 16 дней после последней даты тренировочных данных: с 16.08.2017 по 31.08.2017.                   \n",
    "                                 \n",
    "Нужно составить прогноз продаж для каждого из семейств продуктов в каждом из магазинов.     \n",
    "                             \n",
    "В отдельном ноутбуке проведен Feature engineering и сформированы необходимые датасеты.\n",
    "                                \n",
    "**Текущие датасеты**                   \n",
    "1. final_featured_data - объединенные данные test и train с новыми признаками, отобранными по значимости.\n",
    "2. zero_prediction - данные тех товаров, которые не продавались в конкретном магазине с начала 2013 года, исходя из чего можно предположить, что данные товары не будут продаваться в ближайшие 16 дней. Этот датасет мы будем объединять с предсказанными данными перед отправкой в submit.           \n",
    "3. fuller_not_stat - не стационарные по результатам подсчета критерия Дикки-Фуллера ряды из числа рядов \"магазин+семейство товаров\""
   ]
  },
  {
   "cell_type": "code",
   "execution_count": null,
   "metadata": {
    "execution": {
     "iopub.execute_input": "2022-02-26T13:33:08.965741Z",
     "iopub.status.busy": "2022-02-26T13:33:08.965435Z",
     "iopub.status.idle": "2022-02-26T13:33:08.971858Z",
     "shell.execute_reply": "2022-02-26T13:33:08.970766Z",
     "shell.execute_reply.started": "2022-02-26T13:33:08.965702Z"
    }
   },
   "outputs": [],
   "source": [
    "import numpy as np\n",
    "import pandas as pd\n",
    "from datetime import datetime, timedelta\n",
    "import gc\n",
    "from tqdm.auto import tqdm"
   ]
  },
  {
   "cell_type": "code",
   "execution_count": null,
   "metadata": {
    "execution": {
     "iopub.execute_input": "2022-02-26T11:34:12.876851Z",
     "iopub.status.busy": "2022-02-26T11:34:12.876562Z",
     "iopub.status.idle": "2022-02-26T11:34:13.185129Z",
     "shell.execute_reply": "2022-02-26T11:34:13.184247Z",
     "shell.execute_reply.started": "2022-02-26T11:34:12.876817Z"
    }
   },
   "outputs": [],
   "source": [
    "from fbprophet import Prophet"
   ]
  },
  {
   "cell_type": "markdown",
   "metadata": {},
   "source": [
    "# Import Data"
   ]
  },
  {
   "cell_type": "code",
   "execution_count": null,
   "metadata": {
    "execution": {
     "iopub.execute_input": "2022-02-26T11:34:15.497767Z",
     "iopub.status.busy": "2022-02-26T11:34:15.497469Z",
     "iopub.status.idle": "2022-02-26T11:34:22.422559Z",
     "shell.execute_reply": "2022-02-26T11:34:22.421617Z",
     "shell.execute_reply.started": "2022-02-26T11:34:15.497736Z"
    }
   },
   "outputs": [],
   "source": [
    "# Import\n",
    "df = pd.read_csv(\"../input/featured-data-with-imp-feat/final_featured_data.csv\")\n",
    "zero_prediction = pd.read_csv(\"../input/zero-prediction/zero_prediction.csv\")\n",
    "fuller_result = pd.read_csv(\"../input/fuller-result/fuller_not_stat.csv\")\n",
    "\n",
    "# Datetime\n",
    "df[\"date\"] = pd.to_datetime(df.date)\n",
    "\n",
    "zero_prediction = zero_prediction.set_index(['store_nbr', 'family', 'date']).sort_index()\n",
    "d_train = df[df.date<'2017-08-16'].copy()\n",
    "d_test = df[df.date>='2017-08-16'].copy()"
   ]
  },
  {
   "cell_type": "code",
   "execution_count": null,
   "metadata": {
    "execution": {
     "iopub.execute_input": "2022-02-26T11:34:22.424544Z",
     "iopub.status.busy": "2022-02-26T11:34:22.424325Z",
     "iopub.status.idle": "2022-02-26T11:34:22.577636Z",
     "shell.execute_reply": "2022-02-26T11:34:22.576762Z",
     "shell.execute_reply.started": "2022-02-26T11:34:22.424517Z"
    }
   },
   "outputs": [],
   "source": [
    "d_train.sample(2)"
   ]
  },
  {
   "cell_type": "code",
   "execution_count": null,
   "metadata": {
    "execution": {
     "iopub.execute_input": "2022-02-26T11:34:22.579631Z",
     "iopub.status.busy": "2022-02-26T11:34:22.579319Z",
     "iopub.status.idle": "2022-02-26T11:34:22.595473Z",
     "shell.execute_reply": "2022-02-26T11:34:22.594495Z",
     "shell.execute_reply.started": "2022-02-26T11:34:22.579589Z"
    }
   },
   "outputs": [],
   "source": [
    "d_train.info()"
   ]
  },
  {
   "cell_type": "code",
   "execution_count": null,
   "metadata": {
    "execution": {
     "iopub.execute_input": "2022-02-26T11:34:22.598495Z",
     "iopub.status.busy": "2022-02-26T11:34:22.598162Z",
     "iopub.status.idle": "2022-02-26T11:34:22.606489Z",
     "shell.execute_reply": "2022-02-26T11:34:22.605553Z",
     "shell.execute_reply.started": "2022-02-26T11:34:22.598447Z"
    }
   },
   "outputs": [],
   "source": [
    "# Переименовываем столбцы для Prophet\n",
    "d_train.columns = ['family', 'store_nbr', 'ds', 'id', 'y', 'season', 'quarter',\n",
    "       'week_of_month', 'year', 'day_of_week', 'month', 'day_of_month',\n",
    "       'onpromotion', 'week_of_year', 'day_of_year']"
   ]
  },
  {
   "cell_type": "code",
   "execution_count": null,
   "metadata": {
    "execution": {
     "iopub.execute_input": "2022-02-26T12:24:57.184495Z",
     "iopub.status.busy": "2022-02-26T12:24:57.184197Z",
     "iopub.status.idle": "2022-02-26T12:24:57.200175Z",
     "shell.execute_reply": "2022-02-26T12:24:57.198849Z",
     "shell.execute_reply.started": "2022-02-26T12:24:57.184464Z"
    }
   },
   "outputs": [],
   "source": [
    "d_test[(d_test.store_nbr == 1) & (d_test.family == 'SEAFOOD')].onpromotion"
   ]
  },
  {
   "cell_type": "markdown",
   "metadata": {},
   "source": [
    "# Метрики"
   ]
  },
  {
   "cell_type": "code",
   "execution_count": null,
   "metadata": {
    "execution": {
     "iopub.execute_input": "2022-02-26T11:34:24.510535Z",
     "iopub.status.busy": "2022-02-26T11:34:24.50982Z",
     "iopub.status.idle": "2022-02-26T11:34:24.519887Z",
     "shell.execute_reply": "2022-02-26T11:34:24.518599Z",
     "shell.execute_reply.started": "2022-02-26T11:34:24.51049Z"
    }
   },
   "outputs": [],
   "source": [
    "def compute_metrics(real, forecast):\n",
    "    result = {}\n",
    "    real=np.array(real)\n",
    "    forecast=np.array(forecast)\n",
    "    result['MSE'] = round(((real-forecast)**2).mean(),4)\n",
    "    result['RMSE'] = round((((real-forecast)**2)**(1/2)).mean(),4)\n",
    "    mape_list = []\n",
    "    for i in range(len(real)):\n",
    "        if real[i] == 0:\n",
    "            mape_list.append(0)\n",
    "        else:\n",
    "            mape_list.append(abs(real[i]-forecast[i])/real[i])\n",
    "        \n",
    "    result['MAPE'] = round(np.mean(mape_list),4)\n",
    "    result['SMAP'] = round(2.0 * np.mean(np.abs(forecast - real) / (np.abs(forecast) + np.abs(real))),4)\n",
    "    return pd.Series(result)"
   ]
  },
  {
   "cell_type": "markdown",
   "metadata": {},
   "source": [
    "# Validation"
   ]
  },
  {
   "cell_type": "code",
   "execution_count": null,
   "metadata": {
    "execution": {
     "iopub.execute_input": "2022-02-26T11:34:26.390716Z",
     "iopub.status.busy": "2022-02-26T11:34:26.390443Z",
     "iopub.status.idle": "2022-02-26T11:34:26.397885Z",
     "shell.execute_reply": "2022-02-26T11:34:26.397032Z",
     "shell.execute_reply.started": "2022-02-26T11:34:26.390687Z"
    }
   },
   "outputs": [],
   "source": [
    "# Возьмём дни часть данных для просчета внутренних метрик\n",
    "valid_peiod= 15"
   ]
  },
  {
   "cell_type": "markdown",
   "metadata": {},
   "source": [
    "# Prophet for one ts"
   ]
  },
  {
   "cell_type": "markdown",
   "metadata": {},
   "source": [
    "Возьмем один временной ряд (в одном магазине по одному из семейств товаров) и посчитаем, как меняется внутренние метрики на этом ряду."
   ]
  },
  {
   "cell_type": "code",
   "execution_count": null,
   "metadata": {
    "execution": {
     "iopub.execute_input": "2022-02-26T11:34:37.38568Z",
     "iopub.status.busy": "2022-02-26T11:34:37.385106Z",
     "iopub.status.idle": "2022-02-26T11:34:45.636807Z",
     "shell.execute_reply": "2022-02-26T11:34:45.635949Z",
     "shell.execute_reply.started": "2022-02-26T11:34:37.385617Z"
    }
   },
   "outputs": [],
   "source": [
    "# simple prophit\n",
    "model = Prophet()\n",
    "f_train = d_train.loc[(d_train.family == 'AUTOMOTIVE') & (d_train.store_nbr == 1),['ds','y']].copy()\n",
    "train = f_train[:-valid_peiod].copy()\n",
    "model.fit(train)\n",
    "future = model.make_future_dataframe(periods=valid_peiod)\n",
    "forecast = model.predict(future)\n",
    "cmp_df = forecast.set_index('ds')[['yhat', 'yhat_lower', 'yhat_upper']].join(f_train.set_index('ds'))\n",
    "metrics = compute_metrics(cmp_df.loc['2017-08-01':'2017-08-15','y'], cmp_df.loc['2017-08-01':'2017-08-15','yhat'])\n",
    "print('metrics: \\n', metrics)\n",
    "fig = model.plot(forecast)"
   ]
  },
  {
   "cell_type": "markdown",
   "metadata": {},
   "source": [
    "metrics:                           \n",
    "MSE     5.8709                      \n",
    "RMSE    1.9949                      \n",
    "MAPE    0.7771                      \n",
    "SMAP    0.4939"
   ]
  },
  {
   "cell_type": "code",
   "execution_count": null,
   "metadata": {
    "execution": {
     "iopub.execute_input": "2022-02-26T11:34:45.64336Z",
     "iopub.status.busy": "2022-02-26T11:34:45.63888Z",
     "iopub.status.idle": "2022-02-26T11:34:52.371155Z",
     "shell.execute_reply": "2022-02-26T11:34:52.370031Z",
     "shell.execute_reply.started": "2022-02-26T11:34:45.643309Z"
    }
   },
   "outputs": [],
   "source": [
    "# логистический prophit с верхней и нижней границей\n",
    "model = Prophet(growth='logistic')\n",
    "f_train = d_train.loc[(d_train.family == 'AUTOMOTIVE') & (d_train.store_nbr == 1),['ds','y']].copy()\n",
    "train = f_train[:-valid_peiod].copy()\n",
    "train['cap'] = 20\n",
    "train['floor'] = 0\n",
    "\n",
    "model.fit(train)\n",
    "future = model.make_future_dataframe(periods=valid_peiod)\n",
    "future['cap'] = 20\n",
    "future['floor'] = 0\n",
    "forecast = model.predict(future)\n",
    "cmp_df = forecast.set_index('ds')[['yhat', 'yhat_lower', 'yhat_upper']].join(f_train.set_index('ds'))\n",
    "metrics = compute_metrics(cmp_df.loc['2017-08-01':'2017-08-15','y'], cmp_df.loc['2017-08-01':'2017-08-15','yhat'])\n",
    "print('metrics: \\n', metrics)\n",
    "fig = model.plot(forecast)"
   ]
  },
  {
   "cell_type": "markdown",
   "metadata": {},
   "source": [
    "metrics:                              \n",
    "MSE     5.8948                             \n",
    "RMSE    2.1312                         \n",
    "MAPE    0.9551                         \n",
    "SMAP    0.5123                           \n",
    "Судя по метрикам, прогноз ухудшился"
   ]
  },
  {
   "cell_type": "code",
   "execution_count": null,
   "metadata": {
    "execution": {
     "iopub.execute_input": "2022-02-26T11:34:52.372625Z",
     "iopub.status.busy": "2022-02-26T11:34:52.372396Z",
     "iopub.status.idle": "2022-02-26T11:34:58.114787Z",
     "shell.execute_reply": "2022-02-26T11:34:58.113936Z",
     "shell.execute_reply.started": "2022-02-26T11:34:52.372597Z"
    }
   },
   "outputs": [],
   "source": [
    "# изменение гибкости тренда prophit (по умолчанию changepoint_prior_scale=0.05)\n",
    "model = Prophet(changepoint_prior_scale=0.5)\n",
    "f_train = d_train.loc[(d_train.family == 'AUTOMOTIVE') & (d_train.store_nbr == 1),['ds','y']].copy()\n",
    "train = f_train[:-valid_peiod].copy()\n",
    "model.fit(train)\n",
    "future = model.make_future_dataframe(periods=valid_peiod)\n",
    "forecast = model.predict(future)\n",
    "cmp_df = forecast.set_index('ds')[['yhat', 'yhat_lower', 'yhat_upper']].join(f_train.set_index('ds'))\n",
    "metrics = compute_metrics(cmp_df.loc['2017-08-01':'2017-08-15','y'], cmp_df.loc['2017-08-01':'2017-08-15','yhat'])\n",
    "print('metrics: \\n', metrics)\n",
    "fig = model.plot(forecast)"
   ]
  },
  {
   "cell_type": "markdown",
   "metadata": {},
   "source": [
    "metrics:                              \n",
    "MSE     5.8787                       \n",
    "RMSE    1.9948                        \n",
    "MAPE    0.7765                     \n",
    "SMAP    0.4940                      \n",
    "Увеличение гибкости не дает прироста относительно простой модели."
   ]
  },
  {
   "cell_type": "code",
   "execution_count": null,
   "metadata": {
    "execution": {
     "iopub.execute_input": "2022-02-26T11:34:58.117151Z",
     "iopub.status.busy": "2022-02-26T11:34:58.11687Z",
     "iopub.status.idle": "2022-02-26T11:34:58.152205Z",
     "shell.execute_reply": "2022-02-26T11:34:58.15135Z",
     "shell.execute_reply.started": "2022-02-26T11:34:58.117117Z"
    }
   },
   "outputs": [],
   "source": [
    "holidays = pd.read_csv(\"../input/store-sales-time-series-forecasting/holidays_events.csv\")\n",
    "holidays[\"date\"] = pd.to_datetime(holidays.date)\n",
    "holidays.sample(3)"
   ]
  },
  {
   "cell_type": "code",
   "execution_count": null,
   "metadata": {
    "execution": {
     "iopub.execute_input": "2022-02-26T11:34:58.154037Z",
     "iopub.status.busy": "2022-02-26T11:34:58.153553Z",
     "iopub.status.idle": "2022-02-26T11:34:58.15982Z",
     "shell.execute_reply": "2022-02-26T11:34:58.159139Z",
     "shell.execute_reply.started": "2022-02-26T11:34:58.154003Z"
    }
   },
   "outputs": [],
   "source": [
    "holidays_pf = holidays[['date', 'type']].copy()\n",
    "holidays_pf.columns = ['ds', 'holiday']"
   ]
  },
  {
   "cell_type": "code",
   "execution_count": null,
   "metadata": {
    "execution": {
     "iopub.execute_input": "2022-02-26T11:34:58.161069Z",
     "iopub.status.busy": "2022-02-26T11:34:58.160783Z",
     "iopub.status.idle": "2022-02-26T11:34:58.181244Z",
     "shell.execute_reply": "2022-02-26T11:34:58.18008Z",
     "shell.execute_reply.started": "2022-02-26T11:34:58.161037Z"
    }
   },
   "outputs": [],
   "source": [
    "holidays_pf"
   ]
  },
  {
   "cell_type": "code",
   "execution_count": null,
   "metadata": {
    "execution": {
     "iopub.execute_input": "2022-02-26T11:34:58.184176Z",
     "iopub.status.busy": "2022-02-26T11:34:58.183247Z",
     "iopub.status.idle": "2022-02-26T11:35:05.215861Z",
     "shell.execute_reply": "2022-02-26T11:35:05.214977Z",
     "shell.execute_reply.started": "2022-02-26T11:34:58.184131Z"
    }
   },
   "outputs": [],
   "source": [
    "# prophit with holidays\n",
    "model = Prophet(holidays=holidays_pf)\n",
    "f_train = d_train.loc[(d_train.family == 'AUTOMOTIVE') & (d_train.store_nbr == 1),['ds','y']].copy()\n",
    "train = f_train[:-valid_peiod].copy()\n",
    "model.fit(train)\n",
    "future = model.make_future_dataframe(periods=valid_peiod)\n",
    "forecast = model.predict(future)\n",
    "cmp_df = forecast.set_index('ds')[['yhat', 'yhat_lower', 'yhat_upper']].join(f_train.set_index('ds'))\n",
    "metrics = compute_metrics(cmp_df.loc['2017-08-01':'2017-08-15','y'], cmp_df.loc['2017-08-01':'2017-08-15','yhat'])\n",
    "print('metrics: \\n', metrics)\n",
    "fig = model.plot_components(forecast)"
   ]
  },
  {
   "cell_type": "markdown",
   "metadata": {},
   "source": [
    "metrics:                           \n",
    "MSE     5.6498                   \n",
    "RMSE    1.9843                        \n",
    "MAPE    0.7752                     \n",
    "SMAP    0.4935                          \n",
    "Незначительное улучшение MSE и RMSE по сравнению с simple prophet."
   ]
  },
  {
   "cell_type": "code",
   "execution_count": null,
   "metadata": {
    "execution": {
     "iopub.execute_input": "2022-02-26T11:35:05.218114Z",
     "iopub.status.busy": "2022-02-26T11:35:05.217296Z",
     "iopub.status.idle": "2022-02-26T11:35:11.921258Z",
     "shell.execute_reply": "2022-02-26T11:35:11.920337Z",
     "shell.execute_reply.started": "2022-02-26T11:35:05.218066Z"
    }
   },
   "outputs": [],
   "source": [
    "# добавление признаков в prophit\n",
    "model = Prophet()\n",
    "model.add_regressor('season')\n",
    "model.add_regressor('quarter')\n",
    "model.add_regressor('week_of_month')\n",
    "model.add_regressor('year')\n",
    "model.add_regressor('day_of_week')\n",
    "model.add_regressor('month')\n",
    "model.add_regressor('day_of_month')\n",
    "model.add_regressor('onpromotion')\n",
    "model.add_regressor('week_of_year')\n",
    "model.add_regressor('day_of_year')\n",
    "f_train = d_train.loc[(d_train.family == 'AUTOMOTIVE') & (d_train.store_nbr == 1),['ds','y','season', 'quarter',\n",
    "       'week_of_month', 'year', 'day_of_week', 'month', 'day_of_month',\n",
    "       'onpromotion', 'week_of_year', 'day_of_year']].copy()\n",
    "train = f_train[:-valid_peiod].copy()\n",
    "model.fit(train)\n",
    "future = model.make_future_dataframe(periods=valid_peiod+16)\n",
    "future[['season', 'quarter',\n",
    "       'week_of_month', 'year', 'day_of_week', 'month', 'day_of_month',\n",
    "       'onpromotion', 'week_of_year', 'day_of_year']]= d_train[['season', 'quarter',\n",
    "       'week_of_month', 'year', 'day_of_week', 'month', 'day_of_month',\n",
    "       'onpromotion', 'week_of_year', 'day_of_year']].copy()\n",
    "forecast = model.predict(future)\n",
    "cmp_df = forecast.set_index('ds')[['yhat', 'yhat_lower', 'yhat_upper']].join(f_train.set_index('ds'))\n",
    "metrics = compute_metrics(cmp_df.loc['2017-08-01':'2017-08-15','y'], cmp_df.loc['2017-08-01':'2017-08-15','yhat'])\n",
    "print('metrics: \\n', metrics)\n",
    "fig = model.plot_components(forecast)"
   ]
  },
  {
   "cell_type": "markdown",
   "metadata": {},
   "source": [
    "metrics:                    \n",
    "MSE     5.7520             \n",
    "RMSE    2.0447             \n",
    "MAPE    0.8117            \n",
    "SMAP    0.5022                \n",
    "Наблюдается ухудшение метрик на контрольном участке."
   ]
  },
  {
   "cell_type": "code",
   "execution_count": null,
   "metadata": {
    "execution": {
     "iopub.execute_input": "2022-02-26T13:00:02.696241Z",
     "iopub.status.busy": "2022-02-26T13:00:02.695906Z",
     "iopub.status.idle": "2022-02-26T13:00:07.840091Z",
     "shell.execute_reply": "2022-02-26T13:00:07.839107Z",
     "shell.execute_reply.started": "2022-02-26T13:00:02.696207Z"
    }
   },
   "outputs": [],
   "source": [
    "# prophet с добавлением сезонности по условию выходных дней, \n",
    "# месячной сезонности и дополнительного параметра onpromotion\n",
    "model = Prophet(weekly_seasonality=False)\n",
    "model.add_seasonality(name='weekend', period=7, fourier_order=3, condition_name='is_wknd')\n",
    "model.add_seasonality(name='monthly', period=30.5, fourier_order=5)\n",
    "model.add_regressor('onpromotion')\n",
    "f_train = d_train.loc[(d_train.family == 'AUTOMOTIVE') & (d_train.store_nbr == 1),['ds','y','onpromotion']].copy()\n",
    "train = f_train[:-valid_peiod].copy()\n",
    "train[\"is_wknd\"] = (train.ds.dt.weekday // 5).astype(\"int8\")\n",
    "model.fit(train)\n",
    "future = model.make_future_dataframe(periods=valid_peiod)\n",
    "future['is_wknd'] = (future.ds.dt.weekday // 5).astype(\"int8\")\n",
    "future['onpromotion']= d_train['onpromotion'].copy()\n",
    "forecast = model.predict(future)\n",
    "cmp_df = forecast.set_index('ds')[['yhat', 'yhat_lower', 'yhat_upper']].join(f_train.set_index('ds'))\n",
    "metrics = compute_metrics(cmp_df.loc['2017-08-01':'2017-08-15','y'], cmp_df.loc['2017-08-01':'2017-08-15','yhat'])\n",
    "print('metrics: \\n', metrics)\n",
    "# fig = model.plot(forecast)"
   ]
  },
  {
   "cell_type": "markdown",
   "metadata": {},
   "source": [
    "metrics:                        \n",
    "MSE     5.4063                     \n",
    "RMSE    1.9111                        \n",
    "MAPE    0.7682                   \n",
    "SMAP    0.4750                                    \n",
    "Наблюдаем незначительное улучшение метрик по сравнению с simple prophet                "
   ]
  },
  {
   "cell_type": "markdown",
   "metadata": {},
   "source": [
    "Итак, улучшения по сравнению с simple prophet на тестовом примере были с добавлением holidays и с заменой недельной сезонности по условию выходных дней, месячной сезонностью и доп.признаком onpromotion.                       \n",
    "Попробуем объединить два решения."
   ]
  },
  {
   "cell_type": "code",
   "execution_count": null,
   "metadata": {
    "execution": {
     "iopub.execute_input": "2022-02-26T13:02:07.507966Z",
     "iopub.status.busy": "2022-02-26T13:02:07.507495Z",
     "iopub.status.idle": "2022-02-26T13:02:12.967154Z",
     "shell.execute_reply": "2022-02-26T13:02:12.966387Z",
     "shell.execute_reply.started": "2022-02-26T13:02:07.507908Z"
    }
   },
   "outputs": [],
   "source": [
    "# prophet с добавлением сезонности по условию выходных дней, \n",
    "# месячной сезонности и дополнительного параметра onpromotion\n",
    "# добавлены holidays\n",
    "model = Prophet(holidays=holidays_pf, weekly_seasonality=False)\n",
    "model.add_seasonality(name='weekend', period=7, fourier_order=3, condition_name='is_wknd')\n",
    "model.add_seasonality(name='monthly', period=30.5, fourier_order=5)\n",
    "model.add_regressor('onpromotion')\n",
    "f_train = d_train.loc[(d_train.family == 'AUTOMOTIVE') & (d_train.store_nbr == 1),['ds','y','onpromotion']].copy()\n",
    "train = f_train[:-valid_peiod].copy()\n",
    "train[\"is_wknd\"] = (train.ds.dt.weekday // 5).astype(\"int8\")\n",
    "model.fit(train)\n",
    "future = model.make_future_dataframe(periods=valid_peiod)\n",
    "future['is_wknd'] = (future.ds.dt.weekday // 5).astype(\"int8\")\n",
    "future['onpromotion']= d_train['onpromotion'].copy()\n",
    "forecast = model.predict(future)\n",
    "cmp_df = forecast.set_index('ds')[['yhat', 'yhat_lower', 'yhat_upper']].join(f_train.set_index('ds'))\n",
    "metrics = compute_metrics(cmp_df.loc['2017-08-01':'2017-08-15','y'], cmp_df.loc['2017-08-01':'2017-08-15','yhat'])\n",
    "print('metrics: \\n', metrics)\n",
    "# fig = model.plot(forecast)"
   ]
  },
  {
   "cell_type": "markdown",
   "metadata": {},
   "source": [
    "metrics:                          \n",
    "MSE     5.2253                       \n",
    "RMSE    1.8792                        \n",
    "MAPE    0.7759                     \n",
    "SMAP    0.4691                         \n",
    "Метрики улучшились"
   ]
  },
  {
   "cell_type": "code",
   "execution_count": null,
   "metadata": {
    "execution": {
     "iopub.execute_input": "2022-02-26T13:32:55.712039Z",
     "iopub.status.busy": "2022-02-26T13:32:55.711718Z",
     "iopub.status.idle": "2022-02-26T13:32:55.840097Z",
     "shell.execute_reply": "2022-02-26T13:32:55.83934Z",
     "shell.execute_reply.started": "2022-02-26T13:32:55.712007Z"
    }
   },
   "outputs": [],
   "source": [
    "del df, d_train, d_test"
   ]
  },
  {
   "cell_type": "code",
   "execution_count": null,
   "metadata": {
    "execution": {
     "iopub.execute_input": "2022-02-26T13:33:15.102876Z",
     "iopub.status.busy": "2022-02-26T13:33:15.102498Z",
     "iopub.status.idle": "2022-02-26T13:33:15.42037Z",
     "shell.execute_reply": "2022-02-26T13:33:15.419203Z",
     "shell.execute_reply.started": "2022-02-26T13:33:15.102841Z"
    }
   },
   "outputs": [],
   "source": [
    "gc.collect()"
   ]
  },
  {
   "cell_type": "code",
   "execution_count": null,
   "metadata": {
    "execution": {
     "iopub.execute_input": "2022-02-26T13:35:40.507999Z",
     "iopub.status.busy": "2022-02-26T13:35:40.507193Z",
     "iopub.status.idle": "2022-02-26T13:36:03.211824Z",
     "shell.execute_reply": "2022-02-26T13:36:03.211012Z",
     "shell.execute_reply.started": "2022-02-26T13:35:40.507951Z"
    }
   },
   "outputs": [],
   "source": [
    "# Попробуем добавить признак oil_over_70 из датасета стоимости нефти.\n",
    "# Для этого нам нужен другой предобработанный датасет со всеми сгенерированными фичами\n",
    "df = pd.read_csv(\"../input/featured-data/featured_data.csv\")\n",
    "# Datetime\n",
    "df[\"date\"] = pd.to_datetime(df.date)\n",
    "df.columns = ['family', 'store_nbr', 'ds', 'id', 'y', 'onpromotion',\n",
    "       'day_of_week', 'month', 'year', 'oil_over_70', 'is_active_family',\n",
    "       'city', 'state', 'type', 'cluster', 'events_Black_Friday',\n",
    "       'events_Cyber_Monday', 'events_Dia_de_la_Madre', 'events_Futbol',\n",
    "       'events_Terremoto_Manabi', 'holiday_national_binary',\n",
    "       'holiday_local_binary', 'holiday_regional_binary',\n",
    "       'national_independence', 'local_cantonizacio', 'local_fundacion',\n",
    "       'local_independencia', 'holiday_national_Batalla_de_Pichincha',\n",
    "       'holiday_national_Carnaval', 'holiday_national_Dia_de_Difuntos',\n",
    "       'holiday_national_Dia_de_la_Madre', 'holiday_national_Dia_del_Trabajo',\n",
    "       'holiday_national_Independencia_de_Cuenca',\n",
    "       'holiday_national_Independencia_de_Guayaquil',\n",
    "       'holiday_national_Navidad',\n",
    "       'holiday_national_Primer_Grito_de_Independencia',\n",
    "       'holiday_national_Primer_dia_del_ano', 'holiday_national_Viernes_Santo',\n",
    "       'holiday_regional_Provincializacion_Santa_Elena',\n",
    "       'holiday_regional_Provincializacion_de_Cotopaxi',\n",
    "       'holiday_regional_Provincializacion_de_Imbabura',\n",
    "       'holiday_regional_Provincializacion_de_Santo_Domingo',\n",
    "       'holiday_local_Cantonizacion_de_Cayambe',\n",
    "       'holiday_local_Cantonizacion_de_El_Carmen',\n",
    "       'holiday_local_Cantonizacion_de_Guaranda',\n",
    "       'holiday_local_Cantonizacion_de_Latacunga',\n",
    "       'holiday_local_Cantonizacion_de_Libertad',\n",
    "       'holiday_local_Cantonizacion_de_Quevedo',\n",
    "       'holiday_local_Cantonizacion_de_Riobamba',\n",
    "       'holiday_local_Cantonizacion_de_Salinas',\n",
    "       'holiday_local_Cantonizacion_del_Puyo',\n",
    "       'holiday_local_Fundacion_de_Ambato',\n",
    "       'holiday_local_Fundacion_de_Cuenca',\n",
    "       'holiday_local_Fundacion_de_Esmeraldas',\n",
    "       'holiday_local_Fundacion_de_Guayaquil',\n",
    "       'holiday_local_Fundacion_de_Ibarra', 'holiday_local_Fundacion_de_Loja',\n",
    "       'holiday_local_Fundacion_de_Machala',\n",
    "       'holiday_local_Fundacion_de_Manta', 'holiday_local_Fundacion_de_Quito',\n",
    "       'holiday_local_Fundacion_de_Riobamba',\n",
    "       'holiday_local_Fundacion_de_Santo_Domingo',\n",
    "       'holiday_local_Independencia_de_Ambato',\n",
    "       'holiday_local_Independencia_de_Guaranda',\n",
    "       'holiday_local_Independencia_de_Latacunga', 'day_of_month',\n",
    "       'day_of_year', 'week_of_month', 'week_of_year', 'is_wknd', 'quarter',\n",
    "       'is_month_start', 'is_month_end', 'is_quarter_start', 'is_quarter_end',\n",
    "       'is_year_start', 'is_year_end', 'season', 'workday', 'wageday']\n",
    "\n",
    "d_train = df[df.ds<'2017-08-16'].copy()\n",
    "d_test = df[df.ds>='2017-08-16'].copy()"
   ]
  },
  {
   "cell_type": "code",
   "execution_count": null,
   "metadata": {
    "execution": {
     "iopub.execute_input": "2022-02-26T13:21:06.954967Z",
     "iopub.status.busy": "2022-02-26T13:21:06.954437Z",
     "iopub.status.idle": "2022-02-26T13:21:13.210072Z",
     "shell.execute_reply": "2022-02-26T13:21:13.208948Z",
     "shell.execute_reply.started": "2022-02-26T13:21:06.954915Z"
    }
   },
   "outputs": [],
   "source": [
    "# prophet с добавлением сезонности по условию выходных дней, \n",
    "# месячной сезонности и дополнительного параметра onpromotion\n",
    "# добавлены holidays и oil_over_70\n",
    "model = Prophet(holidays=holidays_pf, weekly_seasonality=False)\n",
    "model.add_seasonality(name='weekend', period=7, fourier_order=3, condition_name='is_wknd')\n",
    "model.add_seasonality(name='monthly', period=30.5, fourier_order=5)\n",
    "model.add_regressor('onpromotion')\n",
    "model.add_regressor('oil_over_70')\n",
    "f_train = d_train.loc[(d_train.family == 'AUTOMOTIVE') & (d_train.store_nbr == 1),['ds','y','onpromotion', 'oil_over_70']].copy()\n",
    "train = f_train[:-valid_peiod].copy()\n",
    "train[\"is_wknd\"] = (train.ds.dt.weekday // 5).astype(\"int8\")\n",
    "model.fit(train)\n",
    "future = model.make_future_dataframe(periods=valid_peiod)\n",
    "future['is_wknd'] = (future.ds.dt.weekday // 5).astype(\"int8\")\n",
    "future[['onpromotion', 'oil_over_70']]= d_train[['onpromotion', 'oil_over_70']].copy()\n",
    "forecast = model.predict(future)\n",
    "cmp_df = forecast.set_index('ds')[['yhat', 'yhat_lower', 'yhat_upper']].join(f_train.set_index('ds'))\n",
    "metrics = compute_metrics(cmp_df.loc['2017-08-01':'2017-08-15','y'], cmp_df.loc['2017-08-01':'2017-08-15','yhat'])\n",
    "print('metrics: \\n', metrics)\n",
    "# fig = model.plot(forecast)"
   ]
  },
  {
   "cell_type": "markdown",
   "metadata": {},
   "source": [
    "metrics:                          \n",
    "MSE     5.2194                         \n",
    "RMSE    1.8735                         \n",
    "MAPE    0.7652                 \n",
    "SMAP    0.4683                           \n",
    "Метрики улучшились. Пробуем просчитать этот вариант на общем датасете."
   ]
  },
  {
   "cell_type": "code",
   "execution_count": null,
   "metadata": {
    "execution": {
     "iopub.execute_input": "2022-02-26T13:37:29.067485Z",
     "iopub.status.busy": "2022-02-26T13:37:29.066842Z",
     "iopub.status.idle": "2022-02-26T13:37:29.256005Z",
     "shell.execute_reply": "2022-02-26T13:37:29.254991Z",
     "shell.execute_reply.started": "2022-02-26T13:37:29.067426Z"
    }
   },
   "outputs": [],
   "source": [
    "del df\n",
    "gc.collect()"
   ]
  },
  {
   "cell_type": "markdown",
   "metadata": {},
   "source": [
    "# Prophet with holidays, onpromotion and oil price features"
   ]
  },
  {
   "cell_type": "code",
   "execution_count": null,
   "metadata": {
    "execution": {
     "iopub.execute_input": "2022-02-26T11:35:11.923426Z",
     "iopub.status.busy": "2022-02-26T11:35:11.922868Z",
     "iopub.status.idle": "2022-02-26T11:35:11.931429Z",
     "shell.execute_reply": "2022-02-26T11:35:11.930439Z",
     "shell.execute_reply.started": "2022-02-26T11:35:11.92337Z"
    }
   },
   "outputs": [],
   "source": [
    "metrics_by_store_fam = pd.DataFrame(columns=['store', 'family', 'MSE', 'RMSE', 'MAPE', 'SMAP'])"
   ]
  },
  {
   "cell_type": "code",
   "execution_count": null,
   "metadata": {
    "execution": {
     "iopub.execute_input": "2022-02-26T13:42:32.315596Z",
     "iopub.status.busy": "2022-02-26T13:42:32.315281Z",
     "iopub.status.idle": "2022-02-26T16:00:06.322867Z",
     "shell.execute_reply": "2022-02-26T16:00:06.319942Z",
     "shell.execute_reply.started": "2022-02-26T13:42:32.315566Z"
    }
   },
   "outputs": [],
   "source": [
    "\n",
    "for num, store in enumerate(tqdm(d_train.store_nbr.unique())):\n",
    "    for numf, fam in enumerate(tqdm(d_train.family.unique())):\n",
    "        f_train = d_train.loc[(d_train.family == fam) & (d_train.store_nbr == store),['ds','y','onpromotion', 'oil_over_70']].copy()\n",
    "        train = f_train[:-valid_peiod].copy()\n",
    "        train[\"is_wknd\"] = (train.ds.dt.weekday // 5).astype(\"int8\")\n",
    "        if len(train)!=0:\n",
    "            model = Prophet(holidays=holidays_pf, weekly_seasonality=False)\n",
    "            model.add_seasonality(name='weekend', period=7, fourier_order=3, condition_name='is_wknd')\n",
    "            model.add_seasonality(name='monthly', period=30.5, fourier_order=5)\n",
    "            model.add_regressor('onpromotion')\n",
    "            model.add_regressor('oil_over_70')\n",
    "            model.fit(train)\n",
    "            future = model.make_future_dataframe(periods=(valid_peiod+16))\n",
    "            future['is_wknd'] = (future.ds.dt.weekday // 5).astype(\"int8\")\n",
    "            future[['onpromotion', 'oil_over_70']]= d_train[['onpromotion', 'oil_over_70']].copy()\n",
    "            forecast = model.predict(future)\n",
    "            cmp_df = forecast.set_index('ds')[['yhat', 'yhat_lower', 'yhat_upper']].join(f_train.set_index('ds'))\n",
    "            metrics = compute_metrics(cmp_df.loc['2017-08-01':'2017-08-15','y'], cmp_df.loc['2017-08-01':'2017-08-15','yhat'])\n",
    "            metric_dict = {\n",
    "                'store': store,\n",
    "                'family': fam,\n",
    "                'MSE': metrics['MSE'],\n",
    "                'RMSE': metrics['RMSE'],\n",
    "                'MAPE': metrics['MAPE'],\n",
    "                'SMAP': metrics['SMAP'],\n",
    "                }\n",
    "            #metric_temp = pd.DataFrame(metric_dict, index=[1])\n",
    "            metrics_by_store_fam = metrics_by_store_fam.append(metric_dict, ignore_index=True)\n",
    "            d_test.loc[(d_test.family == fam) & (d_test.store_nbr == store), 'prophet'] = np.array(cmp_df.loc['2017-08-16':'2017-08-31', 'yhat'])\n",
    "            del train, future, cmp_df, metrics, metric_dict\n",
    "            gc.collect()\n",
    "        \n",
    "        \n",
    "        \n",
    "all_metrics = {\n",
    "    'MSE': metrics_by_store_fam['MSE'].mean(),\n",
    "    'RMSE': metrics_by_store_fam['RMSE'].mean(),\n",
    "    'MAPE': metrics_by_store_fam['MAPE'].mean(),\n",
    "    'SMAP': metrics_by_store_fam['SMAP'].mean()\n",
    "}"
   ]
  },
  {
   "cell_type": "code",
   "execution_count": null,
   "metadata": {
    "execution": {
     "iopub.status.busy": "2022-02-26T16:00:06.32431Z",
     "iopub.status.idle": "2022-02-26T16:00:06.324831Z",
     "shell.execute_reply": "2022-02-26T16:00:06.324618Z",
     "shell.execute_reply.started": "2022-02-26T16:00:06.324556Z"
    }
   },
   "outputs": [],
   "source": [
    "all_metrics"
   ]
  },
  {
   "cell_type": "markdown",
   "metadata": {},
   "source": [
    "# Submit"
   ]
  },
  {
   "cell_type": "code",
   "execution_count": null,
   "metadata": {
    "execution": {
     "iopub.status.busy": "2022-02-26T16:00:06.326839Z",
     "iopub.status.idle": "2022-02-26T16:00:06.327233Z",
     "shell.execute_reply": "2022-02-26T16:00:06.327062Z",
     "shell.execute_reply.started": "2022-02-26T16:00:06.327043Z"
    }
   },
   "outputs": [],
   "source": [
    "#d_test = d_test.reset_index().set_index(['store_nbr', 'family', 'date']).sort_index()\n",
    "d_test = d_test.set_index(['store_nbr', 'family', 'ds']).sort_index()\n",
    "for i in zero_prediction.index:\n",
    "    d_test.loc[i,'prophet']=0"
   ]
  },
  {
   "cell_type": "code",
   "execution_count": null,
   "metadata": {
    "execution": {
     "iopub.status.busy": "2022-02-26T16:00:06.328566Z",
     "iopub.status.idle": "2022-02-26T16:00:06.329087Z",
     "shell.execute_reply": "2022-02-26T16:00:06.328809Z",
     "shell.execute_reply.started": "2022-02-26T16:00:06.328783Z"
    }
   },
   "outputs": [],
   "source": [
    "d_test=d_test.reset_index()\n",
    "prophet_submit = d_test[['id','prophet']].copy()\n",
    "prophet_submit.columns = ['id', 'sales']\n",
    "prophet_submit.to_csv('submission_prophet_holidays_onpromotion_oil.csv', index=False)"
   ]
  },
  {
   "cell_type": "code",
   "execution_count": null,
   "metadata": {
    "execution": {
     "iopub.status.busy": "2022-02-26T16:00:06.330282Z",
     "iopub.status.idle": "2022-02-26T16:00:06.330759Z",
     "shell.execute_reply": "2022-02-26T16:00:06.330527Z",
     "shell.execute_reply.started": "2022-02-26T16:00:06.330498Z"
    }
   },
   "outputs": [],
   "source": [
    "prophet_submit.tail(5)"
   ]
  },
  {
   "cell_type": "markdown",
   "metadata": {},
   "source": [
    "# Результаты опробованных модификаций prophet"
   ]
  },
  {
   "cell_type": "markdown",
   "metadata": {},
   "source": [
    "Simple prophet:                                      \n",
    "'MSE': 80409.39740370169,                       \n",
    "'RMSE': 84.2245773279352,                \n",
    "'MAPE': 0.38141578947368504,                  \n",
    "'SMAP': 0.5482279352226718                \n",
    "                \n",
    "**Результат на kaggle 0.54588** "
   ]
  },
  {
   "cell_type": "markdown",
   "metadata": {},
   "source": [
    "prophet with holidays                                     \n",
    "'MSE': 82528.27533880848,                              \n",
    "'RMSE': 86.2086423944478,                                 \n",
    "'MAPE': 0.3870958357432043,                         \n",
    "'SMAP': 0.5512633892423366                                   \n",
    "**Результат на kaggle 0.54765**"
   ]
  },
  {
   "cell_type": "markdown",
   "metadata": {},
   "source": [
    "Prophet with holidays, onpromotion and oil price features              \n",
    "'MSE': 96477.30711798726,            \n",
    "'RMSE': 94.08131758241767,                 \n",
    "'MAPE': 0.3820305957200698,                             \n",
    "'SMAP': 0.5906130133024874              \n",
    "Результаты ухудшились, submit не проводился."
   ]
  },
  {
   "cell_type": "code",
   "execution_count": null,
   "metadata": {},
   "outputs": [],
   "source": []
  }
 ],
 "metadata": {
  "kernelspec": {
   "display_name": "Python 3",
   "language": "python",
   "name": "python3"
  },
  "language_info": {
   "codemirror_mode": {
    "name": "ipython",
    "version": 3
   },
   "file_extension": ".py",
   "mimetype": "text/x-python",
   "name": "python",
   "nbconvert_exporter": "python",
   "pygments_lexer": "ipython3",
   "version": "3.7.4"
  }
 },
 "nbformat": 4,
 "nbformat_minor": 4
}
