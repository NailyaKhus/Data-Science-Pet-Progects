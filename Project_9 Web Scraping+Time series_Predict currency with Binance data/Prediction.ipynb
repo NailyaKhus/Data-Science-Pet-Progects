{
  "cells": [
    {
      "cell_type": "markdown",
      "metadata": {
        "id": "HnnB1UJLuTWA"
      },
      "source": [
        "### Libs"
      ]
    },
    {
      "cell_type": "code",
      "execution_count": 1,
      "metadata": {
        "id": "JpJmfWL3uTWG"
      },
      "outputs": [],
      "source": [
        "import tensorflow as tf\n",
        "import tensorflow.keras.layers as L\n",
        "from tensorflow.keras.models import Model, Sequential\n",
        "from tensorflow.keras.callbacks import ModelCheckpoint, EarlyStopping, ReduceLROnPlateau\n",
        "from tensorflow.keras import regularizers\n",
        "\n",
        "import pandas as pd\n",
        "import numpy as np\n",
        "from pandas.core.computation.pytables import Timedelta\n",
        "\n",
        "import matplotlib.pyplot as plt\n",
        "%matplotlib inline"
      ]
    },
    {
      "cell_type": "code",
      "execution_count": 2,
      "metadata": {
        "id": "Ot62RM0PZWkI"
      },
      "outputs": [],
      "source": [
        "RANDOM_SEED = 100\n",
        "np.random.seed(RANDOM_SEED)\n",
        "tf.random.set_seed(RANDOM_SEED)"
      ]
    },
    {
      "cell_type": "code",
      "source": [
        "from google.colab import drive\n",
        "drive.mount('/content/drive')"
      ],
      "metadata": {
        "colab": {
          "base_uri": "https://localhost:8080/"
        },
        "id": "VhXWPHBFUpkY",
        "outputId": "a3325102-7b9a-414c-e3c3-71c34f053043"
      },
      "execution_count": 3,
      "outputs": [
        {
          "output_type": "stream",
          "name": "stdout",
          "text": [
            "Drive already mounted at /content/drive; to attempt to forcibly remount, call drive.mount(\"/content/drive\", force_remount=True).\n"
          ]
        }
      ]
    },
    {
      "cell_type": "markdown",
      "metadata": {
        "id": "ES1F0Yn6uTWJ"
      },
      "source": [
        "### Data loading"
      ]
    },
    {
      "cell_type": "code",
      "execution_count": 4,
      "metadata": {
        "colab": {
          "base_uri": "https://localhost:8080/",
          "height": 256
        },
        "id": "hgxxvf6Ty96b",
        "outputId": "cae3a9e7-6194-4bb5-88d7-87ec02c3addf"
      },
      "outputs": [
        {
          "output_type": "execute_result",
          "data": {
            "text/plain": [
              "   Kline open time                 time  Open price  High price  Low price  \\\n",
              "0    1651363200000  2022-05-01 00:00:00       72.57       72.70      72.19   \n",
              "1    1651366800000  2022-05-01 01:00:00       72.22       72.33      72.00   \n",
              "2    1651370400000  2022-05-01 02:00:00       72.04       72.14      72.00   \n",
              "\n",
              "   Close price   Volume  Quote asset volume  Number of trades  \\\n",
              "0        72.22  44042.0          3192083.31               288   \n",
              "1        72.02  31815.0          2294299.05               394   \n",
              "2        72.09  41992.0          3024975.76               279   \n",
              "\n",
              "   Taker buy base asset volume  Taker buy quote asset volume  \n",
              "0                      16793.0                    1217389.99  \n",
              "1                      14240.0                    1027333.02  \n",
              "2                      17690.0                    1274526.63  "
            ],
            "text/html": [
              "\n",
              "  <div id=\"df-d253a966-75be-42df-9cab-c05f194b03df\">\n",
              "    <div class=\"colab-df-container\">\n",
              "      <div>\n",
              "<style scoped>\n",
              "    .dataframe tbody tr th:only-of-type {\n",
              "        vertical-align: middle;\n",
              "    }\n",
              "\n",
              "    .dataframe tbody tr th {\n",
              "        vertical-align: top;\n",
              "    }\n",
              "\n",
              "    .dataframe thead th {\n",
              "        text-align: right;\n",
              "    }\n",
              "</style>\n",
              "<table border=\"1\" class=\"dataframe\">\n",
              "  <thead>\n",
              "    <tr style=\"text-align: right;\">\n",
              "      <th></th>\n",
              "      <th>Kline open time</th>\n",
              "      <th>time</th>\n",
              "      <th>Open price</th>\n",
              "      <th>High price</th>\n",
              "      <th>Low price</th>\n",
              "      <th>Close price</th>\n",
              "      <th>Volume</th>\n",
              "      <th>Quote asset volume</th>\n",
              "      <th>Number of trades</th>\n",
              "      <th>Taker buy base asset volume</th>\n",
              "      <th>Taker buy quote asset volume</th>\n",
              "    </tr>\n",
              "  </thead>\n",
              "  <tbody>\n",
              "    <tr>\n",
              "      <th>0</th>\n",
              "      <td>1651363200000</td>\n",
              "      <td>2022-05-01 00:00:00</td>\n",
              "      <td>72.57</td>\n",
              "      <td>72.70</td>\n",
              "      <td>72.19</td>\n",
              "      <td>72.22</td>\n",
              "      <td>44042.0</td>\n",
              "      <td>3192083.31</td>\n",
              "      <td>288</td>\n",
              "      <td>16793.0</td>\n",
              "      <td>1217389.99</td>\n",
              "    </tr>\n",
              "    <tr>\n",
              "      <th>1</th>\n",
              "      <td>1651366800000</td>\n",
              "      <td>2022-05-01 01:00:00</td>\n",
              "      <td>72.22</td>\n",
              "      <td>72.33</td>\n",
              "      <td>72.00</td>\n",
              "      <td>72.02</td>\n",
              "      <td>31815.0</td>\n",
              "      <td>2294299.05</td>\n",
              "      <td>394</td>\n",
              "      <td>14240.0</td>\n",
              "      <td>1027333.02</td>\n",
              "    </tr>\n",
              "    <tr>\n",
              "      <th>2</th>\n",
              "      <td>1651370400000</td>\n",
              "      <td>2022-05-01 02:00:00</td>\n",
              "      <td>72.04</td>\n",
              "      <td>72.14</td>\n",
              "      <td>72.00</td>\n",
              "      <td>72.09</td>\n",
              "      <td>41992.0</td>\n",
              "      <td>3024975.76</td>\n",
              "      <td>279</td>\n",
              "      <td>17690.0</td>\n",
              "      <td>1274526.63</td>\n",
              "    </tr>\n",
              "  </tbody>\n",
              "</table>\n",
              "</div>\n",
              "      <button class=\"colab-df-convert\" onclick=\"convertToInteractive('df-d253a966-75be-42df-9cab-c05f194b03df')\"\n",
              "              title=\"Convert this dataframe to an interactive table.\"\n",
              "              style=\"display:none;\">\n",
              "        \n",
              "  <svg xmlns=\"http://www.w3.org/2000/svg\" height=\"24px\"viewBox=\"0 0 24 24\"\n",
              "       width=\"24px\">\n",
              "    <path d=\"M0 0h24v24H0V0z\" fill=\"none\"/>\n",
              "    <path d=\"M18.56 5.44l.94 2.06.94-2.06 2.06-.94-2.06-.94-.94-2.06-.94 2.06-2.06.94zm-11 1L8.5 8.5l.94-2.06 2.06-.94-2.06-.94L8.5 2.5l-.94 2.06-2.06.94zm10 10l.94 2.06.94-2.06 2.06-.94-2.06-.94-.94-2.06-.94 2.06-2.06.94z\"/><path d=\"M17.41 7.96l-1.37-1.37c-.4-.4-.92-.59-1.43-.59-.52 0-1.04.2-1.43.59L10.3 9.45l-7.72 7.72c-.78.78-.78 2.05 0 2.83L4 21.41c.39.39.9.59 1.41.59.51 0 1.02-.2 1.41-.59l7.78-7.78 2.81-2.81c.8-.78.8-2.07 0-2.86zM5.41 20L4 18.59l7.72-7.72 1.47 1.35L5.41 20z\"/>\n",
              "  </svg>\n",
              "      </button>\n",
              "      \n",
              "  <style>\n",
              "    .colab-df-container {\n",
              "      display:flex;\n",
              "      flex-wrap:wrap;\n",
              "      gap: 12px;\n",
              "    }\n",
              "\n",
              "    .colab-df-convert {\n",
              "      background-color: #E8F0FE;\n",
              "      border: none;\n",
              "      border-radius: 50%;\n",
              "      cursor: pointer;\n",
              "      display: none;\n",
              "      fill: #1967D2;\n",
              "      height: 32px;\n",
              "      padding: 0 0 0 0;\n",
              "      width: 32px;\n",
              "    }\n",
              "\n",
              "    .colab-df-convert:hover {\n",
              "      background-color: #E2EBFA;\n",
              "      box-shadow: 0px 1px 2px rgba(60, 64, 67, 0.3), 0px 1px 3px 1px rgba(60, 64, 67, 0.15);\n",
              "      fill: #174EA6;\n",
              "    }\n",
              "\n",
              "    [theme=dark] .colab-df-convert {\n",
              "      background-color: #3B4455;\n",
              "      fill: #D2E3FC;\n",
              "    }\n",
              "\n",
              "    [theme=dark] .colab-df-convert:hover {\n",
              "      background-color: #434B5C;\n",
              "      box-shadow: 0px 1px 3px 1px rgba(0, 0, 0, 0.15);\n",
              "      filter: drop-shadow(0px 1px 2px rgba(0, 0, 0, 0.3));\n",
              "      fill: #FFFFFF;\n",
              "    }\n",
              "  </style>\n",
              "\n",
              "      <script>\n",
              "        const buttonEl =\n",
              "          document.querySelector('#df-d253a966-75be-42df-9cab-c05f194b03df button.colab-df-convert');\n",
              "        buttonEl.style.display =\n",
              "          google.colab.kernel.accessAllowed ? 'block' : 'none';\n",
              "\n",
              "        async function convertToInteractive(key) {\n",
              "          const element = document.querySelector('#df-d253a966-75be-42df-9cab-c05f194b03df');\n",
              "          const dataTable =\n",
              "            await google.colab.kernel.invokeFunction('convertToInteractive',\n",
              "                                                     [key], {});\n",
              "          if (!dataTable) return;\n",
              "\n",
              "          const docLinkHtml = 'Like what you see? Visit the ' +\n",
              "            '<a target=\"_blank\" href=https://colab.research.google.com/notebooks/data_table.ipynb>data table notebook</a>'\n",
              "            + ' to learn more about interactive tables.';\n",
              "          element.innerHTML = '';\n",
              "          dataTable['output_type'] = 'display_data';\n",
              "          await google.colab.output.renderOutput(dataTable, element);\n",
              "          const docLink = document.createElement('div');\n",
              "          docLink.innerHTML = docLinkHtml;\n",
              "          element.appendChild(docLink);\n",
              "        }\n",
              "      </script>\n",
              "    </div>\n",
              "  </div>\n",
              "  "
            ]
          },
          "metadata": {},
          "execution_count": 4
        }
      ],
      "source": [
        "df = pd.read_csv('sample_data/df_for_EDA.csv')\n",
        "df.head(3)"
      ]
    },
    {
      "cell_type": "code",
      "source": [
        "df['time'] = pd.to_datetime(df['time'])\n",
        "df['diff_time'] = df.time.diff()\n",
        "df.diff_time.value_counts(dropna=False)"
      ],
      "metadata": {
        "colab": {
          "base_uri": "https://localhost:8080/"
        },
        "id": "gIrms0b-eRWn",
        "outputId": "a0b680fc-3f89-4c71-fdc8-a9202decd3e1"
      },
      "execution_count": 5,
      "outputs": [
        {
          "output_type": "execute_result",
          "data": {
            "text/plain": [
              "0 days 01:00:00    8812\n",
              "NaT                   1\n",
              "0 days 02:00:00       1\n",
              "0 days 00:00:00       1\n",
              "Name: diff_time, dtype: int64"
            ]
          },
          "metadata": {},
          "execution_count": 5
        }
      ]
    },
    {
      "cell_type": "code",
      "source": [
        "# Удаляем дубликат\n",
        "df.drop_duplicates(subset=['Kline open time'], inplace=True)\n",
        "# Восстанавливаем пропуск с помощью интерполяции\n",
        "ti = pd.date_range(start = df.time.min(), end = df.time.max(), freq=\"1h\") # интерполяционная сетка\n",
        "ts = pd.DataFrame({'date':list(ti)})\n",
        "ts['unixtime'] = (ts.date - pd.Timestamp(\"1970-01-01\")) // pd.Timedelta('1ms')\n",
        "upsampled_Close_price = np.interp(ts.unixtime, df['Kline open time'], df['Close price'])\n",
        "data = pd.DataFrame({'unixtime': ts.unixtime, 'price': upsampled_Close_price})\n",
        "data.insert(1, \"time\", pd.to_datetime(data.unixtime, unit='ms').to_list())\n",
        "data.drop('unixtime', axis=1, inplace=True)"
      ],
      "metadata": {
        "id": "GxjFSQcaexif"
      },
      "execution_count": 6,
      "outputs": []
    },
    {
      "cell_type": "code",
      "execution_count": 7,
      "metadata": {
        "id": "w2TrQn6jOe3l",
        "colab": {
          "base_uri": "https://localhost:8080/",
          "height": 516
        },
        "outputId": "64d2697e-0b95-495e-b6c6-5d0feb207af8"
      },
      "outputs": [
        {
          "output_type": "execute_result",
          "data": {
            "text/plain": [
              "Text(0, 0.5, 'price')"
            ]
          },
          "metadata": {},
          "execution_count": 7
        },
        {
          "output_type": "display_data",
          "data": {
            "text/plain": [
              "<Figure size 640x480 with 1 Axes>"
            ],
            "image/png": "[encoded data removed]"
          },
          "metadata": {}
        }
      ],
      "source": [
        "plt.plot(data.time, data.price)\n",
        "plt.title('USDTRUB')\n",
        "\n",
        "plt.xticks(rotation=30, ha='right')\n",
        "plt.xlabel('date')\n",
        "plt.ylabel('price')"
      ]
    },
    {
      "cell_type": "markdown",
      "metadata": {
        "id": "kQWmGGm6uTWO"
      },
      "source": [
        "### split data"
      ]
    },
    {
      "cell_type": "code",
      "execution_count": 8,
      "metadata": {
        "id": "rwQABCWluTWO",
        "colab": {
          "base_uri": "https://localhost:8080/"
        },
        "outputId": "2885ecf1-f502-4fb2-f1e5-baf104905b10"
      },
      "outputs": [
        {
          "output_type": "execute_result",
          "data": {
            "text/plain": [
              "((6611, 1), (2203, 1), (1, 1))"
            ]
          },
          "metadata": {},
          "execution_count": 8
        }
      ],
      "source": [
        "data_ts = data.time.copy()\n",
        "data.drop('time', axis=1, inplace=True)\n",
        "\n",
        "# 1 час оставляем на тест, а трейн и валидацию поделим в соотношении 3 к 1\n",
        "last_id = data.index.stop\n",
        "test = data.loc[last_id-1:]\n",
        "train, val = np.split(data.loc[:last_id-2], [int(.75 *len(data))])\n",
        "train.shape, val.shape, test.shape"
      ]
    },
    {
      "cell_type": "code",
      "source": [
        "\n",
        "train.index, val.index, test.index"
      ],
      "metadata": {
        "colab": {
          "base_uri": "https://localhost:8080/"
        },
        "id": "8i3c8vQgkdMQ",
        "outputId": "c9a8be89-15d1-42ac-c717-a3c440ba0725"
      },
      "execution_count": 9,
      "outputs": [
        {
          "output_type": "execute_result",
          "data": {
            "text/plain": [
              "(RangeIndex(start=0, stop=6611, step=1),\n",
              " RangeIndex(start=6611, stop=8814, step=1),\n",
              " RangeIndex(start=8814, stop=8815, step=1))"
            ]
          },
          "metadata": {},
          "execution_count": 9
        }
      ]
    },
    {
      "cell_type": "markdown",
      "metadata": {
        "id": "seqpPs6KcLQc"
      },
      "source": [
        "### Normalize the data"
      ]
    },
    {
      "cell_type": "code",
      "source": [
        "train_mean = train.mean()\n",
        "train_std = train.std()\n",
        "\n",
        "scaled_train = (train - train_mean) / train_std\n",
        "scaled_val = (val - train_mean) / train_std\n",
        "scaled_test = (test - train_mean) / train_std\n",
        "scaled_data = (data - train_mean) / train_std"
      ],
      "metadata": {
        "id": "JZUmo1HSk5nY"
      },
      "execution_count": 10,
      "outputs": []
    },
    {
      "cell_type": "markdown",
      "source": [
        "### dataset generator"
      ],
      "metadata": {
        "id": "Ljj-F_3GnAlt"
      }
    },
    {
      "cell_type": "code",
      "source": [
        "# Будем смотреть на прошедшие 24 часов и предсказывать следующий час\n",
        "n_input=24 \n",
        "n_features=1\n",
        "total_window_size = n_input+n_features\n",
        "\n",
        "BATCH_SIZE = total_window_size"
      ],
      "metadata": {
        "id": "KZaCTPl7jWpX"
      },
      "execution_count": 11,
      "outputs": []
    },
    {
      "cell_type": "code",
      "source": [
        "x_train = scaled_train\n",
        "y_train = scaled_data[n_input:len(train)+n_input] \n",
        "x_val = scaled_val[:-n_input]\n",
        "y_val = scaled_val[n_input:]"
      ],
      "metadata": {
        "id": "TAZKWWrE3mNR"
      },
      "execution_count": 12,
      "outputs": []
    },
    {
      "cell_type": "code",
      "source": [
        "# Для модели нужны данные в 3D формате (#batch_size,#inputs,#features)\n",
        "ds_train = tf.keras.utils.timeseries_dataset_from_array(\n",
        "        data=np.array(x_train, dtype=np.float32),\n",
        "        targets=np.array(y_train, dtype=np.float32),\n",
        "        sequence_length=n_input,\n",
        "        sequence_stride=1,\n",
        "        seed = RANDOM_SEED,\n",
        "        shuffle=False,\n",
        "        batch_size=BATCH_SIZE)\n",
        "ds_val = tf.keras.utils.timeseries_dataset_from_array(\n",
        "        data=np.array(x_val, dtype=np.float32),\n",
        "        targets=np.array(y_val, dtype=np.float32),\n",
        "        sequence_length=n_input,\n",
        "        sequence_stride=1,\n",
        "        seed = RANDOM_SEED, \n",
        "        shuffle=False,\n",
        "        batch_size=BATCH_SIZE)"
      ],
      "metadata": {
        "id": "z9rM6vqdm5Dy"
      },
      "execution_count": 13,
      "outputs": []
    },
    {
      "cell_type": "code",
      "source": [
        "for x, y in ds_train.take(1):\n",
        "  print(x.shape, y.shape)"
      ],
      "metadata": {
        "colab": {
          "base_uri": "https://localhost:8080/"
        },
        "id": "coQs1Qkn7KVY",
        "outputId": "52c4805f-6ef8-4f52-8970-611ab03ecc5d"
      },
      "execution_count": 14,
      "outputs": [
        {
          "output_type": "stream",
          "name": "stdout",
          "text": [
            "(25, 24, 1) (25, 1)\n"
          ]
        }
      ]
    },
    {
      "cell_type": "markdown",
      "source": [
        "### Model"
      ],
      "metadata": {
        "id": "LMiB_g1Bp5Gf"
      }
    },
    {
      "cell_type": "code",
      "source": [
        "MAX_EPOCHS          = 100\n",
        "patience            = 5\n",
        "patience_reduce_lr  = 2\n",
        "LR                  = 1e-3 # Learning rate"
      ],
      "metadata": {
        "id": "0pTdiP62jWjS"
      },
      "execution_count": 15,
      "outputs": []
    },
    {
      "cell_type": "code",
      "source": [
        "model=Sequential()\n",
        "model.add(L.LSTM(80,activation='relu', input_shape=(n_input,n_features), bias_regularizer=regularizers.L2(1e-2), kernel_regularizer=regularizers.L2(1e-2), activity_regularizer=regularizers.L2(1e-2), return_sequences=True))\n",
        "model.add(L.LSTM(20, activation='relu'))\n",
        "model.add(L.Dense(1))"
      ],
      "metadata": {
        "id": "nM7luxFfp4fI"
      },
      "execution_count": 16,
      "outputs": []
    },
    {
      "cell_type": "code",
      "source": [
        "model.compile(loss=tf.losses.MeanSquaredError(),\n",
        "                optimizer=tf.optimizers.Adam(learning_rate=LR),\n",
        "                metrics=[tf.metrics.MeanAbsoluteError()])\n",
        "model.summary()"
      ],
      "metadata": {
        "colab": {
          "base_uri": "https://localhost:8080/"
        },
        "id": "ATm3iHHKjWe3",
        "outputId": "9e3d3efb-5f1a-40ed-e287-427802b02ff1"
      },
      "execution_count": 17,
      "outputs": [
        {
          "output_type": "stream",
          "name": "stderr",
          "text": [
            "WARNING:absl:`lr` is deprecated in Keras optimizer, please use `learning_rate` or use the legacy optimizer, e.g.,tf.keras.optimizers.legacy.Adam.\n"
          ]
        },
        {
          "output_type": "stream",
          "name": "stdout",
          "text": [
            "Model: \"sequential\"\n",
            "_________________________________________________________________\n",
            " Layer (type)                Output Shape              Param #   \n",
            "=================================================================\n",
            " lstm (LSTM)                 (None, 24, 80)            26240     \n",
            "                                                                 \n",
            " lstm_1 (LSTM)               (None, 20)                8080      \n",
            "                                                                 \n",
            " dense (Dense)               (None, 1)                 21        \n",
            "                                                                 \n",
            "=================================================================\n",
            "Total params: 34,341\n",
            "Trainable params: 34,341\n",
            "Non-trainable params: 0\n",
            "_________________________________________________________________\n"
          ]
        }
      ]
    },
    {
      "cell_type": "code",
      "source": [
        "checkpoint = ModelCheckpoint('/content/drive/MyDrive/Binance_project/best_model.hdf5', \n",
        "                             monitor=['val_loss'], \n",
        "                             verbose=0, \n",
        "                             mode='min')\n",
        "early_stopping = tf.keras.callbacks.EarlyStopping(monitor='val_loss',\n",
        "                                                  patience=patience,\n",
        "                                                  restore_best_weights=True,\n",
        "                                                  mode='min')\n",
        "reduce_lr = ReduceLROnPlateau(monitor='val_loss', factor=0.2,\n",
        "                              patience=patience_reduce_lr, min_lr=0.00001)\n",
        "callbacks_list = [checkpoint, early_stopping, reduce_lr]"
      ],
      "metadata": {
        "id": "zY1Jko2qRdRK"
      },
      "execution_count": 18,
      "outputs": []
    },
    {
      "cell_type": "code",
      "source": [
        "model.fit(ds_train,epochs=MAX_EPOCHS, validation_data=ds_val, callbacks=callbacks_list)"
      ],
      "metadata": {
        "colab": {
          "base_uri": "https://localhost:8080/"
        },
        "id": "U-ltO83yjWZG",
        "outputId": "50ea248d-3998-4517-9205-97c22ed9d9aa"
      },
      "execution_count": 19,
      "outputs": [
        {
          "output_type": "stream",
          "name": "stdout",
          "text": [
            "Epoch 1/100\n",
            "264/264 [==============================] - 27s 72ms/step - loss: 0.9085 - mean_absolute_error: 0.2565 - val_loss: 1.1552 - val_mean_absolute_error: 0.4089 - lr: 0.0010\n",
            "Epoch 2/100\n",
            "264/264 [==============================] - 14s 52ms/step - loss: 0.4803 - mean_absolute_error: 0.1118 - val_loss: 0.5766 - val_mean_absolute_error: 0.0407 - lr: 0.0010\n",
            "Epoch 3/100\n",
            "264/264 [==============================] - 12s 45ms/step - loss: 0.3076 - mean_absolute_error: 0.1067 - val_loss: 0.3828 - val_mean_absolute_error: 0.0948 - lr: 0.0010\n",
            "Epoch 4/100\n",
            "264/264 [==============================] - 9s 35ms/step - loss: 0.1947 - mean_absolute_error: 0.1039 - val_loss: 0.2544 - val_mean_absolute_error: 0.0597 - lr: 0.0010\n",
            "Epoch 5/100\n",
            "264/264 [==============================] - 11s 43ms/step - loss: 0.1251 - mean_absolute_error: 0.1044 - val_loss: 0.2916 - val_mean_absolute_error: 0.2865 - lr: 0.0010\n",
            "Epoch 6/100\n",
            "264/264 [==============================] - 10s 37ms/step - loss: 0.0846 - mean_absolute_error: 0.1048 - val_loss: 0.4815 - val_mean_absolute_error: 0.5093 - lr: 0.0010\n",
            "Epoch 7/100\n",
            "264/264 [==============================] - 11s 42ms/step - loss: 0.0746 - mean_absolute_error: 0.1131 - val_loss: 0.4245 - val_mean_absolute_error: 0.4934 - lr: 2.0000e-04\n",
            "Epoch 8/100\n",
            "264/264 [==============================] - 12s 45ms/step - loss: 0.0551 - mean_absolute_error: 0.0802 - val_loss: 0.3992 - val_mean_absolute_error: 0.4802 - lr: 2.0000e-04\n",
            "Epoch 9/100\n",
            "264/264 [==============================] - 11s 43ms/step - loss: 0.0519 - mean_absolute_error: 0.0830 - val_loss: 0.2208 - val_mean_absolute_error: 0.2654 - lr: 4.0000e-05\n",
            "Epoch 10/100\n",
            "264/264 [==============================] - 12s 45ms/step - loss: 0.0481 - mean_absolute_error: 0.0711 - val_loss: 0.1890 - val_mean_absolute_error: 0.2183 - lr: 4.0000e-05\n",
            "Epoch 11/100\n",
            "264/264 [==============================] - 9s 35ms/step - loss: 0.0461 - mean_absolute_error: 0.0667 - val_loss: 0.1675 - val_mean_absolute_error: 0.1826 - lr: 4.0000e-05\n",
            "Epoch 12/100\n",
            "264/264 [==============================] - 12s 45ms/step - loss: 0.0445 - mean_absolute_error: 0.0643 - val_loss: 0.1532 - val_mean_absolute_error: 0.1577 - lr: 4.0000e-05\n",
            "Epoch 13/100\n",
            "264/264 [==============================] - 11s 43ms/step - loss: 0.0430 - mean_absolute_error: 0.0628 - val_loss: 0.1430 - val_mean_absolute_error: 0.1400 - lr: 4.0000e-05\n",
            "Epoch 14/100\n",
            "264/264 [==============================] - 12s 45ms/step - loss: 0.0416 - mean_absolute_error: 0.0620 - val_loss: 0.1356 - val_mean_absolute_error: 0.1284 - lr: 4.0000e-05\n",
            "Epoch 15/100\n",
            "264/264 [==============================] - 15s 56ms/step - loss: 0.0402 - mean_absolute_error: 0.0614 - val_loss: 0.1308 - val_mean_absolute_error: 0.1238 - lr: 4.0000e-05\n",
            "Epoch 16/100\n",
            "264/264 [==============================] - 12s 46ms/step - loss: 0.0388 - mean_absolute_error: 0.0611 - val_loss: 0.1277 - val_mean_absolute_error: 0.1243 - lr: 4.0000e-05\n",
            "Epoch 17/100\n",
            "264/264 [==============================] - 12s 46ms/step - loss: 0.0375 - mean_absolute_error: 0.0609 - val_loss: 0.1256 - val_mean_absolute_error: 0.1275 - lr: 4.0000e-05\n",
            "Epoch 18/100\n",
            "264/264 [==============================] - 10s 36ms/step - loss: 0.0361 - mean_absolute_error: 0.0608 - val_loss: 0.1243 - val_mean_absolute_error: 0.1325 - lr: 4.0000e-05\n",
            "Epoch 19/100\n",
            "264/264 [==============================] - 12s 45ms/step - loss: 0.0348 - mean_absolute_error: 0.0607 - val_loss: 0.1236 - val_mean_absolute_error: 0.1393 - lr: 4.0000e-05\n",
            "Epoch 20/100\n",
            "264/264 [==============================] - 12s 44ms/step - loss: 0.0335 - mean_absolute_error: 0.0606 - val_loss: 0.1236 - val_mean_absolute_error: 0.1469 - lr: 4.0000e-05\n",
            "Epoch 21/100\n",
            "264/264 [==============================] - 9s 35ms/step - loss: 0.0323 - mean_absolute_error: 0.0605 - val_loss: 0.1243 - val_mean_absolute_error: 0.1556 - lr: 4.0000e-05\n",
            "Epoch 22/100\n",
            "264/264 [==============================] - 11s 40ms/step - loss: 0.0314 - mean_absolute_error: 0.0603 - val_loss: 0.1132 - val_mean_absolute_error: 0.1241 - lr: 1.0000e-05\n",
            "Epoch 23/100\n",
            "264/264 [==============================] - 12s 44ms/step - loss: 0.0309 - mean_absolute_error: 0.0589 - val_loss: 0.1097 - val_mean_absolute_error: 0.1157 - lr: 1.0000e-05\n",
            "Epoch 24/100\n",
            "264/264 [==============================] - 11s 43ms/step - loss: 0.0306 - mean_absolute_error: 0.0587 - val_loss: 0.1072 - val_mean_absolute_error: 0.1102 - lr: 1.0000e-05\n",
            "Epoch 25/100\n",
            "264/264 [==============================] - 9s 36ms/step - loss: 0.0302 - mean_absolute_error: 0.0586 - val_loss: 0.1051 - val_mean_absolute_error: 0.1058 - lr: 1.0000e-05\n",
            "Epoch 26/100\n",
            "264/264 [==============================] - 12s 45ms/step - loss: 0.0299 - mean_absolute_error: 0.0585 - val_loss: 0.1032 - val_mean_absolute_error: 0.1021 - lr: 1.0000e-05\n",
            "Epoch 27/100\n",
            "264/264 [==============================] - 9s 36ms/step - loss: 0.0296 - mean_absolute_error: 0.0584 - val_loss: 0.1016 - val_mean_absolute_error: 0.0991 - lr: 1.0000e-05\n",
            "Epoch 28/100\n",
            "264/264 [==============================] - 11s 43ms/step - loss: 0.0293 - mean_absolute_error: 0.0584 - val_loss: 0.1001 - val_mean_absolute_error: 0.0966 - lr: 1.0000e-05\n",
            "Epoch 29/100\n",
            "264/264 [==============================] - 9s 35ms/step - loss: 0.0289 - mean_absolute_error: 0.0583 - val_loss: 0.0988 - val_mean_absolute_error: 0.0945 - lr: 1.0000e-05\n",
            "Epoch 30/100\n",
            "264/264 [==============================] - 11s 42ms/step - loss: 0.0286 - mean_absolute_error: 0.0583 - val_loss: 0.0976 - val_mean_absolute_error: 0.0927 - lr: 1.0000e-05\n",
            "Epoch 31/100\n",
            "264/264 [==============================] - 10s 36ms/step - loss: 0.0283 - mean_absolute_error: 0.0582 - val_loss: 0.0965 - val_mean_absolute_error: 0.0913 - lr: 1.0000e-05\n",
            "Epoch 32/100\n",
            "264/264 [==============================] - 10s 40ms/step - loss: 0.0280 - mean_absolute_error: 0.0582 - val_loss: 0.0954 - val_mean_absolute_error: 0.0901 - lr: 1.0000e-05\n",
            "Epoch 33/100\n",
            "264/264 [==============================] - 12s 44ms/step - loss: 0.0277 - mean_absolute_error: 0.0581 - val_loss: 0.0944 - val_mean_absolute_error: 0.0891 - lr: 1.0000e-05\n",
            "Epoch 34/100\n",
            "264/264 [==============================] - 12s 44ms/step - loss: 0.0274 - mean_absolute_error: 0.0581 - val_loss: 0.0935 - val_mean_absolute_error: 0.0883 - lr: 1.0000e-05\n",
            "Epoch 35/100\n",
            "264/264 [==============================] - 12s 44ms/step - loss: 0.0271 - mean_absolute_error: 0.0580 - val_loss: 0.0927 - val_mean_absolute_error: 0.0877 - lr: 1.0000e-05\n",
            "Epoch 36/100\n",
            "264/264 [==============================] - 11s 43ms/step - loss: 0.0268 - mean_absolute_error: 0.0580 - val_loss: 0.0919 - val_mean_absolute_error: 0.0873 - lr: 1.0000e-05\n",
            "Epoch 37/100\n",
            "264/264 [==============================] - 9s 35ms/step - loss: 0.0265 - mean_absolute_error: 0.0579 - val_loss: 0.0912 - val_mean_absolute_error: 0.0869 - lr: 1.0000e-05\n",
            "Epoch 38/100\n",
            "264/264 [==============================] - 12s 45ms/step - loss: 0.0262 - mean_absolute_error: 0.0579 - val_loss: 0.0904 - val_mean_absolute_error: 0.0866 - lr: 1.0000e-05\n",
            "Epoch 39/100\n",
            "264/264 [==============================] - 9s 35ms/step - loss: 0.0259 - mean_absolute_error: 0.0578 - val_loss: 0.0897 - val_mean_absolute_error: 0.0864 - lr: 1.0000e-05\n",
            "Epoch 40/100\n",
            "264/264 [==============================] - 12s 44ms/step - loss: 0.0256 - mean_absolute_error: 0.0578 - val_loss: 0.0891 - val_mean_absolute_error: 0.0863 - lr: 1.0000e-05\n",
            "Epoch 41/100\n",
            "264/264 [==============================] - 12s 44ms/step - loss: 0.0254 - mean_absolute_error: 0.0577 - val_loss: 0.0885 - val_mean_absolute_error: 0.0863 - lr: 1.0000e-05\n",
            "Epoch 42/100\n",
            "264/264 [==============================] - 11s 42ms/step - loss: 0.0251 - mean_absolute_error: 0.0577 - val_loss: 0.0879 - val_mean_absolute_error: 0.0862 - lr: 1.0000e-05\n",
            "Epoch 43/100\n",
            "264/264 [==============================] - 12s 44ms/step - loss: 0.0249 - mean_absolute_error: 0.0576 - val_loss: 0.0873 - val_mean_absolute_error: 0.0863 - lr: 1.0000e-05\n",
            "Epoch 44/100\n",
            "264/264 [==============================] - 11s 42ms/step - loss: 0.0246 - mean_absolute_error: 0.0576 - val_loss: 0.0867 - val_mean_absolute_error: 0.0864 - lr: 1.0000e-05\n",
            "Epoch 45/100\n",
            "264/264 [==============================] - 12s 45ms/step - loss: 0.0244 - mean_absolute_error: 0.0575 - val_loss: 0.0862 - val_mean_absolute_error: 0.0866 - lr: 1.0000e-05\n",
            "Epoch 46/100\n",
            "264/264 [==============================] - 12s 45ms/step - loss: 0.0241 - mean_absolute_error: 0.0575 - val_loss: 0.0857 - val_mean_absolute_error: 0.0868 - lr: 1.0000e-05\n",
            "Epoch 47/100\n",
            "264/264 [==============================] - 11s 43ms/step - loss: 0.0239 - mean_absolute_error: 0.0574 - val_loss: 0.0852 - val_mean_absolute_error: 0.0870 - lr: 1.0000e-05\n",
            "Epoch 48/100\n",
            "264/264 [==============================] - 12s 46ms/step - loss: 0.0236 - mean_absolute_error: 0.0574 - val_loss: 0.0847 - val_mean_absolute_error: 0.0872 - lr: 1.0000e-05\n",
            "Epoch 49/100\n",
            "264/264 [==============================] - 9s 35ms/step - loss: 0.0234 - mean_absolute_error: 0.0573 - val_loss: 0.0842 - val_mean_absolute_error: 0.0874 - lr: 1.0000e-05\n",
            "Epoch 50/100\n",
            "264/264 [==============================] - 12s 44ms/step - loss: 0.0232 - mean_absolute_error: 0.0572 - val_loss: 0.0838 - val_mean_absolute_error: 0.0876 - lr: 1.0000e-05\n",
            "Epoch 51/100\n",
            "264/264 [==============================] - 10s 36ms/step - loss: 0.0230 - mean_absolute_error: 0.0572 - val_loss: 0.0833 - val_mean_absolute_error: 0.0879 - lr: 1.0000e-05\n",
            "Epoch 52/100\n",
            "264/264 [==============================] - 11s 40ms/step - loss: 0.0228 - mean_absolute_error: 0.0571 - val_loss: 0.0829 - val_mean_absolute_error: 0.0881 - lr: 1.0000e-05\n",
            "Epoch 53/100\n",
            "264/264 [==============================] - 12s 46ms/step - loss: 0.0226 - mean_absolute_error: 0.0571 - val_loss: 0.0824 - val_mean_absolute_error: 0.0884 - lr: 1.0000e-05\n",
            "Epoch 54/100\n",
            "264/264 [==============================] - 10s 39ms/step - loss: 0.0223 - mean_absolute_error: 0.0570 - val_loss: 0.0820 - val_mean_absolute_error: 0.0887 - lr: 1.0000e-05\n",
            "Epoch 55/100\n",
            "264/264 [==============================] - 11s 44ms/step - loss: 0.0221 - mean_absolute_error: 0.0570 - val_loss: 0.0816 - val_mean_absolute_error: 0.0890 - lr: 1.0000e-05\n",
            "Epoch 56/100\n",
            "264/264 [==============================] - 11s 40ms/step - loss: 0.0219 - mean_absolute_error: 0.0569 - val_loss: 0.0812 - val_mean_absolute_error: 0.0893 - lr: 1.0000e-05\n",
            "Epoch 57/100\n",
            "264/264 [==============================] - 12s 44ms/step - loss: 0.0217 - mean_absolute_error: 0.0569 - val_loss: 0.0809 - val_mean_absolute_error: 0.0897 - lr: 1.0000e-05\n",
            "Epoch 58/100\n",
            "264/264 [==============================] - 13s 48ms/step - loss: 0.0216 - mean_absolute_error: 0.0568 - val_loss: 0.0805 - val_mean_absolute_error: 0.0900 - lr: 1.0000e-05\n",
            "Epoch 59/100\n",
            "264/264 [==============================] - 12s 44ms/step - loss: 0.0214 - mean_absolute_error: 0.0568 - val_loss: 0.0802 - val_mean_absolute_error: 0.0904 - lr: 1.0000e-05\n",
            "Epoch 60/100\n",
            "264/264 [==============================] - 9s 35ms/step - loss: 0.0212 - mean_absolute_error: 0.0567 - val_loss: 0.0799 - val_mean_absolute_error: 0.0909 - lr: 1.0000e-05\n",
            "Epoch 61/100\n",
            "264/264 [==============================] - 11s 41ms/step - loss: 0.0210 - mean_absolute_error: 0.0566 - val_loss: 0.0796 - val_mean_absolute_error: 0.0913 - lr: 1.0000e-05\n",
            "Epoch 62/100\n",
            "264/264 [==============================] - 10s 39ms/step - loss: 0.0208 - mean_absolute_error: 0.0566 - val_loss: 0.0793 - val_mean_absolute_error: 0.0918 - lr: 1.0000e-05\n",
            "Epoch 63/100\n",
            "264/264 [==============================] - 12s 44ms/step - loss: 0.0207 - mean_absolute_error: 0.0565 - val_loss: 0.0790 - val_mean_absolute_error: 0.0923 - lr: 1.0000e-05\n",
            "Epoch 64/100\n",
            "264/264 [==============================] - 10s 36ms/step - loss: 0.0205 - mean_absolute_error: 0.0565 - val_loss: 0.0788 - val_mean_absolute_error: 0.0928 - lr: 1.0000e-05\n",
            "Epoch 65/100\n",
            "264/264 [==============================] - 12s 46ms/step - loss: 0.0203 - mean_absolute_error: 0.0564 - val_loss: 0.0785 - val_mean_absolute_error: 0.0932 - lr: 1.0000e-05\n",
            "Epoch 66/100\n",
            "264/264 [==============================] - 12s 46ms/step - loss: 0.0201 - mean_absolute_error: 0.0563 - val_loss: 0.0782 - val_mean_absolute_error: 0.0937 - lr: 1.0000e-05\n",
            "Epoch 67/100\n",
            "264/264 [==============================] - 12s 44ms/step - loss: 0.0200 - mean_absolute_error: 0.0563 - val_loss: 0.0780 - val_mean_absolute_error: 0.0942 - lr: 1.0000e-05\n",
            "Epoch 68/100\n",
            "264/264 [==============================] - 10s 37ms/step - loss: 0.0198 - mean_absolute_error: 0.0562 - val_loss: 0.0778 - val_mean_absolute_error: 0.0947 - lr: 1.0000e-05\n",
            "Epoch 69/100\n",
            "264/264 [==============================] - 11s 40ms/step - loss: 0.0197 - mean_absolute_error: 0.0562 - val_loss: 0.0776 - val_mean_absolute_error: 0.0953 - lr: 1.0000e-05\n",
            "Epoch 70/100\n",
            "264/264 [==============================] - 11s 44ms/step - loss: 0.0195 - mean_absolute_error: 0.0561 - val_loss: 0.0774 - val_mean_absolute_error: 0.0958 - lr: 1.0000e-05\n",
            "Epoch 71/100\n",
            "264/264 [==============================] - 11s 42ms/step - loss: 0.0194 - mean_absolute_error: 0.0560 - val_loss: 0.0772 - val_mean_absolute_error: 0.0964 - lr: 1.0000e-05\n",
            "Epoch 72/100\n",
            "264/264 [==============================] - 12s 45ms/step - loss: 0.0192 - mean_absolute_error: 0.0560 - val_loss: 0.0771 - val_mean_absolute_error: 0.0969 - lr: 1.0000e-05\n",
            "Epoch 73/100\n",
            "264/264 [==============================] - 9s 35ms/step - loss: 0.0191 - mean_absolute_error: 0.0559 - val_loss: 0.0769 - val_mean_absolute_error: 0.0975 - lr: 1.0000e-05\n",
            "Epoch 74/100\n",
            "264/264 [==============================] - 11s 42ms/step - loss: 0.0189 - mean_absolute_error: 0.0558 - val_loss: 0.0768 - val_mean_absolute_error: 0.0981 - lr: 1.0000e-05\n",
            "Epoch 75/100\n",
            "264/264 [==============================] - 11s 42ms/step - loss: 0.0188 - mean_absolute_error: 0.0558 - val_loss: 0.0766 - val_mean_absolute_error: 0.0987 - lr: 1.0000e-05\n",
            "Epoch 76/100\n",
            "264/264 [==============================] - 11s 41ms/step - loss: 0.0186 - mean_absolute_error: 0.0557 - val_loss: 0.0765 - val_mean_absolute_error: 0.0993 - lr: 1.0000e-05\n",
            "Epoch 77/100\n",
            "264/264 [==============================] - 9s 36ms/step - loss: 0.0185 - mean_absolute_error: 0.0556 - val_loss: 0.0763 - val_mean_absolute_error: 0.0999 - lr: 1.0000e-05\n",
            "Epoch 78/100\n",
            "264/264 [==============================] - 11s 41ms/step - loss: 0.0184 - mean_absolute_error: 0.0556 - val_loss: 0.0762 - val_mean_absolute_error: 0.1004 - lr: 1.0000e-05\n",
            "Epoch 79/100\n",
            "264/264 [==============================] - 11s 41ms/step - loss: 0.0182 - mean_absolute_error: 0.0555 - val_loss: 0.0760 - val_mean_absolute_error: 0.1009 - lr: 1.0000e-05\n",
            "Epoch 80/100\n",
            "264/264 [==============================] - 11s 42ms/step - loss: 0.0181 - mean_absolute_error: 0.0554 - val_loss: 0.0759 - val_mean_absolute_error: 0.1015 - lr: 1.0000e-05\n",
            "Epoch 81/100\n",
            "264/264 [==============================] - 11s 41ms/step - loss: 0.0180 - mean_absolute_error: 0.0554 - val_loss: 0.0757 - val_mean_absolute_error: 0.1020 - lr: 1.0000e-05\n",
            "Epoch 82/100\n",
            "264/264 [==============================] - 11s 41ms/step - loss: 0.0179 - mean_absolute_error: 0.0553 - val_loss: 0.0756 - val_mean_absolute_error: 0.1025 - lr: 1.0000e-05\n",
            "Epoch 83/100\n",
            "264/264 [==============================] - 11s 42ms/step - loss: 0.0177 - mean_absolute_error: 0.0552 - val_loss: 0.0755 - val_mean_absolute_error: 0.1030 - lr: 1.0000e-05\n",
            "Epoch 84/100\n",
            "264/264 [==============================] - 9s 35ms/step - loss: 0.0176 - mean_absolute_error: 0.0552 - val_loss: 0.0753 - val_mean_absolute_error: 0.1035 - lr: 1.0000e-05\n",
            "Epoch 85/100\n",
            "264/264 [==============================] - 10s 38ms/step - loss: 0.0175 - mean_absolute_error: 0.0551 - val_loss: 0.0752 - val_mean_absolute_error: 0.1040 - lr: 1.0000e-05\n",
            "Epoch 86/100\n",
            "264/264 [==============================] - 11s 41ms/step - loss: 0.0174 - mean_absolute_error: 0.0550 - val_loss: 0.0751 - val_mean_absolute_error: 0.1045 - lr: 1.0000e-05\n",
            "Epoch 87/100\n",
            "264/264 [==============================] - 10s 40ms/step - loss: 0.0173 - mean_absolute_error: 0.0550 - val_loss: 0.0749 - val_mean_absolute_error: 0.1049 - lr: 1.0000e-05\n",
            "Epoch 88/100\n",
            "264/264 [==============================] - 11s 42ms/step - loss: 0.0171 - mean_absolute_error: 0.0549 - val_loss: 0.0748 - val_mean_absolute_error: 0.1054 - lr: 1.0000e-05\n",
            "Epoch 89/100\n",
            "264/264 [==============================] - 11s 42ms/step - loss: 0.0170 - mean_absolute_error: 0.0548 - val_loss: 0.0747 - val_mean_absolute_error: 0.1059 - lr: 1.0000e-05\n",
            "Epoch 90/100\n",
            "264/264 [==============================] - 11s 42ms/step - loss: 0.0169 - mean_absolute_error: 0.0547 - val_loss: 0.0745 - val_mean_absolute_error: 0.1063 - lr: 1.0000e-05\n",
            "Epoch 91/100\n",
            "264/264 [==============================] - 11s 40ms/step - loss: 0.0168 - mean_absolute_error: 0.0547 - val_loss: 0.0744 - val_mean_absolute_error: 0.1066 - lr: 1.0000e-05\n",
            "Epoch 92/100\n",
            "264/264 [==============================] - 11s 43ms/step - loss: 0.0167 - mean_absolute_error: 0.0546 - val_loss: 0.0742 - val_mean_absolute_error: 0.1070 - lr: 1.0000e-05\n",
            "Epoch 93/100\n",
            "264/264 [==============================] - 10s 37ms/step - loss: 0.0166 - mean_absolute_error: 0.0545 - val_loss: 0.0741 - val_mean_absolute_error: 0.1073 - lr: 1.0000e-05\n",
            "Epoch 94/100\n",
            "264/264 [==============================] - 11s 42ms/step - loss: 0.0165 - mean_absolute_error: 0.0544 - val_loss: 0.0739 - val_mean_absolute_error: 0.1077 - lr: 1.0000e-05\n",
            "Epoch 95/100\n",
            "264/264 [==============================] - 11s 41ms/step - loss: 0.0164 - mean_absolute_error: 0.0544 - val_loss: 0.0737 - val_mean_absolute_error: 0.1079 - lr: 1.0000e-05\n",
            "Epoch 96/100\n",
            "264/264 [==============================] - 11s 40ms/step - loss: 0.0163 - mean_absolute_error: 0.0543 - val_loss: 0.0735 - val_mean_absolute_error: 0.1082 - lr: 1.0000e-05\n",
            "Epoch 97/100\n",
            "264/264 [==============================] - 9s 36ms/step - loss: 0.0162 - mean_absolute_error: 0.0542 - val_loss: 0.0733 - val_mean_absolute_error: 0.1084 - lr: 1.0000e-05\n",
            "Epoch 98/100\n",
            "264/264 [==============================] - 11s 41ms/step - loss: 0.0161 - mean_absolute_error: 0.0541 - val_loss: 0.0731 - val_mean_absolute_error: 0.1086 - lr: 1.0000e-05\n",
            "Epoch 99/100\n",
            "264/264 [==============================] - 11s 43ms/step - loss: 0.0160 - mean_absolute_error: 0.0541 - val_loss: 0.0729 - val_mean_absolute_error: 0.1089 - lr: 1.0000e-05\n",
            "Epoch 100/100\n",
            "264/264 [==============================] - 10s 37ms/step - loss: 0.0159 - mean_absolute_error: 0.0540 - val_loss: 0.0727 - val_mean_absolute_error: 0.1090 - lr: 1.0000e-05\n"
          ]
        },
        {
          "output_type": "execute_result",
          "data": {
            "text/plain": [
              "<keras.callbacks.History at 0x7ff7f2d33160>"
            ]
          },
          "metadata": {},
          "execution_count": 19
        }
      ]
    },
    {
      "cell_type": "code",
      "source": [
        "model.load_weights('/content/drive/MyDrive/Binance_project/best_model.hdf5')"
      ],
      "metadata": {
        "id": "4debhlHUVkIa"
      },
      "execution_count": 20,
      "outputs": []
    },
    {
      "cell_type": "code",
      "source": [
        "results = model.evaluate(ds_val)\n",
        "print(model.metrics_names)\n",
        "print(results)"
      ],
      "metadata": {
        "colab": {
          "base_uri": "https://localhost:8080/"
        },
        "id": "ytW9HtvsjWOj",
        "outputId": "5980f600-c937-4b01-b4b0-8942cc55999b"
      },
      "execution_count": 21,
      "outputs": [
        {
          "output_type": "stream",
          "name": "stdout",
          "text": [
            "87/87 [==============================] - 2s 17ms/step - loss: 0.0727 - mean_absolute_error: 0.1090\n",
            "['loss', 'mean_absolute_error']\n",
            "[0.07269882410764694, 0.1090269461274147]\n"
          ]
        }
      ]
    },
    {
      "cell_type": "code",
      "source": [
        "predict = model.predict(ds_val)"
      ],
      "metadata": {
        "colab": {
          "base_uri": "https://localhost:8080/"
        },
        "id": "HzwkET44-pLk",
        "outputId": "4b7b6d5e-7024-4634-983c-57d12077aadc"
      },
      "execution_count": 22,
      "outputs": [
        {
          "output_type": "stream",
          "name": "stdout",
          "text": [
            "87/87 [==============================] - 2s 15ms/step\n"
          ]
        }
      ]
    },
    {
      "cell_type": "code",
      "source": [
        "batch_stop = predict.shape[0]\n",
        "val_result = val.loc[val.index.start+n_input:val.index.stop-val.shape[0]+batch_stop+n_input-1].copy()\n",
        "val_result['time'] = data_ts.loc[val_result.index]\n",
        "val_result['predict'] = predict*train_std.price+train_mean.price\n",
        "\n",
        "plt.plot(val_result.time, val_result.price, label = 'true data')\n",
        "plt.plot(val_result.time, val_result.predict, color='green', label = 'predict')\n",
        "\n",
        "plt.title('Val prediction')\n",
        "\n",
        "plt.xticks(rotation=30, ha='right')\n",
        "plt.xlabel('date')\n",
        "plt.ylabel('price')\n",
        "plt.legend()"
      ],
      "metadata": {
        "colab": {
          "base_uri": "https://localhost:8080/",
          "height": 527
        },
        "id": "x_BczF6V--3-",
        "outputId": "cdf391bc-8848-4949-8add-8c8e58f664cd"
      },
      "execution_count": 23,
      "outputs": [
        {
          "output_type": "execute_result",
          "data": {
            "text/plain": [
              "<matplotlib.legend.Legend at 0x7ff7ee2fc9a0>"
            ]
          },
          "metadata": {},
          "execution_count": 23
        },
        {
          "output_type": "display_data",
          "data": {
            "text/plain": [
              "<Figure size 640x480 with 1 Axes>"
            ],
            "image/png": "[encoded data removed]"
          },
          "metadata": {}
        }
      ]
    },
    {
      "cell_type": "code",
      "source": [
        "# Для теста нам нужны данные на один батч. То есть на 25 выходов.\n",
        "x_test = scaled_val[-n_input-BATCH_SIZE+1:]\n",
        "y_test = scaled_val[-BATCH_SIZE+1:]\n",
        "y_test = pd.concat([y_test, scaled_test])\n",
        "\n",
        "ds_test = tf.keras.utils.timeseries_dataset_from_array(\n",
        "        data=np.array(x_test, dtype=np.float32),\n",
        "        targets=np.array(y_test, dtype=np.float32),\n",
        "        sequence_length=n_input,\n",
        "        sequence_stride=1,\n",
        "        seed = RANDOM_SEED, \n",
        "        shuffle=False,\n",
        "        batch_size=BATCH_SIZE)"
      ],
      "metadata": {
        "id": "dK_b2470jWIF"
      },
      "execution_count": 24,
      "outputs": []
    },
    {
      "cell_type": "code",
      "source": [
        "test_results = model.evaluate(ds_test)\n",
        "print(model.metrics_names)\n",
        "print(test_results)"
      ],
      "metadata": {
        "colab": {
          "base_uri": "https://localhost:8080/"
        },
        "id": "vr_K7XHoNl9v",
        "outputId": "fe3effac-197c-42fb-eee7-ef9be586b9a3"
      },
      "execution_count": 25,
      "outputs": [
        {
          "output_type": "stream",
          "name": "stdout",
          "text": [
            "1/1 [==============================] - 0s 86ms/step - loss: 0.0962 - mean_absolute_error: 0.1649\n",
            "['loss', 'mean_absolute_error']\n",
            "[0.09621235728263855, 0.16492639482021332]\n"
          ]
        }
      ]
    },
    {
      "cell_type": "code",
      "source": [
        "predict_test = model.predict(ds_test)"
      ],
      "metadata": {
        "colab": {
          "base_uri": "https://localhost:8080/"
        },
        "id": "pcYwfCljFe8f",
        "outputId": "6f027a59-aceb-4cd7-a834-c53408c12bd7"
      },
      "execution_count": 26,
      "outputs": [
        {
          "output_type": "stream",
          "name": "stdout",
          "text": [
            "1/1 [==============================] - 0s 79ms/step\n"
          ]
        }
      ]
    },
    {
      "cell_type": "code",
      "source": [
        "test_history = val.loc[val.index.stop-n_input:].copy()\n",
        "test_history = pd.concat([test_history, test])\n",
        "test_history['time'] = data_ts.loc[test_history.index]\n",
        "test_history['predict'] = 0\n",
        "test_history.loc[test.index.start,'predict'] = (predict_test[-1:][0][0]*train_std.price+train_mean.price)\n",
        "\n",
        "plt.plot(test_history.time.iloc[:-1], test_history.price.iloc[:-1], label = 'history')\n",
        "plt.plot(test_history.time.iloc[-1:], test_history.price.iloc[-1:], \"bD\", label = 'true data')\n",
        "plt.plot(test_history.time.iloc[-1:], test_history.predict.iloc[-1:], \"gX\", label = 'predict')\n",
        "\n",
        "plt.title('Test prediction')\n",
        "\n",
        "plt.xticks(rotation=30, ha='right')\n",
        "plt.xlabel('date')\n",
        "plt.ylabel('price')\n",
        "plt.legend()"
      ],
      "metadata": {
        "colab": {
          "base_uri": "https://localhost:8080/",
          "height": 518
        },
        "id": "hf8Y0K83FmhP",
        "outputId": "24f4e181-a1bf-49a7-8dec-8111d48e4cd7"
      },
      "execution_count": 27,
      "outputs": [
        {
          "output_type": "execute_result",
          "data": {
            "text/plain": [
              "<matplotlib.legend.Legend at 0x7ff7dad945b0>"
            ]
          },
          "metadata": {},
          "execution_count": 27
        },
        {
          "output_type": "display_data",
          "data": {
            "text/plain": [
              "<Figure size 640x480 with 1 Axes>"
            ],
            "image/png": "[encoded data removed]"
          },
          "metadata": {}
        }
      ]
    },
    {
      "cell_type": "code",
      "source": [],
      "metadata": {
        "id": "J58jIN60zqQP"
      },
      "execution_count": 27,
      "outputs": []
    }
  ],
  "metadata": {
    "colab": {
      "provenance": []
    },
    "kernelspec": {
      "display_name": "Python 3",
      "language": "python",
      "name": "python3"
    },
    "language_info": {
      "codemirror_mode": {
        "name": "ipython",
        "version": 3
      },
      "file_extension": ".py",
      "mimetype": "text/x-python",
      "name": "python",
      "nbconvert_exporter": "python",
      "pygments_lexer": "ipython3",
      "version": "3.7.4"
    }
  },
  "nbformat": 4,
  "nbformat_minor": 0
}