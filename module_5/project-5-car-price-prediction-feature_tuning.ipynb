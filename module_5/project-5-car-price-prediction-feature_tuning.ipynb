{
 "cells": [
  {
   "cell_type": "markdown",
   "metadata": {},
   "source": [
    "## **Project 5  Car_Price_Prediction**             \n",
    "        \n",
    "***Выполнила Хуснуллина Наиля***       \n",
    "***"
   ]
  },
  {
   "cell_type": "markdown",
   "metadata": {},
   "source": [
    "# 1. Импорт библиотек"
   ]
  },
  {
   "cell_type": "code",
   "execution_count": 164,
   "metadata": {
    "_cell_guid": "b1076dfc-b9ad-4769-8c92-a6c4dae69d19",
    "_uuid": "8f2839f25d086af736a60e9eeb907d3b93b6e0e5",
    "execution": {
     "iopub.execute_input": "2020-10-26T12:46:41.400302Z",
     "iopub.status.busy": "2020-10-26T12:46:41.399317Z",
     "iopub.status.idle": "2020-10-26T12:46:42.581426Z",
     "shell.execute_reply": "2020-10-26T12:46:42.580431Z"
    },
    "papermill": {
     "duration": 1.219772,
     "end_time": "2020-10-26T12:46:42.581597",
     "exception": false,
     "start_time": "2020-10-26T12:46:41.361825",
     "status": "completed"
    },
    "tags": []
   },
   "outputs": [],
   "source": [
    "import numpy as np \n",
    "import pandas as pd \n",
    "import re\n",
    "#import sys\n",
    "import seaborn as sns\n",
    "%matplotlib inline\n",
    "import matplotlib.pyplot as plt\n",
    "\n",
    "from sklearn.feature_selection import f_classif, mutual_info_classif\n",
    "\n",
    "from sklearn.model_selection import train_test_split\n",
    "from sklearn.model_selection import KFold\n",
    "from catboost import CatBoostRegressor\n",
    "from sklearn.preprocessing import LabelEncoder\n",
    "from sklearn.ensemble import GradientBoostingRegressor, ExtraTreesRegressor, RandomForestRegressor\n",
    "#from sklearn.linear_model import LogisticRegression"
   ]
  },
  {
   "cell_type": "code",
   "execution_count": 165,
   "metadata": {
    "_kg_hide-input": false,
    "execution": {
     "iopub.execute_input": "2020-10-26T12:46:42.716039Z",
     "iopub.status.busy": "2020-10-26T12:46:42.715184Z",
     "iopub.status.idle": "2020-10-26T12:46:47.852433Z",
     "shell.execute_reply": "2020-10-26T12:46:47.851661Z"
    },
    "papermill": {
     "duration": 5.172536,
     "end_time": "2020-10-26T12:46:47.852593",
     "exception": false,
     "start_time": "2020-10-26T12:46:42.680057",
     "status": "completed"
    },
    "tags": []
   },
   "outputs": [],
   "source": [
    "# зафиксируем версию пакетов\n",
    "!pip freeze > requirements.txt"
   ]
  },
  {
   "cell_type": "code",
   "execution_count": 166,
   "metadata": {
    "execution": {
     "iopub.execute_input": "2020-10-26T12:46:47.919419Z",
     "iopub.status.busy": "2020-10-26T12:46:47.918168Z",
     "iopub.status.idle": "2020-10-26T12:46:47.922267Z",
     "shell.execute_reply": "2020-10-26T12:46:47.921365Z"
    },
    "papermill": {
     "duration": 0.039842,
     "end_time": "2020-10-26T12:46:47.922434",
     "exception": false,
     "start_time": "2020-10-26T12:46:47.882592",
     "status": "completed"
    },
    "tags": []
   },
   "outputs": [],
   "source": [
    "# фиксируем RANDOM_SEED\n",
    "RANDOM_SEED = 42"
   ]
  },
  {
   "cell_type": "markdown",
   "metadata": {
    "papermill": {
     "duration": 0.030254,
     "end_time": "2020-10-26T12:46:48.112586",
     "exception": false,
     "start_time": "2020-10-26T12:46:48.082332",
     "status": "completed"
    },
    "tags": []
   },
   "source": [
    "# 2. Импорт данных"
   ]
  },
  {
   "cell_type": "code",
   "execution_count": 167,
   "metadata": {},
   "outputs": [],
   "source": [
    "#импотр для каггла\n",
    "#import os\n",
    "#for dirname, _, filenames in os.walk('/kaggle/input'):\n",
    "#    for filename in filenames:\n",
    "#        print(os.path.join(dirname, filename))\n",
    "\n",
    "#PATH_to_file = '/kaggle/input/sf-dst-car-price-prediction/'\n",
    "#PATH_to_file_data = '/kaggle/input/auto-ru-parsing-06-01-2021/'"
   ]
  },
  {
   "cell_type": "code",
   "execution_count": 168,
   "metadata": {
    "execution": {
     "iopub.execute_input": "2020-10-26T12:46:48.179769Z",
     "iopub.status.busy": "2020-10-26T12:46:48.178918Z",
     "iopub.status.idle": "2020-10-26T12:46:48.924574Z",
     "shell.execute_reply": "2020-10-26T12:46:48.925184Z"
    },
    "papermill": {
     "duration": 0.783211,
     "end_time": "2020-10-26T12:46:48.925418",
     "exception": false,
     "start_time": "2020-10-26T12:46:48.142207",
     "status": "completed"
    },
    "tags": []
   },
   "outputs": [],
   "source": [
    "#train = pd.read_csv(PATH_to_file_data +'auto_ru_06_01_2021.csv')\n",
    "#test = pd.read_csv(PATH_to_file+'test.csv')\n",
    "#submit = pd.read_csv(PATH_to_file+'sample_submission.csv')\n",
    "#импорт для локального компа\n",
    "train = pd.read_csv('auto_ru_06_01_2021.csv')\n",
    "test = pd.read_csv('test.csv')\n",
    "submit = pd.read_csv('sample_submission.csv')"
   ]
  },
  {
   "cell_type": "code",
   "execution_count": 169,
   "metadata": {},
   "outputs": [],
   "source": [
    "# удалим дубликаты из трейна\n",
    "train.drop_duplicates(subset=['complectation_dict', 'sell_id', 'description'], keep=False, inplace=True)"
   ]
  },
  {
   "cell_type": "code",
   "execution_count": 170,
   "metadata": {},
   "outputs": [
    {
     "name": "stdout",
     "output_type": "stream",
     "text": [
      "Размерность тренировочного датасета:  (74223, 39)\n"
     ]
    },
    {
     "data": {
      "text/html": [
       "<div>\n",
       "<style scoped>\n",
       "    .dataframe tbody tr th:only-of-type {\n",
       "        vertical-align: middle;\n",
       "    }\n",
       "\n",
       "    .dataframe tbody tr th {\n",
       "        vertical-align: top;\n",
       "    }\n",
       "\n",
       "    .dataframe thead th {\n",
       "        text-align: right;\n",
       "    }\n",
       "</style>\n",
       "<table border=\"1\" class=\"dataframe\">\n",
       "  <thead>\n",
       "    <tr style=\"text-align: right;\">\n",
       "      <th></th>\n",
       "      <th>bodyType</th>\n",
       "      <th>brand</th>\n",
       "      <th>color</th>\n",
       "      <th>complectation_dict</th>\n",
       "      <th>description</th>\n",
       "      <th>engineDisplacement</th>\n",
       "      <th>enginePower</th>\n",
       "      <th>equipment_dict</th>\n",
       "      <th>fuelType</th>\n",
       "      <th>image</th>\n",
       "      <th>mileage</th>\n",
       "      <th>modelDate</th>\n",
       "      <th>model_info</th>\n",
       "      <th>model_name</th>\n",
       "      <th>name</th>\n",
       "      <th>numberOfDoors</th>\n",
       "      <th>priceCurrency</th>\n",
       "      <th>productionDate</th>\n",
       "      <th>sell_id</th>\n",
       "      <th>super_gen</th>\n",
       "      <th>vehicleConfiguration</th>\n",
       "      <th>vehicleTransmission</th>\n",
       "      <th>vendor</th>\n",
       "      <th>Владельцы</th>\n",
       "      <th>Владение</th>\n",
       "      <th>ПТС</th>\n",
       "      <th>Привод</th>\n",
       "      <th>Руль</th>\n",
       "      <th>Состояние</th>\n",
       "      <th>Таможня</th>\n",
       "      <th>tax_by_year</th>\n",
       "      <th>transport_tax_rid</th>\n",
       "      <th>insurance_company</th>\n",
       "      <th>osago_insurance_price</th>\n",
       "      <th>start_date</th>\n",
       "      <th>auto_class</th>\n",
       "      <th>price_RUR</th>\n",
       "      <th>price_EUR</th>\n",
       "      <th>price_USD</th>\n",
       "    </tr>\n",
       "  </thead>\n",
       "  <tbody>\n",
       "    <tr>\n",
       "      <th>0</th>\n",
       "      <td>Универсал 5 дв.</td>\n",
       "      <td>AUDI</td>\n",
       "      <td>EE1D19</td>\n",
       "      <td>{'id': '0'}</td>\n",
       "      <td>По кузову всё хорошо. По ходовой хорошо.Технич...</td>\n",
       "      <td>2.0</td>\n",
       "      <td>115.0</td>\n",
       "      <td>{'esp': True, 'hatch': True, 'ashtray-and-ciga...</td>\n",
       "      <td>бензин</td>\n",
       "      <td>//avatars.mds.yandex.net/get-autoru-vos/173544...</td>\n",
       "      <td>300000</td>\n",
       "      <td>1990.0</td>\n",
       "      <td>{'code': '100', 'name': '100', 'ru_name': '100...</td>\n",
       "      <td>100</td>\n",
       "      <td>2.0 MT (115 л.с.)</td>\n",
       "      <td>5.0</td>\n",
       "      <td>RUR</td>\n",
       "      <td>1994</td>\n",
       "      <td>1101790208</td>\n",
       "      <td>{'id': '7879503', 'displacement': 1984, 'engin...</td>\n",
       "      <td>WAGON_5_DOORS MECHANICAL 2.0</td>\n",
       "      <td>MECHANICAL</td>\n",
       "      <td>EUROPEAN</td>\n",
       "      <td>2.0</td>\n",
       "      <td>{'year': 2004, 'month': 11}</td>\n",
       "      <td>ORIGINAL</td>\n",
       "      <td>передний</td>\n",
       "      <td>LEFT</td>\n",
       "      <td>True</td>\n",
       "      <td>True</td>\n",
       "      <td>2875.0</td>\n",
       "      <td>213.0</td>\n",
       "      <td>TINKOFF</td>\n",
       "      <td>4732.0</td>\n",
       "      <td>2020-12-04T08:37:24Z</td>\n",
       "      <td>E</td>\n",
       "      <td>198000.0</td>\n",
       "      <td>2181.0</td>\n",
       "      <td>2653.0</td>\n",
       "    </tr>\n",
       "    <tr>\n",
       "      <th>1</th>\n",
       "      <td>Седан</td>\n",
       "      <td>AUDI</td>\n",
       "      <td>CACECB</td>\n",
       "      <td>{'id': '0'}</td>\n",
       "      <td>Автомобиль в хорошем состоянии много нового но...</td>\n",
       "      <td>2.3</td>\n",
       "      <td>133.0</td>\n",
       "      <td>{}</td>\n",
       "      <td>бензин</td>\n",
       "      <td>//avatars.mds.yandex.net/get-autoru-vos/216022...</td>\n",
       "      <td>420000</td>\n",
       "      <td>1990.0</td>\n",
       "      <td>{'code': '100', 'name': '100', 'ru_name': '100...</td>\n",
       "      <td>100</td>\n",
       "      <td>2.3 MT (133 л.с.)</td>\n",
       "      <td>4.0</td>\n",
       "      <td>RUR</td>\n",
       "      <td>1991</td>\n",
       "      <td>1102081523</td>\n",
       "      <td>{'id': '7879487', 'displacement': 2309, 'engin...</td>\n",
       "      <td>SEDAN MECHANICAL 2.3</td>\n",
       "      <td>MECHANICAL</td>\n",
       "      <td>EUROPEAN</td>\n",
       "      <td>3.0</td>\n",
       "      <td>NaN</td>\n",
       "      <td>ORIGINAL</td>\n",
       "      <td>передний</td>\n",
       "      <td>LEFT</td>\n",
       "      <td>True</td>\n",
       "      <td>True</td>\n",
       "      <td>4655.0</td>\n",
       "      <td>213.0</td>\n",
       "      <td>TINKOFF</td>\n",
       "      <td>5521.0</td>\n",
       "      <td>2021-01-04T09:55:08Z</td>\n",
       "      <td>E</td>\n",
       "      <td>140000.0</td>\n",
       "      <td>1542.0</td>\n",
       "      <td>1876.0</td>\n",
       "    </tr>\n",
       "  </tbody>\n",
       "</table>\n",
       "</div>"
      ],
      "text/plain": [
       "          bodyType brand   color complectation_dict  \\\n",
       "0  Универсал 5 дв.  AUDI  EE1D19        {'id': '0'}   \n",
       "1            Седан  AUDI  CACECB        {'id': '0'}   \n",
       "\n",
       "                                         description engineDisplacement  \\\n",
       "0  По кузову всё хорошо. По ходовой хорошо.Технич...                2.0   \n",
       "1  Автомобиль в хорошем состоянии много нового но...                2.3   \n",
       "\n",
       "   enginePower                                     equipment_dict fuelType  \\\n",
       "0        115.0  {'esp': True, 'hatch': True, 'ashtray-and-ciga...   бензин   \n",
       "1        133.0                                                 {}   бензин   \n",
       "\n",
       "                                               image  mileage  modelDate  \\\n",
       "0  //avatars.mds.yandex.net/get-autoru-vos/173544...   300000     1990.0   \n",
       "1  //avatars.mds.yandex.net/get-autoru-vos/216022...   420000     1990.0   \n",
       "\n",
       "                                          model_info model_name  \\\n",
       "0  {'code': '100', 'name': '100', 'ru_name': '100...        100   \n",
       "1  {'code': '100', 'name': '100', 'ru_name': '100...        100   \n",
       "\n",
       "                name  numberOfDoors priceCurrency  productionDate     sell_id  \\\n",
       "0  2.0 MT (115 л.с.)            5.0           RUR            1994  1101790208   \n",
       "1  2.3 MT (133 л.с.)            4.0           RUR            1991  1102081523   \n",
       "\n",
       "                                           super_gen  \\\n",
       "0  {'id': '7879503', 'displacement': 1984, 'engin...   \n",
       "1  {'id': '7879487', 'displacement': 2309, 'engin...   \n",
       "\n",
       "           vehicleConfiguration vehicleTransmission    vendor  Владельцы  \\\n",
       "0  WAGON_5_DOORS MECHANICAL 2.0          MECHANICAL  EUROPEAN        2.0   \n",
       "1          SEDAN MECHANICAL 2.3          MECHANICAL  EUROPEAN        3.0   \n",
       "\n",
       "                      Владение       ПТС    Привод  Руль  Состояние  Таможня  \\\n",
       "0  {'year': 2004, 'month': 11}  ORIGINAL  передний  LEFT       True     True   \n",
       "1                          NaN  ORIGINAL  передний  LEFT       True     True   \n",
       "\n",
       "   tax_by_year  transport_tax_rid insurance_company  osago_insurance_price  \\\n",
       "0       2875.0              213.0           TINKOFF                 4732.0   \n",
       "1       4655.0              213.0           TINKOFF                 5521.0   \n",
       "\n",
       "             start_date auto_class  price_RUR  price_EUR  price_USD  \n",
       "0  2020-12-04T08:37:24Z          E   198000.0     2181.0     2653.0  \n",
       "1  2021-01-04T09:55:08Z          E   140000.0     1542.0     1876.0  "
      ]
     },
     "metadata": {},
     "output_type": "display_data"
    },
    {
     "name": "stdout",
     "output_type": "stream",
     "text": [
      "Размерность тестового датасета:  (34686, 32)\n"
     ]
    },
    {
     "data": {
      "text/html": [
       "<div>\n",
       "<style scoped>\n",
       "    .dataframe tbody tr th:only-of-type {\n",
       "        vertical-align: middle;\n",
       "    }\n",
       "\n",
       "    .dataframe tbody tr th {\n",
       "        vertical-align: top;\n",
       "    }\n",
       "\n",
       "    .dataframe thead th {\n",
       "        text-align: right;\n",
       "    }\n",
       "</style>\n",
       "<table border=\"1\" class=\"dataframe\">\n",
       "  <thead>\n",
       "    <tr style=\"text-align: right;\">\n",
       "      <th></th>\n",
       "      <th>bodyType</th>\n",
       "      <th>brand</th>\n",
       "      <th>car_url</th>\n",
       "      <th>color</th>\n",
       "      <th>complectation_dict</th>\n",
       "      <th>description</th>\n",
       "      <th>engineDisplacement</th>\n",
       "      <th>enginePower</th>\n",
       "      <th>equipment_dict</th>\n",
       "      <th>fuelType</th>\n",
       "      <th>image</th>\n",
       "      <th>mileage</th>\n",
       "      <th>modelDate</th>\n",
       "      <th>model_info</th>\n",
       "      <th>model_name</th>\n",
       "      <th>name</th>\n",
       "      <th>numberOfDoors</th>\n",
       "      <th>parsing_unixtime</th>\n",
       "      <th>priceCurrency</th>\n",
       "      <th>productionDate</th>\n",
       "      <th>sell_id</th>\n",
       "      <th>super_gen</th>\n",
       "      <th>vehicleConfiguration</th>\n",
       "      <th>vehicleTransmission</th>\n",
       "      <th>vendor</th>\n",
       "      <th>Владельцы</th>\n",
       "      <th>Владение</th>\n",
       "      <th>ПТС</th>\n",
       "      <th>Привод</th>\n",
       "      <th>Руль</th>\n",
       "      <th>Состояние</th>\n",
       "      <th>Таможня</th>\n",
       "    </tr>\n",
       "  </thead>\n",
       "  <tbody>\n",
       "    <tr>\n",
       "      <th>0</th>\n",
       "      <td>лифтбек</td>\n",
       "      <td>SKODA</td>\n",
       "      <td>https://auto.ru/cars/used/sale/skoda/octavia/1...</td>\n",
       "      <td>синий</td>\n",
       "      <td>NaN</td>\n",
       "      <td>Все автомобили, представленные в продаже, прох...</td>\n",
       "      <td>1.2 LTR</td>\n",
       "      <td>105 N12</td>\n",
       "      <td>{\"engine-proof\":true,\"tinted-glass\":true,\"airb...</td>\n",
       "      <td>бензин</td>\n",
       "      <td>https://autoru.naydex.net/o9DBXQ270/5ac010hAY0...</td>\n",
       "      <td>74000</td>\n",
       "      <td>2013</td>\n",
       "      <td>{\"code\":\"OCTAVIA\",\"name\":\"Octavia\",\"ru_name\":\"...</td>\n",
       "      <td>OCTAVIA</td>\n",
       "      <td>1.2 AMT (105 л.с.)</td>\n",
       "      <td>5</td>\n",
       "      <td>1603226273</td>\n",
       "      <td>RUB</td>\n",
       "      <td>2014</td>\n",
       "      <td>1100575026</td>\n",
       "      <td>{\"id\":\"10373605\",\"displacement\":1197,\"engine_t...</td>\n",
       "      <td>LIFTBACK ROBOT 1.2</td>\n",
       "      <td>роботизированная</td>\n",
       "      <td>EUROPEAN</td>\n",
       "      <td>3 или более</td>\n",
       "      <td>NaN</td>\n",
       "      <td>Оригинал</td>\n",
       "      <td>передний</td>\n",
       "      <td>Левый</td>\n",
       "      <td>Не требует ремонта</td>\n",
       "      <td>Растаможен</td>\n",
       "    </tr>\n",
       "    <tr>\n",
       "      <th>1</th>\n",
       "      <td>лифтбек</td>\n",
       "      <td>SKODA</td>\n",
       "      <td>https://auto.ru/cars/used/sale/skoda/octavia/1...</td>\n",
       "      <td>чёрный</td>\n",
       "      <td>NaN</td>\n",
       "      <td>ЛОТ: 01217195\\nАвтопрага Север\\nДанный автомоб...</td>\n",
       "      <td>1.6 LTR</td>\n",
       "      <td>110 N12</td>\n",
       "      <td>{\"cruise-control\":true,\"asr\":true,\"esp\":true,\"...</td>\n",
       "      <td>бензин</td>\n",
       "      <td>https://autoru.naydex.net/o9DBXQ270/5ac010hAY0...</td>\n",
       "      <td>60563</td>\n",
       "      <td>2017</td>\n",
       "      <td>{\"code\":\"OCTAVIA\",\"name\":\"Octavia\",\"ru_name\":\"...</td>\n",
       "      <td>OCTAVIA</td>\n",
       "      <td>1.6 MT (110 л.с.)</td>\n",
       "      <td>5</td>\n",
       "      <td>1603226277</td>\n",
       "      <td>RUB</td>\n",
       "      <td>2017</td>\n",
       "      <td>1100549428</td>\n",
       "      <td>{\"id\":\"20913311\",\"displacement\":1598,\"engine_t...</td>\n",
       "      <td>LIFTBACK MECHANICAL 1.6</td>\n",
       "      <td>механическая</td>\n",
       "      <td>EUROPEAN</td>\n",
       "      <td>1 владелец</td>\n",
       "      <td>NaN</td>\n",
       "      <td>Оригинал</td>\n",
       "      <td>передний</td>\n",
       "      <td>Левый</td>\n",
       "      <td>Не требует ремонта</td>\n",
       "      <td>Растаможен</td>\n",
       "    </tr>\n",
       "  </tbody>\n",
       "</table>\n",
       "</div>"
      ],
      "text/plain": [
       "  bodyType  brand                                            car_url   color  \\\n",
       "0  лифтбек  SKODA  https://auto.ru/cars/used/sale/skoda/octavia/1...   синий   \n",
       "1  лифтбек  SKODA  https://auto.ru/cars/used/sale/skoda/octavia/1...  чёрный   \n",
       "\n",
       "  complectation_dict                                        description  \\\n",
       "0                NaN  Все автомобили, представленные в продаже, прох...   \n",
       "1                NaN  ЛОТ: 01217195\\nАвтопрага Север\\nДанный автомоб...   \n",
       "\n",
       "  engineDisplacement enginePower  \\\n",
       "0            1.2 LTR     105 N12   \n",
       "1            1.6 LTR     110 N12   \n",
       "\n",
       "                                      equipment_dict fuelType  \\\n",
       "0  {\"engine-proof\":true,\"tinted-glass\":true,\"airb...   бензин   \n",
       "1  {\"cruise-control\":true,\"asr\":true,\"esp\":true,\"...   бензин   \n",
       "\n",
       "                                               image  mileage  modelDate  \\\n",
       "0  https://autoru.naydex.net/o9DBXQ270/5ac010hAY0...    74000       2013   \n",
       "1  https://autoru.naydex.net/o9DBXQ270/5ac010hAY0...    60563       2017   \n",
       "\n",
       "                                          model_info model_name  \\\n",
       "0  {\"code\":\"OCTAVIA\",\"name\":\"Octavia\",\"ru_name\":\"...    OCTAVIA   \n",
       "1  {\"code\":\"OCTAVIA\",\"name\":\"Octavia\",\"ru_name\":\"...    OCTAVIA   \n",
       "\n",
       "                 name  numberOfDoors  parsing_unixtime priceCurrency  \\\n",
       "0  1.2 AMT (105 л.с.)              5        1603226273           RUB   \n",
       "1   1.6 MT (110 л.с.)              5        1603226277           RUB   \n",
       "\n",
       "   productionDate     sell_id  \\\n",
       "0            2014  1100575026   \n",
       "1            2017  1100549428   \n",
       "\n",
       "                                           super_gen     vehicleConfiguration  \\\n",
       "0  {\"id\":\"10373605\",\"displacement\":1197,\"engine_t...       LIFTBACK ROBOT 1.2   \n",
       "1  {\"id\":\"20913311\",\"displacement\":1598,\"engine_t...  LIFTBACK MECHANICAL 1.6   \n",
       "\n",
       "  vehicleTransmission    vendor    Владельцы Владение       ПТС    Привод  \\\n",
       "0    роботизированная  EUROPEAN  3 или более      NaN  Оригинал  передний   \n",
       "1        механическая  EUROPEAN   1 владелец      NaN  Оригинал  передний   \n",
       "\n",
       "    Руль           Состояние     Таможня  \n",
       "0  Левый  Не требует ремонта  Растаможен  \n",
       "1  Левый  Не требует ремонта  Растаможен  "
      ]
     },
     "metadata": {},
     "output_type": "display_data"
    },
    {
     "name": "stdout",
     "output_type": "stream",
     "text": [
      "Размерность датасета c примером сабмишена:  (34686, 2)\n"
     ]
    },
    {
     "data": {
      "text/html": [
       "<div>\n",
       "<style scoped>\n",
       "    .dataframe tbody tr th:only-of-type {\n",
       "        vertical-align: middle;\n",
       "    }\n",
       "\n",
       "    .dataframe tbody tr th {\n",
       "        vertical-align: top;\n",
       "    }\n",
       "\n",
       "    .dataframe thead th {\n",
       "        text-align: right;\n",
       "    }\n",
       "</style>\n",
       "<table border=\"1\" class=\"dataframe\">\n",
       "  <thead>\n",
       "    <tr style=\"text-align: right;\">\n",
       "      <th></th>\n",
       "      <th>sell_id</th>\n",
       "      <th>price</th>\n",
       "    </tr>\n",
       "  </thead>\n",
       "  <tbody>\n",
       "    <tr>\n",
       "      <th>0</th>\n",
       "      <td>1100575026</td>\n",
       "      <td>0</td>\n",
       "    </tr>\n",
       "    <tr>\n",
       "      <th>1</th>\n",
       "      <td>1100549428</td>\n",
       "      <td>0</td>\n",
       "    </tr>\n",
       "  </tbody>\n",
       "</table>\n",
       "</div>"
      ],
      "text/plain": [
       "      sell_id  price\n",
       "0  1100575026      0\n",
       "1  1100549428      0"
      ]
     },
     "metadata": {},
     "output_type": "display_data"
    }
   ],
   "source": [
    "pd.set_option('display.max_columns', None)\n",
    "print('Размерность тренировочного датасета: ', train.shape)\n",
    "display(train.head(2))\n",
    "print('Размерность тестового датасета: ', test.shape)\n",
    "display(test.head(2))\n",
    "print('Размерность датасета c примером сабмишена: ', submit.shape)\n",
    "display(submit.head(2))"
   ]
  },
  {
   "cell_type": "code",
   "execution_count": 171,
   "metadata": {
    "execution": {
     "iopub.execute_input": "2020-10-26T12:47:02.317036Z",
     "iopub.status.busy": "2020-10-26T12:47:02.316251Z",
     "iopub.status.idle": "2020-10-26T12:47:02.50135Z",
     "shell.execute_reply": "2020-10-26T12:47:02.501985Z"
    },
    "papermill": {
     "duration": 0.22352,
     "end_time": "2020-10-26T12:47:02.502166",
     "exception": false,
     "start_time": "2020-10-26T12:47:02.278646",
     "status": "completed"
    },
    "tags": []
   },
   "outputs": [
    {
     "name": "stdout",
     "output_type": "stream",
     "text": [
      "<class 'pandas.core.frame.DataFrame'>\n",
      "Int64Index: 74223 entries, 0 to 75440\n",
      "Data columns (total 39 columns):\n",
      " #   Column                 Non-Null Count  Dtype  \n",
      "---  ------                 --------------  -----  \n",
      " 0   bodyType               74221 non-null  object \n",
      " 1   brand                  74223 non-null  object \n",
      " 2   color                  74223 non-null  object \n",
      " 3   complectation_dict     74223 non-null  object \n",
      " 4   description            71209 non-null  object \n",
      " 5   engineDisplacement     74221 non-null  object \n",
      " 6   enginePower            74221 non-null  float64\n",
      " 7   equipment_dict         74223 non-null  object \n",
      " 8   fuelType               74223 non-null  object \n",
      " 9   image                  74223 non-null  object \n",
      " 10  mileage                74223 non-null  int64  \n",
      " 11  modelDate              74221 non-null  float64\n",
      " 12  model_info             74223 non-null  object \n",
      " 13  model_name             74223 non-null  object \n",
      " 14  name                   74221 non-null  object \n",
      " 15  numberOfDoors          74221 non-null  float64\n",
      " 16  priceCurrency          74011 non-null  object \n",
      " 17  productionDate         74223 non-null  int64  \n",
      " 18  sell_id                74223 non-null  int64  \n",
      " 19  super_gen              74221 non-null  object \n",
      " 20  vehicleConfiguration   74221 non-null  object \n",
      " 21  vehicleTransmission    74221 non-null  object \n",
      " 22  vendor                 74223 non-null  object \n",
      " 23  Владельцы              52370 non-null  float64\n",
      " 24  Владение               15586 non-null  object \n",
      " 25  ПТС                    73813 non-null  object \n",
      " 26  Привод                 74221 non-null  object \n",
      " 27  Руль                   74223 non-null  object \n",
      " 28  Состояние              74223 non-null  bool   \n",
      " 29  Таможня                74223 non-null  bool   \n",
      " 30  tax_by_year            73799 non-null  float64\n",
      " 31  transport_tax_rid      73799 non-null  float64\n",
      " 32  insurance_company      73941 non-null  object \n",
      " 33  osago_insurance_price  73941 non-null  float64\n",
      " 34  start_date             74223 non-null  object \n",
      " 35  auto_class             73890 non-null  object \n",
      " 36  price_RUR              74011 non-null  float64\n",
      " 37  price_EUR              74011 non-null  float64\n",
      " 38  price_USD              74011 non-null  float64\n",
      "dtypes: bool(2), float64(10), int64(3), object(24)\n",
      "memory usage: 21.7+ MB\n"
     ]
    }
   ],
   "source": [
    "train.info()"
   ]
  },
  {
   "cell_type": "code",
   "execution_count": 172,
   "metadata": {},
   "outputs": [
    {
     "data": {
      "text/plain": [
       "bodyType                     2\n",
       "brand                        0\n",
       "color                        0\n",
       "complectation_dict           0\n",
       "description               3014\n",
       "engineDisplacement           2\n",
       "enginePower                  2\n",
       "equipment_dict               0\n",
       "fuelType                     0\n",
       "image                        0\n",
       "mileage                      0\n",
       "modelDate                    2\n",
       "model_info                   0\n",
       "model_name                   0\n",
       "name                         2\n",
       "numberOfDoors                2\n",
       "priceCurrency              212\n",
       "productionDate               0\n",
       "sell_id                      0\n",
       "super_gen                    2\n",
       "vehicleConfiguration         2\n",
       "vehicleTransmission          2\n",
       "vendor                       0\n",
       "Владельцы                21853\n",
       "Владение                 58637\n",
       "ПТС                        410\n",
       "Привод                       2\n",
       "Руль                         0\n",
       "Состояние                    0\n",
       "Таможня                      0\n",
       "tax_by_year                424\n",
       "transport_tax_rid          424\n",
       "insurance_company          282\n",
       "osago_insurance_price      282\n",
       "start_date                   0\n",
       "auto_class                 333\n",
       "price_RUR                  212\n",
       "price_EUR                  212\n",
       "price_USD                  212\n",
       "dtype: int64"
      ]
     },
     "execution_count": 172,
     "metadata": {},
     "output_type": "execute_result"
    }
   ],
   "source": [
    "train.isna().sum()"
   ]
  },
  {
   "cell_type": "markdown",
   "metadata": {},
   "source": [
    "**train**       \n",
    "39 признаков      \n",
    "74223 записей        \n",
    "Числовой тип данных: mileage, productionDate, sell_idenginePower - 3 признака тип int;         \n",
    "                    enginePower, modelDate, numberOfDoors, Владельцы, tax_by_year, transport_tax_rid, osago_insurance_price, price_RUR, price_EUR, price_USD - 10 признаков тип float.         \n",
    "Булевых признаков 2: Состояние, Таможня.      \n",
    "Остальные 24 признака имеют тип object.          \n",
    "                              \n",
    "Много пропущенных значений у признака Владение, Владельцы. Имется по 2 пропущенных значения по многим признакам - можно предположить что это пара объявлений без информации.\n",
    "\n",
    "У целевого признака price_RUR также имеются пропущенные значения. Сразу удалим их и почистим строки, в которых много пропущенных значений."
   ]
  },
  {
   "cell_type": "code",
   "execution_count": 173,
   "metadata": {},
   "outputs": [],
   "source": [
    "train.dropna(subset=['price_RUR','bodyType','Привод'], inplace=True)"
   ]
  },
  {
   "cell_type": "code",
   "execution_count": 174,
   "metadata": {},
   "outputs": [],
   "source": [
    "# Удалим столбцы трейна, которых нет в test, кроме price_RUR\n",
    "columns_drop = ['tax_by_year', 'transport_tax_rid', 'osago_insurance_price',\n",
    "                'insurance_company', 'start_date', 'auto_class', 'price_EUR', 'price_USD']\n",
    "train.drop(columns_drop, axis=1, inplace=True)"
   ]
  },
  {
   "cell_type": "code",
   "execution_count": 175,
   "metadata": {},
   "outputs": [
    {
     "name": "stdout",
     "output_type": "stream",
     "text": [
      "Размерность тренировочного датасета:  (74009, 31)\n",
      "Размерность тестового датасета:  (34686, 32)\n"
     ]
    }
   ],
   "source": [
    "print('Размерность тренировочного датасета: ', train.shape)\n",
    "print('Размерность тестового датасета: ', test.shape)"
   ]
  },
  {
   "cell_type": "code",
   "execution_count": 176,
   "metadata": {
    "execution": {
     "iopub.execute_input": "2020-10-26T12:47:02.7822Z",
     "iopub.status.busy": "2020-10-26T12:47:02.781391Z",
     "iopub.status.idle": "2020-10-26T12:47:02.797734Z",
     "shell.execute_reply": "2020-10-26T12:47:02.798395Z"
    },
    "papermill": {
     "duration": 0.160401,
     "end_time": "2020-10-26T12:47:02.798587",
     "exception": false,
     "start_time": "2020-10-26T12:47:02.638186",
     "status": "completed"
    },
    "tags": []
   },
   "outputs": [
    {
     "name": "stdout",
     "output_type": "stream",
     "text": [
      "<class 'pandas.core.frame.DataFrame'>\n",
      "RangeIndex: 34686 entries, 0 to 34685\n",
      "Data columns (total 32 columns):\n",
      " #   Column                Non-Null Count  Dtype \n",
      "---  ------                --------------  ----- \n",
      " 0   bodyType              34686 non-null  object\n",
      " 1   brand                 34686 non-null  object\n",
      " 2   car_url               34686 non-null  object\n",
      " 3   color                 34686 non-null  object\n",
      " 4   complectation_dict    6418 non-null   object\n",
      " 5   description           34686 non-null  object\n",
      " 6   engineDisplacement    34686 non-null  object\n",
      " 7   enginePower           34686 non-null  object\n",
      " 8   equipment_dict        24690 non-null  object\n",
      " 9   fuelType              34686 non-null  object\n",
      " 10  image                 34686 non-null  object\n",
      " 11  mileage               34686 non-null  int64 \n",
      " 12  modelDate             34686 non-null  int64 \n",
      " 13  model_info            34686 non-null  object\n",
      " 14  model_name            34686 non-null  object\n",
      " 15  name                  34686 non-null  object\n",
      " 16  numberOfDoors         34686 non-null  int64 \n",
      " 17  parsing_unixtime      34686 non-null  int64 \n",
      " 18  priceCurrency         34686 non-null  object\n",
      " 19  productionDate        34686 non-null  int64 \n",
      " 20  sell_id               34686 non-null  int64 \n",
      " 21  super_gen             34686 non-null  object\n",
      " 22  vehicleConfiguration  34686 non-null  object\n",
      " 23  vehicleTransmission   34686 non-null  object\n",
      " 24  vendor                34686 non-null  object\n",
      " 25  Владельцы             34686 non-null  object\n",
      " 26  Владение              11995 non-null  object\n",
      " 27  ПТС                   34685 non-null  object\n",
      " 28  Привод                34686 non-null  object\n",
      " 29  Руль                  34686 non-null  object\n",
      " 30  Состояние             34686 non-null  object\n",
      " 31  Таможня               34686 non-null  object\n",
      "dtypes: int64(6), object(26)\n",
      "memory usage: 8.5+ MB\n"
     ]
    }
   ],
   "source": [
    "test.info()"
   ]
  },
  {
   "cell_type": "code",
   "execution_count": 177,
   "metadata": {},
   "outputs": [
    {
     "data": {
      "text/plain": [
       "bodyType                    0\n",
       "brand                       0\n",
       "car_url                     0\n",
       "color                       0\n",
       "complectation_dict      28268\n",
       "description                 0\n",
       "engineDisplacement          0\n",
       "enginePower                 0\n",
       "equipment_dict           9996\n",
       "fuelType                    0\n",
       "image                       0\n",
       "mileage                     0\n",
       "modelDate                   0\n",
       "model_info                  0\n",
       "model_name                  0\n",
       "name                        0\n",
       "numberOfDoors               0\n",
       "parsing_unixtime            0\n",
       "priceCurrency               0\n",
       "productionDate              0\n",
       "sell_id                     0\n",
       "super_gen                   0\n",
       "vehicleConfiguration        0\n",
       "vehicleTransmission         0\n",
       "vendor                      0\n",
       "Владельцы                   0\n",
       "Владение                22691\n",
       "ПТС                         1\n",
       "Привод                      0\n",
       "Руль                        0\n",
       "Состояние                   0\n",
       "Таможня                     0\n",
       "dtype: int64"
      ]
     },
     "execution_count": 177,
     "metadata": {},
     "output_type": "execute_result"
    }
   ],
   "source": [
    "test.isna().sum()"
   ]
  },
  {
   "cell_type": "markdown",
   "metadata": {},
   "source": [
    "**test**                  \n",
    "32 признака (не включая целевую переменную)                        \n",
    "34686 записей                     \n",
    "Числовой тип признаков: mileage, modelDate, numberOfDoors, parsing_unixtime, productionDate, sell_id - 6 признаков тип int.                          \n",
    "Остальные 26 признаков типа object.                            \n",
    "Три признака имеют почти 10000 - 28000 пропущенных значений (complectation_dict, equipment_dict, Владение).                "
   ]
  },
  {
   "cell_type": "markdown",
   "metadata": {},
   "source": [
    "# 3. Предобработка датасетов"
   ]
  },
  {
   "cell_type": "markdown",
   "metadata": {},
   "source": [
    "Предварительный просмотр данных train и test выявил следующее:          \n",
    "* валюта всех объявлений (priceCurrency) - рубли;                      \n",
    "* все автомобили не требуют ремонта (Состояние);\n",
    "* все растоможены(Таможня);       \n",
    "* в train нет признаков car_url и parsing_unixtime.        \n",
    "\n",
    "Бинарные признаки:\n",
    "* ПТС: у большинства оригинал (train - 67147 / 6452 / 410nan, test - 30098 / 4587 / 1nan)"
   ]
  },
  {
   "cell_type": "code",
   "execution_count": 178,
   "metadata": {},
   "outputs": [],
   "source": [
    "# Удалим признаки, в которых 1 значение - Состояние, Таможня и priceCurrency\n",
    "columns_drop = ['Состояние', 'Таможня', 'priceCurrency']\n",
    "train.drop(columns_drop, axis=1, inplace=True)\n",
    "test.drop(columns_drop, axis=1, inplace=True)"
   ]
  },
  {
   "cell_type": "code",
   "execution_count": 179,
   "metadata": {},
   "outputs": [],
   "source": [
    "# Удалим car_url и parsing_unixtime из test\n",
    "columns_drop = ['car_url', 'parsing_unixtime']\n",
    "test.drop(columns_drop, axis=1, inplace=True)"
   ]
  },
  {
   "cell_type": "code",
   "execution_count": 180,
   "metadata": {},
   "outputs": [],
   "source": [
    "#заменим пропущенные значение в ПТС на наиболее часто встречающеся\n",
    "test['ПТС'] = test['ПТС'].fillna('Оригинал')\n",
    "train['ПТС'] = train['ПТС'].fillna('ORIGINAL')"
   ]
  },
  {
   "cell_type": "code",
   "execution_count": 181,
   "metadata": {},
   "outputs": [],
   "source": [
    "# Числовые признаки приведем к единому формату \n",
    "train['modelDate'] = train['modelDate'].values.astype('int64')\n",
    "train['numberOfDoors'] = train['numberOfDoors'].values.astype('int64')"
   ]
  },
  {
   "cell_type": "code",
   "execution_count": 182,
   "metadata": {},
   "outputs": [],
   "source": [
    "test['enginePower'] = test['enginePower'].apply(lambda x: x.replace(' N12', ''))\n",
    "\n",
    "train['enginePower'] = train['enginePower'].values.astype('int64')\n",
    "test['enginePower'] = test['enginePower'].values.astype('int64')"
   ]
  },
  {
   "cell_type": "markdown",
   "metadata": {},
   "source": [
    "# 4. Анализ данных"
   ]
  },
  {
   "cell_type": "markdown",
   "metadata": {},
   "source": [
    "### 4.1. Целевая переменная price_RUR"
   ]
  },
  {
   "cell_type": "code",
   "execution_count": 183,
   "metadata": {},
   "outputs": [
    {
     "data": {
      "text/plain": [
       "count    7.400900e+04\n",
       "mean     1.856675e+06\n",
       "std      2.515073e+06\n",
       "min      2.000000e+04\n",
       "25%      5.000000e+05\n",
       "50%      1.050000e+06\n",
       "75%      2.061000e+06\n",
       "max      6.990000e+07\n",
       "Name: price_RUR, dtype: float64"
      ]
     },
     "execution_count": 183,
     "metadata": {},
     "output_type": "execute_result"
    }
   ],
   "source": [
    "train.price_RUR.describe()"
   ]
  },
  {
   "cell_type": "code",
   "execution_count": 184,
   "metadata": {},
   "outputs": [
    {
     "data": {
      "text/html": [
       "<div>\n",
       "<style scoped>\n",
       "    .dataframe tbody tr th:only-of-type {\n",
       "        vertical-align: middle;\n",
       "    }\n",
       "\n",
       "    .dataframe tbody tr th {\n",
       "        vertical-align: top;\n",
       "    }\n",
       "\n",
       "    .dataframe thead th {\n",
       "        text-align: right;\n",
       "    }\n",
       "</style>\n",
       "<table border=\"1\" class=\"dataframe\">\n",
       "  <thead>\n",
       "    <tr style=\"text-align: right;\">\n",
       "      <th></th>\n",
       "      <th>bodyType</th>\n",
       "      <th>brand</th>\n",
       "      <th>color</th>\n",
       "      <th>complectation_dict</th>\n",
       "      <th>description</th>\n",
       "      <th>engineDisplacement</th>\n",
       "      <th>enginePower</th>\n",
       "      <th>equipment_dict</th>\n",
       "      <th>fuelType</th>\n",
       "      <th>image</th>\n",
       "      <th>mileage</th>\n",
       "      <th>modelDate</th>\n",
       "      <th>model_info</th>\n",
       "      <th>model_name</th>\n",
       "      <th>name</th>\n",
       "      <th>numberOfDoors</th>\n",
       "      <th>productionDate</th>\n",
       "      <th>sell_id</th>\n",
       "      <th>super_gen</th>\n",
       "      <th>vehicleConfiguration</th>\n",
       "      <th>vehicleTransmission</th>\n",
       "      <th>vendor</th>\n",
       "      <th>Владельцы</th>\n",
       "      <th>Владение</th>\n",
       "      <th>ПТС</th>\n",
       "      <th>Привод</th>\n",
       "      <th>Руль</th>\n",
       "      <th>price_RUR</th>\n",
       "    </tr>\n",
       "  </thead>\n",
       "  <tbody>\n",
       "    <tr>\n",
       "      <th>31695</th>\n",
       "      <td>Хэтчбек 5 дв.</td>\n",
       "      <td>MAZDA</td>\n",
       "      <td>97948F</td>\n",
       "      <td>{'id': '0'}</td>\n",
       "      <td>Доброго времени суток. Предлагаю Вашему вниман...</td>\n",
       "      <td>2.0</td>\n",
       "      <td>115</td>\n",
       "      <td>{'tinted-glass': True, 'airbrush': True, 'keyl...</td>\n",
       "      <td>бензин</td>\n",
       "      <td>//avatars.mds.yandex.net/get-autoru-vos/216417...</td>\n",
       "      <td>300000</td>\n",
       "      <td>1991</td>\n",
       "      <td>{'code': '626', 'name': '626', 'ru_name': '626...</td>\n",
       "      <td>626</td>\n",
       "      <td>2.0 MT (115 л.с.)</td>\n",
       "      <td>5</td>\n",
       "      <td>1992</td>\n",
       "      <td>1102045581</td>\n",
       "      <td>{'id': '7950400', 'displacement': 1991, 'engin...</td>\n",
       "      <td>HATCHBACK_5_DOORS MECHANICAL 2.0</td>\n",
       "      <td>MECHANICAL</td>\n",
       "      <td>JAPANESE</td>\n",
       "      <td>3.0</td>\n",
       "      <td>NaN</td>\n",
       "      <td>ORIGINAL</td>\n",
       "      <td>передний</td>\n",
       "      <td>LEFT</td>\n",
       "      <td>20000.0</td>\n",
       "    </tr>\n",
       "  </tbody>\n",
       "</table>\n",
       "</div>"
      ],
      "text/plain": [
       "            bodyType  brand   color complectation_dict  \\\n",
       "31695  Хэтчбек 5 дв.  MAZDA  97948F        {'id': '0'}   \n",
       "\n",
       "                                             description engineDisplacement  \\\n",
       "31695  Доброго времени суток. Предлагаю Вашему вниман...                2.0   \n",
       "\n",
       "       enginePower                                     equipment_dict  \\\n",
       "31695          115  {'tinted-glass': True, 'airbrush': True, 'keyl...   \n",
       "\n",
       "      fuelType                                              image  mileage  \\\n",
       "31695   бензин  //avatars.mds.yandex.net/get-autoru-vos/216417...   300000   \n",
       "\n",
       "       modelDate                                         model_info  \\\n",
       "31695       1991  {'code': '626', 'name': '626', 'ru_name': '626...   \n",
       "\n",
       "      model_name               name  numberOfDoors  productionDate  \\\n",
       "31695        626  2.0 MT (115 л.с.)              5            1992   \n",
       "\n",
       "          sell_id                                          super_gen  \\\n",
       "31695  1102045581  {'id': '7950400', 'displacement': 1991, 'engin...   \n",
       "\n",
       "                   vehicleConfiguration vehicleTransmission    vendor  \\\n",
       "31695  HATCHBACK_5_DOORS MECHANICAL 2.0          MECHANICAL  JAPANESE   \n",
       "\n",
       "       Владельцы Владение       ПТС    Привод  Руль  price_RUR  \n",
       "31695        3.0      NaN  ORIGINAL  передний  LEFT    20000.0  "
      ]
     },
     "execution_count": 184,
     "metadata": {},
     "output_type": "execute_result"
    }
   ],
   "source": [
    "train[train.price_RUR <= 20000]"
   ]
  },
  {
   "cell_type": "code",
   "execution_count": 185,
   "metadata": {},
   "outputs": [
    {
     "data": {
      "text/html": [
       "<div>\n",
       "<style scoped>\n",
       "    .dataframe tbody tr th:only-of-type {\n",
       "        vertical-align: middle;\n",
       "    }\n",
       "\n",
       "    .dataframe tbody tr th {\n",
       "        vertical-align: top;\n",
       "    }\n",
       "\n",
       "    .dataframe thead th {\n",
       "        text-align: right;\n",
       "    }\n",
       "</style>\n",
       "<table border=\"1\" class=\"dataframe\">\n",
       "  <thead>\n",
       "    <tr style=\"text-align: right;\">\n",
       "      <th></th>\n",
       "      <th>bodyType</th>\n",
       "      <th>brand</th>\n",
       "      <th>color</th>\n",
       "      <th>complectation_dict</th>\n",
       "      <th>description</th>\n",
       "      <th>engineDisplacement</th>\n",
       "      <th>enginePower</th>\n",
       "      <th>equipment_dict</th>\n",
       "      <th>fuelType</th>\n",
       "      <th>image</th>\n",
       "      <th>mileage</th>\n",
       "      <th>modelDate</th>\n",
       "      <th>model_info</th>\n",
       "      <th>model_name</th>\n",
       "      <th>name</th>\n",
       "      <th>numberOfDoors</th>\n",
       "      <th>productionDate</th>\n",
       "      <th>sell_id</th>\n",
       "      <th>super_gen</th>\n",
       "      <th>vehicleConfiguration</th>\n",
       "      <th>vehicleTransmission</th>\n",
       "      <th>vendor</th>\n",
       "      <th>Владельцы</th>\n",
       "      <th>Владение</th>\n",
       "      <th>ПТС</th>\n",
       "      <th>Привод</th>\n",
       "      <th>Руль</th>\n",
       "      <th>price_RUR</th>\n",
       "    </tr>\n",
       "  </thead>\n",
       "  <tbody>\n",
       "    <tr>\n",
       "      <th>44551</th>\n",
       "      <td>Кабриолет</td>\n",
       "      <td>PORSCHE</td>\n",
       "      <td>97948F</td>\n",
       "      <td>{'id': '0'}</td>\n",
       "      <td>Porsche 356 Speedster 1956 года. \\nОдин из 300...</td>\n",
       "      <td>1.6</td>\n",
       "      <td>105</td>\n",
       "      <td>{'12v-socket': True, 'drl': True}</td>\n",
       "      <td>бензин</td>\n",
       "      <td>//avatars.mds.yandex.net/get-autoru-vos/199857...</td>\n",
       "      <td>1</td>\n",
       "      <td>1955</td>\n",
       "      <td>{'code': '356', 'name': '356', 'ru_name': '356...</td>\n",
       "      <td>356</td>\n",
       "      <td>1.6 MT (105 л.с.)</td>\n",
       "      <td>2</td>\n",
       "      <td>1956</td>\n",
       "      <td>1101189676</td>\n",
       "      <td>{'id': '20663277', 'displacement': 1587, 'engi...</td>\n",
       "      <td>CABRIO MECHANICAL 1.6</td>\n",
       "      <td>MECHANICAL</td>\n",
       "      <td>EUROPEAN</td>\n",
       "      <td>1.0</td>\n",
       "      <td>{'year': 1956, 'month': 4}</td>\n",
       "      <td>ORIGINAL</td>\n",
       "      <td>задний</td>\n",
       "      <td>LEFT</td>\n",
       "      <td>59604352.0</td>\n",
       "    </tr>\n",
       "    <tr>\n",
       "      <th>67219</th>\n",
       "      <td>Пикап Двойная кабина</td>\n",
       "      <td>MERCEDES</td>\n",
       "      <td>040001</td>\n",
       "      <td>{'id': '20067541', 'name': 'G63 AMG 6x6', 'ava...</td>\n",
       "      <td>NaN</td>\n",
       "      <td>63</td>\n",
       "      <td>544</td>\n",
       "      <td>{'asr': True, 'tinted-glass': True, 'roller-bl...</td>\n",
       "      <td>бензин</td>\n",
       "      <td>//avatars.mds.yandex.net/get-autoru-vos/172067...</td>\n",
       "      <td>7000</td>\n",
       "      <td>2013</td>\n",
       "      <td>{'code': 'G_KLASSE_AMG_6X6', 'name': 'G-Класс ...</td>\n",
       "      <td>G_KLASSE_AMG_6X6</td>\n",
       "      <td>63 AMG 5.5 AT (544 л.с.) 4WD</td>\n",
       "      <td>4</td>\n",
       "      <td>2014</td>\n",
       "      <td>1101930525</td>\n",
       "      <td>{'id': '9332420', 'name': '63 AMG', 'nameplate...</td>\n",
       "      <td>PICKUP_TWO AUTOMATIC 63</td>\n",
       "      <td>AUTOMATIC</td>\n",
       "      <td>EUROPEAN</td>\n",
       "      <td>1.0</td>\n",
       "      <td>NaN</td>\n",
       "      <td>ORIGINAL</td>\n",
       "      <td>полный</td>\n",
       "      <td>LEFT</td>\n",
       "      <td>69900000.0</td>\n",
       "    </tr>\n",
       "    <tr>\n",
       "      <th>72031</th>\n",
       "      <td>Седан</td>\n",
       "      <td>MERCEDES</td>\n",
       "      <td>040001</td>\n",
       "      <td>{'id': '21193010', 'name': 'S 650', 'available...</td>\n",
       "      <td>Гарантия сохранения цены.\\n\\nФинал продаж 2020...</td>\n",
       "      <td>650</td>\n",
       "      <td>630</td>\n",
       "      <td>{'228': True, '401': True, '443': True, '531':...</td>\n",
       "      <td>бензин</td>\n",
       "      <td>//avatars.mds.yandex.net/get-autoru-vos/392251...</td>\n",
       "      <td>0</td>\n",
       "      <td>2017</td>\n",
       "      <td>{'code': 'S_CLASS_MAYBACH', 'name': 'Maybach S...</td>\n",
       "      <td>S_CLASS_MAYBACH</td>\n",
       "      <td>650 6.0 AT (630 л.с.)</td>\n",
       "      <td>4</td>\n",
       "      <td>2018</td>\n",
       "      <td>1102088455</td>\n",
       "      <td>{'id': '21192981', 'name': '650', 'nameplate':...</td>\n",
       "      <td>SEDAN AUTOMATIC 650</td>\n",
       "      <td>AUTOMATIC</td>\n",
       "      <td>EUROPEAN</td>\n",
       "      <td>NaN</td>\n",
       "      <td>NaN</td>\n",
       "      <td>ORIGINAL</td>\n",
       "      <td>задний</td>\n",
       "      <td>LEFT</td>\n",
       "      <td>58387500.0</td>\n",
       "    </tr>\n",
       "    <tr>\n",
       "      <th>72036</th>\n",
       "      <td>Седан</td>\n",
       "      <td>MERCEDES</td>\n",
       "      <td>040001</td>\n",
       "      <td>{'id': '21193010', 'name': 'S 650', 'available...</td>\n",
       "      <td>Гарантия сохранения цены.\\n\\nФинал продаж 2020...</td>\n",
       "      <td>650</td>\n",
       "      <td>630</td>\n",
       "      <td>{'228': True, '401': True, '443': True, '531':...</td>\n",
       "      <td>бензин</td>\n",
       "      <td>//avatars.mds.yandex.net/get-autoru-vos/429713...</td>\n",
       "      <td>0</td>\n",
       "      <td>2017</td>\n",
       "      <td>{'code': 'S_CLASS_MAYBACH', 'name': 'Maybach S...</td>\n",
       "      <td>S_CLASS_MAYBACH</td>\n",
       "      <td>650 6.0 AT (630 л.с.)</td>\n",
       "      <td>4</td>\n",
       "      <td>2018</td>\n",
       "      <td>1102088453</td>\n",
       "      <td>{'id': '21192981', 'name': '650', 'nameplate':...</td>\n",
       "      <td>SEDAN AUTOMATIC 650</td>\n",
       "      <td>AUTOMATIC</td>\n",
       "      <td>EUROPEAN</td>\n",
       "      <td>NaN</td>\n",
       "      <td>NaN</td>\n",
       "      <td>ORIGINAL</td>\n",
       "      <td>задний</td>\n",
       "      <td>LEFT</td>\n",
       "      <td>58387500.0</td>\n",
       "    </tr>\n",
       "    <tr>\n",
       "      <th>72037</th>\n",
       "      <td>Седан</td>\n",
       "      <td>MERCEDES</td>\n",
       "      <td>040001</td>\n",
       "      <td>{'id': '21193010', 'name': 'S 650', 'available...</td>\n",
       "      <td>Гарантия сохранения цены.\\n\\nФинал продаж 2020...</td>\n",
       "      <td>650</td>\n",
       "      <td>630</td>\n",
       "      <td>{'228': True, '401': True, '443': True, '531':...</td>\n",
       "      <td>бензин</td>\n",
       "      <td>//avatars.mds.yandex.net/get-autoru-vos/196497...</td>\n",
       "      <td>0</td>\n",
       "      <td>2017</td>\n",
       "      <td>{'code': 'S_CLASS_MAYBACH', 'name': 'Maybach S...</td>\n",
       "      <td>S_CLASS_MAYBACH</td>\n",
       "      <td>650 6.0 AT (630 л.с.)</td>\n",
       "      <td>4</td>\n",
       "      <td>2018</td>\n",
       "      <td>1102088568</td>\n",
       "      <td>{'id': '21192981', 'name': '650', 'nameplate':...</td>\n",
       "      <td>SEDAN AUTOMATIC 650</td>\n",
       "      <td>AUTOMATIC</td>\n",
       "      <td>EUROPEAN</td>\n",
       "      <td>NaN</td>\n",
       "      <td>NaN</td>\n",
       "      <td>ORIGINAL</td>\n",
       "      <td>задний</td>\n",
       "      <td>LEFT</td>\n",
       "      <td>58387500.0</td>\n",
       "    </tr>\n",
       "    <tr>\n",
       "      <th>72039</th>\n",
       "      <td>Седан</td>\n",
       "      <td>MERCEDES</td>\n",
       "      <td>040001</td>\n",
       "      <td>{'id': '21193010', 'name': 'S 650', 'available...</td>\n",
       "      <td>Гарантия сохранения цены.\\n\\nФинал продаж 2020...</td>\n",
       "      <td>650</td>\n",
       "      <td>630</td>\n",
       "      <td>{'228': True, '401': True, '443': True, '531':...</td>\n",
       "      <td>бензин</td>\n",
       "      <td>//avatars.mds.yandex.net/get-autoru-vos/195978...</td>\n",
       "      <td>0</td>\n",
       "      <td>2017</td>\n",
       "      <td>{'code': 'S_CLASS_MAYBACH', 'name': 'Maybach S...</td>\n",
       "      <td>S_CLASS_MAYBACH</td>\n",
       "      <td>650 6.0 AT (630 л.с.)</td>\n",
       "      <td>4</td>\n",
       "      <td>2018</td>\n",
       "      <td>1102088565</td>\n",
       "      <td>{'id': '21192981', 'name': '650', 'nameplate':...</td>\n",
       "      <td>SEDAN AUTOMATIC 650</td>\n",
       "      <td>AUTOMATIC</td>\n",
       "      <td>EUROPEAN</td>\n",
       "      <td>NaN</td>\n",
       "      <td>NaN</td>\n",
       "      <td>ORIGINAL</td>\n",
       "      <td>задний</td>\n",
       "      <td>LEFT</td>\n",
       "      <td>58387500.0</td>\n",
       "    </tr>\n",
       "    <tr>\n",
       "      <th>72044</th>\n",
       "      <td>Седан</td>\n",
       "      <td>MERCEDES</td>\n",
       "      <td>040001</td>\n",
       "      <td>{'id': '21193010', 'name': 'S 650', 'available...</td>\n",
       "      <td>Гарантия сохранения цены.\\n\\nФинал продаж 2020...</td>\n",
       "      <td>650</td>\n",
       "      <td>630</td>\n",
       "      <td>{'228': True, '401': True, '443': True, '531':...</td>\n",
       "      <td>бензин</td>\n",
       "      <td>//avatars.mds.yandex.net/get-autoru-vos/414577...</td>\n",
       "      <td>0</td>\n",
       "      <td>2017</td>\n",
       "      <td>{'code': 'S_CLASS_MAYBACH', 'name': 'Maybach S...</td>\n",
       "      <td>S_CLASS_MAYBACH</td>\n",
       "      <td>650 6.0 AT (630 л.с.)</td>\n",
       "      <td>4</td>\n",
       "      <td>2018</td>\n",
       "      <td>1101820797</td>\n",
       "      <td>{'id': '21192981', 'name': '650', 'nameplate':...</td>\n",
       "      <td>SEDAN AUTOMATIC 650</td>\n",
       "      <td>AUTOMATIC</td>\n",
       "      <td>EUROPEAN</td>\n",
       "      <td>NaN</td>\n",
       "      <td>NaN</td>\n",
       "      <td>ORIGINAL</td>\n",
       "      <td>задний</td>\n",
       "      <td>LEFT</td>\n",
       "      <td>58423400.0</td>\n",
       "    </tr>\n",
       "    <tr>\n",
       "      <th>72045</th>\n",
       "      <td>Седан</td>\n",
       "      <td>MERCEDES</td>\n",
       "      <td>CACECB</td>\n",
       "      <td>{'id': '21193010', 'name': 'S 650', 'available...</td>\n",
       "      <td>Гарантия сохранения цены.\\n\\nФинал продаж 2020...</td>\n",
       "      <td>650</td>\n",
       "      <td>630</td>\n",
       "      <td>{'228': True, '301': True, '401': True, '531':...</td>\n",
       "      <td>бензин</td>\n",
       "      <td>//avatars.mds.yandex.net/get-autoru-vos/204962...</td>\n",
       "      <td>0</td>\n",
       "      <td>2017</td>\n",
       "      <td>{'code': 'S_CLASS_MAYBACH', 'name': 'Maybach S...</td>\n",
       "      <td>S_CLASS_MAYBACH</td>\n",
       "      <td>650 6.0 AT (630 л.с.)</td>\n",
       "      <td>4</td>\n",
       "      <td>2018</td>\n",
       "      <td>1095966002</td>\n",
       "      <td>{'id': '21192981', 'name': '650', 'nameplate':...</td>\n",
       "      <td>SEDAN AUTOMATIC 650</td>\n",
       "      <td>AUTOMATIC</td>\n",
       "      <td>EUROPEAN</td>\n",
       "      <td>NaN</td>\n",
       "      <td>NaN</td>\n",
       "      <td>ORIGINAL</td>\n",
       "      <td>задний</td>\n",
       "      <td>LEFT</td>\n",
       "      <td>58043592.0</td>\n",
       "    </tr>\n",
       "    <tr>\n",
       "      <th>72048</th>\n",
       "      <td>Седан</td>\n",
       "      <td>MERCEDES</td>\n",
       "      <td>040001</td>\n",
       "      <td>{'id': '21193010', 'name': 'S 650', 'available...</td>\n",
       "      <td>Гарантия сохранения цены.\\n\\nФинал продаж 2020...</td>\n",
       "      <td>650</td>\n",
       "      <td>630</td>\n",
       "      <td>{'228': True, '401': True, '443': True, '531':...</td>\n",
       "      <td>бензин</td>\n",
       "      <td>//avatars.mds.yandex.net/get-autoru-vos/158389...</td>\n",
       "      <td>0</td>\n",
       "      <td>2017</td>\n",
       "      <td>{'code': 'S_CLASS_MAYBACH', 'name': 'Maybach S...</td>\n",
       "      <td>S_CLASS_MAYBACH</td>\n",
       "      <td>650 6.0 AT (630 л.с.)</td>\n",
       "      <td>4</td>\n",
       "      <td>2018</td>\n",
       "      <td>1101820971</td>\n",
       "      <td>{'id': '21192981', 'name': '650', 'nameplate':...</td>\n",
       "      <td>SEDAN AUTOMATIC 650</td>\n",
       "      <td>AUTOMATIC</td>\n",
       "      <td>EUROPEAN</td>\n",
       "      <td>NaN</td>\n",
       "      <td>NaN</td>\n",
       "      <td>ORIGINAL</td>\n",
       "      <td>задний</td>\n",
       "      <td>LEFT</td>\n",
       "      <td>58423400.0</td>\n",
       "    </tr>\n",
       "    <tr>\n",
       "      <th>72055</th>\n",
       "      <td>Седан</td>\n",
       "      <td>MERCEDES</td>\n",
       "      <td>CACECB</td>\n",
       "      <td>{'id': '21193010', 'name': 'S 650', 'available...</td>\n",
       "      <td>Гарантия сохранения цены.\\n\\nФинал продаж 2020...</td>\n",
       "      <td>650</td>\n",
       "      <td>630</td>\n",
       "      <td>{'228': True, '301': True, '401': True, '531':...</td>\n",
       "      <td>бензин</td>\n",
       "      <td>//avatars.mds.yandex.net/get-autoru-vos/196012...</td>\n",
       "      <td>0</td>\n",
       "      <td>2017</td>\n",
       "      <td>{'code': 'S_CLASS_MAYBACH', 'name': 'Maybach S...</td>\n",
       "      <td>S_CLASS_MAYBACH</td>\n",
       "      <td>650 6.0 AT (630 л.с.)</td>\n",
       "      <td>4</td>\n",
       "      <td>2018</td>\n",
       "      <td>1095965606</td>\n",
       "      <td>{'id': '21192981', 'name': '650', 'nameplate':...</td>\n",
       "      <td>SEDAN AUTOMATIC 650</td>\n",
       "      <td>AUTOMATIC</td>\n",
       "      <td>EUROPEAN</td>\n",
       "      <td>NaN</td>\n",
       "      <td>NaN</td>\n",
       "      <td>ORIGINAL</td>\n",
       "      <td>задний</td>\n",
       "      <td>LEFT</td>\n",
       "      <td>58043592.0</td>\n",
       "    </tr>\n",
       "  </tbody>\n",
       "</table>\n",
       "</div>"
      ],
      "text/plain": [
       "                   bodyType     brand   color  \\\n",
       "44551             Кабриолет   PORSCHE  97948F   \n",
       "67219  Пикап Двойная кабина  MERCEDES  040001   \n",
       "72031                 Седан  MERCEDES  040001   \n",
       "72036                 Седан  MERCEDES  040001   \n",
       "72037                 Седан  MERCEDES  040001   \n",
       "72039                 Седан  MERCEDES  040001   \n",
       "72044                 Седан  MERCEDES  040001   \n",
       "72045                 Седан  MERCEDES  CACECB   \n",
       "72048                 Седан  MERCEDES  040001   \n",
       "72055                 Седан  MERCEDES  CACECB   \n",
       "\n",
       "                                      complectation_dict  \\\n",
       "44551                                        {'id': '0'}   \n",
       "67219  {'id': '20067541', 'name': 'G63 AMG 6x6', 'ava...   \n",
       "72031  {'id': '21193010', 'name': 'S 650', 'available...   \n",
       "72036  {'id': '21193010', 'name': 'S 650', 'available...   \n",
       "72037  {'id': '21193010', 'name': 'S 650', 'available...   \n",
       "72039  {'id': '21193010', 'name': 'S 650', 'available...   \n",
       "72044  {'id': '21193010', 'name': 'S 650', 'available...   \n",
       "72045  {'id': '21193010', 'name': 'S 650', 'available...   \n",
       "72048  {'id': '21193010', 'name': 'S 650', 'available...   \n",
       "72055  {'id': '21193010', 'name': 'S 650', 'available...   \n",
       "\n",
       "                                             description engineDisplacement  \\\n",
       "44551  Porsche 356 Speedster 1956 года. \\nОдин из 300...                1.6   \n",
       "67219                                                NaN                 63   \n",
       "72031  Гарантия сохранения цены.\\n\\nФинал продаж 2020...                650   \n",
       "72036  Гарантия сохранения цены.\\n\\nФинал продаж 2020...                650   \n",
       "72037  Гарантия сохранения цены.\\n\\nФинал продаж 2020...                650   \n",
       "72039  Гарантия сохранения цены.\\n\\nФинал продаж 2020...                650   \n",
       "72044  Гарантия сохранения цены.\\n\\nФинал продаж 2020...                650   \n",
       "72045  Гарантия сохранения цены.\\n\\nФинал продаж 2020...                650   \n",
       "72048  Гарантия сохранения цены.\\n\\nФинал продаж 2020...                650   \n",
       "72055  Гарантия сохранения цены.\\n\\nФинал продаж 2020...                650   \n",
       "\n",
       "       enginePower                                     equipment_dict  \\\n",
       "44551          105                  {'12v-socket': True, 'drl': True}   \n",
       "67219          544  {'asr': True, 'tinted-glass': True, 'roller-bl...   \n",
       "72031          630  {'228': True, '401': True, '443': True, '531':...   \n",
       "72036          630  {'228': True, '401': True, '443': True, '531':...   \n",
       "72037          630  {'228': True, '401': True, '443': True, '531':...   \n",
       "72039          630  {'228': True, '401': True, '443': True, '531':...   \n",
       "72044          630  {'228': True, '401': True, '443': True, '531':...   \n",
       "72045          630  {'228': True, '301': True, '401': True, '531':...   \n",
       "72048          630  {'228': True, '401': True, '443': True, '531':...   \n",
       "72055          630  {'228': True, '301': True, '401': True, '531':...   \n",
       "\n",
       "      fuelType                                              image  mileage  \\\n",
       "44551   бензин  //avatars.mds.yandex.net/get-autoru-vos/199857...        1   \n",
       "67219   бензин  //avatars.mds.yandex.net/get-autoru-vos/172067...     7000   \n",
       "72031   бензин  //avatars.mds.yandex.net/get-autoru-vos/392251...        0   \n",
       "72036   бензин  //avatars.mds.yandex.net/get-autoru-vos/429713...        0   \n",
       "72037   бензин  //avatars.mds.yandex.net/get-autoru-vos/196497...        0   \n",
       "72039   бензин  //avatars.mds.yandex.net/get-autoru-vos/195978...        0   \n",
       "72044   бензин  //avatars.mds.yandex.net/get-autoru-vos/414577...        0   \n",
       "72045   бензин  //avatars.mds.yandex.net/get-autoru-vos/204962...        0   \n",
       "72048   бензин  //avatars.mds.yandex.net/get-autoru-vos/158389...        0   \n",
       "72055   бензин  //avatars.mds.yandex.net/get-autoru-vos/196012...        0   \n",
       "\n",
       "       modelDate                                         model_info  \\\n",
       "44551       1955  {'code': '356', 'name': '356', 'ru_name': '356...   \n",
       "67219       2013  {'code': 'G_KLASSE_AMG_6X6', 'name': 'G-Класс ...   \n",
       "72031       2017  {'code': 'S_CLASS_MAYBACH', 'name': 'Maybach S...   \n",
       "72036       2017  {'code': 'S_CLASS_MAYBACH', 'name': 'Maybach S...   \n",
       "72037       2017  {'code': 'S_CLASS_MAYBACH', 'name': 'Maybach S...   \n",
       "72039       2017  {'code': 'S_CLASS_MAYBACH', 'name': 'Maybach S...   \n",
       "72044       2017  {'code': 'S_CLASS_MAYBACH', 'name': 'Maybach S...   \n",
       "72045       2017  {'code': 'S_CLASS_MAYBACH', 'name': 'Maybach S...   \n",
       "72048       2017  {'code': 'S_CLASS_MAYBACH', 'name': 'Maybach S...   \n",
       "72055       2017  {'code': 'S_CLASS_MAYBACH', 'name': 'Maybach S...   \n",
       "\n",
       "             model_name                          name  numberOfDoors  \\\n",
       "44551               356             1.6 MT (105 л.с.)              2   \n",
       "67219  G_KLASSE_AMG_6X6  63 AMG 5.5 AT (544 л.с.) 4WD              4   \n",
       "72031   S_CLASS_MAYBACH         650 6.0 AT (630 л.с.)              4   \n",
       "72036   S_CLASS_MAYBACH         650 6.0 AT (630 л.с.)              4   \n",
       "72037   S_CLASS_MAYBACH         650 6.0 AT (630 л.с.)              4   \n",
       "72039   S_CLASS_MAYBACH         650 6.0 AT (630 л.с.)              4   \n",
       "72044   S_CLASS_MAYBACH         650 6.0 AT (630 л.с.)              4   \n",
       "72045   S_CLASS_MAYBACH         650 6.0 AT (630 л.с.)              4   \n",
       "72048   S_CLASS_MAYBACH         650 6.0 AT (630 л.с.)              4   \n",
       "72055   S_CLASS_MAYBACH         650 6.0 AT (630 л.с.)              4   \n",
       "\n",
       "       productionDate     sell_id  \\\n",
       "44551            1956  1101189676   \n",
       "67219            2014  1101930525   \n",
       "72031            2018  1102088455   \n",
       "72036            2018  1102088453   \n",
       "72037            2018  1102088568   \n",
       "72039            2018  1102088565   \n",
       "72044            2018  1101820797   \n",
       "72045            2018  1095966002   \n",
       "72048            2018  1101820971   \n",
       "72055            2018  1095965606   \n",
       "\n",
       "                                               super_gen  \\\n",
       "44551  {'id': '20663277', 'displacement': 1587, 'engi...   \n",
       "67219  {'id': '9332420', 'name': '63 AMG', 'nameplate...   \n",
       "72031  {'id': '21192981', 'name': '650', 'nameplate':...   \n",
       "72036  {'id': '21192981', 'name': '650', 'nameplate':...   \n",
       "72037  {'id': '21192981', 'name': '650', 'nameplate':...   \n",
       "72039  {'id': '21192981', 'name': '650', 'nameplate':...   \n",
       "72044  {'id': '21192981', 'name': '650', 'nameplate':...   \n",
       "72045  {'id': '21192981', 'name': '650', 'nameplate':...   \n",
       "72048  {'id': '21192981', 'name': '650', 'nameplate':...   \n",
       "72055  {'id': '21192981', 'name': '650', 'nameplate':...   \n",
       "\n",
       "          vehicleConfiguration vehicleTransmission    vendor  Владельцы  \\\n",
       "44551    CABRIO MECHANICAL 1.6          MECHANICAL  EUROPEAN        1.0   \n",
       "67219  PICKUP_TWO AUTOMATIC 63           AUTOMATIC  EUROPEAN        1.0   \n",
       "72031      SEDAN AUTOMATIC 650           AUTOMATIC  EUROPEAN        NaN   \n",
       "72036      SEDAN AUTOMATIC 650           AUTOMATIC  EUROPEAN        NaN   \n",
       "72037      SEDAN AUTOMATIC 650           AUTOMATIC  EUROPEAN        NaN   \n",
       "72039      SEDAN AUTOMATIC 650           AUTOMATIC  EUROPEAN        NaN   \n",
       "72044      SEDAN AUTOMATIC 650           AUTOMATIC  EUROPEAN        NaN   \n",
       "72045      SEDAN AUTOMATIC 650           AUTOMATIC  EUROPEAN        NaN   \n",
       "72048      SEDAN AUTOMATIC 650           AUTOMATIC  EUROPEAN        NaN   \n",
       "72055      SEDAN AUTOMATIC 650           AUTOMATIC  EUROPEAN        NaN   \n",
       "\n",
       "                         Владение       ПТС  Привод  Руль   price_RUR  \n",
       "44551  {'year': 1956, 'month': 4}  ORIGINAL  задний  LEFT  59604352.0  \n",
       "67219                         NaN  ORIGINAL  полный  LEFT  69900000.0  \n",
       "72031                         NaN  ORIGINAL  задний  LEFT  58387500.0  \n",
       "72036                         NaN  ORIGINAL  задний  LEFT  58387500.0  \n",
       "72037                         NaN  ORIGINAL  задний  LEFT  58387500.0  \n",
       "72039                         NaN  ORIGINAL  задний  LEFT  58387500.0  \n",
       "72044                         NaN  ORIGINAL  задний  LEFT  58423400.0  \n",
       "72045                         NaN  ORIGINAL  задний  LEFT  58043592.0  \n",
       "72048                         NaN  ORIGINAL  задний  LEFT  58423400.0  \n",
       "72055                         NaN  ORIGINAL  задний  LEFT  58043592.0  "
      ]
     },
     "execution_count": 185,
     "metadata": {},
     "output_type": "execute_result"
    }
   ],
   "source": [
    "train[train.price_RUR > 55000000]"
   ]
  },
  {
   "cell_type": "markdown",
   "metadata": {},
   "source": [
    "Ценовой диапазон ограничивать не будем."
   ]
  },
  {
   "cell_type": "code",
   "execution_count": 186,
   "metadata": {},
   "outputs": [
    {
     "data": {
      "text/plain": [
       "<AxesSubplot:>"
      ]
     },
     "execution_count": 186,
     "metadata": {},
     "output_type": "execute_result"
    },
    {
     "data": {
      "image/png": "[encoded data removed]",
      "text/plain": [
       "<Figure size 432x288 with 1 Axes>"
      ]
     },
     "metadata": {
      "needs_background": "light"
     },
     "output_type": "display_data"
    }
   ],
   "source": [
    "train['price_RUR'].hist(bins=77)"
   ]
  },
  {
   "cell_type": "code",
   "execution_count": 187,
   "metadata": {},
   "outputs": [
    {
     "data": {
      "text/plain": [
       "<AxesSubplot:>"
      ]
     },
     "execution_count": 187,
     "metadata": {},
     "output_type": "execute_result"
    },
    {
     "data": {
      "image/png": "[encoded data removed]",
      "text/plain": [
       "<Figure size 432x288 with 1 Axes>"
      ]
     },
     "metadata": {
      "needs_background": "light"
     },
     "output_type": "display_data"
    }
   ],
   "source": [
    "train['log_price'] = np.log(train.price_RUR)\n",
    "train['log_price'].hist(bins=77)"
   ]
  },
  {
   "cell_type": "markdown",
   "metadata": {},
   "source": [
    "Логарифмирование привело к нормальному распределению.        "
   ]
  },
  {
   "cell_type": "markdown",
   "metadata": {},
   "source": [
    "### 4.2. sell_id"
   ]
  },
  {
   "cell_type": "code",
   "execution_count": 188,
   "metadata": {},
   "outputs": [
    {
     "data": {
      "text/plain": [
       "34686"
      ]
     },
     "execution_count": 188,
     "metadata": {},
     "output_type": "execute_result"
    }
   ],
   "source": [
    "test.sell_id.nunique()"
   ]
  },
  {
   "cell_type": "code",
   "execution_count": 189,
   "metadata": {},
   "outputs": [
    {
     "data": {
      "text/plain": [
       "74009"
      ]
     },
     "execution_count": 189,
     "metadata": {},
     "output_type": "execute_result"
    }
   ],
   "source": [
    "train.sell_id.nunique()"
   ]
  },
  {
   "cell_type": "markdown",
   "metadata": {},
   "source": [
    "Все данные уникальны.\n",
    "Это столбец для генерации файла submition. Не трогаем."
   ]
  },
  {
   "cell_type": "markdown",
   "metadata": {},
   "source": [
    "Рассмотрим внимательнее признаки, которые, возможно, содержат информацию, которую нужно разделить на несколько признаков."
   ]
  },
  {
   "cell_type": "markdown",
   "metadata": {},
   "source": [
    "### 4.3. complectation_dict"
   ]
  },
  {
   "cell_type": "code",
   "execution_count": 190,
   "metadata": {},
   "outputs": [
    {
     "name": "stdout",
     "output_type": "stream",
     "text": [
      "Признак содержит 0 пропущенных значений в трейне и 28268 в тесте\n"
     ]
    }
   ],
   "source": [
    "print(f'Признак содержит {train.complectation_dict.isna().sum()} пропущенных значений в трейне и {test.complectation_dict.isna().sum()} в тесте')"
   ]
  },
  {
   "cell_type": "code",
   "execution_count": 191,
   "metadata": {},
   "outputs": [
    {
     "data": {
      "text/plain": [
       "{'id': '0'}                                                                                                                                                                                                                                                                                                                                                                                                                                                                                                                                                                                                                                                                                                                                                                                                                                                                                                                                                                                                                                                                                                                                                                                                                                                                                                                                                                                                                                                                                                                                                                                                                                                                                                                                                                                                                                                                                                                                                                                                                                                                                                                                                                                                                                                                                                                                                                                                                                                                                                                                                                                                                              41850\n",
       "{'id': '21402161', 'name': 'Stepway Life', 'available_options': ['cruise-control', 'multi-wheel', 'airbag-passenger', 'roof-rails', 'lock', 'door-sill-panel', 'electro-mirrors', 'mirrors-heat', 'glonass', 'computer', 'seat-transformation', 'wheel-power', 'fabric-seats', 'steel-wheels', 'abs', 'usb', 'audiopreparation', 'drl', 'body-mouldings', 'driver-seat-updown', 'condition', 'airbag-driver', 'isofix', 'aux', 'electro-window-front', 'ptf', 'front-seats-heat', 'bluetooth', 'wheel-configuration1', 'immo', 'third-rear-headrest'], 'vendor_colors': [{'body_color_id': 21469652, 'mark_color_id': 21390735, 'name_ru': 'Лазурно-синий', 'hex_codes': ['4A9FC8'], 'color_type': 'METALLIC', 'stock_color': {'hex_code': '0000CC', 'name_ru': 'синий'}, 'photos': [{'name': '34-front', 'sizes': {'orig': '//avatars.mds.yandex.net/get-verba/787013/2a0000016934c6650ee6ec3c6338a6140318/orig', 'wizardv3mr': '//avatars.mds.yandex.net/get-verba/787013/2a0000016934c6650ee6ec3c6338a6140318/wizardv3mr', 'wizardv3': '//avatars.mds.yandex.net/get-verba/787013/2a0000016934c6650ee6ec3c6338a6140318/wizardv3', 'cattouch': '//avatars.mds.yandex.net/get-verba/787013/2a0000016934c6650ee6ec3c6338a6140318/cattouch', 'small': '//avatars.mds.yandex.net/get-verba/787013/2a0000016934c6650ee6ec3c6338a6140318/small', '320x240': '//avatars.mds.yandex.net/get-verba/787013/2a0000016934c6650ee6ec3c6338a6140318/320x240', '1200x900': '//avatars.mds.yandex.net/get-verba/787013/2a0000016934c6650ee6ec3c6338a6140318/1200x900', '1200x900n': '//avatars.mds.yandex.net/get-verba/787013/2a0000016934c6650ee6ec3c6338a6140318/1200x900n', 'thumb_m': '//avatars.mds.yandex.net/get-verba/787013/2a0000016934c6650ee6ec3c6338a6140318/thumb_m', 'full': '//avatars.mds.yandex.net/get-verba/787013/2a0000016934c6650ee6ec3c6338a6140318/full', '832x624': '//avatars.mds.yandex.net/get-verba/787013/2a0000016934c6650ee6ec3c6338a6140318/832x624', '456x342': '//avatars.mds.yandex.net/get-verba/787013/2a0000016934c6650ee6ec3c6338a6140318/456x342', '120x90': '//avatars.mds.yandex.net/get-verba/787013/2a0000016934c6650ee6ec3c6338a6140318/120x90', '92x69': '//avatars.mds.yandex.net/get-verba/787013/2a0000016934c6650ee6ec3c6338a6140318/92x69', 'islandoff': '//avatars.mds.yandex.net/get-verba/787013/2a0000016934c6650ee6ec3c6338a6140318/islandoff', 'thumb_s': '//avatars.mds.yandex.net/get-verba/787013/2a0000016934c6650ee6ec3c6338a6140318/thumb_s', 'thumb_s_2x': '//avatars.mds.yandex.net/get-verba/787013/2a0000016934c6650ee6ec3c6338a6140318/thumb_s_2x'}}], 'main_color': True}]}      477\n",
       "Name: complectation_dict, dtype: int64"
      ]
     },
     "execution_count": 191,
     "metadata": {},
     "output_type": "execute_result"
    }
   ],
   "source": [
    "train.complectation_dict.value_counts().head(2)"
   ]
  },
  {
   "cell_type": "markdown",
   "metadata": {},
   "source": [
    "Судя по данным, complectation_dict содержит информацию о комплектации, цвете машины, а также ссылки на фото. В train 41850 нулевых значения. Из-за большого количества пропусков удалим признак."
   ]
  },
  {
   "cell_type": "code",
   "execution_count": 192,
   "metadata": {},
   "outputs": [],
   "source": [
    "test.drop('complectation_dict', axis=1, inplace=True)\n",
    "train.drop('complectation_dict', axis=1, inplace=True)"
   ]
  },
  {
   "cell_type": "markdown",
   "metadata": {},
   "source": [
    "### 4.4. description"
   ]
  },
  {
   "cell_type": "code",
   "execution_count": 193,
   "metadata": {},
   "outputs": [
    {
     "data": {
      "text/plain": [
       "'Все автомобили, представленные в продаже, проходят тщательную проверку по более 40 параметрам. Предоставляем гарантию юридической чистоты, а так же год технической гарантии на двигатель и КПП. Бесплатный тест-драйв. Возможно оформление автомобиля в кредит!\\n\\nПреимущества автокредитования:\\n— Первоначальный взнос от 0%;\\n— Более 30 кредитных программ;\\n— Процентная ставка от 6% годовых;\\n— Срок кредита от 6 месяцев до 7 лет;\\n— Оформление кредита по двум документам;\\n— Досрочное погашение без штрафов и комиссий;\\n— Сумма кредита до 2 млн рублей;\\n— Оформление КАСКО – по желанию;\\n— Без справок и поручителей.\\n\\nСотрудничаем с 12 аккредитованными и сертифицированными банками РФ, среднее время ожидания решения банка 20–30 минут.\\n\\nПри покупке автомобиля по программе «Trade-in – выгодный обмен» или в кредит, получите дополнительную скидку до 80 000 рублей на данный автомобиль!\\n\\nЗаписаться на тест-драйв, а так же получить подробную информацию можно у специалистов автоцентра по указанному номеру телефона.'"
      ]
     },
     "execution_count": 193,
     "metadata": {},
     "output_type": "execute_result"
    }
   ],
   "source": [
    "test.description[0]"
   ]
  },
  {
   "cell_type": "code",
   "execution_count": 194,
   "metadata": {},
   "outputs": [],
   "source": [
    "test.description = test.description.astype('str')\n",
    "train.description = train.description.astype('str') #странно, но без этого иногда ругается "
   ]
  },
  {
   "cell_type": "code",
   "execution_count": 195,
   "metadata": {},
   "outputs": [],
   "source": [
    "# Выделим некоторые словосочетания из описаний в признаки\n",
    "train['офДил'] = train.description.apply(lambda x: 1 if 'официального дилера' in x else 0)\n",
    "test['офДил'] = test.description.apply(lambda x: 1 if 'официального дилера' in x else 0)\n",
    "train['климат'] = train.description.apply(lambda x: 1 if 'климат контроль' in x else 0)\n",
    "test['климат'] = test.description.apply(lambda x: 1 if 'климат контроль' in x else 0)\n",
    "train['подБез'] = train.description.apply(lambda x: 1 if 'подушки безопасности' in x else 0)\n",
    "test['подБез'] = test.description.apply(lambda x: 1 if 'подушки безопасности' in x else 0)\n",
    "train['усилРуля'] = train.description.apply(lambda x: 1 if 'усилитель руля' in x else 0)\n",
    "test['усилРуля'] = test.description.apply(lambda x: 1 if 'усилитель руля' in x else 0)\n",
    "train['отл'] = train.description.apply(lambda x: 1 if 'отличном состоянии' in x else 0)\n",
    "test['отл'] = test.description.apply(lambda x: 1 if 'отличном состоянии' in x else 0)\n",
    "train['хор'] = train.description.apply(lambda x: 1 if 'хорошем состоянии' in x else 0)\n",
    "test['хор'] = test.description.apply(lambda x: 1 if 'хорошем состоянии' in x else 0)\n",
    "train['цЗамок'] = train.description.apply(lambda x: 1 if 'центральный замок' in x else 0)\n",
    "test['цЗамок'] = test.description.apply(lambda x: 1 if 'центральный замок' in x else 0)\n",
    "train['эПодъм'] = train.description.apply(lambda x: 1 if 'электростеклоподъемники' in x else 0)\n",
    "test['эПодъм'] = test.description.apply(lambda x: 1 if 'электростеклоподъемники' in x else 0)\n",
    "train['бКомп'] = train.description.apply(lambda x: 1 if 'бортовой компьютер' in x else 0)\n",
    "test['бКомп'] = test.description.apply(lambda x: 1 if 'бортовой компьютер' in x else 0)"
   ]
  },
  {
   "cell_type": "code",
   "execution_count": 196,
   "metadata": {},
   "outputs": [],
   "source": [
    "# Удаляем description\n",
    "test.drop('description', axis=1, inplace=True)\n",
    "train.drop('description', axis=1, inplace=True)"
   ]
  },
  {
   "cell_type": "markdown",
   "metadata": {},
   "source": [
    "### 4.5. equipment_dict"
   ]
  },
  {
   "cell_type": "code",
   "execution_count": 197,
   "metadata": {},
   "outputs": [
    {
     "data": {
      "text/plain": [
       "{\"leather\":true}                                                                                                                                                                                                                                                                                                                                                                                                                                                                                                                                           108\n",
       "{\"gbo\":true}                                                                                                                                                                                                                                                                                                                                                                                                                                                                                                                                               106\n",
       "{\"fabric-seats\":true}                                                                                                                                                                                                                                                                                                                                                                                                                                                                                                                                       59\n",
       "{\"roof-rails\":true}                                                                                                                                                                                                                                                                                                                                                                                                                                                                                                                                         37\n",
       "{\"cruise-control\":true,\"esp\":true,\"airbag-driver\":true,\"electro-window-front\":true,\"xenon\":true,\"airbag-passenger\":true,\"computer\":true,\"seat-transformation\":true,\"wheel-power\":true,\"alarm\":true,\"passenger-seat-electric\":true,\"lock\":true,\"electro-mirrors\":true,\"electro-window-back\":true,\"paint-metallic\":true,\"ptf\":true,\"airbag-side\":true,\"mirrors-heat\":true,\"hatch\":true,\"leather\":true,\"abs\":true,\"front-seats-heat\":true,\"wheel-configuration2\":true,\"wheel-configuration1\":true,\"immo\":true,\"climate-control-1\":true,\"music-super\":true}     21\n",
       "Name: equipment_dict, dtype: int64"
      ]
     },
     "execution_count": 197,
     "metadata": {},
     "output_type": "execute_result"
    }
   ],
   "source": [
    "test.equipment_dict.value_counts().head(5)"
   ]
  },
  {
   "cell_type": "code",
   "execution_count": 198,
   "metadata": {},
   "outputs": [
    {
     "data": {
      "text/plain": [
       "{}                                                                                                                                                                                                                                                                                                                                                                                                                                                                                                                                                                                                                                                                                                                                                                                                                                                                                                                                                                                                                                                                                                                                                                                                                                                                                                                                                                                                                                                                                                                                                                            12228\n",
       "{'cruise-control': True, 'asr': True, 'esp': True, 'usb': True, 'multi-wheel': True, 'audiosystem-tv': True, 'airbag-passenger': True, 'front-centre-armrest': True, 'apple-carplay': True, 'front-seat-support': True, 'bas': True, 'lock': True, 'rear-camera': True, 'electro-mirrors': True, 'drl': True, 'electro-window-back': True, '18-inch-wheels': True, 'reduce-spare-wheel': True, 'mirrors-heat': True, 'park-assist-f': True, 'rear-seats-heat': True, 'wheel-heat': True, 'park-assist-r': True, 'glonass': True, 'airbag-driver': True, 'isofix': True, 'aux': True, 'electro-window-front': True, 'light-sensor': True, 'hcc': True, 'airbag-curtain': True, 'passenger-seat-updown': True, 'computer': True, 'ya-auto': True, 'seat-transformation': True, 'android-auto': True, 'wheel-power': True, 'fabric-seats': True, 'rain-sensor': True, 'airbag-side': True, 'tyre-pressure': True, 'abs': True, 'front-seats-heat': True, 'bluetooth': True, 'wheel-leather': True, 'wheel-configuration2': True, 'wheel-configuration1': True, 'immo': True, 'climate-control-2': True, 'windscreen-heat': True, 'auto-mirrors': True, '12v-socket': True, 'third-rear-headrest': True}                                                                                                                                                                                                                                                                                                                                                                            214\n",
       "{'cruise-control': True, 'asr': True, 'tinted-glass': True, 'esp': True, 'adaptive-light': True, 'usb': True, 'multi-wheel': True, 'audiosystem-tv': True, 'airbag-passenger': True, 'front-centre-armrest': True, 'navigation': True, 'apple-carplay': True, 'front-seat-support': True, 'roof-rails': True, 'bas': True, 'lock': True, 'electro-mirrors': True, 'drl': True, 'electro-window-back': True, 'easy-trunk-opening': True, '18-inch-wheels': True, 'reduce-spare-wheel': True, 'mirrors-heat': True, 'hatch': True, 'park-assist-f': True, 'rear-seats-heat': True, 'wheel-heat': True, 'led-lights': True, 'park-assist-r': True, 'glonass': True, 'airbag-driver': True, 'isofix': True, 'aux': True, 'electro-window-front': True, 'light-sensor': True, 'hcc': True, 'automatic-lighting-control': True, 'airbag-curtain': True, 'passenger-seat-updown': True, 'computer': True, 'keyless-entry': True, 'ya-auto': True, 'seat-transformation': True, 'android-auto': True, 'wheel-power': True, 'dha': True, 'fabric-seats': True, 'leather-gear-stick': True, 'start-button': True, 'ptf': True, 'rain-sensor': True, 'airbag-side': True, 'tyre-pressure': True, 'remote-engine-start': True, 'panorama-roof': True, 'electro-trunk': True, 'abs': True, 'front-seats-heat': True, 'bluetooth': True, 'wheel-leather': True, 'wheel-configuration2': True, 'wheel-configuration1': True, 'immo': True, 'climate-control-2': True, 'windscreen-heat': True, 'auto-mirrors': True, '12v-socket': True, 'third-rear-headrest': True, '360-camera': True}      160\n",
       "Name: equipment_dict, dtype: int64"
      ]
     },
     "execution_count": 198,
     "metadata": {},
     "output_type": "execute_result"
    }
   ],
   "source": [
    "train.equipment_dict.value_counts().head(3)"
   ]
  },
  {
   "cell_type": "markdown",
   "metadata": {},
   "source": [
    "12228 записей этого признака в трейне отсутствует. Часть данных имеет ограниченное описание (у машин с кожаным салоном наверняка присутствуют и другие новшества и удобства). Удаляем."
   ]
  },
  {
   "cell_type": "code",
   "execution_count": 199,
   "metadata": {},
   "outputs": [],
   "source": [
    "test.drop('equipment_dict', axis=1, inplace=True)\n",
    "train.drop('equipment_dict', axis=1, inplace=True)"
   ]
  },
  {
   "cell_type": "markdown",
   "metadata": {},
   "source": [
    "### 4.6. image"
   ]
  },
  {
   "cell_type": "code",
   "execution_count": 200,
   "metadata": {},
   "outputs": [
    {
     "data": {
      "text/plain": [
       "'//avatars.mds.yandex.net/get-autoru-vos/2160224/2721bc4649304f72e2fd6a4e2f52d69b/320x240'"
      ]
     },
     "execution_count": 200,
     "metadata": {},
     "output_type": "execute_result"
    }
   ],
   "source": [
    "train.image[1]"
   ]
  },
  {
   "cell_type": "markdown",
   "metadata": {},
   "source": [
    "Ссылка на картинку - удаляем."
   ]
  },
  {
   "cell_type": "code",
   "execution_count": 201,
   "metadata": {},
   "outputs": [],
   "source": [
    "test.drop('image', axis=1, inplace=True)\n",
    "train.drop('image', axis=1, inplace=True)"
   ]
  },
  {
   "cell_type": "markdown",
   "metadata": {},
   "source": [
    "### 4.7. model_info"
   ]
  },
  {
   "cell_type": "code",
   "execution_count": 202,
   "metadata": {},
   "outputs": [
    {
     "data": {
      "text/plain": [
       "\"{'code': 'A4', 'name': 'A4', 'ru_name': 'А4', 'morphology': {}, 'nameplate': {'code': '', 'name': '', 'semantic_url': ''}}\""
      ]
     },
     "execution_count": 202,
     "metadata": {},
     "output_type": "execute_result"
    }
   ],
   "source": [
    "train.model_info[400]"
   ]
  },
  {
   "cell_type": "code",
   "execution_count": 203,
   "metadata": {},
   "outputs": [
    {
     "data": {
      "text/plain": [
       "'{\"code\":\"SUPERB\",\"name\":\"Superb\",\"ru_name\":\"Суперб\",\"morphology\":{},\"nameplate\":{\"code\":\"\",\"name\":\"\",\"semantic_url\":\"\"}}'"
      ]
     },
     "execution_count": 203,
     "metadata": {},
     "output_type": "execute_result"
    }
   ],
   "source": [
    "test.model_info[2]"
   ]
  },
  {
   "cell_type": "code",
   "execution_count": 204,
   "metadata": {},
   "outputs": [],
   "source": [
    "# model_info дублирует model_name. Можно удалить этот признак\n",
    "test.drop('model_info', axis=1, inplace=True)\n",
    "train.drop('model_info', axis=1, inplace=True)"
   ]
  },
  {
   "cell_type": "markdown",
   "metadata": {},
   "source": [
    "### 4.8. name"
   ]
  },
  {
   "cell_type": "code",
   "execution_count": 205,
   "metadata": {},
   "outputs": [
    {
     "data": {
      "text/plain": [
       "0        1.2 AMT (105 л.с.)\n",
       "1         1.6 MT (110 л.с.)\n",
       "2    DSG 1.8 AMT (152 л.с.)\n",
       "3         1.6 AT (110 л.с.)\n",
       "4         1.8 AT (152 л.с.)\n",
       "5        2.0 AMT (200 л.с.)\n",
       "6    1.8 AMT (152 л.с.) 4WD\n",
       "7         1.6 MT (102 л.с.)\n",
       "8     1.4 MT (150 л.с.) 4WD\n",
       "9     1.8 MT (152 л.с.) 4WD\n",
       "Name: name, dtype: object"
      ]
     },
     "execution_count": 205,
     "metadata": {},
     "output_type": "execute_result"
    }
   ],
   "source": [
    "test.name.head(10)"
   ]
  },
  {
   "cell_type": "markdown",
   "metadata": {},
   "source": [
    "Информация об объеме двигателя содержится в engineDisplacement. Информация о мощности двигателя - в enginePower. Выделим информацию о типе коробки передач и о типе привода."
   ]
  },
  {
   "cell_type": "code",
   "execution_count": 206,
   "metadata": {},
   "outputs": [],
   "source": [
    "# коробка передач\n",
    "test['gearbox'] = test['name'].str.findall(r'\\w+\\s\\(') # regex для поиска\n",
    "test['gearbox'] = test['gearbox'].astype('str') \n",
    "test['gearbox'] = test['gearbox'].str.findall(r'\\w+').str[-1] # очистка"
   ]
  },
  {
   "cell_type": "code",
   "execution_count": 207,
   "metadata": {},
   "outputs": [],
   "source": [
    "# TRAIN\n",
    "# коробка передач\n",
    "train['gearbox'] = train['name'].str.findall(r'\\w+\\s\\(') # regex для поиска\n",
    "train['gearbox'] = train['gearbox'].astype('str') \n",
    "train['gearbox'] = train['gearbox'].str.findall(r'\\w+').str[-1] # очистка"
   ]
  },
  {
   "cell_type": "code",
   "execution_count": 208,
   "metadata": {},
   "outputs": [
    {
     "data": {
      "text/plain": [
       "AT     19596\n",
       "MT      7209\n",
       "CVT     3999\n",
       "AMT     3882\n",
       "Name: gearbox, dtype: int64"
      ]
     },
     "execution_count": 208,
     "metadata": {},
     "output_type": "execute_result"
    }
   ],
   "source": [
    "test['gearbox'].value_counts()"
   ]
  },
  {
   "cell_type": "code",
   "execution_count": 209,
   "metadata": {},
   "outputs": [
    {
     "data": {
      "text/plain": [
       "AT     40099\n",
       "MT     18674\n",
       "AMT     8079\n",
       "CVT     7157\n",
       "Name: gearbox, dtype: int64"
      ]
     },
     "execution_count": 209,
     "metadata": {},
     "output_type": "execute_result"
    }
   ],
   "source": [
    "train['gearbox'].value_counts()"
   ]
  },
  {
   "cell_type": "code",
   "execution_count": 210,
   "metadata": {},
   "outputs": [],
   "source": [
    "# тип привода\n",
    "test['drive4WD'] = test['name'].str.findall('4WD')\n",
    "test['drive4WD'] = test['drive4WD'].astype('str') \n",
    "test['drive4WD'] = test['drive4WD'].apply(lambda x: 1 if '4WD' in x else 0)"
   ]
  },
  {
   "cell_type": "code",
   "execution_count": 211,
   "metadata": {},
   "outputs": [],
   "source": [
    "# TRAIN\n",
    "# тип привода\n",
    "train['drive4WD'] = train['name'].str.findall('4WD')\n",
    "train['drive4WD'] = train['drive4WD'].astype('str') \n",
    "train['drive4WD'] = train['drive4WD'].apply(lambda x: 1 if '4WD' in x else 0)"
   ]
  },
  {
   "cell_type": "code",
   "execution_count": 212,
   "metadata": {},
   "outputs": [
    {
     "data": {
      "text/plain": [
       "0    19666\n",
       "1    15020\n",
       "Name: drive4WD, dtype: int64"
      ]
     },
     "execution_count": 212,
     "metadata": {},
     "output_type": "execute_result"
    }
   ],
   "source": [
    "test['drive4WD'].value_counts()"
   ]
  },
  {
   "cell_type": "code",
   "execution_count": 213,
   "metadata": {},
   "outputs": [
    {
     "data": {
      "text/plain": [
       "0    41891\n",
       "1    32118\n",
       "Name: drive4WD, dtype: int64"
      ]
     },
     "execution_count": 213,
     "metadata": {},
     "output_type": "execute_result"
    }
   ],
   "source": [
    "train['drive4WD'].value_counts()"
   ]
  },
  {
   "cell_type": "code",
   "execution_count": 214,
   "metadata": {},
   "outputs": [],
   "source": [
    "#  для трейна скачаем еще и показатели объема двигателя, тк в самом признаке 'engineDisplacement' данные грязные\n",
    "train['engineDisplacement1'] = train['name'].str.findall(r'\\d\\.\\d').str[0]\n",
    "train['engineDisplacement1'] = train['engineDisplacement1'].astype('str')\n",
    "train['engineDisplacement'] = train['engineDisplacement1']\n",
    "train['engineDisplacement'] = train['engineDisplacement'].apply(lambda x: '2.0' if x == 'nan' else x)\n",
    "train['engineDisplacement'] = train['engineDisplacement'].astype('float32')"
   ]
  },
  {
   "cell_type": "code",
   "execution_count": 215,
   "metadata": {},
   "outputs": [],
   "source": [
    "train.drop('engineDisplacement1', axis=1, inplace=True)"
   ]
  },
  {
   "cell_type": "code",
   "execution_count": 216,
   "metadata": {},
   "outputs": [],
   "source": [
    "# всё забрали - удаляем name\n",
    "test.drop('name', axis=1, inplace=True)\n",
    "train.drop('name', axis=1, inplace=True)"
   ]
  },
  {
   "cell_type": "markdown",
   "metadata": {},
   "source": [
    "### 4.9. super_gen"
   ]
  },
  {
   "cell_type": "code",
   "execution_count": 217,
   "metadata": {},
   "outputs": [
    {
     "data": {
      "text/plain": [
       "\"{'id': '7879503', 'displacement': 1984, 'engine_type': 'GASOLINE', 'gear_type': 'FORWARD_CONTROL', 'transmission': 'MECHANICAL', 'power': 115, 'power_kvt': 85, 'human_name': '2.0 MT (115 л.с.)', 'acceleration': 11.5, 'clearance_min': 130, 'fuel_rate': 8.9}\""
      ]
     },
     "execution_count": 217,
     "metadata": {},
     "output_type": "execute_result"
    }
   ],
   "source": [
    "train.super_gen[0]"
   ]
  },
  {
   "cell_type": "code",
   "execution_count": 218,
   "metadata": {},
   "outputs": [
    {
     "data": {
      "text/plain": [
       "'{\"id\":\"20026323\",\"nameplate\":\"DSG\",\"displacement\":1798,\"engine_type\":\"GASOLINE\",\"gear_type\":\"FORWARD_CONTROL\",\"transmission\":\"ROBOT\",\"power\":152,\"power_kvt\":112,\"human_name\":\"DSG 1.8 AMT (152 л.с.)\",\"acceleration\":8.7,\"clearance_min\":139,\"fuel_rate\":7.1,\"clearance_max\":158}'"
      ]
     },
     "execution_count": 218,
     "metadata": {},
     "output_type": "execute_result"
    }
   ],
   "source": [
    "test.super_gen[2]"
   ]
  },
  {
   "cell_type": "markdown",
   "metadata": {},
   "source": [
    "Можем взять engine_type, acceleration, clearance_min, fuel_rate."
   ]
  },
  {
   "cell_type": "code",
   "execution_count": 219,
   "metadata": {},
   "outputs": [],
   "source": [
    "# engine_type для теста\n",
    "test['engine_type'] = test['super_gen'].str.findall(r'\\\"engine_type\\\"\\:\\\"\\w+\\\"')\n",
    "test['engine_type'] = test['engine_type'].astype('str') \n",
    "test['engine_type'] = test['engine_type'].str.findall(r'\\w+').str[-1]\n",
    "test['engine_type'] = test['engine_type'].astype('str') "
   ]
  },
  {
   "cell_type": "code",
   "execution_count": 220,
   "metadata": {},
   "outputs": [
    {
     "data": {
      "text/plain": [
       "GASOLINE    28601\n",
       "DIESEL       5800\n",
       "HYBRID        223\n",
       "ELECTRO        55\n",
       "LPG             7\n",
       "Name: engine_type, dtype: int64"
      ]
     },
     "execution_count": 220,
     "metadata": {},
     "output_type": "execute_result"
    }
   ],
   "source": [
    "test['engine_type'].value_counts()"
   ]
  },
  {
   "cell_type": "code",
   "execution_count": 221,
   "metadata": {},
   "outputs": [],
   "source": [
    "# engine_type для трейна\n",
    "train['engine_type'] = train['super_gen'].str.findall(r'\\'engine_type\\'\\:\\s\\'\\w+\\'')\n",
    "train['engine_type'] = train['engine_type'].astype('str') \n",
    "train['engine_type'] = train['engine_type'].str.findall(r'\\w+').str[-1]\n",
    "train['engine_type'] = train['engine_type'].astype('str') "
   ]
  },
  {
   "cell_type": "code",
   "execution_count": 222,
   "metadata": {},
   "outputs": [
    {
     "data": {
      "text/plain": [
       "GASOLINE    61241\n",
       "DIESEL      12491\n",
       "HYBRID        177\n",
       "ELECTRO        88\n",
       "LPG            12\n",
       "Name: engine_type, dtype: int64"
      ]
     },
     "execution_count": 222,
     "metadata": {},
     "output_type": "execute_result"
    }
   ],
   "source": [
    "train['engine_type'].value_counts()"
   ]
  },
  {
   "cell_type": "code",
   "execution_count": 223,
   "metadata": {},
   "outputs": [],
   "source": [
    "# acceleration для теста\n",
    "test['acceleration'] = test['super_gen'].str.findall(r'\\\"acceleration\\\"\\:\\d+\\.\\d+')\n",
    "test['acceleration'] = test['acceleration'].astype('str')\n",
    "test['acceleration'] = test['acceleration'].str.findall(r'\\d+\\.\\d+').str[-1]\n",
    "test['acceleration'] = test['acceleration'].astype('float')"
   ]
  },
  {
   "cell_type": "code",
   "execution_count": 224,
   "metadata": {},
   "outputs": [
    {
     "data": {
      "text/plain": [
       "4833"
      ]
     },
     "execution_count": 224,
     "metadata": {},
     "output_type": "execute_result"
    }
   ],
   "source": [
    "test['acceleration'].isna().sum()"
   ]
  },
  {
   "cell_type": "code",
   "execution_count": 225,
   "metadata": {},
   "outputs": [],
   "source": [
    "# acceleration удаляем: много пропусков\n",
    "test.drop('acceleration', axis=1, inplace=True)"
   ]
  },
  {
   "cell_type": "code",
   "execution_count": 226,
   "metadata": {},
   "outputs": [],
   "source": [
    "# clearance_min для теста\n",
    "test['clearance_min'] = test['super_gen'].str.findall(r'\\\"clearance_min\\\"\\:\\d+')\n",
    "test['clearance_min'] = test['clearance_min'].astype('str')\n",
    "test['clearance_min'] = test['clearance_min'].str.findall(r'\\d+').str[-1]\n",
    "test['clearance_min'] = test['clearance_min'].astype('float')"
   ]
  },
  {
   "cell_type": "code",
   "execution_count": 227,
   "metadata": {},
   "outputs": [
    {
     "data": {
      "text/plain": [
       "951"
      ]
     },
     "execution_count": 227,
     "metadata": {},
     "output_type": "execute_result"
    }
   ],
   "source": [
    "test['clearance_min'].isna().sum()"
   ]
  },
  {
   "cell_type": "code",
   "execution_count": 228,
   "metadata": {},
   "outputs": [
    {
     "data": {
      "text/plain": [
       "150.0    3557\n",
       "200.0    2340\n",
       "160.0    2252\n",
       "165.0    1891\n",
       "140.0    1723\n",
       "         ... \n",
       "172.0       1\n",
       "315.0       1\n",
       "100.0       1\n",
       "261.0       1\n",
       "198.0       1\n",
       "Name: clearance_min, Length: 140, dtype: int64"
      ]
     },
     "execution_count": 228,
     "metadata": {},
     "output_type": "execute_result"
    }
   ],
   "source": [
    "test['clearance_min'].value_counts()"
   ]
  },
  {
   "cell_type": "code",
   "execution_count": 229,
   "metadata": {},
   "outputs": [],
   "source": [
    "# заменим пропуски на 150\n",
    "test['clearance_min'] = test['clearance_min'].fillna(150)\n",
    "test['clearance_min'] = test['clearance_min'].astype('int')"
   ]
  },
  {
   "cell_type": "code",
   "execution_count": 230,
   "metadata": {},
   "outputs": [],
   "source": [
    "# clearance_min для трейна\n",
    "train['clearance_min'] = train['super_gen'].str.findall(r'\\'clearance_min\\'\\:\\s\\d+')\n",
    "train['clearance_min'] = train['clearance_min'].astype('str')\n",
    "train['clearance_min'] = train['clearance_min'].str.findall(r'\\d+').str[-1]\n",
    "train['clearance_min'] = train['clearance_min'].astype('float')"
   ]
  },
  {
   "cell_type": "code",
   "execution_count": 231,
   "metadata": {},
   "outputs": [
    {
     "data": {
      "text/plain": [
       "3264"
      ]
     },
     "execution_count": 231,
     "metadata": {},
     "output_type": "execute_result"
    }
   ],
   "source": [
    "train['clearance_min'].isna().sum()"
   ]
  },
  {
   "cell_type": "code",
   "execution_count": 232,
   "metadata": {},
   "outputs": [
    {
     "data": {
      "text/plain": [
       "160.0    6505\n",
       "200.0    5266\n",
       "150.0    5210\n",
       "155.0    3294\n",
       "170.0    3247\n",
       "         ... \n",
       "94.0        1\n",
       "232.0       1\n",
       "271.0       1\n",
       "243.0       1\n",
       "290.0       1\n",
       "Name: clearance_min, Length: 166, dtype: int64"
      ]
     },
     "execution_count": 232,
     "metadata": {},
     "output_type": "execute_result"
    }
   ],
   "source": [
    "train['clearance_min'].value_counts()"
   ]
  },
  {
   "cell_type": "code",
   "execution_count": 233,
   "metadata": {},
   "outputs": [],
   "source": [
    "# заменим пропуски на 160\n",
    "train['clearance_min'] = train['clearance_min'].fillna(160)\n",
    "train['clearance_min'] = train['clearance_min'].astype('int')"
   ]
  },
  {
   "cell_type": "code",
   "execution_count": 234,
   "metadata": {},
   "outputs": [],
   "source": [
    "# fuel_rate для трейна \n",
    "train['fuel_rate'] = train['super_gen'].str.findall(r'\\'fuel_rate\\'\\:\\s\\d+\\.\\d+')\n",
    "train['fuel_rate'] = train['fuel_rate'].astype('str')\n",
    "train['fuel_rate'] = train['fuel_rate'].str.findall(r'\\d+\\.\\d+').str[-1]\n",
    "train['fuel_rate'] = train['fuel_rate'].astype('float')"
   ]
  },
  {
   "cell_type": "code",
   "execution_count": 235,
   "metadata": {},
   "outputs": [
    {
     "data": {
      "text/plain": [
       "11623"
      ]
     },
     "execution_count": 235,
     "metadata": {},
     "output_type": "execute_result"
    }
   ],
   "source": [
    "train['fuel_rate'].isna().sum()"
   ]
  },
  {
   "cell_type": "code",
   "execution_count": 236,
   "metadata": {},
   "outputs": [],
   "source": [
    "# fuel_rate удаляем: много пропусков\n",
    "train.drop('fuel_rate', axis=1, inplace=True)"
   ]
  },
  {
   "cell_type": "code",
   "execution_count": 237,
   "metadata": {},
   "outputs": [],
   "source": [
    "# всё забрали - удаляем super_gen\n",
    "test.drop('super_gen', axis=1, inplace=True)\n",
    "train.drop('super_gen', axis=1, inplace=True)"
   ]
  },
  {
   "cell_type": "markdown",
   "metadata": {},
   "source": [
    "### 4.10. vehileConfiguration"
   ]
  },
  {
   "cell_type": "code",
   "execution_count": 238,
   "metadata": {},
   "outputs": [
    {
     "data": {
      "text/plain": [
       "'SEDAN MECHANICAL 2.3'"
      ]
     },
     "execution_count": 238,
     "metadata": {},
     "output_type": "execute_result"
    }
   ],
   "source": [
    "train.vehicleConfiguration[1]"
   ]
  },
  {
   "cell_type": "markdown",
   "metadata": {},
   "source": [
    "Тип кузова есть в bodyType, инф. о коробке передач сохранили в gearbox, объем двигателя есть в engineDisplacement.          \n",
    "=> Удаляем"
   ]
  },
  {
   "cell_type": "code",
   "execution_count": 239,
   "metadata": {},
   "outputs": [],
   "source": [
    "test.drop('vehicleConfiguration', axis=1, inplace=True)\n",
    "train.drop('vehicleConfiguration', axis=1, inplace=True)"
   ]
  },
  {
   "cell_type": "markdown",
   "metadata": {},
   "source": [
    "### 4.11. Владение"
   ]
  },
  {
   "cell_type": "code",
   "execution_count": 240,
   "metadata": {},
   "outputs": [
    {
     "data": {
      "text/plain": [
       "58495"
      ]
     },
     "execution_count": 240,
     "metadata": {},
     "output_type": "execute_result"
    }
   ],
   "source": [
    "# Данный признак содержит много пропущенных значений\n",
    "train.Владение.isna().sum()"
   ]
  },
  {
   "cell_type": "code",
   "execution_count": 241,
   "metadata": {},
   "outputs": [
    {
     "data": {
      "text/plain": [
       "22691"
      ]
     },
     "execution_count": 241,
     "metadata": {},
     "output_type": "execute_result"
    }
   ],
   "source": [
    "test.Владение.isna().sum()"
   ]
  },
  {
   "cell_type": "code",
   "execution_count": 242,
   "metadata": {},
   "outputs": [
    {
     "data": {
      "text/plain": [
       "0    {'year': 2004, 'month': 11}\n",
       "1                            NaN\n",
       "2     {'year': 2018, 'month': 3}\n",
       "3                            NaN\n",
       "4     {'year': 2020, 'month': 8}\n",
       "Name: Владение, dtype: object"
      ]
     },
     "execution_count": 242,
     "metadata": {},
     "output_type": "execute_result"
    }
   ],
   "source": [
    "train.Владение.head(5)"
   ]
  },
  {
   "cell_type": "code",
   "execution_count": 243,
   "metadata": {},
   "outputs": [
    {
     "data": {
      "text/html": [
       "<div>\n",
       "<style scoped>\n",
       "    .dataframe tbody tr th:only-of-type {\n",
       "        vertical-align: middle;\n",
       "    }\n",
       "\n",
       "    .dataframe tbody tr th {\n",
       "        vertical-align: top;\n",
       "    }\n",
       "\n",
       "    .dataframe thead th {\n",
       "        text-align: right;\n",
       "    }\n",
       "</style>\n",
       "<table border=\"1\" class=\"dataframe\">\n",
       "  <thead>\n",
       "    <tr style=\"text-align: right;\">\n",
       "      <th></th>\n",
       "      <th>count</th>\n",
       "      <th>unique</th>\n",
       "      <th>top</th>\n",
       "      <th>freq</th>\n",
       "    </tr>\n",
       "    <tr>\n",
       "      <th>Владельцы</th>\n",
       "      <th></th>\n",
       "      <th></th>\n",
       "      <th></th>\n",
       "      <th></th>\n",
       "    </tr>\n",
       "  </thead>\n",
       "  <tbody>\n",
       "    <tr>\n",
       "      <th>1.0</th>\n",
       "      <td>4539</td>\n",
       "      <td>232</td>\n",
       "      <td>{'year': 2018, 'month': 12}</td>\n",
       "      <td>89</td>\n",
       "    </tr>\n",
       "    <tr>\n",
       "      <th>2.0</th>\n",
       "      <td>4254</td>\n",
       "      <td>236</td>\n",
       "      <td>{'year': 2018, 'month': 12}</td>\n",
       "      <td>74</td>\n",
       "    </tr>\n",
       "    <tr>\n",
       "      <th>3.0</th>\n",
       "      <td>6521</td>\n",
       "      <td>226</td>\n",
       "      <td>{'year': 2020, 'month': 1}</td>\n",
       "      <td>123</td>\n",
       "    </tr>\n",
       "    <tr>\n",
       "      <th>4.0</th>\n",
       "      <td>200</td>\n",
       "      <td>86</td>\n",
       "      <td>{'year': 2020, 'month': 8}</td>\n",
       "      <td>10</td>\n",
       "    </tr>\n",
       "  </tbody>\n",
       "</table>\n",
       "</div>"
      ],
      "text/plain": [
       "          count unique                          top freq\n",
       "Владельцы                                               \n",
       "1.0        4539    232  {'year': 2018, 'month': 12}   89\n",
       "2.0        4254    236  {'year': 2018, 'month': 12}   74\n",
       "3.0        6521    226   {'year': 2020, 'month': 1}  123\n",
       "4.0         200     86   {'year': 2020, 'month': 8}   10"
      ]
     },
     "execution_count": 243,
     "metadata": {},
     "output_type": "execute_result"
    }
   ],
   "source": [
    "train.groupby('Владельцы').Владение.describe()"
   ]
  },
  {
   "cell_type": "markdown",
   "metadata": {},
   "source": [
    "С увеличением количества Владельцев Владение уменьшается. Признак рабочий, но очень много пропусков.        \n",
    "=> Удаляем"
   ]
  },
  {
   "cell_type": "code",
   "execution_count": 244,
   "metadata": {},
   "outputs": [],
   "source": [
    "test.drop('Владение', axis=1, inplace=True)\n",
    "train.drop('Владение', axis=1, inplace=True)"
   ]
  },
  {
   "cell_type": "markdown",
   "metadata": {},
   "source": [
    "## Числовые признаки"
   ]
  },
  {
   "cell_type": "markdown",
   "metadata": {},
   "source": [
    "### 4.12. engineDisplacement"
   ]
  },
  {
   "cell_type": "code",
   "execution_count": 245,
   "metadata": {},
   "outputs": [
    {
     "data": {
      "text/plain": [
       "2.0    20925\n",
       "1.6    16384\n",
       "3.0     5953\n",
       "1.4     4760\n",
       "1.8     3751\n",
       "       ...  \n",
       "7.0        1\n",
       "7.4        1\n",
       "8.2        1\n",
       "8.1        1\n",
       "7.7        1\n",
       "Name: engineDisplacement, Length: 64, dtype: int64"
      ]
     },
     "execution_count": 245,
     "metadata": {},
     "output_type": "execute_result"
    }
   ],
   "source": [
    "train.engineDisplacement.value_counts()"
   ]
  },
  {
   "cell_type": "code",
   "execution_count": 246,
   "metadata": {},
   "outputs": [
    {
     "data": {
      "text/plain": [
       "2.0    7391\n",
       "1.6    4973\n",
       "3.0    3915\n",
       "1.8    3349\n",
       "2.5    2477\n",
       "2.4    1745\n",
       "3.5    1710\n",
       "1.4    1635\n",
       "1.5     725\n",
       "1.2     485\n",
       "4.4     447\n",
       "2.8     384\n",
       "4.7     377\n",
       "1.3     365\n",
       "5.5     361\n",
       "Name: engineDisplacement, dtype: int64"
      ]
     },
     "execution_count": 246,
     "metadata": {},
     "output_type": "execute_result"
    }
   ],
   "source": [
    "test['engineDisplacement'] = test['engineDisplacement'].apply(lambda x: x[:3])\n",
    "test.engineDisplacement.value_counts()[:15]"
   ]
  },
  {
   "cell_type": "code",
   "execution_count": 247,
   "metadata": {},
   "outputs": [
    {
     "data": {
      "text/plain": [
       "55"
      ]
     },
     "execution_count": 247,
     "metadata": {},
     "output_type": "execute_result"
    }
   ],
   "source": [
    "len(test[test['engineDisplacement'] == ' LT'])"
   ]
  },
  {
   "cell_type": "code",
   "execution_count": 248,
   "metadata": {},
   "outputs": [],
   "source": [
    "# заменим LT на наиболее частое 2.0 и приведем к типу float\n",
    "test['engineDisplacement'] = test['engineDisplacement'].apply(lambda x: 2.0 if x == ' LT' else x)\n",
    "test['engineDisplacement'] = test['engineDisplacement'].astype('float32')"
   ]
  },
  {
   "cell_type": "markdown",
   "metadata": {},
   "source": [
    "### 4.13. enginePower"
   ]
  },
  {
   "cell_type": "code",
   "execution_count": 249,
   "metadata": {},
   "outputs": [
    {
     "data": {
      "text/plain": [
       "<AxesSubplot:>"
      ]
     },
     "execution_count": 249,
     "metadata": {},
     "output_type": "execute_result"
    },
    {
     "data": {
      "image/png": "[encoded data removed]",
      "text/plain": [
       "<Figure size 432x288 with 1 Axes>"
      ]
     },
     "metadata": {
      "needs_background": "light"
     },
     "output_type": "display_data"
    }
   ],
   "source": [
    "train['enginePower'].hist(bins=77)"
   ]
  },
  {
   "cell_type": "code",
   "execution_count": 250,
   "metadata": {},
   "outputs": [
    {
     "data": {
      "text/plain": [
       "count    74009.000000\n",
       "mean       175.236309\n",
       "std         86.710744\n",
       "min         11.000000\n",
       "25%        117.000000\n",
       "50%        150.000000\n",
       "75%        200.000000\n",
       "max        800.000000\n",
       "Name: enginePower, dtype: float64"
      ]
     },
     "execution_count": 250,
     "metadata": {},
     "output_type": "execute_result"
    }
   ],
   "source": [
    "train.enginePower.describe()"
   ]
  },
  {
   "cell_type": "code",
   "execution_count": 251,
   "metadata": {},
   "outputs": [
    {
     "data": {
      "text/html": [
       "<div>\n",
       "<style scoped>\n",
       "    .dataframe tbody tr th:only-of-type {\n",
       "        vertical-align: middle;\n",
       "    }\n",
       "\n",
       "    .dataframe tbody tr th {\n",
       "        vertical-align: top;\n",
       "    }\n",
       "\n",
       "    .dataframe thead th {\n",
       "        text-align: right;\n",
       "    }\n",
       "</style>\n",
       "<table border=\"1\" class=\"dataframe\">\n",
       "  <thead>\n",
       "    <tr style=\"text-align: right;\">\n",
       "      <th></th>\n",
       "      <th>bodyType</th>\n",
       "      <th>brand</th>\n",
       "      <th>color</th>\n",
       "      <th>engineDisplacement</th>\n",
       "      <th>enginePower</th>\n",
       "      <th>fuelType</th>\n",
       "      <th>mileage</th>\n",
       "      <th>modelDate</th>\n",
       "      <th>model_name</th>\n",
       "      <th>numberOfDoors</th>\n",
       "      <th>productionDate</th>\n",
       "      <th>sell_id</th>\n",
       "      <th>vehicleTransmission</th>\n",
       "      <th>vendor</th>\n",
       "      <th>Владельцы</th>\n",
       "      <th>ПТС</th>\n",
       "      <th>Привод</th>\n",
       "      <th>Руль</th>\n",
       "      <th>price_RUR</th>\n",
       "      <th>log_price</th>\n",
       "      <th>офДил</th>\n",
       "      <th>климат</th>\n",
       "      <th>подБез</th>\n",
       "      <th>усилРуля</th>\n",
       "      <th>отл</th>\n",
       "      <th>хор</th>\n",
       "      <th>цЗамок</th>\n",
       "      <th>эПодъм</th>\n",
       "      <th>бКомп</th>\n",
       "      <th>gearbox</th>\n",
       "      <th>drive4WD</th>\n",
       "      <th>engine_type</th>\n",
       "      <th>clearance_min</th>\n",
       "    </tr>\n",
       "  </thead>\n",
       "  <tbody>\n",
       "    <tr>\n",
       "      <th>16392</th>\n",
       "      <td>Кабриолет</td>\n",
       "      <td>FORD</td>\n",
       "      <td>007F00</td>\n",
       "      <td>2.9</td>\n",
       "      <td>20</td>\n",
       "      <td>бензин</td>\n",
       "      <td>1000</td>\n",
       "      <td>1908</td>\n",
       "      <td>MODEL_T</td>\n",
       "      <td>2</td>\n",
       "      <td>1923</td>\n",
       "      <td>1082754038</td>\n",
       "      <td>MECHANICAL</td>\n",
       "      <td>AMERICAN</td>\n",
       "      <td>1.0</td>\n",
       "      <td>ORIGINAL</td>\n",
       "      <td>задний</td>\n",
       "      <td>LEFT</td>\n",
       "      <td>3800000.0</td>\n",
       "      <td>15.150512</td>\n",
       "      <td>0</td>\n",
       "      <td>0</td>\n",
       "      <td>0</td>\n",
       "      <td>0</td>\n",
       "      <td>0</td>\n",
       "      <td>0</td>\n",
       "      <td>0</td>\n",
       "      <td>0</td>\n",
       "      <td>0</td>\n",
       "      <td>MT</td>\n",
       "      <td>0</td>\n",
       "      <td>GASOLINE</td>\n",
       "      <td>160</td>\n",
       "    </tr>\n",
       "    <tr>\n",
       "      <th>49350</th>\n",
       "      <td>Купе</td>\n",
       "      <td>RENAULT</td>\n",
       "      <td>040001</td>\n",
       "      <td>2.0</td>\n",
       "      <td>11</td>\n",
       "      <td>электро</td>\n",
       "      <td>1800</td>\n",
       "      <td>2011</td>\n",
       "      <td>TWIZY</td>\n",
       "      <td>2</td>\n",
       "      <td>2016</td>\n",
       "      <td>1099636760</td>\n",
       "      <td>AUTOMATIC</td>\n",
       "      <td>EUROPEAN</td>\n",
       "      <td>2.0</td>\n",
       "      <td>ORIGINAL</td>\n",
       "      <td>задний</td>\n",
       "      <td>LEFT</td>\n",
       "      <td>549000.0</td>\n",
       "      <td>13.215854</td>\n",
       "      <td>0</td>\n",
       "      <td>0</td>\n",
       "      <td>0</td>\n",
       "      <td>0</td>\n",
       "      <td>0</td>\n",
       "      <td>0</td>\n",
       "      <td>0</td>\n",
       "      <td>0</td>\n",
       "      <td>0</td>\n",
       "      <td>AT</td>\n",
       "      <td>0</td>\n",
       "      <td>ELECTRO</td>\n",
       "      <td>120</td>\n",
       "    </tr>\n",
       "  </tbody>\n",
       "</table>\n",
       "</div>"
      ],
      "text/plain": [
       "        bodyType    brand   color  engineDisplacement  enginePower fuelType  \\\n",
       "16392  Кабриолет     FORD  007F00                 2.9           20   бензин   \n",
       "49350       Купе  RENAULT  040001                 2.0           11  электро   \n",
       "\n",
       "       mileage  modelDate model_name  numberOfDoors  productionDate  \\\n",
       "16392     1000       1908    MODEL_T              2            1923   \n",
       "49350     1800       2011      TWIZY              2            2016   \n",
       "\n",
       "          sell_id vehicleTransmission    vendor  Владельцы       ПТС  Привод  \\\n",
       "16392  1082754038          MECHANICAL  AMERICAN        1.0  ORIGINAL  задний   \n",
       "49350  1099636760           AUTOMATIC  EUROPEAN        2.0  ORIGINAL  задний   \n",
       "\n",
       "       Руль  price_RUR  log_price  офДил  климат  подБез  усилРуля  отл  хор  \\\n",
       "16392  LEFT  3800000.0  15.150512      0       0       0         0    0    0   \n",
       "49350  LEFT   549000.0  13.215854      0       0       0         0    0    0   \n",
       "\n",
       "       цЗамок  эПодъм  бКомп gearbox  drive4WD engine_type  clearance_min  \n",
       "16392       0       0      0      MT         0    GASOLINE            160  \n",
       "49350       0       0      0      AT         0     ELECTRO            120  "
      ]
     },
     "execution_count": 251,
     "metadata": {},
     "output_type": "execute_result"
    }
   ],
   "source": [
    "train[train.enginePower < 30]"
   ]
  },
  {
   "cell_type": "markdown",
   "metadata": {},
   "source": [
    "Раритетный автомобиль 1923 года может иметь маленькую мощность, но не автомобиль 2016 года."
   ]
  },
  {
   "cell_type": "code",
   "execution_count": 252,
   "metadata": {},
   "outputs": [],
   "source": [
    "# Заменим на 150\n",
    "mask = train['enginePower']==11\n",
    "train.loc[mask, 'enginePower'] = 150"
   ]
  },
  {
   "cell_type": "code",
   "execution_count": 253,
   "metadata": {},
   "outputs": [
    {
     "data": {
      "text/html": [
       "<div>\n",
       "<style scoped>\n",
       "    .dataframe tbody tr th:only-of-type {\n",
       "        vertical-align: middle;\n",
       "    }\n",
       "\n",
       "    .dataframe tbody tr th {\n",
       "        vertical-align: top;\n",
       "    }\n",
       "\n",
       "    .dataframe thead th {\n",
       "        text-align: right;\n",
       "    }\n",
       "</style>\n",
       "<table border=\"1\" class=\"dataframe\">\n",
       "  <thead>\n",
       "    <tr style=\"text-align: right;\">\n",
       "      <th></th>\n",
       "      <th>bodyType</th>\n",
       "      <th>brand</th>\n",
       "      <th>color</th>\n",
       "      <th>engineDisplacement</th>\n",
       "      <th>enginePower</th>\n",
       "      <th>fuelType</th>\n",
       "      <th>mileage</th>\n",
       "      <th>modelDate</th>\n",
       "      <th>model_name</th>\n",
       "      <th>numberOfDoors</th>\n",
       "      <th>productionDate</th>\n",
       "      <th>sell_id</th>\n",
       "      <th>vehicleTransmission</th>\n",
       "      <th>vendor</th>\n",
       "      <th>Владельцы</th>\n",
       "      <th>ПТС</th>\n",
       "      <th>Привод</th>\n",
       "      <th>Руль</th>\n",
       "      <th>price_RUR</th>\n",
       "      <th>log_price</th>\n",
       "      <th>офДил</th>\n",
       "      <th>климат</th>\n",
       "      <th>подБез</th>\n",
       "      <th>усилРуля</th>\n",
       "      <th>отл</th>\n",
       "      <th>хор</th>\n",
       "      <th>цЗамок</th>\n",
       "      <th>эПодъм</th>\n",
       "      <th>бКомп</th>\n",
       "      <th>gearbox</th>\n",
       "      <th>drive4WD</th>\n",
       "      <th>engine_type</th>\n",
       "      <th>clearance_min</th>\n",
       "    </tr>\n",
       "  </thead>\n",
       "  <tbody>\n",
       "    <tr>\n",
       "      <th>3372</th>\n",
       "      <td>Универсал 5 дв.</td>\n",
       "      <td>AUDI</td>\n",
       "      <td>22A0F8</td>\n",
       "      <td>4.0</td>\n",
       "      <td>605</td>\n",
       "      <td>бензин</td>\n",
       "      <td>29620</td>\n",
       "      <td>2014</td>\n",
       "      <td>RS6</td>\n",
       "      <td>5</td>\n",
       "      <td>2017</td>\n",
       "      <td>1101741980</td>\n",
       "      <td>AUTOMATIC</td>\n",
       "      <td>EUROPEAN</td>\n",
       "      <td>2.0</td>\n",
       "      <td>ORIGINAL</td>\n",
       "      <td>полный</td>\n",
       "      <td>LEFT</td>\n",
       "      <td>6050000.0</td>\n",
       "      <td>15.615569</td>\n",
       "      <td>0</td>\n",
       "      <td>0</td>\n",
       "      <td>0</td>\n",
       "      <td>0</td>\n",
       "      <td>0</td>\n",
       "      <td>0</td>\n",
       "      <td>0</td>\n",
       "      <td>0</td>\n",
       "      <td>0</td>\n",
       "      <td>AT</td>\n",
       "      <td>1</td>\n",
       "      <td>GASOLINE</td>\n",
       "      <td>110</td>\n",
       "    </tr>\n",
       "    <tr>\n",
       "      <th>3380</th>\n",
       "      <td>Лифтбек Sportback</td>\n",
       "      <td>AUDI</td>\n",
       "      <td>0000CC</td>\n",
       "      <td>4.0</td>\n",
       "      <td>605</td>\n",
       "      <td>бензин</td>\n",
       "      <td>17000</td>\n",
       "      <td>2014</td>\n",
       "      <td>RS7</td>\n",
       "      <td>5</td>\n",
       "      <td>2016</td>\n",
       "      <td>1101734424</td>\n",
       "      <td>AUTOMATIC</td>\n",
       "      <td>EUROPEAN</td>\n",
       "      <td>2.0</td>\n",
       "      <td>ORIGINAL</td>\n",
       "      <td>полный</td>\n",
       "      <td>LEFT</td>\n",
       "      <td>5600000.0</td>\n",
       "      <td>15.538277</td>\n",
       "      <td>0</td>\n",
       "      <td>0</td>\n",
       "      <td>0</td>\n",
       "      <td>0</td>\n",
       "      <td>0</td>\n",
       "      <td>0</td>\n",
       "      <td>0</td>\n",
       "      <td>0</td>\n",
       "      <td>0</td>\n",
       "      <td>AT</td>\n",
       "      <td>1</td>\n",
       "      <td>GASOLINE</td>\n",
       "      <td>110</td>\n",
       "    </tr>\n",
       "    <tr>\n",
       "      <th>3381</th>\n",
       "      <td>Лифтбек Sportback</td>\n",
       "      <td>AUDI</td>\n",
       "      <td>040001</td>\n",
       "      <td>4.0</td>\n",
       "      <td>605</td>\n",
       "      <td>бензин</td>\n",
       "      <td>35395</td>\n",
       "      <td>2014</td>\n",
       "      <td>RS7</td>\n",
       "      <td>5</td>\n",
       "      <td>2016</td>\n",
       "      <td>1101787478</td>\n",
       "      <td>AUTOMATIC</td>\n",
       "      <td>EUROPEAN</td>\n",
       "      <td>2.0</td>\n",
       "      <td>DUPLICATE</td>\n",
       "      <td>полный</td>\n",
       "      <td>LEFT</td>\n",
       "      <td>5399000.0</td>\n",
       "      <td>15.501724</td>\n",
       "      <td>0</td>\n",
       "      <td>0</td>\n",
       "      <td>0</td>\n",
       "      <td>0</td>\n",
       "      <td>1</td>\n",
       "      <td>0</td>\n",
       "      <td>0</td>\n",
       "      <td>0</td>\n",
       "      <td>0</td>\n",
       "      <td>AT</td>\n",
       "      <td>1</td>\n",
       "      <td>GASOLINE</td>\n",
       "      <td>110</td>\n",
       "    </tr>\n",
       "    <tr>\n",
       "      <th>3382</th>\n",
       "      <td>Лифтбек Sportback</td>\n",
       "      <td>AUDI</td>\n",
       "      <td>CACECB</td>\n",
       "      <td>4.0</td>\n",
       "      <td>605</td>\n",
       "      <td>бензин</td>\n",
       "      <td>53000</td>\n",
       "      <td>2014</td>\n",
       "      <td>RS7</td>\n",
       "      <td>5</td>\n",
       "      <td>2016</td>\n",
       "      <td>1101526187</td>\n",
       "      <td>AUTOMATIC</td>\n",
       "      <td>EUROPEAN</td>\n",
       "      <td>1.0</td>\n",
       "      <td>ORIGINAL</td>\n",
       "      <td>полный</td>\n",
       "      <td>LEFT</td>\n",
       "      <td>5100000.0</td>\n",
       "      <td>15.444751</td>\n",
       "      <td>0</td>\n",
       "      <td>0</td>\n",
       "      <td>0</td>\n",
       "      <td>0</td>\n",
       "      <td>0</td>\n",
       "      <td>0</td>\n",
       "      <td>0</td>\n",
       "      <td>0</td>\n",
       "      <td>0</td>\n",
       "      <td>AT</td>\n",
       "      <td>1</td>\n",
       "      <td>GASOLINE</td>\n",
       "      <td>110</td>\n",
       "    </tr>\n",
       "    <tr>\n",
       "      <th>3424</th>\n",
       "      <td>Седан</td>\n",
       "      <td>AUDI</td>\n",
       "      <td>0000CC</td>\n",
       "      <td>4.0</td>\n",
       "      <td>605</td>\n",
       "      <td>бензин</td>\n",
       "      <td>46842</td>\n",
       "      <td>2013</td>\n",
       "      <td>S8</td>\n",
       "      <td>4</td>\n",
       "      <td>2016</td>\n",
       "      <td>1101908047</td>\n",
       "      <td>AUTOMATIC</td>\n",
       "      <td>EUROPEAN</td>\n",
       "      <td>2.0</td>\n",
       "      <td>ORIGINAL</td>\n",
       "      <td>полный</td>\n",
       "      <td>LEFT</td>\n",
       "      <td>5250000.0</td>\n",
       "      <td>15.473739</td>\n",
       "      <td>0</td>\n",
       "      <td>0</td>\n",
       "      <td>0</td>\n",
       "      <td>0</td>\n",
       "      <td>1</td>\n",
       "      <td>0</td>\n",
       "      <td>0</td>\n",
       "      <td>0</td>\n",
       "      <td>0</td>\n",
       "      <td>AT</td>\n",
       "      <td>1</td>\n",
       "      <td>GASOLINE</td>\n",
       "      <td>140</td>\n",
       "    </tr>\n",
       "    <tr>\n",
       "      <th>...</th>\n",
       "      <td>...</td>\n",
       "      <td>...</td>\n",
       "      <td>...</td>\n",
       "      <td>...</td>\n",
       "      <td>...</td>\n",
       "      <td>...</td>\n",
       "      <td>...</td>\n",
       "      <td>...</td>\n",
       "      <td>...</td>\n",
       "      <td>...</td>\n",
       "      <td>...</td>\n",
       "      <td>...</td>\n",
       "      <td>...</td>\n",
       "      <td>...</td>\n",
       "      <td>...</td>\n",
       "      <td>...</td>\n",
       "      <td>...</td>\n",
       "      <td>...</td>\n",
       "      <td>...</td>\n",
       "      <td>...</td>\n",
       "      <td>...</td>\n",
       "      <td>...</td>\n",
       "      <td>...</td>\n",
       "      <td>...</td>\n",
       "      <td>...</td>\n",
       "      <td>...</td>\n",
       "      <td>...</td>\n",
       "      <td>...</td>\n",
       "      <td>...</td>\n",
       "      <td>...</td>\n",
       "      <td>...</td>\n",
       "      <td>...</td>\n",
       "      <td>...</td>\n",
       "    </tr>\n",
       "    <tr>\n",
       "      <th>72822</th>\n",
       "      <td>Купе</td>\n",
       "      <td>MERCEDES</td>\n",
       "      <td>FAFBFB</td>\n",
       "      <td>4.0</td>\n",
       "      <td>612</td>\n",
       "      <td>бензин</td>\n",
       "      <td>18000</td>\n",
       "      <td>2017</td>\n",
       "      <td>S_KLASSE_AMG</td>\n",
       "      <td>2</td>\n",
       "      <td>2019</td>\n",
       "      <td>1102014976</td>\n",
       "      <td>AUTOMATIC</td>\n",
       "      <td>EUROPEAN</td>\n",
       "      <td>1.0</td>\n",
       "      <td>ORIGINAL</td>\n",
       "      <td>полный</td>\n",
       "      <td>LEFT</td>\n",
       "      <td>10200000.0</td>\n",
       "      <td>16.137898</td>\n",
       "      <td>0</td>\n",
       "      <td>0</td>\n",
       "      <td>0</td>\n",
       "      <td>0</td>\n",
       "      <td>0</td>\n",
       "      <td>0</td>\n",
       "      <td>0</td>\n",
       "      <td>0</td>\n",
       "      <td>0</td>\n",
       "      <td>AT</td>\n",
       "      <td>1</td>\n",
       "      <td>GASOLINE</td>\n",
       "      <td>160</td>\n",
       "    </tr>\n",
       "    <tr>\n",
       "      <th>72824</th>\n",
       "      <td>Седан</td>\n",
       "      <td>MERCEDES</td>\n",
       "      <td>040001</td>\n",
       "      <td>4.0</td>\n",
       "      <td>612</td>\n",
       "      <td>бензин</td>\n",
       "      <td>43643</td>\n",
       "      <td>2017</td>\n",
       "      <td>S_KLASSE_AMG</td>\n",
       "      <td>4</td>\n",
       "      <td>2019</td>\n",
       "      <td>1101432524</td>\n",
       "      <td>AUTOMATIC</td>\n",
       "      <td>EUROPEAN</td>\n",
       "      <td>1.0</td>\n",
       "      <td>ORIGINAL</td>\n",
       "      <td>полный</td>\n",
       "      <td>LEFT</td>\n",
       "      <td>9658000.0</td>\n",
       "      <td>16.083297</td>\n",
       "      <td>0</td>\n",
       "      <td>0</td>\n",
       "      <td>0</td>\n",
       "      <td>0</td>\n",
       "      <td>0</td>\n",
       "      <td>0</td>\n",
       "      <td>0</td>\n",
       "      <td>0</td>\n",
       "      <td>0</td>\n",
       "      <td>AT</td>\n",
       "      <td>1</td>\n",
       "      <td>GASOLINE</td>\n",
       "      <td>160</td>\n",
       "    </tr>\n",
       "    <tr>\n",
       "      <th>72826</th>\n",
       "      <td>Седан</td>\n",
       "      <td>MERCEDES</td>\n",
       "      <td>040001</td>\n",
       "      <td>4.0</td>\n",
       "      <td>612</td>\n",
       "      <td>бензин</td>\n",
       "      <td>17000</td>\n",
       "      <td>2017</td>\n",
       "      <td>S_KLASSE_AMG</td>\n",
       "      <td>4</td>\n",
       "      <td>2017</td>\n",
       "      <td>1099229048</td>\n",
       "      <td>AUTOMATIC</td>\n",
       "      <td>EUROPEAN</td>\n",
       "      <td>3.0</td>\n",
       "      <td>ORIGINAL</td>\n",
       "      <td>полный</td>\n",
       "      <td>LEFT</td>\n",
       "      <td>9900000.0</td>\n",
       "      <td>16.108045</td>\n",
       "      <td>0</td>\n",
       "      <td>0</td>\n",
       "      <td>0</td>\n",
       "      <td>0</td>\n",
       "      <td>0</td>\n",
       "      <td>0</td>\n",
       "      <td>0</td>\n",
       "      <td>0</td>\n",
       "      <td>0</td>\n",
       "      <td>AT</td>\n",
       "      <td>1</td>\n",
       "      <td>GASOLINE</td>\n",
       "      <td>160</td>\n",
       "    </tr>\n",
       "    <tr>\n",
       "      <th>72832</th>\n",
       "      <td>Седан</td>\n",
       "      <td>MERCEDES</td>\n",
       "      <td>040001</td>\n",
       "      <td>4.0</td>\n",
       "      <td>612</td>\n",
       "      <td>бензин</td>\n",
       "      <td>27000</td>\n",
       "      <td>2017</td>\n",
       "      <td>S_KLASSE_AMG</td>\n",
       "      <td>4</td>\n",
       "      <td>2018</td>\n",
       "      <td>1101700536</td>\n",
       "      <td>AUTOMATIC</td>\n",
       "      <td>EUROPEAN</td>\n",
       "      <td>1.0</td>\n",
       "      <td>ORIGINAL</td>\n",
       "      <td>полный</td>\n",
       "      <td>LEFT</td>\n",
       "      <td>9850000.0</td>\n",
       "      <td>16.102982</td>\n",
       "      <td>0</td>\n",
       "      <td>0</td>\n",
       "      <td>0</td>\n",
       "      <td>0</td>\n",
       "      <td>0</td>\n",
       "      <td>0</td>\n",
       "      <td>0</td>\n",
       "      <td>0</td>\n",
       "      <td>0</td>\n",
       "      <td>AT</td>\n",
       "      <td>1</td>\n",
       "      <td>GASOLINE</td>\n",
       "      <td>160</td>\n",
       "    </tr>\n",
       "    <tr>\n",
       "      <th>72902</th>\n",
       "      <td>Купе</td>\n",
       "      <td>MERCEDES</td>\n",
       "      <td>97948F</td>\n",
       "      <td>5.4</td>\n",
       "      <td>626</td>\n",
       "      <td>бензин</td>\n",
       "      <td>15000</td>\n",
       "      <td>2003</td>\n",
       "      <td>SLR_KLASSE</td>\n",
       "      <td>2</td>\n",
       "      <td>2004</td>\n",
       "      <td>1091464138</td>\n",
       "      <td>AUTOMATIC</td>\n",
       "      <td>EUROPEAN</td>\n",
       "      <td>3.0</td>\n",
       "      <td>DUPLICATE</td>\n",
       "      <td>задний</td>\n",
       "      <td>LEFT</td>\n",
       "      <td>23900000.0</td>\n",
       "      <td>16.989389</td>\n",
       "      <td>1</td>\n",
       "      <td>0</td>\n",
       "      <td>1</td>\n",
       "      <td>1</td>\n",
       "      <td>0</td>\n",
       "      <td>0</td>\n",
       "      <td>0</td>\n",
       "      <td>0</td>\n",
       "      <td>0</td>\n",
       "      <td>AT</td>\n",
       "      <td>0</td>\n",
       "      <td>GASOLINE</td>\n",
       "      <td>120</td>\n",
       "    </tr>\n",
       "  </tbody>\n",
       "</table>\n",
       "<p>248 rows × 33 columns</p>\n",
       "</div>"
      ],
      "text/plain": [
       "                bodyType     brand   color  engineDisplacement  enginePower  \\\n",
       "3372     Универсал 5 дв.      AUDI  22A0F8                 4.0          605   \n",
       "3380   Лифтбек Sportback      AUDI  0000CC                 4.0          605   \n",
       "3381   Лифтбек Sportback      AUDI  040001                 4.0          605   \n",
       "3382   Лифтбек Sportback      AUDI  CACECB                 4.0          605   \n",
       "3424               Седан      AUDI  0000CC                 4.0          605   \n",
       "...                  ...       ...     ...                 ...          ...   \n",
       "72822               Купе  MERCEDES  FAFBFB                 4.0          612   \n",
       "72824              Седан  MERCEDES  040001                 4.0          612   \n",
       "72826              Седан  MERCEDES  040001                 4.0          612   \n",
       "72832              Седан  MERCEDES  040001                 4.0          612   \n",
       "72902               Купе  MERCEDES  97948F                 5.4          626   \n",
       "\n",
       "      fuelType  mileage  modelDate    model_name  numberOfDoors  \\\n",
       "3372    бензин    29620       2014           RS6              5   \n",
       "3380    бензин    17000       2014           RS7              5   \n",
       "3381    бензин    35395       2014           RS7              5   \n",
       "3382    бензин    53000       2014           RS7              5   \n",
       "3424    бензин    46842       2013            S8              4   \n",
       "...        ...      ...        ...           ...            ...   \n",
       "72822   бензин    18000       2017  S_KLASSE_AMG              2   \n",
       "72824   бензин    43643       2017  S_KLASSE_AMG              4   \n",
       "72826   бензин    17000       2017  S_KLASSE_AMG              4   \n",
       "72832   бензин    27000       2017  S_KLASSE_AMG              4   \n",
       "72902   бензин    15000       2003    SLR_KLASSE              2   \n",
       "\n",
       "       productionDate     sell_id vehicleTransmission    vendor  Владельцы  \\\n",
       "3372             2017  1101741980           AUTOMATIC  EUROPEAN        2.0   \n",
       "3380             2016  1101734424           AUTOMATIC  EUROPEAN        2.0   \n",
       "3381             2016  1101787478           AUTOMATIC  EUROPEAN        2.0   \n",
       "3382             2016  1101526187           AUTOMATIC  EUROPEAN        1.0   \n",
       "3424             2016  1101908047           AUTOMATIC  EUROPEAN        2.0   \n",
       "...               ...         ...                 ...       ...        ...   \n",
       "72822            2019  1102014976           AUTOMATIC  EUROPEAN        1.0   \n",
       "72824            2019  1101432524           AUTOMATIC  EUROPEAN        1.0   \n",
       "72826            2017  1099229048           AUTOMATIC  EUROPEAN        3.0   \n",
       "72832            2018  1101700536           AUTOMATIC  EUROPEAN        1.0   \n",
       "72902            2004  1091464138           AUTOMATIC  EUROPEAN        3.0   \n",
       "\n",
       "             ПТС  Привод  Руль   price_RUR  log_price  офДил  климат  подБез  \\\n",
       "3372    ORIGINAL  полный  LEFT   6050000.0  15.615569      0       0       0   \n",
       "3380    ORIGINAL  полный  LEFT   5600000.0  15.538277      0       0       0   \n",
       "3381   DUPLICATE  полный  LEFT   5399000.0  15.501724      0       0       0   \n",
       "3382    ORIGINAL  полный  LEFT   5100000.0  15.444751      0       0       0   \n",
       "3424    ORIGINAL  полный  LEFT   5250000.0  15.473739      0       0       0   \n",
       "...          ...     ...   ...         ...        ...    ...     ...     ...   \n",
       "72822   ORIGINAL  полный  LEFT  10200000.0  16.137898      0       0       0   \n",
       "72824   ORIGINAL  полный  LEFT   9658000.0  16.083297      0       0       0   \n",
       "72826   ORIGINAL  полный  LEFT   9900000.0  16.108045      0       0       0   \n",
       "72832   ORIGINAL  полный  LEFT   9850000.0  16.102982      0       0       0   \n",
       "72902  DUPLICATE  задний  LEFT  23900000.0  16.989389      1       0       1   \n",
       "\n",
       "       усилРуля  отл  хор  цЗамок  эПодъм  бКомп gearbox  drive4WD  \\\n",
       "3372          0    0    0       0       0      0      AT         1   \n",
       "3380          0    0    0       0       0      0      AT         1   \n",
       "3381          0    1    0       0       0      0      AT         1   \n",
       "3382          0    0    0       0       0      0      AT         1   \n",
       "3424          0    1    0       0       0      0      AT         1   \n",
       "...         ...  ...  ...     ...     ...    ...     ...       ...   \n",
       "72822         0    0    0       0       0      0      AT         1   \n",
       "72824         0    0    0       0       0      0      AT         1   \n",
       "72826         0    0    0       0       0      0      AT         1   \n",
       "72832         0    0    0       0       0      0      AT         1   \n",
       "72902         1    0    0       0       0      0      AT         0   \n",
       "\n",
       "      engine_type  clearance_min  \n",
       "3372     GASOLINE            110  \n",
       "3380     GASOLINE            110  \n",
       "3381     GASOLINE            110  \n",
       "3382     GASOLINE            110  \n",
       "3424     GASOLINE            140  \n",
       "...           ...            ...  \n",
       "72822    GASOLINE            160  \n",
       "72824    GASOLINE            160  \n",
       "72826    GASOLINE            160  \n",
       "72832    GASOLINE            160  \n",
       "72902    GASOLINE            120  \n",
       "\n",
       "[248 rows x 33 columns]"
      ]
     },
     "execution_count": 253,
     "metadata": {},
     "output_type": "execute_result"
    }
   ],
   "source": [
    "train[train.enginePower > 600]"
   ]
  },
  {
   "cell_type": "markdown",
   "metadata": {},
   "source": [
    "Верхняя граница выглядит вполне естественной."
   ]
  },
  {
   "cell_type": "markdown",
   "metadata": {},
   "source": [
    "### 4.14. productionDate"
   ]
  },
  {
   "cell_type": "code",
   "execution_count": 254,
   "metadata": {},
   "outputs": [
    {
     "data": {
      "text/plain": [
       "2012    2798\n",
       "2008    2606\n",
       "2011    2589\n",
       "2013    2488\n",
       "2014    2134\n",
       "        ... \n",
       "1936       1\n",
       "1904       1\n",
       "1967       1\n",
       "1960       1\n",
       "1952       1\n",
       "Name: productionDate, Length: 69, dtype: int64"
      ]
     },
     "execution_count": 254,
     "metadata": {},
     "output_type": "execute_result"
    }
   ],
   "source": [
    "test.productionDate.value_counts()"
   ]
  },
  {
   "cell_type": "code",
   "execution_count": 255,
   "metadata": {},
   "outputs": [],
   "source": [
    "# расчитаем возраст автомобиля\n",
    "train['years_old'] = 2021 - train['productionDate']\n",
    "test['years_old'] = 2021 - test['productionDate']"
   ]
  },
  {
   "cell_type": "code",
   "execution_count": 256,
   "metadata": {},
   "outputs": [
    {
     "data": {
      "text/plain": [
       "<AxesSubplot:>"
      ]
     },
     "execution_count": 256,
     "metadata": {},
     "output_type": "execute_result"
    },
    {
     "data": {
      "image/png": "[encoded data removed]",
      "text/plain": [
       "<Figure size 432x288 with 1 Axes>"
      ]
     },
     "metadata": {
      "needs_background": "light"
     },
     "output_type": "display_data"
    }
   ],
   "source": [
    "train.years_old.hist(bins=40)"
   ]
  },
  {
   "cell_type": "code",
   "execution_count": 257,
   "metadata": {},
   "outputs": [
    {
     "data": {
      "text/plain": [
       "count    74009.000000\n",
       "mean         7.864462\n",
       "std          7.210088\n",
       "min          0.000000\n",
       "25%          1.000000\n",
       "50%          7.000000\n",
       "75%         12.000000\n",
       "max        117.000000\n",
       "Name: years_old, dtype: float64"
      ]
     },
     "execution_count": 257,
     "metadata": {},
     "output_type": "execute_result"
    }
   ],
   "source": [
    "train.years_old.describe()"
   ]
  },
  {
   "cell_type": "code",
   "execution_count": 258,
   "metadata": {},
   "outputs": [
    {
     "data": {
      "text/plain": [
       "count    34686.000000\n",
       "mean        11.735398\n",
       "std          7.047661\n",
       "min          1.000000\n",
       "25%          7.000000\n",
       "50%         10.000000\n",
       "75%         15.000000\n",
       "max        117.000000\n",
       "Name: years_old, dtype: float64"
      ]
     },
     "execution_count": 258,
     "metadata": {},
     "output_type": "execute_result"
    }
   ],
   "source": [
    "test.years_old.describe()"
   ]
  },
  {
   "cell_type": "code",
   "execution_count": 259,
   "metadata": {},
   "outputs": [
    {
     "data": {
      "text/html": [
       "<div>\n",
       "<style scoped>\n",
       "    .dataframe tbody tr th:only-of-type {\n",
       "        vertical-align: middle;\n",
       "    }\n",
       "\n",
       "    .dataframe tbody tr th {\n",
       "        vertical-align: top;\n",
       "    }\n",
       "\n",
       "    .dataframe thead th {\n",
       "        text-align: right;\n",
       "    }\n",
       "</style>\n",
       "<table border=\"1\" class=\"dataframe\">\n",
       "  <thead>\n",
       "    <tr style=\"text-align: right;\">\n",
       "      <th></th>\n",
       "      <th>bodyType</th>\n",
       "      <th>brand</th>\n",
       "      <th>color</th>\n",
       "      <th>engineDisplacement</th>\n",
       "      <th>enginePower</th>\n",
       "      <th>fuelType</th>\n",
       "      <th>mileage</th>\n",
       "      <th>modelDate</th>\n",
       "      <th>model_name</th>\n",
       "      <th>numberOfDoors</th>\n",
       "      <th>productionDate</th>\n",
       "      <th>sell_id</th>\n",
       "      <th>vehicleTransmission</th>\n",
       "      <th>vendor</th>\n",
       "      <th>Владельцы</th>\n",
       "      <th>ПТС</th>\n",
       "      <th>Привод</th>\n",
       "      <th>Руль</th>\n",
       "      <th>офДил</th>\n",
       "      <th>климат</th>\n",
       "      <th>подБез</th>\n",
       "      <th>усилРуля</th>\n",
       "      <th>отл</th>\n",
       "      <th>хор</th>\n",
       "      <th>цЗамок</th>\n",
       "      <th>эПодъм</th>\n",
       "      <th>бКомп</th>\n",
       "      <th>gearbox</th>\n",
       "      <th>drive4WD</th>\n",
       "      <th>engine_type</th>\n",
       "      <th>clearance_min</th>\n",
       "      <th>years_old</th>\n",
       "    </tr>\n",
       "  </thead>\n",
       "  <tbody>\n",
       "    <tr>\n",
       "      <th>1777</th>\n",
       "      <td>хэтчбек 3 дв.</td>\n",
       "      <td>SKODA</td>\n",
       "      <td>чёрный</td>\n",
       "      <td>1.1</td>\n",
       "      <td>30</td>\n",
       "      <td>бензин</td>\n",
       "      <td>14000</td>\n",
       "      <td>1934</td>\n",
       "      <td>POPULAR</td>\n",
       "      <td>3</td>\n",
       "      <td>1939</td>\n",
       "      <td>1097046168</td>\n",
       "      <td>механическая</td>\n",
       "      <td>EUROPEAN</td>\n",
       "      <td>3 или более</td>\n",
       "      <td>Оригинал</td>\n",
       "      <td>задний</td>\n",
       "      <td>Левый</td>\n",
       "      <td>0</td>\n",
       "      <td>0</td>\n",
       "      <td>0</td>\n",
       "      <td>0</td>\n",
       "      <td>0</td>\n",
       "      <td>0</td>\n",
       "      <td>0</td>\n",
       "      <td>0</td>\n",
       "      <td>0</td>\n",
       "      <td>MT</td>\n",
       "      <td>0</td>\n",
       "      <td>GASOLINE</td>\n",
       "      <td>150</td>\n",
       "      <td>82</td>\n",
       "    </tr>\n",
       "    <tr>\n",
       "      <th>3174</th>\n",
       "      <td>седан</td>\n",
       "      <td>AUDI</td>\n",
       "      <td>чёрный</td>\n",
       "      <td>3.3</td>\n",
       "      <td>75</td>\n",
       "      <td>бензин</td>\n",
       "      <td>90000</td>\n",
       "      <td>1938</td>\n",
       "      <td>920</td>\n",
       "      <td>4</td>\n",
       "      <td>1938</td>\n",
       "      <td>1091525266</td>\n",
       "      <td>механическая</td>\n",
       "      <td>EUROPEAN</td>\n",
       "      <td>2 владельца</td>\n",
       "      <td>Оригинал</td>\n",
       "      <td>задний</td>\n",
       "      <td>Левый</td>\n",
       "      <td>0</td>\n",
       "      <td>0</td>\n",
       "      <td>0</td>\n",
       "      <td>0</td>\n",
       "      <td>0</td>\n",
       "      <td>0</td>\n",
       "      <td>0</td>\n",
       "      <td>0</td>\n",
       "      <td>0</td>\n",
       "      <td>MT</td>\n",
       "      <td>0</td>\n",
       "      <td>GASOLINE</td>\n",
       "      <td>150</td>\n",
       "      <td>83</td>\n",
       "    </tr>\n",
       "    <tr>\n",
       "      <th>9625</th>\n",
       "      <td>седан</td>\n",
       "      <td>BMW</td>\n",
       "      <td>бежевый</td>\n",
       "      <td>2.0</td>\n",
       "      <td>51</td>\n",
       "      <td>бензин</td>\n",
       "      <td>16000</td>\n",
       "      <td>1936</td>\n",
       "      <td>326</td>\n",
       "      <td>4</td>\n",
       "      <td>1937</td>\n",
       "      <td>1094373106</td>\n",
       "      <td>механическая</td>\n",
       "      <td>EUROPEAN</td>\n",
       "      <td>2 владельца</td>\n",
       "      <td>Оригинал</td>\n",
       "      <td>задний</td>\n",
       "      <td>Левый</td>\n",
       "      <td>0</td>\n",
       "      <td>0</td>\n",
       "      <td>0</td>\n",
       "      <td>0</td>\n",
       "      <td>0</td>\n",
       "      <td>0</td>\n",
       "      <td>0</td>\n",
       "      <td>0</td>\n",
       "      <td>0</td>\n",
       "      <td>MT</td>\n",
       "      <td>0</td>\n",
       "      <td>GASOLINE</td>\n",
       "      <td>150</td>\n",
       "      <td>84</td>\n",
       "    </tr>\n",
       "    <tr>\n",
       "      <th>9819</th>\n",
       "      <td>седан 2 дв.</td>\n",
       "      <td>BMW</td>\n",
       "      <td>чёрный</td>\n",
       "      <td>2.0</td>\n",
       "      <td>46</td>\n",
       "      <td>бензин</td>\n",
       "      <td>4500</td>\n",
       "      <td>1937</td>\n",
       "      <td>321</td>\n",
       "      <td>2</td>\n",
       "      <td>1937</td>\n",
       "      <td>1040149625</td>\n",
       "      <td>механическая</td>\n",
       "      <td>EUROPEAN</td>\n",
       "      <td>3 или более</td>\n",
       "      <td>Оригинал</td>\n",
       "      <td>задний</td>\n",
       "      <td>Левый</td>\n",
       "      <td>0</td>\n",
       "      <td>0</td>\n",
       "      <td>0</td>\n",
       "      <td>0</td>\n",
       "      <td>0</td>\n",
       "      <td>0</td>\n",
       "      <td>0</td>\n",
       "      <td>1</td>\n",
       "      <td>0</td>\n",
       "      <td>MT</td>\n",
       "      <td>0</td>\n",
       "      <td>GASOLINE</td>\n",
       "      <td>150</td>\n",
       "      <td>84</td>\n",
       "    </tr>\n",
       "    <tr>\n",
       "      <th>16891</th>\n",
       "      <td>седан</td>\n",
       "      <td>MERCEDES</td>\n",
       "      <td>красный</td>\n",
       "      <td>1.7</td>\n",
       "      <td>38</td>\n",
       "      <td>бензин</td>\n",
       "      <td>1</td>\n",
       "      <td>1936</td>\n",
       "      <td>W136</td>\n",
       "      <td>4</td>\n",
       "      <td>1936</td>\n",
       "      <td>1099428966</td>\n",
       "      <td>механическая</td>\n",
       "      <td>EUROPEAN</td>\n",
       "      <td>1 владелец</td>\n",
       "      <td>Оригинал</td>\n",
       "      <td>задний</td>\n",
       "      <td>Левый</td>\n",
       "      <td>0</td>\n",
       "      <td>0</td>\n",
       "      <td>0</td>\n",
       "      <td>0</td>\n",
       "      <td>0</td>\n",
       "      <td>0</td>\n",
       "      <td>0</td>\n",
       "      <td>0</td>\n",
       "      <td>0</td>\n",
       "      <td>MT</td>\n",
       "      <td>0</td>\n",
       "      <td>GASOLINE</td>\n",
       "      <td>150</td>\n",
       "      <td>85</td>\n",
       "    </tr>\n",
       "    <tr>\n",
       "      <th>16944</th>\n",
       "      <td>кабриолет</td>\n",
       "      <td>MERCEDES</td>\n",
       "      <td>белый</td>\n",
       "      <td>5.3</td>\n",
       "      <td>32</td>\n",
       "      <td>бензин</td>\n",
       "      <td>48000</td>\n",
       "      <td>1904</td>\n",
       "      <td>SIMPLEX</td>\n",
       "      <td>0</td>\n",
       "      <td>1904</td>\n",
       "      <td>1093802104</td>\n",
       "      <td>механическая</td>\n",
       "      <td>EUROPEAN</td>\n",
       "      <td>1 владелец</td>\n",
       "      <td>Оригинал</td>\n",
       "      <td>задний</td>\n",
       "      <td>Правый</td>\n",
       "      <td>0</td>\n",
       "      <td>0</td>\n",
       "      <td>0</td>\n",
       "      <td>0</td>\n",
       "      <td>0</td>\n",
       "      <td>0</td>\n",
       "      <td>0</td>\n",
       "      <td>0</td>\n",
       "      <td>0</td>\n",
       "      <td>MT</td>\n",
       "      <td>0</td>\n",
       "      <td>GASOLINE</td>\n",
       "      <td>150</td>\n",
       "      <td>117</td>\n",
       "    </tr>\n",
       "  </tbody>\n",
       "</table>\n",
       "</div>"
      ],
      "text/plain": [
       "            bodyType     brand    color  engineDisplacement  enginePower  \\\n",
       "1777   хэтчбек 3 дв.     SKODA   чёрный                 1.1           30   \n",
       "3174           седан      AUDI   чёрный                 3.3           75   \n",
       "9625           седан       BMW  бежевый                 2.0           51   \n",
       "9819     седан 2 дв.       BMW   чёрный                 2.0           46   \n",
       "16891          седан  MERCEDES  красный                 1.7           38   \n",
       "16944      кабриолет  MERCEDES    белый                 5.3           32   \n",
       "\n",
       "      fuelType  mileage  modelDate model_name  numberOfDoors  productionDate  \\\n",
       "1777    бензин    14000       1934    POPULAR              3            1939   \n",
       "3174    бензин    90000       1938        920              4            1938   \n",
       "9625    бензин    16000       1936        326              4            1937   \n",
       "9819    бензин     4500       1937        321              2            1937   \n",
       "16891   бензин        1       1936       W136              4            1936   \n",
       "16944   бензин    48000       1904    SIMPLEX              0            1904   \n",
       "\n",
       "          sell_id vehicleTransmission    vendor    Владельцы       ПТС  \\\n",
       "1777   1097046168        механическая  EUROPEAN  3 или более  Оригинал   \n",
       "3174   1091525266        механическая  EUROPEAN  2 владельца  Оригинал   \n",
       "9625   1094373106        механическая  EUROPEAN  2 владельца  Оригинал   \n",
       "9819   1040149625        механическая  EUROPEAN  3 или более  Оригинал   \n",
       "16891  1099428966        механическая  EUROPEAN   1 владелец  Оригинал   \n",
       "16944  1093802104        механическая  EUROPEAN   1 владелец  Оригинал   \n",
       "\n",
       "       Привод    Руль  офДил  климат  подБез  усилРуля  отл  хор  цЗамок  \\\n",
       "1777   задний   Левый      0       0       0         0    0    0       0   \n",
       "3174   задний   Левый      0       0       0         0    0    0       0   \n",
       "9625   задний   Левый      0       0       0         0    0    0       0   \n",
       "9819   задний   Левый      0       0       0         0    0    0       0   \n",
       "16891  задний   Левый      0       0       0         0    0    0       0   \n",
       "16944  задний  Правый      0       0       0         0    0    0       0   \n",
       "\n",
       "       эПодъм  бКомп gearbox  drive4WD engine_type  clearance_min  years_old  \n",
       "1777        0      0      MT         0    GASOLINE            150         82  \n",
       "3174        0      0      MT         0    GASOLINE            150         83  \n",
       "9625        0      0      MT         0    GASOLINE            150         84  \n",
       "9819        1      0      MT         0    GASOLINE            150         84  \n",
       "16891       0      0      MT         0    GASOLINE            150         85  \n",
       "16944       0      0      MT         0    GASOLINE            150        117  "
      ]
     },
     "execution_count": 259,
     "metadata": {},
     "output_type": "execute_result"
    }
   ],
   "source": [
    "test[test.years_old >= 80]"
   ]
  },
  {
   "cell_type": "code",
   "execution_count": 260,
   "metadata": {},
   "outputs": [],
   "source": [
    "# сам productionDate можно удалить: новый признак его заменяет полностью\n",
    "test.drop('productionDate', axis=1, inplace=True)\n",
    "train.drop('productionDate', axis=1, inplace=True)"
   ]
  },
  {
   "cell_type": "markdown",
   "metadata": {},
   "source": [
    "### 4.15. modelDate"
   ]
  },
  {
   "cell_type": "code",
   "execution_count": 261,
   "metadata": {},
   "outputs": [
    {
     "data": {
      "text/plain": [
       "2018    6461\n",
       "2017    6392\n",
       "2019    5718\n",
       "2020    4993\n",
       "2010    4151\n",
       "        ... \n",
       "1961       1\n",
       "1908       1\n",
       "1952       1\n",
       "1969       1\n",
       "1966       1\n",
       "Name: modelDate, Length: 72, dtype: int64"
      ]
     },
     "execution_count": 261,
     "metadata": {},
     "output_type": "execute_result"
    }
   ],
   "source": [
    "train.modelDate.value_counts()"
   ]
  },
  {
   "cell_type": "code",
   "execution_count": 262,
   "metadata": {},
   "outputs": [
    {
     "data": {
      "text/plain": [
       "2018    6461\n",
       "2017    6392\n",
       "2019    5718\n",
       "2020    4993\n",
       "2010    4151\n",
       "        ... \n",
       "1961       1\n",
       "1908       1\n",
       "1952       1\n",
       "1969       1\n",
       "1966       1\n",
       "Name: modelDate, Length: 72, dtype: int64"
      ]
     },
     "execution_count": 262,
     "metadata": {},
     "output_type": "execute_result"
    }
   ],
   "source": [
    "train.modelDate.value_counts()"
   ]
  },
  {
   "cell_type": "markdown",
   "metadata": {},
   "source": [
    "Наиболее распространены модели 2017 и 2018 года."
   ]
  },
  {
   "cell_type": "markdown",
   "metadata": {},
   "source": [
    "### 4.16. mileage"
   ]
  },
  {
   "cell_type": "code",
   "execution_count": 263,
   "metadata": {},
   "outputs": [
    {
     "data": {
      "text/plain": [
       "count      74009.000000\n",
       "mean      105103.500966\n",
       "std       104070.245786\n",
       "min            0.000000\n",
       "25%            0.000000\n",
       "50%        91620.000000\n",
       "75%       169538.000000\n",
       "max      1000000.000000\n",
       "Name: mileage, dtype: float64"
      ]
     },
     "execution_count": 263,
     "metadata": {},
     "output_type": "execute_result"
    }
   ],
   "source": [
    "train.mileage.describe()"
   ]
  },
  {
   "cell_type": "code",
   "execution_count": 264,
   "metadata": {},
   "outputs": [
    {
     "data": {
      "text/plain": [
       "years_old\n",
       "0         0.000000\n",
       "1       212.021154\n",
       "2     24140.490630\n",
       "3     51216.131832\n",
       "4     71665.126244\n",
       "5     88546.289226\n",
       "6    100813.407538\n",
       "7    115642.198191\n",
       "8    127827.793364\n",
       "9    138384.085661\n",
       "Name: mileage, dtype: float64"
      ]
     },
     "execution_count": 264,
     "metadata": {},
     "output_type": "execute_result"
    }
   ],
   "source": [
    "train.groupby('years_old').mileage.mean().head(10)"
   ]
  },
  {
   "cell_type": "markdown",
   "metadata": {},
   "source": [
    "В среднем за первый год машина проходит до 10 000 км, а после по 20 000"
   ]
  },
  {
   "cell_type": "code",
   "execution_count": 265,
   "metadata": {},
   "outputs": [
    {
     "data": {
      "text/plain": [
       "74632    0\n",
       "74635    0\n",
       "74641    0\n",
       "74646    0\n",
       "74647    0\n",
       "74648    0\n",
       "74649    1\n",
       "74650    1\n",
       "74651    1\n",
       "74652    1\n",
       "74653    1\n",
       "74655    1\n",
       "74660    1\n",
       "74664    1\n",
       "74666    1\n",
       "74670    1\n",
       "74673    1\n",
       "74680    0\n",
       "74682    0\n",
       "74687    1\n",
       "Name: years_old, dtype: int64"
      ]
     },
     "execution_count": 265,
     "metadata": {},
     "output_type": "execute_result"
    }
   ],
   "source": [
    "train[train.mileage == 0].years_old.tail(20)"
   ]
  },
  {
   "cell_type": "markdown",
   "metadata": {},
   "source": [
    "Машины новые, но 0 км всё же мало. Пока оставим как есть."
   ]
  },
  {
   "cell_type": "code",
   "execution_count": 266,
   "metadata": {},
   "outputs": [],
   "source": [
    "import plotly.graph_objs as go\n",
    "from plotly.offline import plot, iplot"
   ]
  },
  {
   "cell_type": "code",
   "execution_count": 267,
   "metadata": {},
   "outputs": [
    {
     "data": {
      "application/vnd.plotly.v1+json": {
       "config": {
        "linkText": "Export to plot.ly",
        "plotlyServerURL": "https://plot.ly",
        "showLink": false
       },
       "data": [
        {
         "name": "mileage",
         "type": "scatter",
         "x": [
          0,
          1,
          2,
          3,
          4,
          5,
          6,
          7,
          8,
          9,
          10,
          11,
          12,
          13,
          14,
          15,
          16,
          17,
          18,
          19,
          20,
          21,
          22,
          23,
          24,
          25,
          26,
          27,
          28,
          29,
          30,
          31,
          32,
          33,
          34,
          35,
          36,
          37,
          38,
          39,
          40,
          41,
          42,
          43,
          44,
          45,
          47,
          48,
          49,
          50,
          51,
          52,
          54,
          56,
          57,
          58,
          60,
          61,
          62,
          65,
          66,
          68,
          69,
          70,
          71,
          72,
          73,
          74,
          82,
          83,
          84,
          89,
          93,
          94,
          98,
          117
         ],
         "y": [
          0,
          4119359,
          56681872,
          138693285,
          208903843,
          244919036,
          286209264,
          421862739,
          523966125,
          594498032,
          558185091,
          434903503,
          245587599,
          722432593,
          597103892,
          406716488,
          281438750,
          253966207,
          218596700,
          194713271,
          192589839,
          171386018,
          156725499,
          174884665,
          143929121,
          81349124,
          69316425,
          64078421,
          56273519,
          60832358,
          51408570,
          37981707,
          28790035,
          23924724,
          18294770,
          10554972,
          10864652,
          8379513,
          6686257,
          3451398,
          2491743,
          1351300,
          2181297,
          2205611,
          358000,
          459111,
          241600,
          137000,
          317000,
          86000,
          218913,
          521292,
          75600,
          550000,
          256000,
          56000,
          10000,
          57200,
          455726,
          1,
          5000,
          1000,
          57200,
          20500,
          166488,
          314000,
          10,
          150000,
          285000,
          190520,
          16000,
          114655,
          2000,
          5000,
          1000,
          48000
         ]
        }
       ],
       "layout": {
        "template": {
         "data": {
          "bar": [
           {
            "error_x": {
             "color": "#2a3f5f"
            },
            "error_y": {
             "color": "#2a3f5f"
            },
            "marker": {
             "line": {
              "color": "#E5ECF6",
              "width": 0.5
             }
            },
            "type": "bar"
           }
          ],
          "barpolar": [
           {
            "marker": {
             "line": {
              "color": "#E5ECF6",
              "width": 0.5
             }
            },
            "type": "barpolar"
           }
          ],
          "carpet": [
           {
            "aaxis": {
             "endlinecolor": "#2a3f5f",
             "gridcolor": "white",
             "linecolor": "white",
             "minorgridcolor": "white",
             "startlinecolor": "#2a3f5f"
            },
            "baxis": {
             "endlinecolor": "#2a3f5f",
             "gridcolor": "white",
             "linecolor": "white",
             "minorgridcolor": "white",
             "startlinecolor": "#2a3f5f"
            },
            "type": "carpet"
           }
          ],
          "choropleth": [
           {
            "colorbar": {
             "outlinewidth": 0,
             "ticks": ""
            },
            "type": "choropleth"
           }
          ],
          "contour": [
           {
            "colorbar": {
             "outlinewidth": 0,
             "ticks": ""
            },
            "colorscale": [
             [
              0,
              "#0d0887"
             ],
             [
              0.1111111111111111,
              "#46039f"
             ],
             [
              0.2222222222222222,
              "#7201a8"
             ],
             [
              0.3333333333333333,
              "#9c179e"
             ],
             [
              0.4444444444444444,
              "#bd3786"
             ],
             [
              0.5555555555555556,
              "#d8576b"
             ],
             [
              0.6666666666666666,
              "#ed7953"
             ],
             [
              0.7777777777777778,
              "#fb9f3a"
             ],
             [
              0.8888888888888888,
              "#fdca26"
             ],
             [
              1,
              "#f0f921"
             ]
            ],
            "type": "contour"
           }
          ],
          "contourcarpet": [
           {
            "colorbar": {
             "outlinewidth": 0,
             "ticks": ""
            },
            "type": "contourcarpet"
           }
          ],
          "heatmap": [
           {
            "colorbar": {
             "outlinewidth": 0,
             "ticks": ""
            },
            "colorscale": [
             [
              0,
              "#0d0887"
             ],
             [
              0.1111111111111111,
              "#46039f"
             ],
             [
              0.2222222222222222,
              "#7201a8"
             ],
             [
              0.3333333333333333,
              "#9c179e"
             ],
             [
              0.4444444444444444,
              "#bd3786"
             ],
             [
              0.5555555555555556,
              "#d8576b"
             ],
             [
              0.6666666666666666,
              "#ed7953"
             ],
             [
              0.7777777777777778,
              "#fb9f3a"
             ],
             [
              0.8888888888888888,
              "#fdca26"
             ],
             [
              1,
              "#f0f921"
             ]
            ],
            "type": "heatmap"
           }
          ],
          "heatmapgl": [
           {
            "colorbar": {
             "outlinewidth": 0,
             "ticks": ""
            },
            "colorscale": [
             [
              0,
              "#0d0887"
             ],
             [
              0.1111111111111111,
              "#46039f"
             ],
             [
              0.2222222222222222,
              "#7201a8"
             ],
             [
              0.3333333333333333,
              "#9c179e"
             ],
             [
              0.4444444444444444,
              "#bd3786"
             ],
             [
              0.5555555555555556,
              "#d8576b"
             ],
             [
              0.6666666666666666,
              "#ed7953"
             ],
             [
              0.7777777777777778,
              "#fb9f3a"
             ],
             [
              0.8888888888888888,
              "#fdca26"
             ],
             [
              1,
              "#f0f921"
             ]
            ],
            "type": "heatmapgl"
           }
          ],
          "histogram": [
           {
            "marker": {
             "colorbar": {
              "outlinewidth": 0,
              "ticks": ""
             }
            },
            "type": "histogram"
           }
          ],
          "histogram2d": [
           {
            "colorbar": {
             "outlinewidth": 0,
             "ticks": ""
            },
            "colorscale": [
             [
              0,
              "#0d0887"
             ],
             [
              0.1111111111111111,
              "#46039f"
             ],
             [
              0.2222222222222222,
              "#7201a8"
             ],
             [
              0.3333333333333333,
              "#9c179e"
             ],
             [
              0.4444444444444444,
              "#bd3786"
             ],
             [
              0.5555555555555556,
              "#d8576b"
             ],
             [
              0.6666666666666666,
              "#ed7953"
             ],
             [
              0.7777777777777778,
              "#fb9f3a"
             ],
             [
              0.8888888888888888,
              "#fdca26"
             ],
             [
              1,
              "#f0f921"
             ]
            ],
            "type": "histogram2d"
           }
          ],
          "histogram2dcontour": [
           {
            "colorbar": {
             "outlinewidth": 0,
             "ticks": ""
            },
            "colorscale": [
             [
              0,
              "#0d0887"
             ],
             [
              0.1111111111111111,
              "#46039f"
             ],
             [
              0.2222222222222222,
              "#7201a8"
             ],
             [
              0.3333333333333333,
              "#9c179e"
             ],
             [
              0.4444444444444444,
              "#bd3786"
             ],
             [
              0.5555555555555556,
              "#d8576b"
             ],
             [
              0.6666666666666666,
              "#ed7953"
             ],
             [
              0.7777777777777778,
              "#fb9f3a"
             ],
             [
              0.8888888888888888,
              "#fdca26"
             ],
             [
              1,
              "#f0f921"
             ]
            ],
            "type": "histogram2dcontour"
           }
          ],
          "mesh3d": [
           {
            "colorbar": {
             "outlinewidth": 0,
             "ticks": ""
            },
            "type": "mesh3d"
           }
          ],
          "parcoords": [
           {
            "line": {
             "colorbar": {
              "outlinewidth": 0,
              "ticks": ""
             }
            },
            "type": "parcoords"
           }
          ],
          "pie": [
           {
            "automargin": true,
            "type": "pie"
           }
          ],
          "scatter": [
           {
            "marker": {
             "colorbar": {
              "outlinewidth": 0,
              "ticks": ""
             }
            },
            "type": "scatter"
           }
          ],
          "scatter3d": [
           {
            "line": {
             "colorbar": {
              "outlinewidth": 0,
              "ticks": ""
             }
            },
            "marker": {
             "colorbar": {
              "outlinewidth": 0,
              "ticks": ""
             }
            },
            "type": "scatter3d"
           }
          ],
          "scattercarpet": [
           {
            "marker": {
             "colorbar": {
              "outlinewidth": 0,
              "ticks": ""
             }
            },
            "type": "scattercarpet"
           }
          ],
          "scattergeo": [
           {
            "marker": {
             "colorbar": {
              "outlinewidth": 0,
              "ticks": ""
             }
            },
            "type": "scattergeo"
           }
          ],
          "scattergl": [
           {
            "marker": {
             "colorbar": {
              "outlinewidth": 0,
              "ticks": ""
             }
            },
            "type": "scattergl"
           }
          ],
          "scattermapbox": [
           {
            "marker": {
             "colorbar": {
              "outlinewidth": 0,
              "ticks": ""
             }
            },
            "type": "scattermapbox"
           }
          ],
          "scatterpolar": [
           {
            "marker": {
             "colorbar": {
              "outlinewidth": 0,
              "ticks": ""
             }
            },
            "type": "scatterpolar"
           }
          ],
          "scatterpolargl": [
           {
            "marker": {
             "colorbar": {
              "outlinewidth": 0,
              "ticks": ""
             }
            },
            "type": "scatterpolargl"
           }
          ],
          "scatterternary": [
           {
            "marker": {
             "colorbar": {
              "outlinewidth": 0,
              "ticks": ""
             }
            },
            "type": "scatterternary"
           }
          ],
          "surface": [
           {
            "colorbar": {
             "outlinewidth": 0,
             "ticks": ""
            },
            "colorscale": [
             [
              0,
              "#0d0887"
             ],
             [
              0.1111111111111111,
              "#46039f"
             ],
             [
              0.2222222222222222,
              "#7201a8"
             ],
             [
              0.3333333333333333,
              "#9c179e"
             ],
             [
              0.4444444444444444,
              "#bd3786"
             ],
             [
              0.5555555555555556,
              "#d8576b"
             ],
             [
              0.6666666666666666,
              "#ed7953"
             ],
             [
              0.7777777777777778,
              "#fb9f3a"
             ],
             [
              0.8888888888888888,
              "#fdca26"
             ],
             [
              1,
              "#f0f921"
             ]
            ],
            "type": "surface"
           }
          ],
          "table": [
           {
            "cells": {
             "fill": {
              "color": "#EBF0F8"
             },
             "line": {
              "color": "white"
             }
            },
            "header": {
             "fill": {
              "color": "#C8D4E3"
             },
             "line": {
              "color": "white"
             }
            },
            "type": "table"
           }
          ]
         },
         "layout": {
          "annotationdefaults": {
           "arrowcolor": "#2a3f5f",
           "arrowhead": 0,
           "arrowwidth": 1
          },
          "coloraxis": {
           "colorbar": {
            "outlinewidth": 0,
            "ticks": ""
           }
          },
          "colorscale": {
           "diverging": [
            [
             0,
             "#8e0152"
            ],
            [
             0.1,
             "#c51b7d"
            ],
            [
             0.2,
             "#de77ae"
            ],
            [
             0.3,
             "#f1b6da"
            ],
            [
             0.4,
             "#fde0ef"
            ],
            [
             0.5,
             "#f7f7f7"
            ],
            [
             0.6,
             "#e6f5d0"
            ],
            [
             0.7,
             "#b8e186"
            ],
            [
             0.8,
             "#7fbc41"
            ],
            [
             0.9,
             "#4d9221"
            ],
            [
             1,
             "#276419"
            ]
           ],
           "sequential": [
            [
             0,
             "#0d0887"
            ],
            [
             0.1111111111111111,
             "#46039f"
            ],
            [
             0.2222222222222222,
             "#7201a8"
            ],
            [
             0.3333333333333333,
             "#9c179e"
            ],
            [
             0.4444444444444444,
             "#bd3786"
            ],
            [
             0.5555555555555556,
             "#d8576b"
            ],
            [
             0.6666666666666666,
             "#ed7953"
            ],
            [
             0.7777777777777778,
             "#fb9f3a"
            ],
            [
             0.8888888888888888,
             "#fdca26"
            ],
            [
             1,
             "#f0f921"
            ]
           ],
           "sequentialminus": [
            [
             0,
             "#0d0887"
            ],
            [
             0.1111111111111111,
             "#46039f"
            ],
            [
             0.2222222222222222,
             "#7201a8"
            ],
            [
             0.3333333333333333,
             "#9c179e"
            ],
            [
             0.4444444444444444,
             "#bd3786"
            ],
            [
             0.5555555555555556,
             "#d8576b"
            ],
            [
             0.6666666666666666,
             "#ed7953"
            ],
            [
             0.7777777777777778,
             "#fb9f3a"
            ],
            [
             0.8888888888888888,
             "#fdca26"
            ],
            [
             1,
             "#f0f921"
            ]
           ]
          },
          "colorway": [
           "#636efa",
           "#EF553B",
           "#00cc96",
           "#ab63fa",
           "#FFA15A",
           "#19d3f3",
           "#FF6692",
           "#B6E880",
           "#FF97FF",
           "#FECB52"
          ],
          "font": {
           "color": "#2a3f5f"
          },
          "geo": {
           "bgcolor": "white",
           "lakecolor": "white",
           "landcolor": "#E5ECF6",
           "showlakes": true,
           "showland": true,
           "subunitcolor": "white"
          },
          "hoverlabel": {
           "align": "left"
          },
          "hovermode": "closest",
          "mapbox": {
           "style": "light"
          },
          "paper_bgcolor": "white",
          "plot_bgcolor": "#E5ECF6",
          "polar": {
           "angularaxis": {
            "gridcolor": "white",
            "linecolor": "white",
            "ticks": ""
           },
           "bgcolor": "#E5ECF6",
           "radialaxis": {
            "gridcolor": "white",
            "linecolor": "white",
            "ticks": ""
           }
          },
          "scene": {
           "xaxis": {
            "backgroundcolor": "#E5ECF6",
            "gridcolor": "white",
            "gridwidth": 2,
            "linecolor": "white",
            "showbackground": true,
            "ticks": "",
            "zerolinecolor": "white"
           },
           "yaxis": {
            "backgroundcolor": "#E5ECF6",
            "gridcolor": "white",
            "gridwidth": 2,
            "linecolor": "white",
            "showbackground": true,
            "ticks": "",
            "zerolinecolor": "white"
           },
           "zaxis": {
            "backgroundcolor": "#E5ECF6",
            "gridcolor": "white",
            "gridwidth": 2,
            "linecolor": "white",
            "showbackground": true,
            "ticks": "",
            "zerolinecolor": "white"
           }
          },
          "shapedefaults": {
           "line": {
            "color": "#2a3f5f"
           }
          },
          "ternary": {
           "aaxis": {
            "gridcolor": "white",
            "linecolor": "white",
            "ticks": ""
           },
           "baxis": {
            "gridcolor": "white",
            "linecolor": "white",
            "ticks": ""
           },
           "bgcolor": "#E5ECF6",
           "caxis": {
            "gridcolor": "white",
            "linecolor": "white",
            "ticks": ""
           }
          },
          "title": {
           "x": 0.05
          },
          "xaxis": {
           "automargin": true,
           "gridcolor": "white",
           "linecolor": "white",
           "ticks": "",
           "title": {
            "standoff": 15
           },
           "zerolinecolor": "white",
           "zerolinewidth": 2
          },
          "yaxis": {
           "automargin": true,
           "gridcolor": "white",
           "linecolor": "white",
           "ticks": "",
           "title": {
            "standoff": 15
           },
           "zerolinecolor": "white",
           "zerolinewidth": 2
          }
         }
        },
        "title": {
         "text": "Statistics of mileage"
        }
       }
      },
      "text/html": [
       "<div>\n",
       "        \n",
       "        \n",
       "            <div id=\"198f054c-301c-4679-8621-b6949ec57201\" class=\"plotly-graph-div\" style=\"height:525px; width:100%;\"></div>\n",
       "            <script type=\"text/javascript\">\n",
       "                require([\"plotly\"], function(Plotly) {\n",
       "                    window.PLOTLYENV=window.PLOTLYENV || {};\n",
       "                    \n",
       "                if (document.getElementById(\"198f054c-301c-4679-8621-b6949ec57201\")) {\n",
       "                    Plotly.newPlot(\n",
       "                        '198f054c-301c-4679-8621-b6949ec57201',\n",
       "                        [{\"name\": \"mileage\", \"type\": \"scatter\", \"x\": [0, 1, 2, 3, 4, 5, 6, 7, 8, 9, 10, 11, 12, 13, 14, 15, 16, 17, 18, 19, 20, 21, 22, 23, 24, 25, 26, 27, 28, 29, 30, 31, 32, 33, 34, 35, 36, 37, 38, 39, 40, 41, 42, 43, 44, 45, 47, 48, 49, 50, 51, 52, 54, 56, 57, 58, 60, 61, 62, 65, 66, 68, 69, 70, 71, 72, 73, 74, 82, 83, 84, 89, 93, 94, 98, 117], \"y\": [0, 4119359, 56681872, 138693285, 208903843, 244919036, 286209264, 421862739, 523966125, 594498032, 558185091, 434903503, 245587599, 722432593, 597103892, 406716488, 281438750, 253966207, 218596700, 194713271, 192589839, 171386018, 156725499, 174884665, 143929121, 81349124, 69316425, 64078421, 56273519, 60832358, 51408570, 37981707, 28790035, 23924724, 18294770, 10554972, 10864652, 8379513, 6686257, 3451398, 2491743, 1351300, 2181297, 2205611, 358000, 459111, 241600, 137000, 317000, 86000, 218913, 521292, 75600, 550000, 256000, 56000, 10000, 57200, 455726, 1, 5000, 1000, 57200, 20500, 166488, 314000, 10, 150000, 285000, 190520, 16000, 114655, 2000, 5000, 1000, 48000]}],\n",
       "                        {\"template\": {\"data\": {\"bar\": [{\"error_x\": {\"color\": \"#2a3f5f\"}, \"error_y\": {\"color\": \"#2a3f5f\"}, \"marker\": {\"line\": {\"color\": \"#E5ECF6\", \"width\": 0.5}}, \"type\": \"bar\"}], \"barpolar\": [{\"marker\": {\"line\": {\"color\": \"#E5ECF6\", \"width\": 0.5}}, \"type\": \"barpolar\"}], \"carpet\": [{\"aaxis\": {\"endlinecolor\": \"#2a3f5f\", \"gridcolor\": \"white\", \"linecolor\": \"white\", \"minorgridcolor\": \"white\", \"startlinecolor\": \"#2a3f5f\"}, \"baxis\": {\"endlinecolor\": \"#2a3f5f\", \"gridcolor\": \"white\", \"linecolor\": \"white\", \"minorgridcolor\": \"white\", \"startlinecolor\": \"#2a3f5f\"}, \"type\": \"carpet\"}], \"choropleth\": [{\"colorbar\": {\"outlinewidth\": 0, \"ticks\": \"\"}, \"type\": \"choropleth\"}], \"contour\": [{\"colorbar\": {\"outlinewidth\": 0, \"ticks\": \"\"}, \"colorscale\": [[0.0, \"#0d0887\"], [0.1111111111111111, \"#46039f\"], [0.2222222222222222, \"#7201a8\"], [0.3333333333333333, \"#9c179e\"], [0.4444444444444444, \"#bd3786\"], [0.5555555555555556, \"#d8576b\"], [0.6666666666666666, \"#ed7953\"], [0.7777777777777778, \"#fb9f3a\"], [0.8888888888888888, \"#fdca26\"], [1.0, \"#f0f921\"]], \"type\": \"contour\"}], \"contourcarpet\": [{\"colorbar\": {\"outlinewidth\": 0, \"ticks\": \"\"}, \"type\": \"contourcarpet\"}], \"heatmap\": [{\"colorbar\": {\"outlinewidth\": 0, \"ticks\": \"\"}, \"colorscale\": [[0.0, \"#0d0887\"], [0.1111111111111111, \"#46039f\"], [0.2222222222222222, \"#7201a8\"], [0.3333333333333333, \"#9c179e\"], [0.4444444444444444, \"#bd3786\"], [0.5555555555555556, \"#d8576b\"], [0.6666666666666666, \"#ed7953\"], [0.7777777777777778, \"#fb9f3a\"], [0.8888888888888888, \"#fdca26\"], [1.0, \"#f0f921\"]], \"type\": \"heatmap\"}], \"heatmapgl\": [{\"colorbar\": {\"outlinewidth\": 0, \"ticks\": \"\"}, \"colorscale\": [[0.0, \"#0d0887\"], [0.1111111111111111, \"#46039f\"], [0.2222222222222222, \"#7201a8\"], [0.3333333333333333, \"#9c179e\"], [0.4444444444444444, \"#bd3786\"], [0.5555555555555556, \"#d8576b\"], [0.6666666666666666, \"#ed7953\"], [0.7777777777777778, \"#fb9f3a\"], [0.8888888888888888, \"#fdca26\"], [1.0, \"#f0f921\"]], \"type\": \"heatmapgl\"}], \"histogram\": [{\"marker\": {\"colorbar\": {\"outlinewidth\": 0, \"ticks\": \"\"}}, \"type\": \"histogram\"}], \"histogram2d\": [{\"colorbar\": {\"outlinewidth\": 0, \"ticks\": \"\"}, \"colorscale\": [[0.0, \"#0d0887\"], [0.1111111111111111, \"#46039f\"], [0.2222222222222222, \"#7201a8\"], [0.3333333333333333, \"#9c179e\"], [0.4444444444444444, \"#bd3786\"], [0.5555555555555556, \"#d8576b\"], [0.6666666666666666, \"#ed7953\"], [0.7777777777777778, \"#fb9f3a\"], [0.8888888888888888, \"#fdca26\"], [1.0, \"#f0f921\"]], \"type\": \"histogram2d\"}], \"histogram2dcontour\": [{\"colorbar\": {\"outlinewidth\": 0, \"ticks\": \"\"}, \"colorscale\": [[0.0, \"#0d0887\"], [0.1111111111111111, \"#46039f\"], [0.2222222222222222, \"#7201a8\"], [0.3333333333333333, \"#9c179e\"], [0.4444444444444444, \"#bd3786\"], [0.5555555555555556, \"#d8576b\"], [0.6666666666666666, \"#ed7953\"], [0.7777777777777778, \"#fb9f3a\"], [0.8888888888888888, \"#fdca26\"], [1.0, \"#f0f921\"]], \"type\": \"histogram2dcontour\"}], \"mesh3d\": [{\"colorbar\": {\"outlinewidth\": 0, \"ticks\": \"\"}, \"type\": \"mesh3d\"}], \"parcoords\": [{\"line\": {\"colorbar\": {\"outlinewidth\": 0, \"ticks\": \"\"}}, \"type\": \"parcoords\"}], \"pie\": [{\"automargin\": true, \"type\": \"pie\"}], \"scatter\": [{\"marker\": {\"colorbar\": {\"outlinewidth\": 0, \"ticks\": \"\"}}, \"type\": \"scatter\"}], \"scatter3d\": [{\"line\": {\"colorbar\": {\"outlinewidth\": 0, \"ticks\": \"\"}}, \"marker\": {\"colorbar\": {\"outlinewidth\": 0, \"ticks\": \"\"}}, \"type\": \"scatter3d\"}], \"scattercarpet\": [{\"marker\": {\"colorbar\": {\"outlinewidth\": 0, \"ticks\": \"\"}}, \"type\": \"scattercarpet\"}], \"scattergeo\": [{\"marker\": {\"colorbar\": {\"outlinewidth\": 0, \"ticks\": \"\"}}, \"type\": \"scattergeo\"}], \"scattergl\": [{\"marker\": {\"colorbar\": {\"outlinewidth\": 0, \"ticks\": \"\"}}, \"type\": \"scattergl\"}], \"scattermapbox\": [{\"marker\": {\"colorbar\": {\"outlinewidth\": 0, \"ticks\": \"\"}}, \"type\": \"scattermapbox\"}], \"scatterpolar\": [{\"marker\": {\"colorbar\": {\"outlinewidth\": 0, \"ticks\": \"\"}}, \"type\": \"scatterpolar\"}], \"scatterpolargl\": [{\"marker\": {\"colorbar\": {\"outlinewidth\": 0, \"ticks\": \"\"}}, \"type\": \"scatterpolargl\"}], \"scatterternary\": [{\"marker\": {\"colorbar\": {\"outlinewidth\": 0, \"ticks\": \"\"}}, \"type\": \"scatterternary\"}], \"surface\": [{\"colorbar\": {\"outlinewidth\": 0, \"ticks\": \"\"}, \"colorscale\": [[0.0, \"#0d0887\"], [0.1111111111111111, \"#46039f\"], [0.2222222222222222, \"#7201a8\"], [0.3333333333333333, \"#9c179e\"], [0.4444444444444444, \"#bd3786\"], [0.5555555555555556, \"#d8576b\"], [0.6666666666666666, \"#ed7953\"], [0.7777777777777778, \"#fb9f3a\"], [0.8888888888888888, \"#fdca26\"], [1.0, \"#f0f921\"]], \"type\": \"surface\"}], \"table\": [{\"cells\": {\"fill\": {\"color\": \"#EBF0F8\"}, \"line\": {\"color\": \"white\"}}, \"header\": {\"fill\": {\"color\": \"#C8D4E3\"}, \"line\": {\"color\": \"white\"}}, \"type\": \"table\"}]}, \"layout\": {\"annotationdefaults\": {\"arrowcolor\": \"#2a3f5f\", \"arrowhead\": 0, \"arrowwidth\": 1}, \"coloraxis\": {\"colorbar\": {\"outlinewidth\": 0, \"ticks\": \"\"}}, \"colorscale\": {\"diverging\": [[0, \"#8e0152\"], [0.1, \"#c51b7d\"], [0.2, \"#de77ae\"], [0.3, \"#f1b6da\"], [0.4, \"#fde0ef\"], [0.5, \"#f7f7f7\"], [0.6, \"#e6f5d0\"], [0.7, \"#b8e186\"], [0.8, \"#7fbc41\"], [0.9, \"#4d9221\"], [1, \"#276419\"]], \"sequential\": [[0.0, \"#0d0887\"], [0.1111111111111111, \"#46039f\"], [0.2222222222222222, \"#7201a8\"], [0.3333333333333333, \"#9c179e\"], [0.4444444444444444, \"#bd3786\"], [0.5555555555555556, \"#d8576b\"], [0.6666666666666666, \"#ed7953\"], [0.7777777777777778, \"#fb9f3a\"], [0.8888888888888888, \"#fdca26\"], [1.0, \"#f0f921\"]], \"sequentialminus\": [[0.0, \"#0d0887\"], [0.1111111111111111, \"#46039f\"], [0.2222222222222222, \"#7201a8\"], [0.3333333333333333, \"#9c179e\"], [0.4444444444444444, \"#bd3786\"], [0.5555555555555556, \"#d8576b\"], [0.6666666666666666, \"#ed7953\"], [0.7777777777777778, \"#fb9f3a\"], [0.8888888888888888, \"#fdca26\"], [1.0, \"#f0f921\"]]}, \"colorway\": [\"#636efa\", \"#EF553B\", \"#00cc96\", \"#ab63fa\", \"#FFA15A\", \"#19d3f3\", \"#FF6692\", \"#B6E880\", \"#FF97FF\", \"#FECB52\"], \"font\": {\"color\": \"#2a3f5f\"}, \"geo\": {\"bgcolor\": \"white\", \"lakecolor\": \"white\", \"landcolor\": \"#E5ECF6\", \"showlakes\": true, \"showland\": true, \"subunitcolor\": \"white\"}, \"hoverlabel\": {\"align\": \"left\"}, \"hovermode\": \"closest\", \"mapbox\": {\"style\": \"light\"}, \"paper_bgcolor\": \"white\", \"plot_bgcolor\": \"#E5ECF6\", \"polar\": {\"angularaxis\": {\"gridcolor\": \"white\", \"linecolor\": \"white\", \"ticks\": \"\"}, \"bgcolor\": \"#E5ECF6\", \"radialaxis\": {\"gridcolor\": \"white\", \"linecolor\": \"white\", \"ticks\": \"\"}}, \"scene\": {\"xaxis\": {\"backgroundcolor\": \"#E5ECF6\", \"gridcolor\": \"white\", \"gridwidth\": 2, \"linecolor\": \"white\", \"showbackground\": true, \"ticks\": \"\", \"zerolinecolor\": \"white\"}, \"yaxis\": {\"backgroundcolor\": \"#E5ECF6\", \"gridcolor\": \"white\", \"gridwidth\": 2, \"linecolor\": \"white\", \"showbackground\": true, \"ticks\": \"\", \"zerolinecolor\": \"white\"}, \"zaxis\": {\"backgroundcolor\": \"#E5ECF6\", \"gridcolor\": \"white\", \"gridwidth\": 2, \"linecolor\": \"white\", \"showbackground\": true, \"ticks\": \"\", \"zerolinecolor\": \"white\"}}, \"shapedefaults\": {\"line\": {\"color\": \"#2a3f5f\"}}, \"ternary\": {\"aaxis\": {\"gridcolor\": \"white\", \"linecolor\": \"white\", \"ticks\": \"\"}, \"baxis\": {\"gridcolor\": \"white\", \"linecolor\": \"white\", \"ticks\": \"\"}, \"bgcolor\": \"#E5ECF6\", \"caxis\": {\"gridcolor\": \"white\", \"linecolor\": \"white\", \"ticks\": \"\"}}, \"title\": {\"x\": 0.05}, \"xaxis\": {\"automargin\": true, \"gridcolor\": \"white\", \"linecolor\": \"white\", \"ticks\": \"\", \"title\": {\"standoff\": 15}, \"zerolinecolor\": \"white\", \"zerolinewidth\": 2}, \"yaxis\": {\"automargin\": true, \"gridcolor\": \"white\", \"linecolor\": \"white\", \"ticks\": \"\", \"title\": {\"standoff\": 15}, \"zerolinecolor\": \"white\", \"zerolinewidth\": 2}}}, \"title\": {\"text\": \"Statistics of mileage\"}},\n",
       "                        {\"responsive\": true}\n",
       "                    ).then(function(){\n",
       "                            \n",
       "var gd = document.getElementById('198f054c-301c-4679-8621-b6949ec57201');\n",
       "var x = new MutationObserver(function (mutations, observer) {{\n",
       "        var display = window.getComputedStyle(gd).display;\n",
       "        if (!display || display === 'none') {{\n",
       "            console.log([gd, 'removed!']);\n",
       "            Plotly.purge(gd);\n",
       "            observer.disconnect();\n",
       "        }}\n",
       "}});\n",
       "\n",
       "// Listen for the removal of the full notebook cells\n",
       "var notebookContainer = gd.closest('#notebook-container');\n",
       "if (notebookContainer) {{\n",
       "    x.observe(notebookContainer, {childList: true});\n",
       "}}\n",
       "\n",
       "// Listen for the clearing of the current output cell\n",
       "var outputEl = gd.closest('.output');\n",
       "if (outputEl) {{\n",
       "    x.observe(outputEl, {childList: true});\n",
       "}}\n",
       "\n",
       "                        })\n",
       "                };\n",
       "                });\n",
       "            </script>\n",
       "        </div>"
      ]
     },
     "metadata": {},
     "output_type": "display_data"
    }
   ],
   "source": [
    "# построим график пробега от возраста машины\n",
    "years_mileage = train.groupby('years_old')[['mileage']].sum().join(\n",
    "    train.groupby('years_old')[['brand']].count()\n",
    ")\n",
    "years_mileage.columns = ['mileage', 'brand']\n",
    "\n",
    "# создаем линию для километража\n",
    "trace1 = go.Scatter(\n",
    "    x=years_mileage.index,\n",
    "    y=years_mileage.mileage,\n",
    "    name='mileage'\n",
    ")\n",
    "\n",
    "layout = {'title': 'Statistics of mileage'} # title для графика\n",
    "\n",
    "# cоздаем объект Figure и визуализируем его\n",
    "fig = go.Figure(data=trace1, layout=layout)\n",
    "iplot(fig, show_link=False)"
   ]
  },
  {
   "cell_type": "markdown",
   "metadata": {},
   "source": [
    "Наибольший пробег у машин 9ти и 13 лет"
   ]
  },
  {
   "cell_type": "markdown",
   "metadata": {},
   "source": [
    "## Категориальные признаки"
   ]
  },
  {
   "cell_type": "markdown",
   "metadata": {},
   "source": [
    "### 4.17. bodyType"
   ]
  },
  {
   "cell_type": "code",
   "execution_count": 268,
   "metadata": {},
   "outputs": [],
   "source": [
    "# Приведем к единому регистру\n",
    "train.bodyType = train.bodyType.str.lower()"
   ]
  },
  {
   "cell_type": "code",
   "execution_count": 269,
   "metadata": {},
   "outputs": [
    {
     "data": {
      "text/plain": [
       "Index(['седан', 'внедорожник 5 дв.', 'лифтбек', 'хэтчбек 5 дв.',\n",
       "       'универсал 5 дв.', 'минивэн', 'купе', 'компактвэн', 'хэтчбек 3 дв.'],\n",
       "      dtype='object')"
      ]
     },
     "execution_count": 269,
     "metadata": {},
     "output_type": "execute_result"
    }
   ],
   "source": [
    "test.bodyType.value_counts(ascending=False).index[:9]"
   ]
  },
  {
   "cell_type": "code",
   "execution_count": 270,
   "metadata": {},
   "outputs": [
    {
     "data": {
      "text/plain": [
       "Index(['внедорожник 5 дв.', 'седан', 'хэтчбек 5 дв.', 'лифтбек',\n",
       "       'универсал 5 дв.', 'минивэн', 'компактвэн', 'купе', 'хэтчбек 3 дв.'],\n",
       "      dtype='object')"
      ]
     },
     "execution_count": 270,
     "metadata": {},
     "output_type": "execute_result"
    }
   ],
   "source": [
    "train.bodyType.value_counts(ascending=False).index[:9]"
   ]
  },
  {
   "cell_type": "markdown",
   "metadata": {},
   "source": [
    "9 основных типов кузовов в трейне и тесте совпадают. Заменим остальные типы кузовов общим типом 'other'"
   ]
  },
  {
   "cell_type": "code",
   "execution_count": 271,
   "metadata": {},
   "outputs": [],
   "source": [
    "bodyType = list(test.bodyType.value_counts(ascending=False).index[:9])"
   ]
  },
  {
   "cell_type": "code",
   "execution_count": 272,
   "metadata": {},
   "outputs": [],
   "source": [
    "train['bodyType'] = train['bodyType'].apply(lambda x: x if x in bodyType else 'other')\n",
    "test['bodyType'] = test['bodyType'].apply(lambda x: x if x in bodyType else 'other')"
   ]
  },
  {
   "cell_type": "markdown",
   "metadata": {},
   "source": [
    "Проверим что все верно"
   ]
  },
  {
   "cell_type": "code",
   "execution_count": 273,
   "metadata": {},
   "outputs": [
    {
     "data": {
      "text/plain": [
       "внедорожник 5 дв.    32833\n",
       "седан                20098\n",
       "хэтчбек 5 дв.         5828\n",
       "other                 5083\n",
       "лифтбек               3257\n",
       "универсал 5 дв.       2323\n",
       "минивэн               1330\n",
       "компактвэн            1238\n",
       "купе                  1015\n",
       "хэтчбек 3 дв.         1004\n",
       "Name: bodyType, dtype: int64"
      ]
     },
     "execution_count": 273,
     "metadata": {},
     "output_type": "execute_result"
    }
   ],
   "source": [
    "train['bodyType'].value_counts()"
   ]
  },
  {
   "cell_type": "markdown",
   "metadata": {},
   "source": [
    "### 4.18. brand"
   ]
  },
  {
   "cell_type": "code",
   "execution_count": 274,
   "metadata": {},
   "outputs": [
    {
     "data": {
      "text/plain": [
       "Index(['BMW', 'VOLKSWAGEN', 'NISSAN', 'MERCEDES', 'TOYOTA', 'AUDI',\n",
       "       'MITSUBISHI', 'SKODA', 'VOLVO', 'HONDA', 'INFINITI', 'LEXUS'],\n",
       "      dtype='object')"
      ]
     },
     "execution_count": 274,
     "metadata": {},
     "output_type": "execute_result"
    }
   ],
   "source": [
    "test.brand.value_counts(ascending=False).index"
   ]
  },
  {
   "cell_type": "code",
   "execution_count": 275,
   "metadata": {},
   "outputs": [
    {
     "data": {
      "text/plain": [
       "Index(['MERCEDES', 'BMW', 'VOLKSWAGEN', 'NISSAN', 'KIA', 'HYUNDAI', 'RENAULT',\n",
       "       'AUDI', 'MITSUBISHI', 'TOYOTA', 'SKODA', 'FORD', 'CHEVROLET', 'OPEL',\n",
       "       'MAZDA', 'VOLVO', 'LAND_ROVER', 'PEUGEOT', 'LEXUS', 'SUZUKI', 'CITROEN',\n",
       "       'HONDA', 'INFINITI', 'PORSCHE', 'SUBARU', 'DAEWOO', 'MINI', 'JEEP',\n",
       "       'SSANG_YONG', 'CHERY', 'HAVAL', 'CADILLAC', 'GREAT_WALL'],\n",
       "      dtype='object')"
      ]
     },
     "execution_count": 275,
     "metadata": {},
     "output_type": "execute_result"
    }
   ],
   "source": [
    "train.brand.value_counts(ascending=False).index"
   ]
  },
  {
   "cell_type": "code",
   "execution_count": 276,
   "metadata": {},
   "outputs": [
    {
     "name": "stdout",
     "output_type": "stream",
     "text": [
      "12 уникальных бренда в тесте и 33 бренда в трейне\n"
     ]
    }
   ],
   "source": [
    "print(f'{len(test.brand.value_counts())} уникальных бренда в тесте и {len(train.brand.value_counts())} бренда в трейне')"
   ]
  },
  {
   "cell_type": "code",
   "execution_count": 277,
   "metadata": {},
   "outputs": [],
   "source": [
    "# Основные типы не совпадают. Оставим в трейне только те бренды, что есть в тесте.\n",
    "brand = list(test.brand.unique())\n",
    "train['brand'] = train['brand'].apply(lambda x: x if x in brand else 'other')"
   ]
  },
  {
   "cell_type": "code",
   "execution_count": 278,
   "metadata": {},
   "outputs": [
    {
     "data": {
      "text/plain": [
       "other         31725\n",
       "MERCEDES       9041\n",
       "BMW            5907\n",
       "VOLKSWAGEN     5537\n",
       "NISSAN         5530\n",
       "AUDI           3430\n",
       "MITSUBISHI     3053\n",
       "TOYOTA         2998\n",
       "SKODA          2985\n",
       "VOLVO          1437\n",
       "LEXUS           947\n",
       "HONDA           764\n",
       "INFINITI        655\n",
       "Name: brand, dtype: int64"
      ]
     },
     "execution_count": 278,
     "metadata": {},
     "output_type": "execute_result"
    }
   ],
   "source": [
    "# Проверка\n",
    "train['brand'].value_counts()"
   ]
  },
  {
   "cell_type": "markdown",
   "metadata": {},
   "source": [
    "### 4.19. color"
   ]
  },
  {
   "cell_type": "code",
   "execution_count": 279,
   "metadata": {},
   "outputs": [],
   "source": [
    "# color в train представлен в шестнадцатеричной системе. Приведем к единому виду\n",
    "color_dict = {'040001':'чёрный', 'EE1D19':'красный', '0000CC':'синий', \n",
    "              'CACECB':'серебристый', '007F00':'зелёный', 'FAFBFB':'белый', \n",
    "              '97948F':'серый', '22A0F8':'голубой', '660099':'пурпурный', \n",
    "              '200204':'коричневый', 'C49648':'бежевый', 'DEA522':'золотистый', \n",
    "              '4A2197':'фиолетовый', 'FFD600':'жёлтый', 'FF8649':'оранжевый', \n",
    "              'FFC0CB':'розовый'}\n",
    "train['color'] = train['color'].map(color_dict)"
   ]
  },
  {
   "cell_type": "code",
   "execution_count": 280,
   "metadata": {},
   "outputs": [
    {
     "data": {
      "text/plain": [
       "Index(['чёрный', 'белый', 'серый', 'серебристый', 'синий', 'красный',\n",
       "       'коричневый', 'зелёный', 'бежевый', 'голубой', 'оранжевый', 'жёлтый',\n",
       "       'золотистый', 'пурпурный', 'фиолетовый', 'розовый'],\n",
       "      dtype='object')"
      ]
     },
     "execution_count": 280,
     "metadata": {},
     "output_type": "execute_result"
    }
   ],
   "source": [
    "train.color.value_counts(ascending=False).index"
   ]
  },
  {
   "cell_type": "code",
   "execution_count": 281,
   "metadata": {},
   "outputs": [
    {
     "data": {
      "text/plain": [
       "Index(['чёрный', 'белый', 'серебристый', 'серый', 'синий', 'красный',\n",
       "       'коричневый', 'зелёный', 'бежевый', 'голубой', 'золотистый',\n",
       "       'пурпурный', 'фиолетовый', 'жёлтый', 'оранжевый', 'розовый'],\n",
       "      dtype='object')"
      ]
     },
     "execution_count": 281,
     "metadata": {},
     "output_type": "execute_result"
    }
   ],
   "source": [
    "test.color.value_counts(ascending=False).index"
   ]
  },
  {
   "cell_type": "markdown",
   "metadata": {},
   "source": [
    "### 4.20. fuelType"
   ]
  },
  {
   "cell_type": "code",
   "execution_count": 282,
   "metadata": {},
   "outputs": [
    {
     "data": {
      "text/plain": [
       "бензин     61241\n",
       "дизель     12491\n",
       "гибрид       177\n",
       "электро       88\n",
       "газ           12\n",
       "Name: fuelType, dtype: int64"
      ]
     },
     "execution_count": 282,
     "metadata": {},
     "output_type": "execute_result"
    }
   ],
   "source": [
    "train.fuelType.value_counts()"
   ]
  },
  {
   "cell_type": "code",
   "execution_count": 283,
   "metadata": {},
   "outputs": [
    {
     "data": {
      "text/plain": [
       "бензин     28601\n",
       "дизель      5800\n",
       "гибрид       223\n",
       "электро       55\n",
       "газ            7\n",
       "Name: fuelType, dtype: int64"
      ]
     },
     "execution_count": 283,
     "metadata": {},
     "output_type": "execute_result"
    }
   ],
   "source": [
    "test.fuelType.value_counts()"
   ]
  },
  {
   "cell_type": "markdown",
   "metadata": {},
   "source": [
    "Категориальный признак. Данные все."
   ]
  },
  {
   "cell_type": "markdown",
   "metadata": {},
   "source": [
    "### 4.21. model_name"
   ]
  },
  {
   "cell_type": "code",
   "execution_count": 284,
   "metadata": {},
   "outputs": [
    {
     "name": "stdout",
     "output_type": "stream",
     "text": [
      "544 уникальных бренда в тесте и 992 бренда в трейне\n"
     ]
    }
   ],
   "source": [
    "print(f'{len(test.model_name.value_counts())} уникальных бренда в тесте и {len(train.model_name.value_counts())} бренда в трейне')"
   ]
  },
  {
   "cell_type": "code",
   "execution_count": 285,
   "metadata": {},
   "outputs": [
    {
     "data": {
      "text/plain": [
       "Index(['OCTAVIA', '5ER', 'LANCER', 'E_KLASSE', 'PASSAT', 'A6', '3ER', 'POLO',\n",
       "       'CAMRY', 'X5', 'X_TRAIL', 'A4', 'QASHQAI', 'S_KLASSE', 'OUTLANDER'],\n",
       "      dtype='object')"
      ]
     },
     "execution_count": 285,
     "metadata": {},
     "output_type": "execute_result"
    }
   ],
   "source": [
    "test.model_name.value_counts(ascending=False).index[:15]"
   ]
  },
  {
   "cell_type": "code",
   "execution_count": 286,
   "metadata": {},
   "outputs": [
    {
     "data": {
      "text/plain": [
       "Index(['X_TRAIL', 'POLO', 'QASHQAI', 'RIO', 'E_KLASSE', 'FOCUS', 'SOLARIS',\n",
       "       'OCTAVIA', 'OUTLANDER', '3ER', 'SANDERO', 'CRETA', 'TIGUAN', 'LOGAN',\n",
       "       'ASTRA'],\n",
       "      dtype='object')"
      ]
     },
     "execution_count": 286,
     "metadata": {},
     "output_type": "execute_result"
    }
   ],
   "source": [
    "train.model_name.value_counts(ascending=False).index[:15]"
   ]
  },
  {
   "cell_type": "markdown",
   "metadata": {},
   "source": [
    "Совпадения по основным моделям не прослеживается. Пока оставляем."
   ]
  },
  {
   "cell_type": "markdown",
   "metadata": {},
   "source": [
    "### 4.22. numberOfDoors"
   ]
  },
  {
   "cell_type": "code",
   "execution_count": 287,
   "metadata": {},
   "outputs": [
    {
     "data": {
      "text/plain": [
       "5    18703\n",
       "4    14126\n",
       "2     1206\n",
       "3      650\n",
       "0        1\n",
       "Name: numberOfDoors, dtype: int64"
      ]
     },
     "execution_count": 287,
     "metadata": {},
     "output_type": "execute_result"
    }
   ],
   "source": [
    "test.numberOfDoors.value_counts()"
   ]
  },
  {
   "cell_type": "code",
   "execution_count": 288,
   "metadata": {},
   "outputs": [
    {
     "data": {
      "text/html": [
       "<div>\n",
       "<style scoped>\n",
       "    .dataframe tbody tr th:only-of-type {\n",
       "        vertical-align: middle;\n",
       "    }\n",
       "\n",
       "    .dataframe tbody tr th {\n",
       "        vertical-align: top;\n",
       "    }\n",
       "\n",
       "    .dataframe thead th {\n",
       "        text-align: right;\n",
       "    }\n",
       "</style>\n",
       "<table border=\"1\" class=\"dataframe\">\n",
       "  <thead>\n",
       "    <tr style=\"text-align: right;\">\n",
       "      <th></th>\n",
       "      <th>bodyType</th>\n",
       "      <th>brand</th>\n",
       "      <th>color</th>\n",
       "      <th>engineDisplacement</th>\n",
       "      <th>enginePower</th>\n",
       "      <th>fuelType</th>\n",
       "      <th>mileage</th>\n",
       "      <th>modelDate</th>\n",
       "      <th>model_name</th>\n",
       "      <th>numberOfDoors</th>\n",
       "      <th>sell_id</th>\n",
       "      <th>vehicleTransmission</th>\n",
       "      <th>vendor</th>\n",
       "      <th>Владельцы</th>\n",
       "      <th>ПТС</th>\n",
       "      <th>Привод</th>\n",
       "      <th>Руль</th>\n",
       "      <th>офДил</th>\n",
       "      <th>климат</th>\n",
       "      <th>подБез</th>\n",
       "      <th>усилРуля</th>\n",
       "      <th>отл</th>\n",
       "      <th>хор</th>\n",
       "      <th>цЗамок</th>\n",
       "      <th>эПодъм</th>\n",
       "      <th>бКомп</th>\n",
       "      <th>gearbox</th>\n",
       "      <th>drive4WD</th>\n",
       "      <th>engine_type</th>\n",
       "      <th>clearance_min</th>\n",
       "      <th>years_old</th>\n",
       "    </tr>\n",
       "  </thead>\n",
       "  <tbody>\n",
       "    <tr>\n",
       "      <th>16944</th>\n",
       "      <td>other</td>\n",
       "      <td>MERCEDES</td>\n",
       "      <td>белый</td>\n",
       "      <td>5.3</td>\n",
       "      <td>32</td>\n",
       "      <td>бензин</td>\n",
       "      <td>48000</td>\n",
       "      <td>1904</td>\n",
       "      <td>SIMPLEX</td>\n",
       "      <td>0</td>\n",
       "      <td>1093802104</td>\n",
       "      <td>механическая</td>\n",
       "      <td>EUROPEAN</td>\n",
       "      <td>1 владелец</td>\n",
       "      <td>Оригинал</td>\n",
       "      <td>задний</td>\n",
       "      <td>Правый</td>\n",
       "      <td>0</td>\n",
       "      <td>0</td>\n",
       "      <td>0</td>\n",
       "      <td>0</td>\n",
       "      <td>0</td>\n",
       "      <td>0</td>\n",
       "      <td>0</td>\n",
       "      <td>0</td>\n",
       "      <td>0</td>\n",
       "      <td>MT</td>\n",
       "      <td>0</td>\n",
       "      <td>GASOLINE</td>\n",
       "      <td>150</td>\n",
       "      <td>117</td>\n",
       "    </tr>\n",
       "  </tbody>\n",
       "</table>\n",
       "</div>"
      ],
      "text/plain": [
       "      bodyType     brand  color  engineDisplacement  enginePower fuelType  \\\n",
       "16944    other  MERCEDES  белый                 5.3           32   бензин   \n",
       "\n",
       "       mileage  modelDate model_name  numberOfDoors     sell_id  \\\n",
       "16944    48000       1904    SIMPLEX              0  1093802104   \n",
       "\n",
       "      vehicleTransmission    vendor   Владельцы       ПТС  Привод    Руль  \\\n",
       "16944        механическая  EUROPEAN  1 владелец  Оригинал  задний  Правый   \n",
       "\n",
       "       офДил  климат  подБез  усилРуля  отл  хор  цЗамок  эПодъм  бКомп  \\\n",
       "16944      0       0       0         0    0    0       0       0      0   \n",
       "\n",
       "      gearbox  drive4WD engine_type  clearance_min  years_old  \n",
       "16944      MT         0    GASOLINE            150        117  "
      ]
     },
     "execution_count": 288,
     "metadata": {},
     "output_type": "execute_result"
    }
   ],
   "source": [
    "test[test.numberOfDoors==0]"
   ]
  },
  {
   "cell_type": "code",
   "execution_count": 289,
   "metadata": {},
   "outputs": [
    {
     "data": {
      "text/plain": [
       "5    48524\n",
       "4    22350\n",
       "3     1678\n",
       "2     1456\n",
       "0        1\n",
       "Name: numberOfDoors, dtype: int64"
      ]
     },
     "execution_count": 289,
     "metadata": {},
     "output_type": "execute_result"
    }
   ],
   "source": [
    "train.numberOfDoors.value_counts()"
   ]
  },
  {
   "cell_type": "code",
   "execution_count": 290,
   "metadata": {},
   "outputs": [
    {
     "data": {
      "text/html": [
       "<div>\n",
       "<style scoped>\n",
       "    .dataframe tbody tr th:only-of-type {\n",
       "        vertical-align: middle;\n",
       "    }\n",
       "\n",
       "    .dataframe tbody tr th {\n",
       "        vertical-align: top;\n",
       "    }\n",
       "\n",
       "    .dataframe thead th {\n",
       "        text-align: right;\n",
       "    }\n",
       "</style>\n",
       "<table border=\"1\" class=\"dataframe\">\n",
       "  <thead>\n",
       "    <tr style=\"text-align: right;\">\n",
       "      <th></th>\n",
       "      <th>bodyType</th>\n",
       "      <th>brand</th>\n",
       "      <th>color</th>\n",
       "      <th>engineDisplacement</th>\n",
       "      <th>enginePower</th>\n",
       "      <th>fuelType</th>\n",
       "      <th>mileage</th>\n",
       "      <th>modelDate</th>\n",
       "      <th>model_name</th>\n",
       "      <th>numberOfDoors</th>\n",
       "      <th>sell_id</th>\n",
       "      <th>vehicleTransmission</th>\n",
       "      <th>vendor</th>\n",
       "      <th>Владельцы</th>\n",
       "      <th>ПТС</th>\n",
       "      <th>Привод</th>\n",
       "      <th>Руль</th>\n",
       "      <th>price_RUR</th>\n",
       "      <th>log_price</th>\n",
       "      <th>офДил</th>\n",
       "      <th>климат</th>\n",
       "      <th>подБез</th>\n",
       "      <th>усилРуля</th>\n",
       "      <th>отл</th>\n",
       "      <th>хор</th>\n",
       "      <th>цЗамок</th>\n",
       "      <th>эПодъм</th>\n",
       "      <th>бКомп</th>\n",
       "      <th>gearbox</th>\n",
       "      <th>drive4WD</th>\n",
       "      <th>engine_type</th>\n",
       "      <th>clearance_min</th>\n",
       "      <th>years_old</th>\n",
       "    </tr>\n",
       "  </thead>\n",
       "  <tbody>\n",
       "    <tr>\n",
       "      <th>699</th>\n",
       "      <td>other</td>\n",
       "      <td>AUDI</td>\n",
       "      <td>красный</td>\n",
       "      <td>2.0</td>\n",
       "      <td>200</td>\n",
       "      <td>бензин</td>\n",
       "      <td>170000</td>\n",
       "      <td>2004</td>\n",
       "      <td>A4</td>\n",
       "      <td>2</td>\n",
       "      <td>1096050216</td>\n",
       "      <td>AUTOMATIC</td>\n",
       "      <td>EUROPEAN</td>\n",
       "      <td>1.0</td>\n",
       "      <td>ORIGINAL</td>\n",
       "      <td>полный</td>\n",
       "      <td>LEFT</td>\n",
       "      <td>1300000.0</td>\n",
       "      <td>14.077875</td>\n",
       "      <td>0</td>\n",
       "      <td>0</td>\n",
       "      <td>0</td>\n",
       "      <td>0</td>\n",
       "      <td>0</td>\n",
       "      <td>0</td>\n",
       "      <td>0</td>\n",
       "      <td>0</td>\n",
       "      <td>0</td>\n",
       "      <td>AT</td>\n",
       "      <td>1</td>\n",
       "      <td>GASOLINE</td>\n",
       "      <td>130</td>\n",
       "      <td>12</td>\n",
       "    </tr>\n",
       "    <tr>\n",
       "      <th>1151</th>\n",
       "      <td>купе</td>\n",
       "      <td>AUDI</td>\n",
       "      <td>белый</td>\n",
       "      <td>2.0</td>\n",
       "      <td>225</td>\n",
       "      <td>бензин</td>\n",
       "      <td>125000</td>\n",
       "      <td>2011</td>\n",
       "      <td>A5</td>\n",
       "      <td>2</td>\n",
       "      <td>1101572798</td>\n",
       "      <td>ROBOT</td>\n",
       "      <td>EUROPEAN</td>\n",
       "      <td>1.0</td>\n",
       "      <td>ORIGINAL</td>\n",
       "      <td>полный</td>\n",
       "      <td>LEFT</td>\n",
       "      <td>1459000.0</td>\n",
       "      <td>14.193262</td>\n",
       "      <td>0</td>\n",
       "      <td>0</td>\n",
       "      <td>0</td>\n",
       "      <td>0</td>\n",
       "      <td>0</td>\n",
       "      <td>0</td>\n",
       "      <td>0</td>\n",
       "      <td>0</td>\n",
       "      <td>0</td>\n",
       "      <td>AMT</td>\n",
       "      <td>1</td>\n",
       "      <td>GASOLINE</td>\n",
       "      <td>120</td>\n",
       "      <td>7</td>\n",
       "    </tr>\n",
       "    <tr>\n",
       "      <th>1155</th>\n",
       "      <td>купе</td>\n",
       "      <td>AUDI</td>\n",
       "      <td>серый</td>\n",
       "      <td>2.7</td>\n",
       "      <td>190</td>\n",
       "      <td>дизель</td>\n",
       "      <td>147738</td>\n",
       "      <td>2007</td>\n",
       "      <td>A5</td>\n",
       "      <td>2</td>\n",
       "      <td>1102084445</td>\n",
       "      <td>VARIATOR</td>\n",
       "      <td>EUROPEAN</td>\n",
       "      <td>2.0</td>\n",
       "      <td>ORIGINAL</td>\n",
       "      <td>передний</td>\n",
       "      <td>LEFT</td>\n",
       "      <td>775000.0</td>\n",
       "      <td>13.560618</td>\n",
       "      <td>0</td>\n",
       "      <td>0</td>\n",
       "      <td>0</td>\n",
       "      <td>0</td>\n",
       "      <td>1</td>\n",
       "      <td>0</td>\n",
       "      <td>0</td>\n",
       "      <td>0</td>\n",
       "      <td>0</td>\n",
       "      <td>CVT</td>\n",
       "      <td>0</td>\n",
       "      <td>DIESEL</td>\n",
       "      <td>120</td>\n",
       "      <td>13</td>\n",
       "    </tr>\n",
       "    <tr>\n",
       "      <th>1156</th>\n",
       "      <td>купе</td>\n",
       "      <td>AUDI</td>\n",
       "      <td>зелёный</td>\n",
       "      <td>2.0</td>\n",
       "      <td>249</td>\n",
       "      <td>бензин</td>\n",
       "      <td>0</td>\n",
       "      <td>2019</td>\n",
       "      <td>A5</td>\n",
       "      <td>2</td>\n",
       "      <td>1101779851</td>\n",
       "      <td>ROBOT</td>\n",
       "      <td>EUROPEAN</td>\n",
       "      <td>NaN</td>\n",
       "      <td>ORIGINAL</td>\n",
       "      <td>полный</td>\n",
       "      <td>LEFT</td>\n",
       "      <td>3590000.0</td>\n",
       "      <td>15.093663</td>\n",
       "      <td>0</td>\n",
       "      <td>0</td>\n",
       "      <td>0</td>\n",
       "      <td>0</td>\n",
       "      <td>0</td>\n",
       "      <td>0</td>\n",
       "      <td>0</td>\n",
       "      <td>0</td>\n",
       "      <td>0</td>\n",
       "      <td>AMT</td>\n",
       "      <td>1</td>\n",
       "      <td>GASOLINE</td>\n",
       "      <td>160</td>\n",
       "      <td>1</td>\n",
       "    </tr>\n",
       "    <tr>\n",
       "      <th>1161</th>\n",
       "      <td>купе</td>\n",
       "      <td>AUDI</td>\n",
       "      <td>белый</td>\n",
       "      <td>2.0</td>\n",
       "      <td>211</td>\n",
       "      <td>бензин</td>\n",
       "      <td>75250</td>\n",
       "      <td>2011</td>\n",
       "      <td>A5</td>\n",
       "      <td>2</td>\n",
       "      <td>1102054034</td>\n",
       "      <td>ROBOT</td>\n",
       "      <td>EUROPEAN</td>\n",
       "      <td>1.0</td>\n",
       "      <td>ORIGINAL</td>\n",
       "      <td>полный</td>\n",
       "      <td>LEFT</td>\n",
       "      <td>1370000.0</td>\n",
       "      <td>14.130321</td>\n",
       "      <td>0</td>\n",
       "      <td>0</td>\n",
       "      <td>0</td>\n",
       "      <td>0</td>\n",
       "      <td>0</td>\n",
       "      <td>0</td>\n",
       "      <td>0</td>\n",
       "      <td>0</td>\n",
       "      <td>0</td>\n",
       "      <td>AMT</td>\n",
       "      <td>1</td>\n",
       "      <td>GASOLINE</td>\n",
       "      <td>120</td>\n",
       "      <td>8</td>\n",
       "    </tr>\n",
       "    <tr>\n",
       "      <th>...</th>\n",
       "      <td>...</td>\n",
       "      <td>...</td>\n",
       "      <td>...</td>\n",
       "      <td>...</td>\n",
       "      <td>...</td>\n",
       "      <td>...</td>\n",
       "      <td>...</td>\n",
       "      <td>...</td>\n",
       "      <td>...</td>\n",
       "      <td>...</td>\n",
       "      <td>...</td>\n",
       "      <td>...</td>\n",
       "      <td>...</td>\n",
       "      <td>...</td>\n",
       "      <td>...</td>\n",
       "      <td>...</td>\n",
       "      <td>...</td>\n",
       "      <td>...</td>\n",
       "      <td>...</td>\n",
       "      <td>...</td>\n",
       "      <td>...</td>\n",
       "      <td>...</td>\n",
       "      <td>...</td>\n",
       "      <td>...</td>\n",
       "      <td>...</td>\n",
       "      <td>...</td>\n",
       "      <td>...</td>\n",
       "      <td>...</td>\n",
       "      <td>...</td>\n",
       "      <td>...</td>\n",
       "      <td>...</td>\n",
       "      <td>...</td>\n",
       "      <td>...</td>\n",
       "    </tr>\n",
       "    <tr>\n",
       "      <th>73286</th>\n",
       "      <td>other</td>\n",
       "      <td>MERCEDES</td>\n",
       "      <td>коричневый</td>\n",
       "      <td>2.2</td>\n",
       "      <td>120</td>\n",
       "      <td>бензин</td>\n",
       "      <td>50000</td>\n",
       "      <td>1958</td>\n",
       "      <td>W128</td>\n",
       "      <td>2</td>\n",
       "      <td>1101388727</td>\n",
       "      <td>MECHANICAL</td>\n",
       "      <td>EUROPEAN</td>\n",
       "      <td>1.0</td>\n",
       "      <td>ORIGINAL</td>\n",
       "      <td>задний</td>\n",
       "      <td>LEFT</td>\n",
       "      <td>14980878.0</td>\n",
       "      <td>16.522285</td>\n",
       "      <td>0</td>\n",
       "      <td>0</td>\n",
       "      <td>0</td>\n",
       "      <td>0</td>\n",
       "      <td>0</td>\n",
       "      <td>0</td>\n",
       "      <td>0</td>\n",
       "      <td>0</td>\n",
       "      <td>0</td>\n",
       "      <td>MT</td>\n",
       "      <td>0</td>\n",
       "      <td>GASOLINE</td>\n",
       "      <td>160</td>\n",
       "      <td>62</td>\n",
       "    </tr>\n",
       "    <tr>\n",
       "      <th>73287</th>\n",
       "      <td>купе</td>\n",
       "      <td>MERCEDES</td>\n",
       "      <td>серебристый</td>\n",
       "      <td>2.2</td>\n",
       "      <td>120</td>\n",
       "      <td>бензин</td>\n",
       "      <td>5000</td>\n",
       "      <td>1958</td>\n",
       "      <td>W128</td>\n",
       "      <td>2</td>\n",
       "      <td>1096244830</td>\n",
       "      <td>MECHANICAL</td>\n",
       "      <td>EUROPEAN</td>\n",
       "      <td>1.0</td>\n",
       "      <td>ORIGINAL</td>\n",
       "      <td>задний</td>\n",
       "      <td>LEFT</td>\n",
       "      <td>18000000.0</td>\n",
       "      <td>16.705882</td>\n",
       "      <td>0</td>\n",
       "      <td>0</td>\n",
       "      <td>0</td>\n",
       "      <td>0</td>\n",
       "      <td>0</td>\n",
       "      <td>0</td>\n",
       "      <td>0</td>\n",
       "      <td>0</td>\n",
       "      <td>0</td>\n",
       "      <td>MT</td>\n",
       "      <td>0</td>\n",
       "      <td>GASOLINE</td>\n",
       "      <td>160</td>\n",
       "      <td>62</td>\n",
       "    </tr>\n",
       "    <tr>\n",
       "      <th>73288</th>\n",
       "      <td>купе</td>\n",
       "      <td>MERCEDES</td>\n",
       "      <td>коричневый</td>\n",
       "      <td>2.2</td>\n",
       "      <td>120</td>\n",
       "      <td>бензин</td>\n",
       "      <td>1000</td>\n",
       "      <td>1958</td>\n",
       "      <td>W128</td>\n",
       "      <td>2</td>\n",
       "      <td>1095769120</td>\n",
       "      <td>MECHANICAL</td>\n",
       "      <td>EUROPEAN</td>\n",
       "      <td>1.0</td>\n",
       "      <td>ORIGINAL</td>\n",
       "      <td>задний</td>\n",
       "      <td>LEFT</td>\n",
       "      <td>15900000.0</td>\n",
       "      <td>16.581830</td>\n",
       "      <td>0</td>\n",
       "      <td>0</td>\n",
       "      <td>0</td>\n",
       "      <td>0</td>\n",
       "      <td>0</td>\n",
       "      <td>0</td>\n",
       "      <td>0</td>\n",
       "      <td>0</td>\n",
       "      <td>0</td>\n",
       "      <td>MT</td>\n",
       "      <td>0</td>\n",
       "      <td>GASOLINE</td>\n",
       "      <td>160</td>\n",
       "      <td>62</td>\n",
       "    </tr>\n",
       "    <tr>\n",
       "      <th>73292</th>\n",
       "      <td>купе</td>\n",
       "      <td>MERCEDES</td>\n",
       "      <td>чёрный</td>\n",
       "      <td>3.0</td>\n",
       "      <td>150</td>\n",
       "      <td>бензин</td>\n",
       "      <td>12000</td>\n",
       "      <td>1951</td>\n",
       "      <td>W188</td>\n",
       "      <td>2</td>\n",
       "      <td>1100192650</td>\n",
       "      <td>MECHANICAL</td>\n",
       "      <td>EUROPEAN</td>\n",
       "      <td>3.0</td>\n",
       "      <td>ORIGINAL</td>\n",
       "      <td>задний</td>\n",
       "      <td>LEFT</td>\n",
       "      <td>52500000.0</td>\n",
       "      <td>17.776324</td>\n",
       "      <td>0</td>\n",
       "      <td>0</td>\n",
       "      <td>0</td>\n",
       "      <td>0</td>\n",
       "      <td>0</td>\n",
       "      <td>0</td>\n",
       "      <td>0</td>\n",
       "      <td>0</td>\n",
       "      <td>0</td>\n",
       "      <td>MT</td>\n",
       "      <td>0</td>\n",
       "      <td>GASOLINE</td>\n",
       "      <td>210</td>\n",
       "      <td>69</td>\n",
       "    </tr>\n",
       "    <tr>\n",
       "      <th>73293</th>\n",
       "      <td>купе</td>\n",
       "      <td>MERCEDES</td>\n",
       "      <td>золотистый</td>\n",
       "      <td>3.0</td>\n",
       "      <td>150</td>\n",
       "      <td>бензин</td>\n",
       "      <td>45200</td>\n",
       "      <td>1951</td>\n",
       "      <td>W188</td>\n",
       "      <td>2</td>\n",
       "      <td>1083539567</td>\n",
       "      <td>MECHANICAL</td>\n",
       "      <td>EUROPEAN</td>\n",
       "      <td>1.0</td>\n",
       "      <td>ORIGINAL</td>\n",
       "      <td>задний</td>\n",
       "      <td>LEFT</td>\n",
       "      <td>16200000.0</td>\n",
       "      <td>16.600522</td>\n",
       "      <td>0</td>\n",
       "      <td>0</td>\n",
       "      <td>0</td>\n",
       "      <td>0</td>\n",
       "      <td>0</td>\n",
       "      <td>1</td>\n",
       "      <td>0</td>\n",
       "      <td>0</td>\n",
       "      <td>0</td>\n",
       "      <td>MT</td>\n",
       "      <td>0</td>\n",
       "      <td>GASOLINE</td>\n",
       "      <td>210</td>\n",
       "      <td>69</td>\n",
       "    </tr>\n",
       "  </tbody>\n",
       "</table>\n",
       "<p>1457 rows × 33 columns</p>\n",
       "</div>"
      ],
      "text/plain": [
       "      bodyType     brand        color  engineDisplacement  enginePower  \\\n",
       "699      other      AUDI      красный                 2.0          200   \n",
       "1151      купе      AUDI        белый                 2.0          225   \n",
       "1155      купе      AUDI        серый                 2.7          190   \n",
       "1156      купе      AUDI      зелёный                 2.0          249   \n",
       "1161      купе      AUDI        белый                 2.0          211   \n",
       "...        ...       ...          ...                 ...          ...   \n",
       "73286    other  MERCEDES   коричневый                 2.2          120   \n",
       "73287     купе  MERCEDES  серебристый                 2.2          120   \n",
       "73288     купе  MERCEDES   коричневый                 2.2          120   \n",
       "73292     купе  MERCEDES       чёрный                 3.0          150   \n",
       "73293     купе  MERCEDES   золотистый                 3.0          150   \n",
       "\n",
       "      fuelType  mileage  modelDate model_name  numberOfDoors     sell_id  \\\n",
       "699     бензин   170000       2004         A4              2  1096050216   \n",
       "1151    бензин   125000       2011         A5              2  1101572798   \n",
       "1155    дизель   147738       2007         A5              2  1102084445   \n",
       "1156    бензин        0       2019         A5              2  1101779851   \n",
       "1161    бензин    75250       2011         A5              2  1102054034   \n",
       "...        ...      ...        ...        ...            ...         ...   \n",
       "73286   бензин    50000       1958       W128              2  1101388727   \n",
       "73287   бензин     5000       1958       W128              2  1096244830   \n",
       "73288   бензин     1000       1958       W128              2  1095769120   \n",
       "73292   бензин    12000       1951       W188              2  1100192650   \n",
       "73293   бензин    45200       1951       W188              2  1083539567   \n",
       "\n",
       "      vehicleTransmission    vendor  Владельцы       ПТС    Привод  Руль  \\\n",
       "699             AUTOMATIC  EUROPEAN        1.0  ORIGINAL    полный  LEFT   \n",
       "1151                ROBOT  EUROPEAN        1.0  ORIGINAL    полный  LEFT   \n",
       "1155             VARIATOR  EUROPEAN        2.0  ORIGINAL  передний  LEFT   \n",
       "1156                ROBOT  EUROPEAN        NaN  ORIGINAL    полный  LEFT   \n",
       "1161                ROBOT  EUROPEAN        1.0  ORIGINAL    полный  LEFT   \n",
       "...                   ...       ...        ...       ...       ...   ...   \n",
       "73286          MECHANICAL  EUROPEAN        1.0  ORIGINAL    задний  LEFT   \n",
       "73287          MECHANICAL  EUROPEAN        1.0  ORIGINAL    задний  LEFT   \n",
       "73288          MECHANICAL  EUROPEAN        1.0  ORIGINAL    задний  LEFT   \n",
       "73292          MECHANICAL  EUROPEAN        3.0  ORIGINAL    задний  LEFT   \n",
       "73293          MECHANICAL  EUROPEAN        1.0  ORIGINAL    задний  LEFT   \n",
       "\n",
       "        price_RUR  log_price  офДил  климат  подБез  усилРуля  отл  хор  \\\n",
       "699     1300000.0  14.077875      0       0       0         0    0    0   \n",
       "1151    1459000.0  14.193262      0       0       0         0    0    0   \n",
       "1155     775000.0  13.560618      0       0       0         0    1    0   \n",
       "1156    3590000.0  15.093663      0       0       0         0    0    0   \n",
       "1161    1370000.0  14.130321      0       0       0         0    0    0   \n",
       "...           ...        ...    ...     ...     ...       ...  ...  ...   \n",
       "73286  14980878.0  16.522285      0       0       0         0    0    0   \n",
       "73287  18000000.0  16.705882      0       0       0         0    0    0   \n",
       "73288  15900000.0  16.581830      0       0       0         0    0    0   \n",
       "73292  52500000.0  17.776324      0       0       0         0    0    0   \n",
       "73293  16200000.0  16.600522      0       0       0         0    0    1   \n",
       "\n",
       "       цЗамок  эПодъм  бКомп gearbox  drive4WD engine_type  clearance_min  \\\n",
       "699         0       0      0      AT         1    GASOLINE            130   \n",
       "1151        0       0      0     AMT         1    GASOLINE            120   \n",
       "1155        0       0      0     CVT         0      DIESEL            120   \n",
       "1156        0       0      0     AMT         1    GASOLINE            160   \n",
       "1161        0       0      0     AMT         1    GASOLINE            120   \n",
       "...       ...     ...    ...     ...       ...         ...            ...   \n",
       "73286       0       0      0      MT         0    GASOLINE            160   \n",
       "73287       0       0      0      MT         0    GASOLINE            160   \n",
       "73288       0       0      0      MT         0    GASOLINE            160   \n",
       "73292       0       0      0      MT         0    GASOLINE            210   \n",
       "73293       0       0      0      MT         0    GASOLINE            210   \n",
       "\n",
       "       years_old  \n",
       "699           12  \n",
       "1151           7  \n",
       "1155          13  \n",
       "1156           1  \n",
       "1161           8  \n",
       "...          ...  \n",
       "73286         62  \n",
       "73287         62  \n",
       "73288         62  \n",
       "73292         69  \n",
       "73293         69  \n",
       "\n",
       "[1457 rows x 33 columns]"
      ]
     },
     "execution_count": 290,
     "metadata": {},
     "output_type": "execute_result"
    }
   ],
   "source": [
    "train[train.numberOfDoors<=2]"
   ]
  },
  {
   "cell_type": "markdown",
   "metadata": {},
   "source": [
    "Модели с 2 и менее дверей раритетные или эксклюзивные"
   ]
  },
  {
   "cell_type": "markdown",
   "metadata": {},
   "source": [
    "### 4.23. vehileTransmission"
   ]
  },
  {
   "cell_type": "code",
   "execution_count": 291,
   "metadata": {},
   "outputs": [
    {
     "data": {
      "text/plain": [
       "автоматическая      19596\n",
       "механическая         7209\n",
       "вариатор             3999\n",
       "роботизированная     3882\n",
       "Name: vehicleTransmission, dtype: int64"
      ]
     },
     "execution_count": 291,
     "metadata": {},
     "output_type": "execute_result"
    }
   ],
   "source": [
    "test.vehicleTransmission.value_counts()"
   ]
  },
  {
   "cell_type": "code",
   "execution_count": 292,
   "metadata": {},
   "outputs": [
    {
     "data": {
      "text/plain": [
       "AUTOMATIC     40099\n",
       "MECHANICAL    18674\n",
       "ROBOT          8079\n",
       "VARIATOR       7157\n",
       "Name: vehicleTransmission, dtype: int64"
      ]
     },
     "execution_count": 292,
     "metadata": {},
     "output_type": "execute_result"
    }
   ],
   "source": [
    "train.vehicleTransmission.value_counts()"
   ]
  },
  {
   "cell_type": "code",
   "execution_count": 293,
   "metadata": {},
   "outputs": [],
   "source": [
    "# Приведем к единому написанию\n",
    "train.vehicleTransmission = train.vehicleTransmission.apply(lambda x: 'автоматическая' if x == 'AUTOMATIC' else 'механическая' if x == 'MECHANICAL' else 'вариатор' if x == 'VARIATOR' else 'роботизированная' )"
   ]
  },
  {
   "cell_type": "markdown",
   "metadata": {},
   "source": [
    "### 4.24. vendor"
   ]
  },
  {
   "cell_type": "code",
   "execution_count": 294,
   "metadata": {},
   "outputs": [
    {
     "data": {
      "text/plain": [
       "EUROPEAN    20682\n",
       "JAPANESE    14004\n",
       "Name: vendor, dtype: int64"
      ]
     },
     "execution_count": 294,
     "metadata": {},
     "output_type": "execute_result"
    }
   ],
   "source": [
    "test.vendor.value_counts()"
   ]
  },
  {
   "cell_type": "code",
   "execution_count": 295,
   "metadata": {},
   "outputs": [
    {
     "data": {
      "text/plain": [
       "EUROPEAN    38867\n",
       "JAPANESE    17232\n",
       "KOREAN      10469\n",
       "AMERICAN     5529\n",
       "CHINESE      1076\n",
       "RUSSIAN       836\n",
       "Name: vendor, dtype: int64"
      ]
     },
     "execution_count": 295,
     "metadata": {},
     "output_type": "execute_result"
    }
   ],
   "source": [
    "train.vendor.value_counts()"
   ]
  },
  {
   "cell_type": "markdown",
   "metadata": {},
   "source": [
    "### 4.25. Владельцы"
   ]
  },
  {
   "cell_type": "code",
   "execution_count": 296,
   "metadata": {},
   "outputs": [
    {
     "data": {
      "text/plain": [
       "21853"
      ]
     },
     "execution_count": 296,
     "metadata": {},
     "output_type": "execute_result"
    }
   ],
   "source": [
    "#пропущенных значений\n",
    "train.Владельцы.isna().sum()"
   ]
  },
  {
   "cell_type": "code",
   "execution_count": 297,
   "metadata": {},
   "outputs": [
    {
     "data": {
      "text/plain": [
       "3.0    21236\n",
       "1.0    16517\n",
       "2.0    13922\n",
       "4.0      481\n",
       "Name: Владельцы, dtype: int64"
      ]
     },
     "execution_count": 297,
     "metadata": {},
     "output_type": "execute_result"
    }
   ],
   "source": [
    "train.Владельцы.value_counts()"
   ]
  },
  {
   "cell_type": "code",
   "execution_count": 298,
   "metadata": {},
   "outputs": [],
   "source": [
    "train.Владельцы = train.Владельцы.fillna('3')"
   ]
  },
  {
   "cell_type": "code",
   "execution_count": 299,
   "metadata": {},
   "outputs": [],
   "source": [
    "# Приведем к единому виду\n",
    "train.Владельцы = train.Владельцы.astype('str')\n",
    "test.Владельцы = test.Владельцы.astype('str')"
   ]
  },
  {
   "cell_type": "code",
   "execution_count": 300,
   "metadata": {},
   "outputs": [],
   "source": [
    "train.Владельцы = train.Владельцы.apply(lambda x: x[0])\n",
    "test.Владельцы = test.Владельцы.apply(lambda x: x[0])"
   ]
  },
  {
   "cell_type": "code",
   "execution_count": 301,
   "metadata": {},
   "outputs": [],
   "source": [
    "train.Владельцы = train.Владельцы.values.astype('int64')\n",
    "test.Владельцы = test.Владельцы.values.astype('int64')"
   ]
  },
  {
   "cell_type": "markdown",
   "metadata": {},
   "source": [
    "### 4.26. Привод¶"
   ]
  },
  {
   "cell_type": "code",
   "execution_count": 302,
   "metadata": {},
   "outputs": [
    {
     "data": {
      "text/plain": [
       "передний    15565\n",
       "полный      15020\n",
       "задний       4101\n",
       "Name: Привод, dtype: int64"
      ]
     },
     "execution_count": 302,
     "metadata": {},
     "output_type": "execute_result"
    }
   ],
   "source": [
    "test.Привод.value_counts()"
   ]
  },
  {
   "cell_type": "code",
   "execution_count": 303,
   "metadata": {},
   "outputs": [
    {
     "data": {
      "text/plain": [
       "передний    37120\n",
       "полный      32118\n",
       "задний       4771\n",
       "Name: Привод, dtype: int64"
      ]
     },
     "execution_count": 303,
     "metadata": {},
     "output_type": "execute_result"
    }
   ],
   "source": [
    "train.Привод.value_counts()"
   ]
  },
  {
   "cell_type": "markdown",
   "metadata": {},
   "source": [
    "## Бинарные признаки"
   ]
  },
  {
   "cell_type": "markdown",
   "metadata": {},
   "source": [
    "### 4.27. Руль"
   ]
  },
  {
   "cell_type": "code",
   "execution_count": 304,
   "metadata": {},
   "outputs": [
    {
     "data": {
      "text/plain": [
       "LEFT     72848\n",
       "RIGHT     1161\n",
       "Name: Руль, dtype: int64"
      ]
     },
     "execution_count": 304,
     "metadata": {},
     "output_type": "execute_result"
    }
   ],
   "source": [
    "train.Руль.value_counts()"
   ]
  },
  {
   "cell_type": "code",
   "execution_count": 305,
   "metadata": {},
   "outputs": [
    {
     "data": {
      "text/plain": [
       "Левый     33287\n",
       "Правый     1399\n",
       "Name: Руль, dtype: int64"
      ]
     },
     "execution_count": 305,
     "metadata": {},
     "output_type": "execute_result"
    }
   ],
   "source": [
    "test.Руль.value_counts()"
   ]
  },
  {
   "cell_type": "code",
   "execution_count": 306,
   "metadata": {},
   "outputs": [],
   "source": [
    "# Приведем к единому написанию\n",
    "train.Руль = train.Руль.apply(lambda x: 'Левый' if x == 'LEFT' else 'Правый')"
   ]
  },
  {
   "cell_type": "markdown",
   "metadata": {},
   "source": [
    "### 4.28. ПТС"
   ]
  },
  {
   "cell_type": "code",
   "execution_count": 307,
   "metadata": {},
   "outputs": [
    {
     "data": {
      "text/plain": [
       "ORIGINAL     67557\n",
       "DUPLICATE     6452\n",
       "Name: ПТС, dtype: int64"
      ]
     },
     "execution_count": 307,
     "metadata": {},
     "output_type": "execute_result"
    }
   ],
   "source": [
    "train.ПТС.value_counts()"
   ]
  },
  {
   "cell_type": "code",
   "execution_count": 308,
   "metadata": {},
   "outputs": [
    {
     "data": {
      "text/plain": [
       "Оригинал    30099\n",
       "Дубликат     4587\n",
       "Name: ПТС, dtype: int64"
      ]
     },
     "execution_count": 308,
     "metadata": {},
     "output_type": "execute_result"
    }
   ],
   "source": [
    "test.ПТС.value_counts()"
   ]
  },
  {
   "cell_type": "code",
   "execution_count": 309,
   "metadata": {},
   "outputs": [],
   "source": [
    "#Приведем к единому написанию\n",
    "train.ПТС = train.ПТС.apply(lambda x: 'Оригинал' if x == 'ORIGINAL' else 'Дубликат')"
   ]
  },
  {
   "cell_type": "markdown",
   "metadata": {},
   "source": [
    "## Визуализация признаков"
   ]
  },
  {
   "cell_type": "code",
   "execution_count": 310,
   "metadata": {},
   "outputs": [
    {
     "data": {
      "text/plain": [
       "bodyType               0\n",
       "brand                  0\n",
       "color                  0\n",
       "engineDisplacement     0\n",
       "enginePower            0\n",
       "fuelType               0\n",
       "mileage                0\n",
       "modelDate              0\n",
       "model_name             0\n",
       "numberOfDoors          0\n",
       "sell_id                0\n",
       "vehicleTransmission    0\n",
       "vendor                 0\n",
       "Владельцы              0\n",
       "ПТС                    0\n",
       "Привод                 0\n",
       "Руль                   0\n",
       "офДил                  0\n",
       "климат                 0\n",
       "подБез                 0\n",
       "усилРуля               0\n",
       "отл                    0\n",
       "хор                    0\n",
       "цЗамок                 0\n",
       "эПодъм                 0\n",
       "бКомп                  0\n",
       "gearbox                0\n",
       "drive4WD               0\n",
       "engine_type            0\n",
       "clearance_min          0\n",
       "years_old              0\n",
       "dtype: int64"
      ]
     },
     "execution_count": 310,
     "metadata": {},
     "output_type": "execute_result"
    }
   ],
   "source": [
    "test.isna().sum()"
   ]
  },
  {
   "cell_type": "code",
   "execution_count": 311,
   "metadata": {},
   "outputs": [
    {
     "data": {
      "text/plain": [
       "bodyType               0\n",
       "brand                  0\n",
       "color                  0\n",
       "engineDisplacement     0\n",
       "enginePower            0\n",
       "fuelType               0\n",
       "mileage                0\n",
       "modelDate              0\n",
       "model_name             0\n",
       "numberOfDoors          0\n",
       "sell_id                0\n",
       "vehicleTransmission    0\n",
       "vendor                 0\n",
       "Владельцы              0\n",
       "ПТС                    0\n",
       "Привод                 0\n",
       "Руль                   0\n",
       "price_RUR              0\n",
       "log_price              0\n",
       "офДил                  0\n",
       "климат                 0\n",
       "подБез                 0\n",
       "усилРуля               0\n",
       "отл                    0\n",
       "хор                    0\n",
       "цЗамок                 0\n",
       "эПодъм                 0\n",
       "бКомп                  0\n",
       "gearbox                0\n",
       "drive4WD               0\n",
       "engine_type            0\n",
       "clearance_min          0\n",
       "years_old              0\n",
       "dtype: int64"
      ]
     },
     "execution_count": 311,
     "metadata": {},
     "output_type": "execute_result"
    }
   ],
   "source": [
    "train.isna().sum()"
   ]
  },
  {
   "cell_type": "code",
   "execution_count": 312,
   "metadata": {},
   "outputs": [],
   "source": [
    "# Объединяем трейн и тест\n",
    "\n",
    "train['Train'] = 1 # помечаем трейн\n",
    "test['Train'] = 0 # помечаем тест\n",
    "\n",
    "df = train.append(test, sort=False).reset_index(drop=True) # объединяем"
   ]
  },
  {
   "cell_type": "code",
   "execution_count": 313,
   "metadata": {},
   "outputs": [],
   "source": [
    "# объединим все полученные признаки по категориям\n",
    "\n",
    "bin_cols = ['ПТС', 'Руль', 'офДил', 'климат', 'подБез', 'усилРуля',\n",
    "            'отл', 'хор', 'цЗамок', 'эПодъм', 'бКомп', 'drive4WD']\n",
    "cat_cols = ['bodyType', 'brand', 'color', 'fuelType', 'model_name', 'numberOfDoors',\n",
    "            'vehicleTransmission', 'vendor', 'Владельцы', 'Привод', 'gearbox', 'engine_type']\n",
    "num_cols = ['modelDate', 'years_old', 'engineDisplacement', 'mileage', 'clearance_min', 'enginePower']# sell_id исключили из списка"
   ]
  },
  {
   "cell_type": "markdown",
   "metadata": {},
   "source": [
    "### Числовые признаки"
   ]
  },
  {
   "cell_type": "code",
   "execution_count": 314,
   "metadata": {},
   "outputs": [
    {
     "data": {
      "image/png": "[encoded data removed]",
      "text/plain": [
       "<Figure size 720x216 with 2 Axes>"
      ]
     },
     "metadata": {
      "needs_background": "light"
     },
     "output_type": "display_data"
    },
    {
     "data": {
      "image/png": "[encoded data removed]",
      "text/plain": [
       "<Figure size 720x216 with 2 Axes>"
      ]
     },
     "metadata": {
      "needs_background": "light"
     },
     "output_type": "display_data"
    },
    {
     "data": {
      "image/png": "[encoded data removed]",
      "text/plain": [
       "<Figure size 720x216 with 2 Axes>"
      ]
     },
     "metadata": {
      "needs_background": "light"
     },
     "output_type": "display_data"
    },
    {
     "data": {
      "image/png": "[encoded data removed]",
      "text/plain": [
       "<Figure size 720x216 with 2 Axes>"
      ]
     },
     "metadata": {
      "needs_background": "light"
     },
     "output_type": "display_data"
    },
    {
     "data": {
      "image/png": "[encoded data removed]",
      "text/plain": [
       "<Figure size 720x216 with 2 Axes>"
      ]
     },
     "metadata": {
      "needs_background": "light"
     },
     "output_type": "display_data"
    },
    {
     "data": {
      "image/png": "[encoded data removed]",
      "text/plain": [
       "<Figure size 720x216 with 2 Axes>"
      ]
     },
     "metadata": {
      "needs_background": "light"
     },
     "output_type": "display_data"
    }
   ],
   "source": [
    "# Рассмотрим числовые признаки\n",
    "for i in num_cols:\n",
    "    f = plt.figure(figsize=(10, 3))\n",
    "    gs = f.add_gridspec(1, 2)\n",
    "    with sns.axes_style(\"white\"):\n",
    "        ax = f.add_subplot(gs[0, 0])\n",
    "        sns.histplot(df[i], kde = False, bins=60, color='b')\n",
    "\n",
    "    with sns.axes_style(\"white\"):\n",
    "        ax = f.add_subplot(gs[0, 1])\n",
    "        sns.boxplot(data=df[i], palette='rainbow')\n",
    "\n",
    "    f.tight_layout()\n"
   ]
  },
  {
   "cell_type": "code",
   "execution_count": 315,
   "metadata": {},
   "outputs": [
    {
     "data": {
      "image/png": "[encoded data removed]",
      "text/plain": [
       "<Figure size 720x216 with 2 Axes>"
      ]
     },
     "metadata": {
      "needs_background": "light"
     },
     "output_type": "display_data"
    },
    {
     "data": {
      "image/png": "[encoded data removed]",
      "text/plain": [
       "<Figure size 720x216 with 2 Axes>"
      ]
     },
     "metadata": {
      "needs_background": "light"
     },
     "output_type": "display_data"
    },
    {
     "data": {
      "image/png": "[encoded data removed]",
      "text/plain": [
       "<Figure size 720x216 with 2 Axes>"
      ]
     },
     "metadata": {
      "needs_background": "light"
     },
     "output_type": "display_data"
    },
    {
     "data": {
      "image/png": "[encoded data removed]",
      "text/plain": [
       "<Figure size 720x216 with 2 Axes>"
      ]
     },
     "metadata": {
      "needs_background": "light"
     },
     "output_type": "display_data"
    },
    {
     "data": {
      "image/png": "[encoded data removed]",
      "text/plain": [
       "<Figure size 720x216 with 2 Axes>"
      ]
     },
     "metadata": {
      "needs_background": "light"
     },
     "output_type": "display_data"
    },
    {
     "data": {
      "image/png": "[encoded data removed]",
      "text/plain": [
       "<Figure size 720x216 with 2 Axes>"
      ]
     },
     "metadata": {
      "needs_background": "light"
     },
     "output_type": "display_data"
    }
   ],
   "source": [
    "# У всех признаков имеются выбросы.\n",
    "# пробуем логарифмировать\n",
    "\n",
    "for i in num_cols:\n",
    "    df[i] = np.log(df[i] + 1)\n",
    "    f = plt.figure(figsize=(10, 3))\n",
    "    gs = f.add_gridspec(1, 2)\n",
    "    with sns.axes_style(\"white\"):\n",
    "        ax = f.add_subplot(gs[0, 0])\n",
    "        sns.histplot(df[i], kde = False, bins=60, color='b')\n",
    "\n",
    "    with sns.axes_style(\"white\"):\n",
    "        ax = f.add_subplot(gs[0, 1])\n",
    "        sns.boxplot(data=df[i], palette='rainbow')\n",
    "\n",
    "    f.tight_layout()\n"
   ]
  },
  {
   "cell_type": "markdown",
   "metadata": {},
   "source": [
    "От выбросов избавиться не удалось."
   ]
  },
  {
   "cell_type": "code",
   "execution_count": 316,
   "metadata": {},
   "outputs": [
    {
     "data": {
      "text/plain": [
       "<AxesSubplot:>"
      ]
     },
     "execution_count": 316,
     "metadata": {},
     "output_type": "execute_result"
    },
    {
     "data": {
      "image/png": "[encoded data removed]",
      "text/plain": [
       "<Figure size 432x288 with 2 Axes>"
      ]
     },
     "metadata": {
      "needs_background": "light"
     },
     "output_type": "display_data"
    }
   ],
   "source": [
    "# Корреляция для числовых признаков\n",
    "column = ['modelDate', 'years_old', 'engineDisplacement', 'mileage', 'clearance_min', 'enginePower', 'price_RUR', 'log_price']\n",
    "df_num = df[column]\n",
    "sns.heatmap(df_num.corr(), annot = True)"
   ]
  },
  {
   "cell_type": "markdown",
   "metadata": {},
   "source": [
    "Высокая корреляция между enginePower и engineDisplacement и обратная корреляция между modelDate и years_old.         \n",
    "С price_RUR и log_price коррелируют enginePower, modelDate, обратная корреляция с years_old и mileage.      \n",
    "На данном этапе берем информацию к сведению."
   ]
  },
  {
   "cell_type": "markdown",
   "metadata": {},
   "source": [
    "### Категориальные и бинарные признаки"
   ]
  },
  {
   "cell_type": "code",
   "execution_count": 317,
   "metadata": {},
   "outputs": [],
   "source": [
    "for column in cat_cols:\n",
    "    df[column] = df[column].astype('category').cat.codes"
   ]
  },
  {
   "cell_type": "markdown",
   "metadata": {},
   "source": [
    "for i in cat_cols:\n",
    "    f = plt.figure(figsize=(15, 3))\n",
    "    gs = f.add_gridspec(1, 4)\n",
    "    with sns.axes_style(\"white\"):\n",
    "        ax = f.add_subplot(gs[0, 0])\n",
    "        sns.barplot(x=i, y='price_RUR', data=df[df['Train'] ==1], estimator=len)\n",
    "        \n",
    "    with sns.axes_style(\"white\"):\n",
    "        ax = f.add_subplot(gs[0, 1])\n",
    "        sns.barplot(x='price_RUR', y=i, data=df[df['Train'] ==1], estimator=len)\n",
    "\n",
    "    with sns.axes_style(\"white\"):\n",
    "        ax = f.add_subplot(gs[0, 2])\n",
    "        sns.boxplot(x='price_RUR', y=i, data=df[df['Train'] ==1], palette='rainbow')\n",
    "        \n",
    "    with sns.axes_style(\"white\"):\n",
    "        ax = f.add_subplot(gs[0, 3])\n",
    "        sns.boxplot(data=df[i], palette='rainbow')\n",
    "\n",
    "    f.tight_layout()"
   ]
  },
  {
   "cell_type": "code",
   "execution_count": 318,
   "metadata": {},
   "outputs": [
    {
     "data": {
      "text/html": [
       "<div>\n",
       "<style scoped>\n",
       "    .dataframe tbody tr th:only-of-type {\n",
       "        vertical-align: middle;\n",
       "    }\n",
       "\n",
       "    .dataframe tbody tr th {\n",
       "        vertical-align: top;\n",
       "    }\n",
       "\n",
       "    .dataframe thead th {\n",
       "        text-align: right;\n",
       "    }\n",
       "</style>\n",
       "<table border=\"1\" class=\"dataframe\">\n",
       "  <thead>\n",
       "    <tr style=\"text-align: right;\">\n",
       "      <th></th>\n",
       "      <th>bodyType</th>\n",
       "      <th>brand</th>\n",
       "      <th>color</th>\n",
       "      <th>fuelType</th>\n",
       "      <th>model_name</th>\n",
       "      <th>numberOfDoors</th>\n",
       "      <th>vehicleTransmission</th>\n",
       "      <th>vendor</th>\n",
       "      <th>Владельцы</th>\n",
       "      <th>Привод</th>\n",
       "      <th>gearbox</th>\n",
       "      <th>engine_type</th>\n",
       "    </tr>\n",
       "  </thead>\n",
       "  <tbody>\n",
       "    <tr>\n",
       "      <th>bodyType</th>\n",
       "      <td>1.0</td>\n",
       "      <td>0.1</td>\n",
       "      <td>-0.0</td>\n",
       "      <td>-0.2</td>\n",
       "      <td>-0.3</td>\n",
       "      <td>-0.4</td>\n",
       "      <td>0.2</td>\n",
       "      <td>-0.0</td>\n",
       "      <td>0.0</td>\n",
       "      <td>-0.5</td>\n",
       "      <td>0.1</td>\n",
       "      <td>0.2</td>\n",
       "    </tr>\n",
       "    <tr>\n",
       "      <th>brand</th>\n",
       "      <td>0.1</td>\n",
       "      <td>1.0</td>\n",
       "      <td>-0.1</td>\n",
       "      <td>-0.1</td>\n",
       "      <td>0.1</td>\n",
       "      <td>0.1</td>\n",
       "      <td>0.1</td>\n",
       "      <td>0.1</td>\n",
       "      <td>-0.0</td>\n",
       "      <td>-0.2</td>\n",
       "      <td>0.2</td>\n",
       "      <td>0.1</td>\n",
       "    </tr>\n",
       "    <tr>\n",
       "      <th>color</th>\n",
       "      <td>-0.0</td>\n",
       "      <td>-0.1</td>\n",
       "      <td>1.0</td>\n",
       "      <td>0.1</td>\n",
       "      <td>-0.0</td>\n",
       "      <td>-0.0</td>\n",
       "      <td>-0.1</td>\n",
       "      <td>-0.1</td>\n",
       "      <td>0.0</td>\n",
       "      <td>0.1</td>\n",
       "      <td>-0.1</td>\n",
       "      <td>-0.1</td>\n",
       "    </tr>\n",
       "    <tr>\n",
       "      <th>fuelType</th>\n",
       "      <td>-0.2</td>\n",
       "      <td>-0.1</td>\n",
       "      <td>0.1</td>\n",
       "      <td>1.0</td>\n",
       "      <td>0.1</td>\n",
       "      <td>0.1</td>\n",
       "      <td>-0.2</td>\n",
       "      <td>-0.1</td>\n",
       "      <td>-0.0</td>\n",
       "      <td>0.3</td>\n",
       "      <td>-0.1</td>\n",
       "      <td>-1.0</td>\n",
       "    </tr>\n",
       "    <tr>\n",
       "      <th>model_name</th>\n",
       "      <td>-0.3</td>\n",
       "      <td>0.1</td>\n",
       "      <td>-0.0</td>\n",
       "      <td>0.1</td>\n",
       "      <td>1.0</td>\n",
       "      <td>0.3</td>\n",
       "      <td>-0.0</td>\n",
       "      <td>0.1</td>\n",
       "      <td>-0.1</td>\n",
       "      <td>0.2</td>\n",
       "      <td>0.0</td>\n",
       "      <td>-0.1</td>\n",
       "    </tr>\n",
       "    <tr>\n",
       "      <th>numberOfDoors</th>\n",
       "      <td>-0.4</td>\n",
       "      <td>0.1</td>\n",
       "      <td>-0.0</td>\n",
       "      <td>0.1</td>\n",
       "      <td>0.3</td>\n",
       "      <td>1.0</td>\n",
       "      <td>-0.0</td>\n",
       "      <td>0.0</td>\n",
       "      <td>-0.0</td>\n",
       "      <td>0.4</td>\n",
       "      <td>-0.0</td>\n",
       "      <td>-0.1</td>\n",
       "    </tr>\n",
       "    <tr>\n",
       "      <th>vehicleTransmission</th>\n",
       "      <td>0.2</td>\n",
       "      <td>0.1</td>\n",
       "      <td>-0.1</td>\n",
       "      <td>-0.2</td>\n",
       "      <td>-0.0</td>\n",
       "      <td>-0.0</td>\n",
       "      <td>1.0</td>\n",
       "      <td>-0.1</td>\n",
       "      <td>0.0</td>\n",
       "      <td>-0.2</td>\n",
       "      <td>0.3</td>\n",
       "      <td>0.2</td>\n",
       "    </tr>\n",
       "    <tr>\n",
       "      <th>vendor</th>\n",
       "      <td>-0.0</td>\n",
       "      <td>0.1</td>\n",
       "      <td>-0.1</td>\n",
       "      <td>-0.1</td>\n",
       "      <td>0.1</td>\n",
       "      <td>0.0</td>\n",
       "      <td>-0.1</td>\n",
       "      <td>1.0</td>\n",
       "      <td>-0.1</td>\n",
       "      <td>0.0</td>\n",
       "      <td>0.2</td>\n",
       "      <td>0.1</td>\n",
       "    </tr>\n",
       "    <tr>\n",
       "      <th>Владельцы</th>\n",
       "      <td>0.0</td>\n",
       "      <td>-0.0</td>\n",
       "      <td>0.0</td>\n",
       "      <td>-0.0</td>\n",
       "      <td>-0.1</td>\n",
       "      <td>-0.0</td>\n",
       "      <td>0.0</td>\n",
       "      <td>-0.1</td>\n",
       "      <td>1.0</td>\n",
       "      <td>-0.0</td>\n",
       "      <td>0.0</td>\n",
       "      <td>0.0</td>\n",
       "    </tr>\n",
       "    <tr>\n",
       "      <th>Привод</th>\n",
       "      <td>-0.5</td>\n",
       "      <td>-0.2</td>\n",
       "      <td>0.1</td>\n",
       "      <td>0.3</td>\n",
       "      <td>0.2</td>\n",
       "      <td>0.4</td>\n",
       "      <td>-0.2</td>\n",
       "      <td>0.0</td>\n",
       "      <td>-0.0</td>\n",
       "      <td>1.0</td>\n",
       "      <td>-0.2</td>\n",
       "      <td>-0.3</td>\n",
       "    </tr>\n",
       "    <tr>\n",
       "      <th>gearbox</th>\n",
       "      <td>0.1</td>\n",
       "      <td>0.2</td>\n",
       "      <td>-0.1</td>\n",
       "      <td>-0.1</td>\n",
       "      <td>0.0</td>\n",
       "      <td>-0.0</td>\n",
       "      <td>0.3</td>\n",
       "      <td>0.2</td>\n",
       "      <td>0.0</td>\n",
       "      <td>-0.2</td>\n",
       "      <td>1.0</td>\n",
       "      <td>0.1</td>\n",
       "    </tr>\n",
       "    <tr>\n",
       "      <th>engine_type</th>\n",
       "      <td>0.2</td>\n",
       "      <td>0.1</td>\n",
       "      <td>-0.1</td>\n",
       "      <td>-1.0</td>\n",
       "      <td>-0.1</td>\n",
       "      <td>-0.1</td>\n",
       "      <td>0.2</td>\n",
       "      <td>0.1</td>\n",
       "      <td>0.0</td>\n",
       "      <td>-0.3</td>\n",
       "      <td>0.1</td>\n",
       "      <td>1.0</td>\n",
       "    </tr>\n",
       "  </tbody>\n",
       "</table>\n",
       "</div>"
      ],
      "text/plain": [
       "                     bodyType  brand  color  fuelType  model_name  \\\n",
       "bodyType                  1.0    0.1   -0.0      -0.2        -0.3   \n",
       "brand                     0.1    1.0   -0.1      -0.1         0.1   \n",
       "color                    -0.0   -0.1    1.0       0.1        -0.0   \n",
       "fuelType                 -0.2   -0.1    0.1       1.0         0.1   \n",
       "model_name               -0.3    0.1   -0.0       0.1         1.0   \n",
       "numberOfDoors            -0.4    0.1   -0.0       0.1         0.3   \n",
       "vehicleTransmission       0.2    0.1   -0.1      -0.2        -0.0   \n",
       "vendor                   -0.0    0.1   -0.1      -0.1         0.1   \n",
       "Владельцы                 0.0   -0.0    0.0      -0.0        -0.1   \n",
       "Привод                   -0.5   -0.2    0.1       0.3         0.2   \n",
       "gearbox                   0.1    0.2   -0.1      -0.1         0.0   \n",
       "engine_type               0.2    0.1   -0.1      -1.0        -0.1   \n",
       "\n",
       "                     numberOfDoors  vehicleTransmission  vendor  Владельцы  \\\n",
       "bodyType                      -0.4                  0.2    -0.0        0.0   \n",
       "brand                          0.1                  0.1     0.1       -0.0   \n",
       "color                         -0.0                 -0.1    -0.1        0.0   \n",
       "fuelType                       0.1                 -0.2    -0.1       -0.0   \n",
       "model_name                     0.3                 -0.0     0.1       -0.1   \n",
       "numberOfDoors                  1.0                 -0.0     0.0       -0.0   \n",
       "vehicleTransmission           -0.0                  1.0    -0.1        0.0   \n",
       "vendor                         0.0                 -0.1     1.0       -0.1   \n",
       "Владельцы                     -0.0                  0.0    -0.1        1.0   \n",
       "Привод                         0.4                 -0.2     0.0       -0.0   \n",
       "gearbox                       -0.0                  0.3     0.2        0.0   \n",
       "engine_type                   -0.1                  0.2     0.1        0.0   \n",
       "\n",
       "                     Привод  gearbox  engine_type  \n",
       "bodyType               -0.5      0.1          0.2  \n",
       "brand                  -0.2      0.2          0.1  \n",
       "color                   0.1     -0.1         -0.1  \n",
       "fuelType                0.3     -0.1         -1.0  \n",
       "model_name              0.2      0.0         -0.1  \n",
       "numberOfDoors           0.4     -0.0         -0.1  \n",
       "vehicleTransmission    -0.2      0.3          0.2  \n",
       "vendor                  0.0      0.2          0.1  \n",
       "Владельцы              -0.0      0.0          0.0  \n",
       "Привод                  1.0     -0.2         -0.3  \n",
       "gearbox                -0.2      1.0          0.1  \n",
       "engine_type            -0.3      0.1          1.0  "
      ]
     },
     "execution_count": 318,
     "metadata": {},
     "output_type": "execute_result"
    }
   ],
   "source": [
    "# Корреляция категориальных признаков между собой\n",
    "round(df[cat_cols].corr(method='spearman'), 1)"
   ]
  },
  {
   "cell_type": "code",
   "execution_count": 319,
   "metadata": {},
   "outputs": [],
   "source": [
    "label_encoder = LabelEncoder()\n",
    "for column in bin_cols:\n",
    "    df[column] = label_encoder.fit_transform(df[column])"
   ]
  },
  {
   "cell_type": "code",
   "execution_count": 320,
   "metadata": {},
   "outputs": [
    {
     "data": {
      "text/html": [
       "<div>\n",
       "<style scoped>\n",
       "    .dataframe tbody tr th:only-of-type {\n",
       "        vertical-align: middle;\n",
       "    }\n",
       "\n",
       "    .dataframe tbody tr th {\n",
       "        vertical-align: top;\n",
       "    }\n",
       "\n",
       "    .dataframe thead th {\n",
       "        text-align: right;\n",
       "    }\n",
       "</style>\n",
       "<table border=\"1\" class=\"dataframe\">\n",
       "  <thead>\n",
       "    <tr style=\"text-align: right;\">\n",
       "      <th></th>\n",
       "      <th>bodyType</th>\n",
       "      <th>brand</th>\n",
       "      <th>color</th>\n",
       "      <th>engineDisplacement</th>\n",
       "      <th>enginePower</th>\n",
       "      <th>fuelType</th>\n",
       "      <th>mileage</th>\n",
       "      <th>modelDate</th>\n",
       "      <th>model_name</th>\n",
       "      <th>numberOfDoors</th>\n",
       "      <th>sell_id</th>\n",
       "      <th>vehicleTransmission</th>\n",
       "      <th>vendor</th>\n",
       "      <th>Владельцы</th>\n",
       "      <th>ПТС</th>\n",
       "      <th>Привод</th>\n",
       "      <th>Руль</th>\n",
       "      <th>price_RUR</th>\n",
       "      <th>log_price</th>\n",
       "      <th>офДил</th>\n",
       "      <th>климат</th>\n",
       "      <th>подБез</th>\n",
       "      <th>усилРуля</th>\n",
       "      <th>отл</th>\n",
       "      <th>хор</th>\n",
       "      <th>цЗамок</th>\n",
       "      <th>эПодъм</th>\n",
       "      <th>бКомп</th>\n",
       "      <th>gearbox</th>\n",
       "      <th>drive4WD</th>\n",
       "      <th>engine_type</th>\n",
       "      <th>clearance_min</th>\n",
       "      <th>years_old</th>\n",
       "      <th>Train</th>\n",
       "    </tr>\n",
       "  </thead>\n",
       "  <tbody>\n",
       "    <tr>\n",
       "      <th>46710</th>\n",
       "      <td>6</td>\n",
       "      <td>12</td>\n",
       "      <td>15</td>\n",
       "      <td>0.955511</td>\n",
       "      <td>4.634729</td>\n",
       "      <td>0</td>\n",
       "      <td>11.736077</td>\n",
       "      <td>7.607381</td>\n",
       "      <td>568</td>\n",
       "      <td>3</td>\n",
       "      <td>1102005682</td>\n",
       "      <td>2</td>\n",
       "      <td>2</td>\n",
       "      <td>0</td>\n",
       "      <td>1</td>\n",
       "      <td>1</td>\n",
       "      <td>0</td>\n",
       "      <td>410000.0</td>\n",
       "      <td>12.923912</td>\n",
       "      <td>0</td>\n",
       "      <td>0</td>\n",
       "      <td>0</td>\n",
       "      <td>0</td>\n",
       "      <td>0</td>\n",
       "      <td>1</td>\n",
       "      <td>0</td>\n",
       "      <td>0</td>\n",
       "      <td>0</td>\n",
       "      <td>3</td>\n",
       "      <td>0</td>\n",
       "      <td>2</td>\n",
       "      <td>5.049856</td>\n",
       "      <td>2.079442</td>\n",
       "      <td>1</td>\n",
       "    </tr>\n",
       "    <tr>\n",
       "      <th>92091</th>\n",
       "      <td>6</td>\n",
       "      <td>5</td>\n",
       "      <td>15</td>\n",
       "      <td>0.955511</td>\n",
       "      <td>5.056246</td>\n",
       "      <td>0</td>\n",
       "      <td>11.461643</td>\n",
       "      <td>7.606885</td>\n",
       "      <td>298</td>\n",
       "      <td>3</td>\n",
       "      <td>1090899904</td>\n",
       "      <td>0</td>\n",
       "      <td>2</td>\n",
       "      <td>1</td>\n",
       "      <td>1</td>\n",
       "      <td>0</td>\n",
       "      <td>0</td>\n",
       "      <td>NaN</td>\n",
       "      <td>NaN</td>\n",
       "      <td>0</td>\n",
       "      <td>0</td>\n",
       "      <td>0</td>\n",
       "      <td>0</td>\n",
       "      <td>0</td>\n",
       "      <td>0</td>\n",
       "      <td>0</td>\n",
       "      <td>0</td>\n",
       "      <td>0</td>\n",
       "      <td>1</td>\n",
       "      <td>0</td>\n",
       "      <td>2</td>\n",
       "      <td>5.017280</td>\n",
       "      <td>2.197225</td>\n",
       "      <td>0</td>\n",
       "    </tr>\n",
       "    <tr>\n",
       "      <th>106411</th>\n",
       "      <td>1</td>\n",
       "      <td>6</td>\n",
       "      <td>6</td>\n",
       "      <td>1.223776</td>\n",
       "      <td>5.204007</td>\n",
       "      <td>3</td>\n",
       "      <td>10.571343</td>\n",
       "      <td>7.608871</td>\n",
       "      <td>663</td>\n",
       "      <td>4</td>\n",
       "      <td>1101346405</td>\n",
       "      <td>0</td>\n",
       "      <td>3</td>\n",
       "      <td>1</td>\n",
       "      <td>1</td>\n",
       "      <td>2</td>\n",
       "      <td>0</td>\n",
       "      <td>NaN</td>\n",
       "      <td>NaN</td>\n",
       "      <td>0</td>\n",
       "      <td>0</td>\n",
       "      <td>0</td>\n",
       "      <td>0</td>\n",
       "      <td>0</td>\n",
       "      <td>0</td>\n",
       "      <td>0</td>\n",
       "      <td>0</td>\n",
       "      <td>0</td>\n",
       "      <td>1</td>\n",
       "      <td>1</td>\n",
       "      <td>0</td>\n",
       "      <td>5.389072</td>\n",
       "      <td>1.386294</td>\n",
       "      <td>0</td>\n",
       "    </tr>\n",
       "    <tr>\n",
       "      <th>85805</th>\n",
       "      <td>1</td>\n",
       "      <td>7</td>\n",
       "      <td>12</td>\n",
       "      <td>1.098612</td>\n",
       "      <td>4.976734</td>\n",
       "      <td>0</td>\n",
       "      <td>9.105091</td>\n",
       "      <td>7.609862</td>\n",
       "      <td>720</td>\n",
       "      <td>4</td>\n",
       "      <td>1100808614</td>\n",
       "      <td>1</td>\n",
       "      <td>3</td>\n",
       "      <td>0</td>\n",
       "      <td>1</td>\n",
       "      <td>2</td>\n",
       "      <td>0</td>\n",
       "      <td>NaN</td>\n",
       "      <td>NaN</td>\n",
       "      <td>0</td>\n",
       "      <td>0</td>\n",
       "      <td>0</td>\n",
       "      <td>0</td>\n",
       "      <td>0</td>\n",
       "      <td>0</td>\n",
       "      <td>0</td>\n",
       "      <td>0</td>\n",
       "      <td>0</td>\n",
       "      <td>2</td>\n",
       "      <td>1</td>\n",
       "      <td>2</td>\n",
       "      <td>5.303305</td>\n",
       "      <td>0.693147</td>\n",
       "      <td>0</td>\n",
       "    </tr>\n",
       "    <tr>\n",
       "      <th>39398</th>\n",
       "      <td>1</td>\n",
       "      <td>7</td>\n",
       "      <td>15</td>\n",
       "      <td>1.252763</td>\n",
       "      <td>5.147494</td>\n",
       "      <td>0</td>\n",
       "      <td>10.229549</td>\n",
       "      <td>7.607878</td>\n",
       "      <td>1020</td>\n",
       "      <td>4</td>\n",
       "      <td>1102061709</td>\n",
       "      <td>1</td>\n",
       "      <td>3</td>\n",
       "      <td>0</td>\n",
       "      <td>1</td>\n",
       "      <td>2</td>\n",
       "      <td>0</td>\n",
       "      <td>1689000.0</td>\n",
       "      <td>14.339647</td>\n",
       "      <td>0</td>\n",
       "      <td>0</td>\n",
       "      <td>0</td>\n",
       "      <td>0</td>\n",
       "      <td>0</td>\n",
       "      <td>0</td>\n",
       "      <td>0</td>\n",
       "      <td>0</td>\n",
       "      <td>0</td>\n",
       "      <td>2</td>\n",
       "      <td>1</td>\n",
       "      <td>2</td>\n",
       "      <td>5.351858</td>\n",
       "      <td>1.791759</td>\n",
       "      <td>1</td>\n",
       "    </tr>\n",
       "  </tbody>\n",
       "</table>\n",
       "</div>"
      ],
      "text/plain": [
       "        bodyType  brand  color  engineDisplacement  enginePower  fuelType  \\\n",
       "46710          6     12     15            0.955511     4.634729         0   \n",
       "92091          6      5     15            0.955511     5.056246         0   \n",
       "106411         1      6      6            1.223776     5.204007         3   \n",
       "85805          1      7     12            1.098612     4.976734         0   \n",
       "39398          1      7     15            1.252763     5.147494         0   \n",
       "\n",
       "          mileage  modelDate  model_name  numberOfDoors     sell_id  \\\n",
       "46710   11.736077   7.607381         568              3  1102005682   \n",
       "92091   11.461643   7.606885         298              3  1090899904   \n",
       "106411  10.571343   7.608871         663              4  1101346405   \n",
       "85805    9.105091   7.609862         720              4  1100808614   \n",
       "39398   10.229549   7.607878        1020              4  1102061709   \n",
       "\n",
       "        vehicleTransmission  vendor  Владельцы  ПТС  Привод  Руль  price_RUR  \\\n",
       "46710                     2       2          0    1       1     0   410000.0   \n",
       "92091                     0       2          1    1       0     0        NaN   \n",
       "106411                    0       3          1    1       2     0        NaN   \n",
       "85805                     1       3          0    1       2     0        NaN   \n",
       "39398                     1       3          0    1       2     0  1689000.0   \n",
       "\n",
       "        log_price  офДил  климат  подБез  усилРуля  отл  хор  цЗамок  эПодъм  \\\n",
       "46710   12.923912      0       0       0         0    0    1       0       0   \n",
       "92091         NaN      0       0       0         0    0    0       0       0   \n",
       "106411        NaN      0       0       0         0    0    0       0       0   \n",
       "85805         NaN      0       0       0         0    0    0       0       0   \n",
       "39398   14.339647      0       0       0         0    0    0       0       0   \n",
       "\n",
       "        бКомп  gearbox  drive4WD  engine_type  clearance_min  years_old  Train  \n",
       "46710       0        3         0            2       5.049856   2.079442      1  \n",
       "92091       0        1         0            2       5.017280   2.197225      0  \n",
       "106411      0        1         1            0       5.389072   1.386294      0  \n",
       "85805       0        2         1            2       5.303305   0.693147      0  \n",
       "39398       0        2         1            2       5.351858   1.791759      1  "
      ]
     },
     "execution_count": 320,
     "metadata": {},
     "output_type": "execute_result"
    }
   ],
   "source": [
    "df.sample(5)"
   ]
  },
  {
   "cell_type": "code",
   "execution_count": 321,
   "metadata": {},
   "outputs": [],
   "source": [
    "df.drop('log_price', axis=1, inplace=True)"
   ]
  },
  {
   "cell_type": "code",
   "execution_count": 322,
   "metadata": {},
   "outputs": [
    {
     "data": {
      "text/plain": [
       "<AxesSubplot:title={'center':'Значимость числовых переменных'}>"
      ]
     },
     "execution_count": 322,
     "metadata": {},
     "output_type": "execute_result"
    },
    {
     "data": {
      "image/png": "[encoded data removed]",
      "text/plain": [
       "<Figure size 432x288 with 1 Axes>"
      ]
     },
     "metadata": {
      "needs_background": "light"
     },
     "output_type": "display_data"
    }
   ],
   "source": [
    "# Значимость числовых признаков\n",
    "train_df = df[df['Train']==1]\n",
    "imp_num = pd.Series(f_classif(train_df[num_cols], train_df['price_RUR'])[0], index = num_cols)\n",
    "imp_num.sort_values(inplace = True)\n",
    "imp_num.plot(kind = 'barh', title='Значимость числовых переменных')"
   ]
  },
  {
   "cell_type": "code",
   "execution_count": 323,
   "metadata": {},
   "outputs": [
    {
     "data": {
      "text/plain": [
       "<AxesSubplot:title={'center':'Значимость бинарных и категориальных признаков'}>"
      ]
     },
     "execution_count": 323,
     "metadata": {},
     "output_type": "execute_result"
    },
    {
     "data": {
      "image/png": "[encoded data removed]",
      "text/plain": [
       "<Figure size 432x288 with 1 Axes>"
      ]
     },
     "metadata": {
      "needs_background": "light"
     },
     "output_type": "display_data"
    }
   ],
   "source": [
    "# Значимость бинарных и категориальных признаков\n",
    "\n",
    "from pandas import Series\n",
    "\n",
    "imp_cat = Series(mutual_info_classif(train_df[bin_cols + cat_cols], train_df['price_RUR'],\n",
    "                                     discrete_features =True), index = bin_cols + cat_cols)\n",
    "imp_cat.sort_values(inplace = True)\n",
    "imp_cat.plot(kind = 'barh', title = 'Значимость бинарных и категориальных признаков')"
   ]
  },
  {
   "cell_type": "code",
   "execution_count": 324,
   "metadata": {},
   "outputs": [],
   "source": [
    "import requests, json\n",
    "# Запись датасета\n",
    "df.to_csv('auto_featured.csv', index=False)"
   ]
  },
  {
   "cell_type": "markdown",
   "metadata": {
    "papermill": {
     "duration": 0.085876,
     "end_time": "2020-10-26T12:48:12.734207",
     "exception": false,
     "start_time": "2020-10-26T12:48:12.648331",
     "status": "completed"
    },
    "tags": []
   },
   "source": [
    "# Submission"
   ]
  },
  {
   "cell_type": "markdown",
   "metadata": {
    "execution": {
     "iopub.execute_input": "2020-10-26T12:48:13.227584Z",
     "iopub.status.busy": "2020-10-26T12:48:13.226285Z",
     "iopub.status.idle": "2020-10-26T12:48:13.762529Z",
     "shell.execute_reply": "2020-10-26T12:48:13.763259Z"
    },
    "papermill": {
     "duration": 0.628302,
     "end_time": "2020-10-26T12:48:13.763488",
     "exception": false,
     "start_time": "2020-10-26T12:48:13.135186",
     "status": "completed"
    },
    "tags": []
   },
   "source": [
    "submit['price'] = predict_submission\n",
    "submit.to_csv('submission_2_v1.csv', index=False)\n",
    "submit.head(10)"
   ]
  },
  {
   "cell_type": "code",
   "execution_count": null,
   "metadata": {
    "papermill": {
     "duration": 0.082055,
     "end_time": "2020-10-26T12:48:14.270602",
     "exception": false,
     "start_time": "2020-10-26T12:48:14.188547",
     "status": "completed"
    },
    "tags": []
   },
   "outputs": [],
   "source": []
  },
  {
   "cell_type": "code",
   "execution_count": null,
   "metadata": {
    "papermill": {
     "duration": 0.080788,
     "end_time": "2020-10-26T12:48:14.596978",
     "exception": false,
     "start_time": "2020-10-26T12:48:14.51619",
     "status": "completed"
    },
    "tags": []
   },
   "outputs": [],
   "source": []
  }
 ],
 "metadata": {
  "kernelspec": {
   "display_name": "Python 3",
   "language": "python",
   "name": "python3"
  },
  "language_info": {
   "codemirror_mode": {
    "name": "ipython",
    "version": 3
   },
   "file_extension": ".py",
   "mimetype": "text/x-python",
   "name": "python",
   "nbconvert_exporter": "python",
   "pygments_lexer": "ipython3",
   "version": "3.7.4"
  }
 },
 "nbformat": 4,
 "nbformat_minor": 4
}
