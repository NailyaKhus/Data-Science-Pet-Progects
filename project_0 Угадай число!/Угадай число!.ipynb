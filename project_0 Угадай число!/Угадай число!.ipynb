{
 "cells": [
  {
   "cell_type": "code",
   "execution_count": 1,
   "metadata": {},
   "outputs": [],
   "source": [
    "import numpy as np"
   ]
  },
  {
   "cell_type": "code",
   "execution_count": 2,
   "metadata": {},
   "outputs": [],
   "source": [
    "# функция бинарного поиска\n",
    "def bisection(number):\n",
    "    count_attempt = 0                   # счетчик попыток\n",
    "    search_range = []\n",
    "    for i in range(1, 101):\n",
    "        # Создаем упорядоченный список возможных значений\n",
    "        search_range.append(i)\n",
    "    # Запоминаем порядковый номер серединного значения\n",
    "    index = int(len(search_range) / 2)\n",
    "    # Задаем начальное предположение об искомом значении\n",
    "    predict = search_range[index]\n",
    "#     print('Возможно, загаданное число', predict, '?')\n",
    "    while number != predict:\n",
    "        count_attempt += 1\n",
    "#         if count_attempt > 1:\n",
    "#             print('Возможно, загаданное число', predict, '?')\n",
    "        if number > predict:            \n",
    "            # Если загаданное число больше серединного значения, смещаем нижнюю границу поиска\n",
    "            # print('Нет, оно меньше, чем', predict)\n",
    "            search_range = search_range[index + 1:]\n",
    "            index = int(len(search_range) / 2)\n",
    "            predict = search_range[index]\n",
    "        elif number < predict:          \n",
    "            # Если загаданное число меньше серединного значения, смещаем верхнюю границу поиска\n",
    "            # print('Нет, оно больше, чем', predict)\n",
    "            search_range = search_range[:index]\n",
    "            index = int(len(search_range) / 2)\n",
    "            predict = search_range[index]\n",
    "    else:\n",
    "        #         print('Вы угадали!')\n",
    "        count_attempt += 1     # Учитываем успешную попытку\n",
    "    return(count_attempt)"
   ]
  },
  {
   "cell_type": "code",
   "execution_count": 3,
   "metadata": {},
   "outputs": [],
   "source": [
    "# Функция создаем 1000 рандомных чисел в диапазоне от 1 до 100.\n",
    "# К каждому рандомному числу применяет бинарный алгоритм поиска и запоминает число попыток.\n",
    "# Выдает среднее количество попыток.\n",
    "def main_func(bisection):\n",
    "    count_s = []       # список количества попыток в каждом из подходов\n",
    "    np.random.seed(1)\n",
    "    # создаем список из случайных чисел для каждого из подходов\n",
    "    random_array = np.random.randint(1, 101, size=(1000))\n",
    "    for number in random_array:\n",
    "        # ищем каждое из случайных чисел и записываем количество попыток\n",
    "        count_s.append(bisection(number))\n",
    "    # выводим среднее количество попыток на поиск случайного числа\n",
    "    mean_attempt = int(np.mean(count_s))\n",
    "    print(f\"Алгоритм угадывает число в среднем за {mean_attempt} попыток\")\n",
    "    return(mean_attempt)"
   ]
  },
  {
   "cell_type": "code",
   "execution_count": 4,
   "metadata": {},
   "outputs": [
    {
     "name": "stdout",
     "output_type": "stream",
     "text": [
      "Алгоритм угадывает число в среднем за 5 попыток\n"
     ]
    },
    {
     "data": {
      "text/plain": [
       "5"
      ]
     },
     "execution_count": 4,
     "metadata": {},
     "output_type": "execute_result"
    }
   ],
   "source": [
    "# Запуск\n",
    "main_func(bisection)"
   ]
  },
  {
   "cell_type": "code",
   "execution_count": null,
   "metadata": {},
   "outputs": [],
   "source": []
  }
 ],
 "metadata": {
  "kernelspec": {
   "display_name": "Python 3",
   "language": "python",
   "name": "python3"
  },
  "language_info": {
   "codemirror_mode": {
    "name": "ipython",
    "version": 3
   },
   "file_extension": ".py",
   "mimetype": "text/x-python",
   "name": "python",
   "nbconvert_exporter": "python",
   "pygments_lexer": "ipython3",
   "version": "3.7.4"
  }
 },
 "nbformat": 4,
 "nbformat_minor": 4
}
