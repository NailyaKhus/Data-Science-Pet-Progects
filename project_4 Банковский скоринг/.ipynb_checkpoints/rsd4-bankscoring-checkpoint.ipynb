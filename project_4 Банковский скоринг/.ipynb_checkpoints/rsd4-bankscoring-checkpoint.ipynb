{
 "cells": [
  {
   "cell_type": "markdown",
   "metadata": {
    "papermill": {
     "duration": 0.035384,
     "end_time": "2020-10-21T22:12:40.844634",
     "exception": false,
     "start_time": "2020-10-21T22:12:40.809250",
     "status": "completed"
    },
    "tags": []
   },
   "source": [
    "# Итоговое решение по проекту 4 - \"Компьютер говорит \"Нет!\"\n",
    "**Выполнила Наиля Хуснуллина**"
   ]
  },
  {
   "cell_type": "code",
   "execution_count": 1,
   "metadata": {
    "_cell_guid": "b1076dfc-b9ad-4769-8c92-a6c4dae69d19",
    "_uuid": "8f2839f25d086af736a60e9eeb907d3b93b6e0e5",
    "execution": {
     "iopub.execute_input": "2020-10-21T22:12:40.920435Z",
     "iopub.status.busy": "2020-10-21T22:12:40.919679Z",
     "iopub.status.idle": "2020-10-21T22:12:42.216477Z",
     "shell.execute_reply": "2020-10-21T22:12:42.217142Z"
    },
    "papermill": {
     "duration": 1.339039,
     "end_time": "2020-10-21T22:12:42.217324",
     "exception": false,
     "start_time": "2020-10-21T22:12:40.878285",
     "status": "completed"
    },
    "tags": []
   },
   "outputs": [
    {
     "name": "stdout",
     "output_type": "stream",
     "text": [
      "/kaggle/input/sf-dst-scoring/test.csv\n",
      "/kaggle/input/sf-dst-scoring/sample_submission.csv\n",
      "/kaggle/input/sf-dst-scoring/train.csv\n"
     ]
    }
   ],
   "source": [
    "import numpy as np \n",
    "import pandas as pd \n",
    "from pandas import Series\n",
    "\n",
    "import matplotlib.pyplot as plt\n",
    "import seaborn as sns\n",
    "\n",
    "from sklearn.feature_selection import f_classif, mutual_info_classif\n",
    "from sklearn.preprocessing import LabelEncoder, OneHotEncoder, StandardScaler, RobustScaler\n",
    "\n",
    "from sklearn.model_selection import train_test_split, GridSearchCV\n",
    "from sklearn.linear_model import LogisticRegression\n",
    "\n",
    "\n",
    "from sklearn.metrics import accuracy_score, precision_score, recall_score, f1_score, confusion_matrix\n",
    "from sklearn.metrics import auc, roc_auc_score, roc_curve, precision_recall_curve, average_precision_score\n",
    "\n",
    "import os\n",
    "for dirname, _, filenames in os.walk('/kaggle/input'):\n",
    "    for filename in filenames:\n",
    "        print(os.path.join(dirname, filename))"
   ]
  },
  {
   "cell_type": "code",
   "execution_count": 2,
   "metadata": {
    "_cell_guid": "79c7e3d0-c299-4dcb-8224-4455121ee9b0",
    "_uuid": "d629ff2d2480ee46fbb7e2d37f6b5fab8052498a",
    "execution": {
     "iopub.execute_input": "2020-10-21T22:12:42.301372Z",
     "iopub.status.busy": "2020-10-21T22:12:42.300692Z",
     "iopub.status.idle": "2020-10-21T22:12:45.240360Z",
     "shell.execute_reply": "2020-10-21T22:12:45.239852Z"
    },
    "papermill": {
     "duration": 2.982477,
     "end_time": "2020-10-21T22:12:45.240478",
     "exception": false,
     "start_time": "2020-10-21T22:12:42.258001",
     "status": "completed"
    },
    "tags": []
   },
   "outputs": [
    {
     "name": "stdout",
     "output_type": "stream",
     "text": [
      "df_train:  (73799, 19)\n"
     ]
    },
    {
     "data": {
      "text/html": [
       "<div>\n",
       "<style scoped>\n",
       "    .dataframe tbody tr th:only-of-type {\n",
       "        vertical-align: middle;\n",
       "    }\n",
       "\n",
       "    .dataframe tbody tr th {\n",
       "        vertical-align: top;\n",
       "    }\n",
       "\n",
       "    .dataframe thead th {\n",
       "        text-align: right;\n",
       "    }\n",
       "</style>\n",
       "<table border=\"1\" class=\"dataframe\">\n",
       "  <thead>\n",
       "    <tr style=\"text-align: right;\">\n",
       "      <th></th>\n",
       "      <th>client_id</th>\n",
       "      <th>app_date</th>\n",
       "      <th>education</th>\n",
       "      <th>sex</th>\n",
       "      <th>age</th>\n",
       "      <th>car</th>\n",
       "      <th>car_type</th>\n",
       "      <th>decline_app_cnt</th>\n",
       "      <th>good_work</th>\n",
       "      <th>score_bki</th>\n",
       "      <th>bki_request_cnt</th>\n",
       "      <th>region_rating</th>\n",
       "      <th>home_address</th>\n",
       "      <th>work_address</th>\n",
       "      <th>income</th>\n",
       "      <th>sna</th>\n",
       "      <th>first_time</th>\n",
       "      <th>foreign_passport</th>\n",
       "      <th>default</th>\n",
       "    </tr>\n",
       "  </thead>\n",
       "  <tbody>\n",
       "    <tr>\n",
       "      <th>0</th>\n",
       "      <td>25905</td>\n",
       "      <td>01FEB2014</td>\n",
       "      <td>SCH</td>\n",
       "      <td>M</td>\n",
       "      <td>62</td>\n",
       "      <td>Y</td>\n",
       "      <td>Y</td>\n",
       "      <td>0</td>\n",
       "      <td>0</td>\n",
       "      <td>-2.008753</td>\n",
       "      <td>1</td>\n",
       "      <td>50</td>\n",
       "      <td>1</td>\n",
       "      <td>2</td>\n",
       "      <td>18000</td>\n",
       "      <td>4</td>\n",
       "      <td>1</td>\n",
       "      <td>N</td>\n",
       "      <td>0</td>\n",
       "    </tr>\n",
       "    <tr>\n",
       "      <th>1</th>\n",
       "      <td>63161</td>\n",
       "      <td>12MAR2014</td>\n",
       "      <td>SCH</td>\n",
       "      <td>F</td>\n",
       "      <td>59</td>\n",
       "      <td>N</td>\n",
       "      <td>N</td>\n",
       "      <td>0</td>\n",
       "      <td>0</td>\n",
       "      <td>-1.532276</td>\n",
       "      <td>3</td>\n",
       "      <td>50</td>\n",
       "      <td>2</td>\n",
       "      <td>3</td>\n",
       "      <td>19000</td>\n",
       "      <td>4</td>\n",
       "      <td>1</td>\n",
       "      <td>N</td>\n",
       "      <td>0</td>\n",
       "    </tr>\n",
       "    <tr>\n",
       "      <th>2</th>\n",
       "      <td>25887</td>\n",
       "      <td>01FEB2014</td>\n",
       "      <td>SCH</td>\n",
       "      <td>M</td>\n",
       "      <td>25</td>\n",
       "      <td>Y</td>\n",
       "      <td>N</td>\n",
       "      <td>2</td>\n",
       "      <td>0</td>\n",
       "      <td>-1.408142</td>\n",
       "      <td>1</td>\n",
       "      <td>80</td>\n",
       "      <td>1</td>\n",
       "      <td>2</td>\n",
       "      <td>30000</td>\n",
       "      <td>1</td>\n",
       "      <td>4</td>\n",
       "      <td>Y</td>\n",
       "      <td>0</td>\n",
       "    </tr>\n",
       "    <tr>\n",
       "      <th>3</th>\n",
       "      <td>16222</td>\n",
       "      <td>23JAN2014</td>\n",
       "      <td>SCH</td>\n",
       "      <td>F</td>\n",
       "      <td>53</td>\n",
       "      <td>N</td>\n",
       "      <td>N</td>\n",
       "      <td>0</td>\n",
       "      <td>0</td>\n",
       "      <td>-2.057471</td>\n",
       "      <td>2</td>\n",
       "      <td>50</td>\n",
       "      <td>2</td>\n",
       "      <td>3</td>\n",
       "      <td>10000</td>\n",
       "      <td>1</td>\n",
       "      <td>3</td>\n",
       "      <td>N</td>\n",
       "      <td>0</td>\n",
       "    </tr>\n",
       "    <tr>\n",
       "      <th>4</th>\n",
       "      <td>101655</td>\n",
       "      <td>18APR2014</td>\n",
       "      <td>GRD</td>\n",
       "      <td>M</td>\n",
       "      <td>48</td>\n",
       "      <td>N</td>\n",
       "      <td>N</td>\n",
       "      <td>0</td>\n",
       "      <td>1</td>\n",
       "      <td>-1.244723</td>\n",
       "      <td>1</td>\n",
       "      <td>60</td>\n",
       "      <td>2</td>\n",
       "      <td>3</td>\n",
       "      <td>30000</td>\n",
       "      <td>1</td>\n",
       "      <td>4</td>\n",
       "      <td>Y</td>\n",
       "      <td>0</td>\n",
       "    </tr>\n",
       "  </tbody>\n",
       "</table>\n",
       "</div>"
      ],
      "text/plain": [
       "   client_id   app_date education sex  age car car_type  decline_app_cnt  \\\n",
       "0      25905  01FEB2014       SCH   M   62   Y        Y                0   \n",
       "1      63161  12MAR2014       SCH   F   59   N        N                0   \n",
       "2      25887  01FEB2014       SCH   M   25   Y        N                2   \n",
       "3      16222  23JAN2014       SCH   F   53   N        N                0   \n",
       "4     101655  18APR2014       GRD   M   48   N        N                0   \n",
       "\n",
       "   good_work  score_bki  bki_request_cnt  region_rating  home_address  \\\n",
       "0          0  -2.008753                1             50             1   \n",
       "1          0  -1.532276                3             50             2   \n",
       "2          0  -1.408142                1             80             1   \n",
       "3          0  -2.057471                2             50             2   \n",
       "4          1  -1.244723                1             60             2   \n",
       "\n",
       "   work_address  income  sna  first_time foreign_passport  default  \n",
       "0             2   18000    4           1                N        0  \n",
       "1             3   19000    4           1                N        0  \n",
       "2             2   30000    1           4                Y        0  \n",
       "3             3   10000    1           3                N        0  \n",
       "4             3   30000    1           4                Y        0  "
      ]
     },
     "metadata": {},
     "output_type": "display_data"
    },
    {
     "name": "stdout",
     "output_type": "stream",
     "text": [
      "df_test:  (36349, 18)\n"
     ]
    },
    {
     "data": {
      "text/html": [
       "<div>\n",
       "<style scoped>\n",
       "    .dataframe tbody tr th:only-of-type {\n",
       "        vertical-align: middle;\n",
       "    }\n",
       "\n",
       "    .dataframe tbody tr th {\n",
       "        vertical-align: top;\n",
       "    }\n",
       "\n",
       "    .dataframe thead th {\n",
       "        text-align: right;\n",
       "    }\n",
       "</style>\n",
       "<table border=\"1\" class=\"dataframe\">\n",
       "  <thead>\n",
       "    <tr style=\"text-align: right;\">\n",
       "      <th></th>\n",
       "      <th>client_id</th>\n",
       "      <th>app_date</th>\n",
       "      <th>education</th>\n",
       "      <th>sex</th>\n",
       "      <th>age</th>\n",
       "      <th>car</th>\n",
       "      <th>car_type</th>\n",
       "      <th>decline_app_cnt</th>\n",
       "      <th>good_work</th>\n",
       "      <th>score_bki</th>\n",
       "      <th>bki_request_cnt</th>\n",
       "      <th>region_rating</th>\n",
       "      <th>home_address</th>\n",
       "      <th>work_address</th>\n",
       "      <th>income</th>\n",
       "      <th>sna</th>\n",
       "      <th>first_time</th>\n",
       "      <th>foreign_passport</th>\n",
       "    </tr>\n",
       "  </thead>\n",
       "  <tbody>\n",
       "    <tr>\n",
       "      <th>0</th>\n",
       "      <td>74835</td>\n",
       "      <td>22MAR2014</td>\n",
       "      <td>GRD</td>\n",
       "      <td>M</td>\n",
       "      <td>29</td>\n",
       "      <td>Y</td>\n",
       "      <td>Y</td>\n",
       "      <td>0</td>\n",
       "      <td>0</td>\n",
       "      <td>-2.271884</td>\n",
       "      <td>3</td>\n",
       "      <td>50</td>\n",
       "      <td>1</td>\n",
       "      <td>2</td>\n",
       "      <td>50000</td>\n",
       "      <td>1</td>\n",
       "      <td>4</td>\n",
       "      <td>N</td>\n",
       "    </tr>\n",
       "    <tr>\n",
       "      <th>1</th>\n",
       "      <td>17527</td>\n",
       "      <td>24JAN2014</td>\n",
       "      <td>SCH</td>\n",
       "      <td>F</td>\n",
       "      <td>39</td>\n",
       "      <td>N</td>\n",
       "      <td>N</td>\n",
       "      <td>5</td>\n",
       "      <td>0</td>\n",
       "      <td>-1.504999</td>\n",
       "      <td>2</td>\n",
       "      <td>50</td>\n",
       "      <td>1</td>\n",
       "      <td>2</td>\n",
       "      <td>5000</td>\n",
       "      <td>4</td>\n",
       "      <td>3</td>\n",
       "      <td>N</td>\n",
       "    </tr>\n",
       "    <tr>\n",
       "      <th>2</th>\n",
       "      <td>75683</td>\n",
       "      <td>23MAR2014</td>\n",
       "      <td>UGR</td>\n",
       "      <td>M</td>\n",
       "      <td>50</td>\n",
       "      <td>Y</td>\n",
       "      <td>Y</td>\n",
       "      <td>0</td>\n",
       "      <td>0</td>\n",
       "      <td>-1.691339</td>\n",
       "      <td>1</td>\n",
       "      <td>50</td>\n",
       "      <td>1</td>\n",
       "      <td>2</td>\n",
       "      <td>30000</td>\n",
       "      <td>1</td>\n",
       "      <td>3</td>\n",
       "      <td>Y</td>\n",
       "    </tr>\n",
       "    <tr>\n",
       "      <th>3</th>\n",
       "      <td>26883</td>\n",
       "      <td>03FEB2014</td>\n",
       "      <td>SCH</td>\n",
       "      <td>M</td>\n",
       "      <td>56</td>\n",
       "      <td>N</td>\n",
       "      <td>N</td>\n",
       "      <td>0</td>\n",
       "      <td>0</td>\n",
       "      <td>-2.374182</td>\n",
       "      <td>1</td>\n",
       "      <td>40</td>\n",
       "      <td>1</td>\n",
       "      <td>2</td>\n",
       "      <td>17000</td>\n",
       "      <td>1</td>\n",
       "      <td>3</td>\n",
       "      <td>N</td>\n",
       "    </tr>\n",
       "    <tr>\n",
       "      <th>4</th>\n",
       "      <td>28862</td>\n",
       "      <td>04FEB2014</td>\n",
       "      <td>GRD</td>\n",
       "      <td>F</td>\n",
       "      <td>38</td>\n",
       "      <td>N</td>\n",
       "      <td>N</td>\n",
       "      <td>0</td>\n",
       "      <td>0</td>\n",
       "      <td>-2.487502</td>\n",
       "      <td>0</td>\n",
       "      <td>80</td>\n",
       "      <td>2</td>\n",
       "      <td>3</td>\n",
       "      <td>120000</td>\n",
       "      <td>1</td>\n",
       "      <td>3</td>\n",
       "      <td>N</td>\n",
       "    </tr>\n",
       "  </tbody>\n",
       "</table>\n",
       "</div>"
      ],
      "text/plain": [
       "   client_id   app_date education sex  age car car_type  decline_app_cnt  \\\n",
       "0      74835  22MAR2014       GRD   M   29   Y        Y                0   \n",
       "1      17527  24JAN2014       SCH   F   39   N        N                5   \n",
       "2      75683  23MAR2014       UGR   M   50   Y        Y                0   \n",
       "3      26883  03FEB2014       SCH   M   56   N        N                0   \n",
       "4      28862  04FEB2014       GRD   F   38   N        N                0   \n",
       "\n",
       "   good_work  score_bki  bki_request_cnt  region_rating  home_address  \\\n",
       "0          0  -2.271884                3             50             1   \n",
       "1          0  -1.504999                2             50             1   \n",
       "2          0  -1.691339                1             50             1   \n",
       "3          0  -2.374182                1             40             1   \n",
       "4          0  -2.487502                0             80             2   \n",
       "\n",
       "   work_address  income  sna  first_time foreign_passport  \n",
       "0             2   50000    1           4                N  \n",
       "1             2    5000    4           3                N  \n",
       "2             2   30000    1           3                Y  \n",
       "3             2   17000    1           3                N  \n",
       "4             3  120000    1           3                N  "
      ]
     },
     "metadata": {},
     "output_type": "display_data"
    }
   ],
   "source": [
    "RANDOM_SEED = 42\n",
    "!pip freeze > requirements.txt\n",
    "\n",
    "path_to_data = '/kaggle/input/sf-dst-scoring/'\n",
    "\n",
    "# Импорт и просмотр данных\n",
    "df_train = pd.read_csv(path_to_data+'train.csv')\n",
    "df_test = pd.read_csv(path_to_data+'test.csv')\n",
    "sample_submission = pd.read_csv(path_to_data+'/sample_submission.csv')\n",
    "\n",
    "print('df_train: ', df_train.shape)\n",
    "display(df_train.head())\n",
    "print('df_test: ', df_test.shape)\n",
    "display(df_test.head())"
   ]
  },
  {
   "cell_type": "code",
   "execution_count": 3,
   "metadata": {
    "execution": {
     "iopub.execute_input": "2020-10-21T22:12:45.319150Z",
     "iopub.status.busy": "2020-10-21T22:12:45.318217Z",
     "iopub.status.idle": "2020-10-21T22:12:45.352974Z",
     "shell.execute_reply": "2020-10-21T22:12:45.352435Z"
    },
    "papermill": {
     "duration": 0.076819,
     "end_time": "2020-10-21T22:12:45.353087",
     "exception": false,
     "start_time": "2020-10-21T22:12:45.276268",
     "status": "completed"
    },
    "tags": []
   },
   "outputs": [
    {
     "name": "stdout",
     "output_type": "stream",
     "text": [
      "<class 'pandas.core.frame.DataFrame'>\n",
      "RangeIndex: 73799 entries, 0 to 73798\n",
      "Data columns (total 19 columns):\n",
      " #   Column            Non-Null Count  Dtype  \n",
      "---  ------            --------------  -----  \n",
      " 0   client_id         73799 non-null  int64  \n",
      " 1   app_date          73799 non-null  object \n",
      " 2   education         73492 non-null  object \n",
      " 3   sex               73799 non-null  object \n",
      " 4   age               73799 non-null  int64  \n",
      " 5   car               73799 non-null  object \n",
      " 6   car_type          73799 non-null  object \n",
      " 7   decline_app_cnt   73799 non-null  int64  \n",
      " 8   good_work         73799 non-null  int64  \n",
      " 9   score_bki         73799 non-null  float64\n",
      " 10  bki_request_cnt   73799 non-null  int64  \n",
      " 11  region_rating     73799 non-null  int64  \n",
      " 12  home_address      73799 non-null  int64  \n",
      " 13  work_address      73799 non-null  int64  \n",
      " 14  income            73799 non-null  int64  \n",
      " 15  sna               73799 non-null  int64  \n",
      " 16  first_time        73799 non-null  int64  \n",
      " 17  foreign_passport  73799 non-null  object \n",
      " 18  default           73799 non-null  int64  \n",
      "dtypes: float64(1), int64(12), object(6)\n",
      "memory usage: 10.7+ MB\n"
     ]
    }
   ],
   "source": [
    "df_train.info()"
   ]
  },
  {
   "cell_type": "code",
   "execution_count": 4,
   "metadata": {
    "execution": {
     "iopub.execute_input": "2020-10-21T22:12:45.430787Z",
     "iopub.status.busy": "2020-10-21T22:12:45.430135Z",
     "iopub.status.idle": "2020-10-21T22:12:45.457465Z",
     "shell.execute_reply": "2020-10-21T22:12:45.456793Z"
    },
    "papermill": {
     "duration": 0.068308,
     "end_time": "2020-10-21T22:12:45.457578",
     "exception": false,
     "start_time": "2020-10-21T22:12:45.389270",
     "status": "completed"
    },
    "tags": []
   },
   "outputs": [
    {
     "data": {
      "text/plain": [
       "client_id             0\n",
       "app_date              0\n",
       "education           307\n",
       "sex                   0\n",
       "age                   0\n",
       "car                   0\n",
       "car_type              0\n",
       "decline_app_cnt       0\n",
       "good_work             0\n",
       "score_bki             0\n",
       "bki_request_cnt       0\n",
       "region_rating         0\n",
       "home_address          0\n",
       "work_address          0\n",
       "income                0\n",
       "sna                   0\n",
       "first_time            0\n",
       "foreign_passport      0\n",
       "default               0\n",
       "dtype: int64"
      ]
     },
     "execution_count": 4,
     "metadata": {},
     "output_type": "execute_result"
    }
   ],
   "source": [
    "df_train.isnull().sum()"
   ]
  },
  {
   "cell_type": "code",
   "execution_count": 5,
   "metadata": {
    "execution": {
     "iopub.execute_input": "2020-10-21T22:12:45.547499Z",
     "iopub.status.busy": "2020-10-21T22:12:45.546697Z",
     "iopub.status.idle": "2020-10-21T22:12:45.560684Z",
     "shell.execute_reply": "2020-10-21T22:12:45.559713Z"
    },
    "papermill": {
     "duration": 0.066422,
     "end_time": "2020-10-21T22:12:45.560882",
     "exception": false,
     "start_time": "2020-10-21T22:12:45.494460",
     "status": "completed"
    },
    "tags": []
   },
   "outputs": [
    {
     "name": "stdout",
     "output_type": "stream",
     "text": [
      "<class 'pandas.core.frame.DataFrame'>\n",
      "RangeIndex: 36349 entries, 0 to 36348\n",
      "Data columns (total 18 columns):\n",
      " #   Column            Non-Null Count  Dtype  \n",
      "---  ------            --------------  -----  \n",
      " 0   client_id         36349 non-null  int64  \n",
      " 1   app_date          36349 non-null  object \n",
      " 2   education         36178 non-null  object \n",
      " 3   sex               36349 non-null  object \n",
      " 4   age               36349 non-null  int64  \n",
      " 5   car               36349 non-null  object \n",
      " 6   car_type          36349 non-null  object \n",
      " 7   decline_app_cnt   36349 non-null  int64  \n",
      " 8   good_work         36349 non-null  int64  \n",
      " 9   score_bki         36349 non-null  float64\n",
      " 10  bki_request_cnt   36349 non-null  int64  \n",
      " 11  region_rating     36349 non-null  int64  \n",
      " 12  home_address      36349 non-null  int64  \n",
      " 13  work_address      36349 non-null  int64  \n",
      " 14  income            36349 non-null  int64  \n",
      " 15  sna               36349 non-null  int64  \n",
      " 16  first_time        36349 non-null  int64  \n",
      " 17  foreign_passport  36349 non-null  object \n",
      "dtypes: float64(1), int64(11), object(6)\n",
      "memory usage: 5.0+ MB\n"
     ]
    }
   ],
   "source": [
    "df_test.info()"
   ]
  },
  {
   "cell_type": "code",
   "execution_count": 6,
   "metadata": {
    "execution": {
     "iopub.execute_input": "2020-10-21T22:12:45.651230Z",
     "iopub.status.busy": "2020-10-21T22:12:45.650488Z",
     "iopub.status.idle": "2020-10-21T22:12:45.659035Z",
     "shell.execute_reply": "2020-10-21T22:12:45.658376Z"
    },
    "papermill": {
     "duration": 0.06004,
     "end_time": "2020-10-21T22:12:45.659150",
     "exception": false,
     "start_time": "2020-10-21T22:12:45.599110",
     "status": "completed"
    },
    "tags": []
   },
   "outputs": [
    {
     "data": {
      "text/plain": [
       "client_id             0\n",
       "app_date              0\n",
       "education           171\n",
       "sex                   0\n",
       "age                   0\n",
       "car                   0\n",
       "car_type              0\n",
       "decline_app_cnt       0\n",
       "good_work             0\n",
       "score_bki             0\n",
       "bki_request_cnt       0\n",
       "region_rating         0\n",
       "home_address          0\n",
       "work_address          0\n",
       "income                0\n",
       "sna                   0\n",
       "first_time            0\n",
       "foreign_passport      0\n",
       "dtype: int64"
      ]
     },
     "execution_count": 6,
     "metadata": {},
     "output_type": "execute_result"
    }
   ],
   "source": [
    "df_test.isnull().sum()"
   ]
  },
  {
   "cell_type": "code",
   "execution_count": 7,
   "metadata": {
    "execution": {
     "iopub.execute_input": "2020-10-21T22:12:45.741501Z",
     "iopub.status.busy": "2020-10-21T22:12:45.740781Z",
     "iopub.status.idle": "2020-10-21T22:12:45.807984Z",
     "shell.execute_reply": "2020-10-21T22:12:45.807374Z"
    },
    "papermill": {
     "duration": 0.111545,
     "end_time": "2020-10-21T22:12:45.808102",
     "exception": false,
     "start_time": "2020-10-21T22:12:45.696557",
     "status": "completed"
    },
    "tags": []
   },
   "outputs": [],
   "source": [
    "# Объединяем данные для обработки\n",
    "\n",
    "df_train['Train'] = 1 # помечаем трейн\n",
    "df_test['Train'] = 0 # помечаем тест\n",
    "\n",
    "df = df_train.append(df_test, sort=False).reset_index(drop=True)"
   ]
  },
  {
   "cell_type": "code",
   "execution_count": 8,
   "metadata": {
    "execution": {
     "iopub.execute_input": "2020-10-21T22:12:45.888912Z",
     "iopub.status.busy": "2020-10-21T22:12:45.888021Z",
     "iopub.status.idle": "2020-10-21T22:12:45.892466Z",
     "shell.execute_reply": "2020-10-21T22:12:45.891924Z"
    },
    "papermill": {
     "duration": 0.046973,
     "end_time": "2020-10-21T22:12:45.892572",
     "exception": false,
     "start_time": "2020-10-21T22:12:45.845599",
     "status": "completed"
    },
    "tags": []
   },
   "outputs": [
    {
     "data": {
      "text/plain": [
       "(110148, 20)"
      ]
     },
     "execution_count": 8,
     "metadata": {},
     "output_type": "execute_result"
    }
   ],
   "source": [
    "df.shape"
   ]
  },
  {
   "cell_type": "code",
   "execution_count": 9,
   "metadata": {
    "execution": {
     "iopub.execute_input": "2020-10-21T22:12:45.975805Z",
     "iopub.status.busy": "2020-10-21T22:12:45.974574Z",
     "iopub.status.idle": "2020-10-21T22:12:46.039181Z",
     "shell.execute_reply": "2020-10-21T22:12:46.038510Z"
    },
    "papermill": {
     "duration": 0.108001,
     "end_time": "2020-10-21T22:12:46.039294",
     "exception": false,
     "start_time": "2020-10-21T22:12:45.931293",
     "status": "completed"
    },
    "tags": []
   },
   "outputs": [
    {
     "name": "stdout",
     "output_type": "stream",
     "text": [
      "<class 'pandas.core.frame.DataFrame'>\n",
      "RangeIndex: 110148 entries, 0 to 110147\n",
      "Data columns (total 20 columns):\n",
      " #   Column            Non-Null Count   Dtype  \n",
      "---  ------            --------------   -----  \n",
      " 0   client_id         110148 non-null  int64  \n",
      " 1   app_date          110148 non-null  object \n",
      " 2   education         109670 non-null  object \n",
      " 3   sex               110148 non-null  object \n",
      " 4   age               110148 non-null  int64  \n",
      " 5   car               110148 non-null  object \n",
      " 6   car_type          110148 non-null  object \n",
      " 7   decline_app_cnt   110148 non-null  int64  \n",
      " 8   good_work         110148 non-null  int64  \n",
      " 9   score_bki         110148 non-null  float64\n",
      " 10  bki_request_cnt   110148 non-null  int64  \n",
      " 11  region_rating     110148 non-null  int64  \n",
      " 12  home_address      110148 non-null  int64  \n",
      " 13  work_address      110148 non-null  int64  \n",
      " 14  income            110148 non-null  int64  \n",
      " 15  sna               110148 non-null  int64  \n",
      " 16  first_time        110148 non-null  int64  \n",
      " 17  foreign_passport  110148 non-null  object \n",
      " 18  default           73799 non-null   float64\n",
      " 19  Train             110148 non-null  int64  \n",
      "dtypes: float64(2), int64(12), object(6)\n",
      "memory usage: 16.8+ MB\n"
     ]
    }
   ],
   "source": [
    "df.info()"
   ]
  },
  {
   "cell_type": "markdown",
   "metadata": {
    "papermill": {
     "duration": 0.038096,
     "end_time": "2020-10-21T22:12:46.115759",
     "exception": false,
     "start_time": "2020-10-21T22:12:46.077663",
     "status": "completed"
    },
    "tags": []
   },
   "source": [
    "В тренировочной выборке 73799 клиентов.     \n",
    "В тестовой выборке - 36349 клиентов.     \n",
    "Всего 110148 клиентов.       \n",
    "      \n",
    "В исходных данных **19 признаков**:  \n",
    "1 временной  ('app_date'),      \n",
    "                                 6 бинарных   ('sex', 'car', 'car_type', 'good_work', 'foreign_passport', 'default'),       \n",
    "                                 6 категориальных ('education', 'region_rating', 'home_address', 'work_address', 'sna', 'first_time')      \n",
    "                                 6 числовых   ('client_id', 'age', 'decline_app_cnt', 'score_bki', 'bki_request_cnt', 'income').    \n",
    "\n",
    "Пропуски встречаются только в признаке 'education' - 478 (в train - 307 пропусков, в test - 171 пропуск).      \n",
    "\n",
    "**client_id** - числовой идентификационный признак, можно удалить.      \n",
    "**default** - целевая переменная, есть только в данных train.\n",
    "\n",
    "> Описание признаков\n",
    "\n",
    "1. client_id - идентификатор клиента\n",
    "2. app_date - дата подачи заявки \n",
    "3. education - уровень образования \n",
    "4. sex - пол заемщика \n",
    "5. age - возраст заемщика \n",
    "6. car - флаг наличия автомобиля\n",
    "7. car_type - флаг автомобиля иномарки \n",
    "8. decline_app_cnt - количество отказанных прошлых заявок \n",
    "9. good_work - флаг наличия “хорошей” работы \n",
    "10. score_bki - скоринговый балл по данным из БКИ\n",
    "11. bki_request_cnt - количество запросов в БКИ\n",
    "12. region_rating - рейтинг региона\n",
    "13. home_address - категоризатор домашнего адреса\n",
    "14. work_address - категоризатор рабочего адреса\n",
    "15. income - доход заемщика\n",
    "16. sna - связь заемщика с клиентами банка\n",
    "17. first_time - давность наличия информации о заемщике\n",
    "18. foreign_passport - наличие загранпаспорта\n",
    "19. default - флаг дефолта по кредиту"
   ]
  },
  {
   "cell_type": "markdown",
   "metadata": {
    "papermill": {
     "duration": 0.038653,
     "end_time": "2020-10-21T22:12:46.193081",
     "exception": false,
     "start_time": "2020-10-21T22:12:46.154428",
     "status": "completed"
    },
    "tags": []
   },
   "source": [
    "# Анализ признаков"
   ]
  },
  {
   "cell_type": "markdown",
   "metadata": {
    "papermill": {
     "duration": 0.038396,
     "end_time": "2020-10-21T22:12:46.269900",
     "exception": false,
     "start_time": "2020-10-21T22:12:46.231504",
     "status": "completed"
    },
    "tags": []
   },
   "source": [
    "### Временной признак 'app_date'"
   ]
  },
  {
   "cell_type": "code",
   "execution_count": 10,
   "metadata": {
    "execution": {
     "iopub.execute_input": "2020-10-21T22:12:46.355752Z",
     "iopub.status.busy": "2020-10-21T22:12:46.354765Z",
     "iopub.status.idle": "2020-10-21T22:12:46.357891Z",
     "shell.execute_reply": "2020-10-21T22:12:46.357240Z"
    },
    "papermill": {
     "duration": 0.048914,
     "end_time": "2020-10-21T22:12:46.358016",
     "exception": false,
     "start_time": "2020-10-21T22:12:46.309102",
     "status": "completed"
    },
    "tags": []
   },
   "outputs": [],
   "source": [
    "from datetime import datetime\n",
    "current_date = pd.to_datetime('21/10/2020')"
   ]
  },
  {
   "cell_type": "code",
   "execution_count": 11,
   "metadata": {
    "execution": {
     "iopub.execute_input": "2020-10-21T22:12:46.447608Z",
     "iopub.status.busy": "2020-10-21T22:12:46.446314Z",
     "iopub.status.idle": "2020-10-21T22:12:46.470710Z",
     "shell.execute_reply": "2020-10-21T22:12:46.470007Z"
    },
    "papermill": {
     "duration": 0.074158,
     "end_time": "2020-10-21T22:12:46.470853",
     "exception": false,
     "start_time": "2020-10-21T22:12:46.396695",
     "status": "completed"
    },
    "tags": []
   },
   "outputs": [],
   "source": [
    "df.app_date = pd.to_datetime(df.app_date, format='%d%b%Y')"
   ]
  },
  {
   "cell_type": "code",
   "execution_count": 12,
   "metadata": {
    "execution": {
     "iopub.execute_input": "2020-10-21T22:12:46.554633Z",
     "iopub.status.busy": "2020-10-21T22:12:46.553907Z",
     "iopub.status.idle": "2020-10-21T22:12:46.563991Z",
     "shell.execute_reply": "2020-10-21T22:12:46.563433Z"
    },
    "papermill": {
     "duration": 0.053945,
     "end_time": "2020-10-21T22:12:46.564116",
     "exception": false,
     "start_time": "2020-10-21T22:12:46.510171",
     "status": "completed"
    },
    "tags": []
   },
   "outputs": [],
   "source": [
    "# Признак последовательности дней \n",
    "df['days'] = (df.app_date - df.app_date.min()).dt.days.astype('int')"
   ]
  },
  {
   "cell_type": "code",
   "execution_count": 13,
   "metadata": {
    "execution": {
     "iopub.execute_input": "2020-10-21T22:12:46.648503Z",
     "iopub.status.busy": "2020-10-21T22:12:46.647774Z",
     "iopub.status.idle": "2020-10-21T22:12:47.444716Z",
     "shell.execute_reply": "2020-10-21T22:12:47.444234Z"
    },
    "papermill": {
     "duration": 0.841621,
     "end_time": "2020-10-21T22:12:47.444915",
     "exception": false,
     "start_time": "2020-10-21T22:12:46.603294",
     "status": "completed"
    },
    "tags": []
   },
   "outputs": [
    {
     "data": {
      "text/plain": [
       "<matplotlib.axes._subplots.AxesSubplot at 0x7f4e83f4e910>"
      ]
     },
     "execution_count": 13,
     "metadata": {},
     "output_type": "execute_result"
    },
    {
     "data": {
      "image/png": "[encoded data removed]",
      "text/plain": [
       "<Figure size 864x288 with 1 Axes>"
      ]
     },
     "metadata": {
      "needs_background": "light"
     },
     "output_type": "display_data"
    }
   ],
   "source": [
    "plt.subplots(figsize=(12, 4))\n",
    "sns.barplot(data=df[df['Train']==1], x=df.loc[df['Train']==1,'app_date'].dt.month, y='default', palette=\"rainbow\")"
   ]
  },
  {
   "cell_type": "markdown",
   "metadata": {
    "papermill": {
     "duration": 0.040507,
     "end_time": "2020-10-21T22:12:47.536064",
     "exception": false,
     "start_time": "2020-10-21T22:12:47.495557",
     "status": "completed"
    },
    "tags": []
   },
   "source": [
    "Среднее число дефолтов по тренировочному датасету отрицательно коррелирует с месяцем подачи заявки"
   ]
  },
  {
   "cell_type": "code",
   "execution_count": 14,
   "metadata": {
    "execution": {
     "iopub.execute_input": "2020-10-21T22:12:47.622419Z",
     "iopub.status.busy": "2020-10-21T22:12:47.621705Z",
     "iopub.status.idle": "2020-10-21T22:12:47.637065Z",
     "shell.execute_reply": "2020-10-21T22:12:47.636486Z"
    },
    "papermill": {
     "duration": 0.060625,
     "end_time": "2020-10-21T22:12:47.637203",
     "exception": false,
     "start_time": "2020-10-21T22:12:47.576578",
     "status": "completed"
    },
    "tags": []
   },
   "outputs": [],
   "source": [
    "# Введем новый признак - месяц подачи заявки\n",
    "\n",
    "df['app_date_month'] = df.app_date.dt.month"
   ]
  },
  {
   "cell_type": "code",
   "execution_count": 15,
   "metadata": {
    "execution": {
     "iopub.execute_input": "2020-10-21T22:12:47.723790Z",
     "iopub.status.busy": "2020-10-21T22:12:47.723131Z",
     "iopub.status.idle": "2020-10-21T22:12:48.114245Z",
     "shell.execute_reply": "2020-10-21T22:12:48.114921Z"
    },
    "papermill": {
     "duration": 0.43796,
     "end_time": "2020-10-21T22:12:48.115072",
     "exception": false,
     "start_time": "2020-10-21T22:12:47.677112",
     "status": "completed"
    },
    "tags": []
   },
   "outputs": [
    {
     "data": {
      "text/plain": [
       "<matplotlib.axes._subplots.AxesSubplot at 0x7f4e84a96710>"
      ]
     },
     "execution_count": 15,
     "metadata": {},
     "output_type": "execute_result"
    },
    {
     "data": {
      "image/png": "[encoded data removed]",
      "text/plain": [
       "<Figure size 432x288 with 1 Axes>"
      ]
     },
     "metadata": {
      "needs_background": "light"
     },
     "output_type": "display_data"
    }
   ],
   "source": [
    "sns.scatterplot(x='client_id',y='days',data=df)"
   ]
  },
  {
   "cell_type": "markdown",
   "metadata": {
    "papermill": {
     "duration": 0.040837,
     "end_time": "2020-10-21T22:12:48.198273",
     "exception": false,
     "start_time": "2020-10-21T22:12:48.157436",
     "status": "completed"
    },
    "tags": []
   },
   "source": [
    "Идентификационый номер в 'client_id' прямо пропорционален дню подачи заявки, т.е. в банке велась последовательная нумерация заявок "
   ]
  },
  {
   "cell_type": "code",
   "execution_count": 16,
   "metadata": {
    "execution": {
     "iopub.execute_input": "2020-10-21T22:12:48.287813Z",
     "iopub.status.busy": "2020-10-21T22:12:48.286768Z",
     "iopub.status.idle": "2020-10-21T22:12:48.290363Z",
     "shell.execute_reply": "2020-10-21T22:12:48.289718Z"
    },
    "papermill": {
     "duration": 0.051221,
     "end_time": "2020-10-21T22:12:48.290475",
     "exception": false,
     "start_time": "2020-10-21T22:12:48.239254",
     "status": "completed"
    },
    "tags": []
   },
   "outputs": [],
   "source": [
    "# объединим все полученные признаки по категориям\n",
    "date_cols = ['app_date']\n",
    "bin_cols = ['sex', 'car', 'car_type', 'good_work', 'foreign_passport'] # default - целевая переменная\n",
    "cat_cols = ['education', 'region_rating', 'home_address', 'work_address', 'sna', 'first_time', 'app_date_month']\n",
    "num_cols = ['age','decline_app_cnt','score_bki','bki_request_cnt','income', 'days'] # client_id исключили из списка"
   ]
  },
  {
   "cell_type": "markdown",
   "metadata": {
    "papermill": {
     "duration": 0.040946,
     "end_time": "2020-10-21T22:12:48.373912",
     "exception": false,
     "start_time": "2020-10-21T22:12:48.332966",
     "status": "completed"
    },
    "tags": []
   },
   "source": [
    "### Числовые признаки"
   ]
  },
  {
   "cell_type": "code",
   "execution_count": 17,
   "metadata": {
    "execution": {
     "iopub.execute_input": "2020-10-21T22:12:48.469652Z",
     "iopub.status.busy": "2020-10-21T22:12:48.465392Z",
     "iopub.status.idle": "2020-10-21T22:12:51.648940Z",
     "shell.execute_reply": "2020-10-21T22:12:51.648393Z"
    },
    "papermill": {
     "duration": 3.233657,
     "end_time": "2020-10-21T22:12:51.649068",
     "exception": false,
     "start_time": "2020-10-21T22:12:48.415411",
     "status": "completed"
    },
    "tags": []
   },
   "outputs": [
    {
     "data": {
      "image/png": "[encoded data removed]",
      "text/plain": [
       "<Figure size 720x216 with 2 Axes>"
      ]
     },
     "metadata": {
      "needs_background": "light"
     },
     "output_type": "display_data"
    },
    {
     "data": {
      "image/png": "[encoded data removed]",
      "text/plain": [
       "<Figure size 720x216 with 2 Axes>"
      ]
     },
     "metadata": {
      "needs_background": "light"
     },
     "output_type": "display_data"
    },
    {
     "data": {
      "image/png": "[encoded data removed]",
      "text/plain": [
       "<Figure size 720x216 with 2 Axes>"
      ]
     },
     "metadata": {
      "needs_background": "light"
     },
     "output_type": "display_data"
    },
    {
     "data": {
      "image/png": "[encoded data removed]",
      "text/plain": [
       "<Figure size 720x216 with 2 Axes>"
      ]
     },
     "metadata": {
      "needs_background": "light"
     },
     "output_type": "display_data"
    },
    {
     "data": {
      "image/png": "[encoded data removed]",
      "text/plain": [
       "<Figure size 720x216 with 2 Axes>"
      ]
     },
     "metadata": {
      "needs_background": "light"
     },
     "output_type": "display_data"
    },
    {
     "data": {
      "image/png": "[encoded data removed]",
      "text/plain": [
       "<Figure size 720x216 with 2 Axes>"
      ]
     },
     "metadata": {
      "needs_background": "light"
     },
     "output_type": "display_data"
    }
   ],
   "source": [
    "\n",
    "for i in num_cols:\n",
    "    f = plt.figure(figsize=(10, 3))\n",
    "    gs = f.add_gridspec(1, 2)\n",
    "    with sns.axes_style(\"white\"):\n",
    "        ax = f.add_subplot(gs[0, 0])\n",
    "        sns.distplot(df[i], kde = False, rug=False, color='b')\n",
    "\n",
    "    with sns.axes_style(\"white\"):\n",
    "        ax = f.add_subplot(gs[0, 1])\n",
    "        sns.boxplot(data=df[i], palette='rainbow')\n",
    "\n",
    "    f.tight_layout()\n"
   ]
  },
  {
   "cell_type": "markdown",
   "metadata": {
    "papermill": {
     "duration": 0.045431,
     "end_time": "2020-10-21T22:12:51.740786",
     "exception": false,
     "start_time": "2020-10-21T22:12:51.695355",
     "status": "completed"
    },
    "tags": []
   },
   "source": [
    "У всех признаков, кроме 'age'и 'days' имеются выбросы.    \n",
    "Все признаки, кроме 'score_bki'и 'days' распределены не нормально."
   ]
  },
  {
   "cell_type": "code",
   "execution_count": 18,
   "metadata": {
    "execution": {
     "iopub.execute_input": "2020-10-21T22:12:51.843439Z",
     "iopub.status.busy": "2020-10-21T22:12:51.842438Z",
     "iopub.status.idle": "2020-10-21T22:12:55.223847Z",
     "shell.execute_reply": "2020-10-21T22:12:55.224410Z"
    },
    "papermill": {
     "duration": 3.437362,
     "end_time": "2020-10-21T22:12:55.224565",
     "exception": false,
     "start_time": "2020-10-21T22:12:51.787203",
     "status": "completed"
    },
    "tags": []
   },
   "outputs": [
    {
     "data": {
      "image/png": "[encoded data removed]",
      "text/plain": [
       "<Figure size 720x216 with 2 Axes>"
      ]
     },
     "metadata": {
      "needs_background": "light"
     },
     "output_type": "display_data"
    },
    {
     "data": {
      "image/png": "[encoded data removed]",
      "text/plain": [
       "<Figure size 720x216 with 2 Axes>"
      ]
     },
     "metadata": {
      "needs_background": "light"
     },
     "output_type": "display_data"
    },
    {
     "data": {
      "image/png": "[encoded data removed]",
      "text/plain": [
       "<Figure size 720x216 with 2 Axes>"
      ]
     },
     "metadata": {
      "needs_background": "light"
     },
     "output_type": "display_data"
    },
    {
     "data": {
      "image/png": "[encoded data removed]",
      "text/plain": [
       "<Figure size 720x216 with 2 Axes>"
      ]
     },
     "metadata": {
      "needs_background": "light"
     },
     "output_type": "display_data"
    },
    {
     "data": {
      "image/png": "[encoded data removed]",
      "text/plain": [
       "<Figure size 720x216 with 2 Axes>"
      ]
     },
     "metadata": {
      "needs_background": "light"
     },
     "output_type": "display_data"
    },
    {
     "data": {
      "image/png": "[encoded data removed]",
      "text/plain": [
       "<Figure size 720x216 with 2 Axes>"
      ]
     },
     "metadata": {
      "needs_background": "light"
     },
     "output_type": "display_data"
    }
   ],
   "source": [
    "# пробуем логарифмировать\n",
    "\n",
    "for i in num_cols:\n",
    "    df[i] = np.log(df[i] + 4)\n",
    "    f = plt.figure(figsize=(10, 3))\n",
    "    gs = f.add_gridspec(1, 2)\n",
    "    with sns.axes_style(\"white\"):\n",
    "        ax = f.add_subplot(gs[0, 0])\n",
    "        sns.distplot(df[i], kde = False, rug=False, color='b')\n",
    "\n",
    "    with sns.axes_style(\"white\"):\n",
    "        ax = f.add_subplot(gs[0, 1])\n",
    "        sns.boxplot(data=df[i], palette='rainbow')\n",
    "\n",
    "    f.tight_layout()\n"
   ]
  },
  {
   "cell_type": "markdown",
   "metadata": {
    "papermill": {
     "duration": 0.058872,
     "end_time": "2020-10-21T22:12:55.333436",
     "exception": false,
     "start_time": "2020-10-21T22:12:55.274564",
     "status": "completed"
    },
    "tags": []
   },
   "source": [
    "От выбросов избавиться не удалось.\n",
    "Вернёмся к вопросу удаления выбросов при посроении модели."
   ]
  },
  {
   "cell_type": "markdown",
   "metadata": {
    "papermill": {
     "duration": 0.062076,
     "end_time": "2020-10-21T22:12:55.453518",
     "exception": false,
     "start_time": "2020-10-21T22:12:55.391442",
     "status": "completed"
    },
    "tags": []
   },
   "source": [
    "### Категориальные признаки"
   ]
  },
  {
   "cell_type": "code",
   "execution_count": 19,
   "metadata": {
    "execution": {
     "iopub.execute_input": "2020-10-21T22:12:55.573208Z",
     "iopub.status.busy": "2020-10-21T22:12:55.572323Z",
     "iopub.status.idle": "2020-10-21T22:12:55.580563Z",
     "shell.execute_reply": "2020-10-21T22:12:55.579955Z"
    },
    "papermill": {
     "duration": 0.073952,
     "end_time": "2020-10-21T22:12:55.580675",
     "exception": false,
     "start_time": "2020-10-21T22:12:55.506723",
     "status": "completed"
    },
    "tags": []
   },
   "outputs": [],
   "source": [
    "# Для облегчения анализа избавимся от пропусков и закодируем данные\n",
    "# Заполнение популярным SCH.\n",
    "\n",
    "df['education'] = df['education'].fillna('SCH')"
   ]
  },
  {
   "cell_type": "code",
   "execution_count": 20,
   "metadata": {
    "execution": {
     "iopub.execute_input": "2020-10-21T22:12:55.688889Z",
     "iopub.status.busy": "2020-10-21T22:12:55.688225Z",
     "iopub.status.idle": "2020-10-21T22:12:57.704731Z",
     "shell.execute_reply": "2020-10-21T22:12:57.705264Z"
    },
    "papermill": {
     "duration": 2.072042,
     "end_time": "2020-10-21T22:12:57.705425",
     "exception": false,
     "start_time": "2020-10-21T22:12:55.633383",
     "status": "completed"
    },
    "tags": []
   },
   "outputs": [],
   "source": [
    "# Для анализа закодируем 'education' по категориям\n",
    "df['education'] = df.apply(lambda x: 1 if x['education']=='SCH' else 2 if x['education']=='GRD' \n",
    "                           else 3 if x['education']=='UGR' else 4 if x['education']=='PGR' \n",
    "                           else 5, axis=1)"
   ]
  },
  {
   "cell_type": "code",
   "execution_count": 21,
   "metadata": {
    "execution": {
     "iopub.execute_input": "2020-10-21T22:12:57.825372Z",
     "iopub.status.busy": "2020-10-21T22:12:57.822512Z",
     "iopub.status.idle": "2020-10-21T22:13:08.987966Z",
     "shell.execute_reply": "2020-10-21T22:13:08.987275Z"
    },
    "papermill": {
     "duration": 11.232806,
     "end_time": "2020-10-21T22:13:08.988103",
     "exception": false,
     "start_time": "2020-10-21T22:12:57.755297",
     "status": "completed"
    },
    "tags": []
   },
   "outputs": [
    {
     "data": {
      "image/png": "[encoded data removed]",
      "text/plain": [
       "<Figure size 1080x216 with 4 Axes>"
      ]
     },
     "metadata": {
      "needs_background": "light"
     },
     "output_type": "display_data"
    },
    {
     "data": {
      "image/png": "[encoded data removed]",
      "text/plain": [
       "<Figure size 1080x216 with 4 Axes>"
      ]
     },
     "metadata": {
      "needs_background": "light"
     },
     "output_type": "display_data"
    },
    {
     "data": {
      "image/png": "[encoded data removed]",
      "text/plain": [
       "<Figure size 1080x216 with 4 Axes>"
      ]
     },
     "metadata": {
      "needs_background": "light"
     },
     "output_type": "display_data"
    },
    {
     "data": {
      "image/png": "[encoded data removed]",
      "text/plain": [
       "<Figure size 1080x216 with 4 Axes>"
      ]
     },
     "metadata": {
      "needs_background": "light"
     },
     "output_type": "display_data"
    },
    {
     "data": {
      "image/png": "[encoded data removed]",
      "text/plain": [
       "<Figure size 1080x216 with 4 Axes>"
      ]
     },
     "metadata": {
      "needs_background": "light"
     },
     "output_type": "display_data"
    },
    {
     "data": {
      "image/png": "[encoded data removed]",
      "text/plain": [
       "<Figure size 1080x216 with 4 Axes>"
      ]
     },
     "metadata": {
      "needs_background": "light"
     },
     "output_type": "display_data"
    },
    {
     "data": {
      "image/png": "[encoded data removed]",
      "text/plain": [
       "<Figure size 1080x216 with 4 Axes>"
      ]
     },
     "metadata": {
      "needs_background": "light"
     },
     "output_type": "display_data"
    }
   ],
   "source": [
    "for i in cat_cols:\n",
    "    f = plt.figure(figsize=(15, 3))\n",
    "    gs = f.add_gridspec(1, 4)\n",
    "    with sns.axes_style(\"white\"):\n",
    "        ax = f.add_subplot(gs[0, 0])\n",
    "        sns.barplot(x=i, y='default', data=df[df['Train'] ==1], estimator=len)\n",
    "        \n",
    "    with sns.axes_style(\"white\"):\n",
    "        ax = f.add_subplot(gs[0, 1])\n",
    "        sns.barplot(x='default', y=i, data=df[df['Train'] ==1], estimator=len)\n",
    "\n",
    "    with sns.axes_style(\"white\"):\n",
    "        ax = f.add_subplot(gs[0, 2])\n",
    "        sns.boxplot(x='default', y=i, data=df[df['Train'] ==1], palette='rainbow')\n",
    "        \n",
    "    with sns.axes_style(\"white\"):\n",
    "        ax = f.add_subplot(gs[0, 3])\n",
    "        sns.boxplot(data=df[i], palette='rainbow')\n",
    "\n",
    "    f.tight_layout()"
   ]
  },
  {
   "cell_type": "markdown",
   "metadata": {
    "papermill": {
     "duration": 0.054741,
     "end_time": "2020-10-21T22:13:09.098607",
     "exception": false,
     "start_time": "2020-10-21T22:13:09.043866",
     "status": "completed"
    },
    "tags": []
   },
   "source": [
    "Есть незначительные выбросы. \n",
    "Имеем дело с несбалансированной моделью: дефолтных представителей мало."
   ]
  },
  {
   "cell_type": "markdown",
   "metadata": {
    "papermill": {
     "duration": 0.054804,
     "end_time": "2020-10-21T22:13:09.208518",
     "exception": false,
     "start_time": "2020-10-21T22:13:09.153714",
     "status": "completed"
    },
    "tags": []
   },
   "source": [
    "### Бинарные признаки"
   ]
  },
  {
   "cell_type": "code",
   "execution_count": 22,
   "metadata": {
    "execution": {
     "iopub.execute_input": "2020-10-21T22:13:09.343653Z",
     "iopub.status.busy": "2020-10-21T22:13:09.331109Z",
     "iopub.status.idle": "2020-10-21T22:13:09.420372Z",
     "shell.execute_reply": "2020-10-21T22:13:09.419649Z"
    },
    "papermill": {
     "duration": 0.157309,
     "end_time": "2020-10-21T22:13:09.420505",
     "exception": false,
     "start_time": "2020-10-21T22:13:09.263196",
     "status": "completed"
    },
    "tags": []
   },
   "outputs": [],
   "source": [
    "# Закодируем бинарные признаки\n",
    "label_encoder = LabelEncoder()\n",
    "\n",
    "for column in bin_cols:\n",
    "    df[column] = label_encoder.fit_transform(df[column])"
   ]
  },
  {
   "cell_type": "markdown",
   "metadata": {
    "papermill": {
     "duration": 0.054729,
     "end_time": "2020-10-21T22:13:09.530441",
     "exception": false,
     "start_time": "2020-10-21T22:13:09.475712",
     "status": "completed"
    },
    "tags": []
   },
   "source": [
    "## Корреляция числовых признаков"
   ]
  },
  {
   "cell_type": "code",
   "execution_count": 23,
   "metadata": {
    "execution": {
     "iopub.execute_input": "2020-10-21T22:13:09.646547Z",
     "iopub.status.busy": "2020-10-21T22:13:09.645767Z",
     "iopub.status.idle": "2020-10-21T22:13:09.959986Z",
     "shell.execute_reply": "2020-10-21T22:13:09.959431Z"
    },
    "papermill": {
     "duration": 0.374415,
     "end_time": "2020-10-21T22:13:09.960099",
     "exception": false,
     "start_time": "2020-10-21T22:13:09.585684",
     "status": "completed"
    },
    "tags": []
   },
   "outputs": [
    {
     "data": {
      "text/plain": [
       "<matplotlib.axes._subplots.AxesSubplot at 0x7f4e841e3ed0>"
      ]
     },
     "execution_count": 23,
     "metadata": {},
     "output_type": "execute_result"
    },
    {
     "data": {
      "image/png": "[encoded data removed]",
      "text/plain": [
       "<Figure size 432x288 with 2 Axes>"
      ]
     },
     "metadata": {
      "needs_background": "light"
     },
     "output_type": "display_data"
    }
   ],
   "source": [
    "df_num = df[num_cols]\n",
    "sns.heatmap(df_num.corr(), annot = True)"
   ]
  },
  {
   "cell_type": "markdown",
   "metadata": {
    "papermill": {
     "duration": 0.102683,
     "end_time": "2020-10-21T22:13:10.120595",
     "exception": false,
     "start_time": "2020-10-21T22:13:10.017912",
     "status": "completed"
    },
    "tags": []
   },
   "source": [
    "Сильно скоррелированных числовых признаков нет"
   ]
  },
  {
   "cell_type": "markdown",
   "metadata": {
    "papermill": {
     "duration": 0.056206,
     "end_time": "2020-10-21T22:13:10.234506",
     "exception": false,
     "start_time": "2020-10-21T22:13:10.178300",
     "status": "completed"
    },
    "tags": []
   },
   "source": [
    "# Значимость переменных"
   ]
  },
  {
   "cell_type": "code",
   "execution_count": 24,
   "metadata": {
    "execution": {
     "iopub.execute_input": "2020-10-21T22:13:10.353972Z",
     "iopub.status.busy": "2020-10-21T22:13:10.353260Z",
     "iopub.status.idle": "2020-10-21T22:13:10.672096Z",
     "shell.execute_reply": "2020-10-21T22:13:10.672584Z"
    },
    "papermill": {
     "duration": 0.382381,
     "end_time": "2020-10-21T22:13:10.672735",
     "exception": false,
     "start_time": "2020-10-21T22:13:10.290354",
     "status": "completed"
    },
    "tags": []
   },
   "outputs": [
    {
     "data": {
      "text/plain": [
       "<matplotlib.axes._subplots.AxesSubplot at 0x7f4e83f68c10>"
      ]
     },
     "execution_count": 24,
     "metadata": {},
     "output_type": "execute_result"
    },
    {
     "data": {
      "image/png": "[encoded data removed]",
      "text/plain": [
       "<Figure size 432x288 with 1 Axes>"
      ]
     },
     "metadata": {
      "needs_background": "light"
     },
     "output_type": "display_data"
    }
   ],
   "source": [
    "train_df = df[df['Train']==1]\n",
    "imp_num = pd.Series(f_classif(train_df[num_cols], train_df['default'])[0], index = num_cols)\n",
    "imp_num.sort_values(inplace = True)\n",
    "imp_num.plot(kind = 'barh', title='Значимость числовых переменных')"
   ]
  },
  {
   "cell_type": "code",
   "execution_count": 25,
   "metadata": {
    "execution": {
     "iopub.execute_input": "2020-10-21T22:13:10.797724Z",
     "iopub.status.busy": "2020-10-21T22:13:10.796748Z",
     "iopub.status.idle": "2020-10-21T22:13:11.110561Z",
     "shell.execute_reply": "2020-10-21T22:13:11.111052Z"
    },
    "papermill": {
     "duration": 0.38052,
     "end_time": "2020-10-21T22:13:11.111207",
     "exception": false,
     "start_time": "2020-10-21T22:13:10.730687",
     "status": "completed"
    },
    "tags": []
   },
   "outputs": [
    {
     "data": {
      "text/plain": [
       "<matplotlib.axes._subplots.AxesSubplot at 0x7f4e84958f10>"
      ]
     },
     "execution_count": 25,
     "metadata": {},
     "output_type": "execute_result"
    },
    {
     "data": {
      "image/png": "[encoded data removed]",
      "text/plain": [
       "<Figure size 432x288 with 1 Axes>"
      ]
     },
     "metadata": {
      "needs_background": "light"
     },
     "output_type": "display_data"
    }
   ],
   "source": [
    "imp_cat = Series(mutual_info_classif(train_df[bin_cols + cat_cols], train_df['default'],\n",
    "                                     discrete_features =True), index = bin_cols + cat_cols)\n",
    "imp_cat.sort_values(inplace = True)\n",
    "imp_cat.plot(kind = 'barh', title = 'Значимость бинарных и категориальных признаков')"
   ]
  },
  {
   "cell_type": "markdown",
   "metadata": {
    "papermill": {
     "duration": 0.057953,
     "end_time": "2020-10-21T22:13:11.229071",
     "exception": false,
     "start_time": "2020-10-21T22:13:11.171118",
     "status": "completed"
    },
    "tags": []
   },
   "source": [
    "## Подготовка к ML"
   ]
  },
  {
   "cell_type": "code",
   "execution_count": 26,
   "metadata": {
    "execution": {
     "iopub.execute_input": "2020-10-21T22:13:11.360221Z",
     "iopub.status.busy": "2020-10-21T22:13:11.359513Z",
     "iopub.status.idle": "2020-10-21T22:13:11.391196Z",
     "shell.execute_reply": "2020-10-21T22:13:11.390606Z"
    },
    "papermill": {
     "duration": 0.103074,
     "end_time": "2020-10-21T22:13:11.391318",
     "exception": false,
     "start_time": "2020-10-21T22:13:11.288244",
     "status": "completed"
    },
    "tags": []
   },
   "outputs": [],
   "source": [
    "df = pd.get_dummies(df, prefix=cat_cols, columns=cat_cols)"
   ]
  },
  {
   "cell_type": "markdown",
   "metadata": {
    "papermill": {
     "duration": 0.058147,
     "end_time": "2020-10-21T22:13:11.508466",
     "exception": false,
     "start_time": "2020-10-21T22:13:11.450319",
     "status": "completed"
    },
    "tags": []
   },
   "source": [
    "### Нормирование данных"
   ]
  },
  {
   "cell_type": "code",
   "execution_count": 27,
   "metadata": {
    "execution": {
     "iopub.execute_input": "2020-10-21T22:13:11.635757Z",
     "iopub.status.busy": "2020-10-21T22:13:11.634175Z",
     "iopub.status.idle": "2020-10-21T22:13:11.769138Z",
     "shell.execute_reply": "2020-10-21T22:13:11.768571Z"
    },
    "papermill": {
     "duration": 0.201228,
     "end_time": "2020-10-21T22:13:11.769279",
     "exception": false,
     "start_time": "2020-10-21T22:13:11.568051",
     "status": "completed"
    },
    "tags": []
   },
   "outputs": [],
   "source": [
    "# Поскольку в данных выбросы, воспользуемся RobustScaler\n",
    "scaler = RobustScaler()\n",
    "\n",
    "df[num_cols] = scaler.fit_transform(df[num_cols].values)"
   ]
  },
  {
   "cell_type": "code",
   "execution_count": 28,
   "metadata": {
    "execution": {
     "iopub.execute_input": "2020-10-21T22:13:11.899755Z",
     "iopub.status.busy": "2020-10-21T22:13:11.899041Z",
     "iopub.status.idle": "2020-10-21T22:13:11.904200Z",
     "shell.execute_reply": "2020-10-21T22:13:11.903668Z"
    },
    "papermill": {
     "duration": 0.076058,
     "end_time": "2020-10-21T22:13:11.904318",
     "exception": false,
     "start_time": "2020-10-21T22:13:11.828260",
     "status": "completed"
    },
    "tags": []
   },
   "outputs": [],
   "source": [
    "df.drop(['app_date', 'client_id'], axis=1, inplace=True)"
   ]
  },
  {
   "cell_type": "markdown",
   "metadata": {
    "papermill": {
     "duration": 0.060058,
     "end_time": "2020-10-21T22:13:12.024138",
     "exception": false,
     "start_time": "2020-10-21T22:13:11.964080",
     "status": "completed"
    },
    "tags": []
   },
   "source": [
    "# ML"
   ]
  },
  {
   "cell_type": "code",
   "execution_count": 29,
   "metadata": {
    "execution": {
     "iopub.execute_input": "2020-10-21T22:13:12.151489Z",
     "iopub.status.busy": "2020-10-21T22:13:12.150263Z",
     "iopub.status.idle": "2020-10-21T22:13:12.186473Z",
     "shell.execute_reply": "2020-10-21T22:13:12.185897Z"
    },
    "papermill": {
     "duration": 0.102383,
     "end_time": "2020-10-21T22:13:12.186601",
     "exception": false,
     "start_time": "2020-10-21T22:13:12.084218",
     "status": "completed"
    },
    "tags": []
   },
   "outputs": [],
   "source": [
    "# Возвращаем первоначальное разбиение на train и test\n",
    "\n",
    "train_data = df[df['Train'] == 1].drop(['Train'], axis=1)\n",
    "test_data = df[df['Train'] == 0].drop(['Train'], axis=1)\n",
    "\n",
    "y = train_data.default.values           \n",
    "X = train_data.drop(['default'], axis=1).values"
   ]
  },
  {
   "cell_type": "code",
   "execution_count": 30,
   "metadata": {
    "execution": {
     "iopub.execute_input": "2020-10-21T22:13:12.316895Z",
     "iopub.status.busy": "2020-10-21T22:13:12.314924Z",
     "iopub.status.idle": "2020-10-21T22:13:12.355936Z",
     "shell.execute_reply": "2020-10-21T22:13:12.355253Z"
    },
    "papermill": {
     "duration": 0.108192,
     "end_time": "2020-10-21T22:13:12.356055",
     "exception": false,
     "start_time": "2020-10-21T22:13:12.247863",
     "status": "completed"
    },
    "tags": []
   },
   "outputs": [
    {
     "data": {
      "text/plain": [
       "((36349, 42), (73799, 42), (73799, 41), (59039, 41), (14760, 41))"
      ]
     },
     "execution_count": 30,
     "metadata": {},
     "output_type": "execute_result"
    }
   ],
   "source": [
    "# Из train выделяем данные на валидацию \n",
    "X_train, X_valid, y_train, y_valid = train_test_split(X, y, test_size=0.2, random_state=RANDOM_SEED)\n",
    "test_data.shape, train_data.shape, X.shape, X_train.shape, X_valid.shape"
   ]
  },
  {
   "cell_type": "code",
   "execution_count": 31,
   "metadata": {
    "execution": {
     "iopub.execute_input": "2020-10-21T22:13:12.480785Z",
     "iopub.status.busy": "2020-10-21T22:13:12.480141Z",
     "iopub.status.idle": "2020-10-21T22:13:13.615195Z",
     "shell.execute_reply": "2020-10-21T22:13:13.614567Z"
    },
    "papermill": {
     "duration": 1.199828,
     "end_time": "2020-10-21T22:13:13.615372",
     "exception": false,
     "start_time": "2020-10-21T22:13:12.415544",
     "status": "completed"
    },
    "tags": []
   },
   "outputs": [],
   "source": [
    "model = LogisticRegression(random_state=RANDOM_SEED, max_iter = 1000)\n",
    "\n",
    "model.fit(X_train, y_train)\n",
    "\n",
    "y_pred_prob = model.predict_proba(X_valid)[:,1]\n",
    "y_pred = model.predict(X_valid)"
   ]
  },
  {
   "cell_type": "markdown",
   "metadata": {
    "papermill": {
     "duration": 0.061012,
     "end_time": "2020-10-21T22:13:13.736285",
     "exception": false,
     "start_time": "2020-10-21T22:13:13.675273",
     "status": "completed"
    },
    "tags": []
   },
   "source": [
    "## Метрики качества"
   ]
  },
  {
   "cell_type": "code",
   "execution_count": 32,
   "metadata": {
    "execution": {
     "iopub.execute_input": "2020-10-21T22:13:13.863227Z",
     "iopub.status.busy": "2020-10-21T22:13:13.862513Z",
     "iopub.status.idle": "2020-10-21T22:13:13.887894Z",
     "shell.execute_reply": "2020-10-21T22:13:13.887286Z"
    },
    "papermill": {
     "duration": 0.091517,
     "end_time": "2020-10-21T22:13:13.888012",
     "exception": false,
     "start_time": "2020-10-21T22:13:13.796495",
     "status": "completed"
    },
    "tags": []
   },
   "outputs": [],
   "source": [
    "metrics = ['accuracy', 'precision', 'recall', 'f1_score']\n",
    "value = [accuracy_score(y_valid,y_pred), precision_score(y_valid,y_pred), recall_score(y_valid,y_pred), f1_score(y_valid,y_pred)]\n",
    "first_metrics_df = pd.DataFrame({'Метрика': metrics, 'Значение': value}, columns=['Метрика', 'Значение'])"
   ]
  },
  {
   "cell_type": "markdown",
   "metadata": {
    "papermill": {
     "duration": 0.061388,
     "end_time": "2020-10-21T22:13:14.009674",
     "exception": false,
     "start_time": "2020-10-21T22:13:13.948286",
     "status": "completed"
    },
    "tags": []
   },
   "source": [
    "### Кривая ROC-AUC"
   ]
  },
  {
   "cell_type": "code",
   "execution_count": 33,
   "metadata": {
    "execution": {
     "iopub.execute_input": "2020-10-21T22:13:14.139279Z",
     "iopub.status.busy": "2020-10-21T22:13:14.138494Z",
     "iopub.status.idle": "2020-10-21T22:13:14.300550Z",
     "shell.execute_reply": "2020-10-21T22:13:14.299882Z"
    },
    "papermill": {
     "duration": 0.230758,
     "end_time": "2020-10-21T22:13:14.300664",
     "exception": false,
     "start_time": "2020-10-21T22:13:14.069906",
     "status": "completed"
    },
    "tags": []
   },
   "outputs": [
    {
     "data": {
      "image/png": "[encoded data removed]",
      "text/plain": [
       "<Figure size 432x288 with 1 Axes>"
      ]
     },
     "metadata": {
      "needs_background": "light"
     },
     "output_type": "display_data"
    }
   ],
   "source": [
    "fpr, tpr, threshold = roc_curve(y_valid, y_pred_prob)\n",
    "roc_auc = roc_auc_score(y_valid, y_pred_prob)\n",
    "\n",
    "plt.figure()\n",
    "plt.plot([0, 1], label='Baseline', linestyle='--')\n",
    "plt.plot(fpr, tpr, label = 'Regression')\n",
    "plt.title('Logistic Regression ROC AUC = %0.3f' % roc_auc)\n",
    "plt.ylabel('True Positive Rate')\n",
    "plt.xlabel('False Positive Rate')\n",
    "plt.legend(loc = 'lower right')\n",
    "plt.show()"
   ]
  },
  {
   "cell_type": "markdown",
   "metadata": {
    "papermill": {
     "duration": 0.062233,
     "end_time": "2020-10-21T22:13:14.424659",
     "exception": false,
     "start_time": "2020-10-21T22:13:14.362426",
     "status": "completed"
    },
    "tags": []
   },
   "source": [
    "### Матрица ошибок"
   ]
  },
  {
   "cell_type": "code",
   "execution_count": 34,
   "metadata": {
    "execution": {
     "iopub.execute_input": "2020-10-21T22:13:14.553051Z",
     "iopub.status.busy": "2020-10-21T22:13:14.552356Z",
     "iopub.status.idle": "2020-10-21T22:13:14.571894Z",
     "shell.execute_reply": "2020-10-21T22:13:14.571080Z"
    },
    "papermill": {
     "duration": 0.085997,
     "end_time": "2020-10-21T22:13:14.572078",
     "exception": false,
     "start_time": "2020-10-21T22:13:14.486081",
     "status": "completed"
    },
    "tags": []
   },
   "outputs": [
    {
     "name": "stdout",
     "output_type": "stream",
     "text": [
      "35 57\n",
      "1792 12876\n"
     ]
    }
   ],
   "source": [
    "tn, fp, fn, tp = confusion_matrix(y_valid, y_pred).ravel()\n",
    "print(tp, fp) \n",
    "print(fn, tn)"
   ]
  },
  {
   "cell_type": "markdown",
   "metadata": {
    "papermill": {
     "duration": 0.061976,
     "end_time": "2020-10-21T22:13:14.696772",
     "exception": false,
     "start_time": "2020-10-21T22:13:14.634796",
     "status": "completed"
    },
    "tags": []
   },
   "source": [
    "Хотя ROC-AUC дал неплохой результат, мы абсолютно не угадали дефолтных клиентов. \n",
    "Посмотрим на PRC-AUC, поскольку данная метрика может оценивать эффективность алгоритма на несбалансированных данных."
   ]
  },
  {
   "cell_type": "code",
   "execution_count": 35,
   "metadata": {
    "execution": {
     "iopub.execute_input": "2020-10-21T22:13:14.826993Z",
     "iopub.status.busy": "2020-10-21T22:13:14.826311Z",
     "iopub.status.idle": "2020-10-21T22:13:14.832821Z",
     "shell.execute_reply": "2020-10-21T22:13:14.832202Z"
    },
    "papermill": {
     "duration": 0.073688,
     "end_time": "2020-10-21T22:13:14.832959",
     "exception": false,
     "start_time": "2020-10-21T22:13:14.759271",
     "status": "completed"
    },
    "tags": []
   },
   "outputs": [],
   "source": [
    "precision, recall, thresholds = precision_recall_curve(y_valid, y_pred_prob)"
   ]
  },
  {
   "cell_type": "code",
   "execution_count": 36,
   "metadata": {
    "execution": {
     "iopub.execute_input": "2020-10-21T22:13:14.966102Z",
     "iopub.status.busy": "2020-10-21T22:13:14.965408Z",
     "iopub.status.idle": "2020-10-21T22:13:15.119682Z",
     "shell.execute_reply": "2020-10-21T22:13:15.119174Z"
    },
    "papermill": {
     "duration": 0.224584,
     "end_time": "2020-10-21T22:13:15.119798",
     "exception": false,
     "start_time": "2020-10-21T22:13:14.895214",
     "status": "completed"
    },
    "tags": []
   },
   "outputs": [
    {
     "data": {
      "image/png": "[encoded data removed]",
      "text/plain": [
       "<Figure size 576x432 with 1 Axes>"
      ]
     },
     "metadata": {
      "needs_background": "light"
     },
     "output_type": "display_data"
    }
   ],
   "source": [
    "plt.figure(figsize=(8, 6))\n",
    "prc_area = auc(recall, precision)\n",
    "plt.plot(recall, precision, lw=3, label='площадь под PR кривой = %0.3f)' % prc_area)\n",
    "    \n",
    "plt.xlim([-.05, 1.0])\n",
    "plt.ylim([-.05, 1.05])\n",
    "plt.xlabel('Recall')\n",
    "plt.ylabel('Precision')\n",
    "plt.title('Precision-Recall Curve')\n",
    "plt.legend(loc=\"upper right\")\n",
    "plt.show()"
   ]
  },
  {
   "cell_type": "code",
   "execution_count": 37,
   "metadata": {
    "execution": {
     "iopub.execute_input": "2020-10-21T22:13:15.255151Z",
     "iopub.status.busy": "2020-10-21T22:13:15.254193Z",
     "iopub.status.idle": "2020-10-21T22:13:15.256526Z",
     "shell.execute_reply": "2020-10-21T22:13:15.257140Z"
    },
    "papermill": {
     "duration": 0.074218,
     "end_time": "2020-10-21T22:13:15.257294",
     "exception": false,
     "start_time": "2020-10-21T22:13:15.183076",
     "status": "completed"
    },
    "tags": []
   },
   "outputs": [],
   "source": [
    "# Добавим метрики в наш датасет метрик для первой модели\n",
    "\n",
    "add_metrics = pd.DataFrame({'Метрика': ['ROC_AUC', 'PRC_AUC'], 'Значение': [roc_auc, prc_area]}, columns=['Метрика', 'Значение'])\n",
    "\n",
    "first_metrics_df = first_metrics_df.append(add_metrics, ignore_index=True)"
   ]
  },
  {
   "cell_type": "markdown",
   "metadata": {
    "papermill": {
     "duration": 0.063859,
     "end_time": "2020-10-21T22:13:15.384926",
     "exception": false,
     "start_time": "2020-10-21T22:13:15.321067",
     "status": "completed"
    },
    "tags": []
   },
   "source": [
    "**Итого** \n",
    "\n",
    "f1_score = 0.033\n",
    "recall = 0.018         \n",
    "Из 1828 дефолтных клиентов модель угадала лишь 32. Имеем ошибку второго рода.            \n",
    "В данном случае метрика ROC-AUC (= 0.743) не показательна, поскольку мы имеем дело с несбалансированной моделью.             "
   ]
  },
  {
   "cell_type": "markdown",
   "metadata": {
    "papermill": {
     "duration": 0.062635,
     "end_time": "2020-10-21T22:13:15.511012",
     "exception": false,
     "start_time": "2020-10-21T22:13:15.448377",
     "status": "completed"
    },
    "tags": []
   },
   "source": [
    "## Поиск оптимальных параметров модели"
   ]
  },
  {
   "cell_type": "code",
   "execution_count": 38,
   "metadata": {
    "execution": {
     "iopub.execute_input": "2020-10-21T22:13:15.648297Z",
     "iopub.status.busy": "2020-10-21T22:13:15.647430Z",
     "iopub.status.idle": "2020-10-21T22:13:15.721740Z",
     "shell.execute_reply": "2020-10-21T22:13:15.721077Z"
    },
    "papermill": {
     "duration": 0.147026,
     "end_time": "2020-10-21T22:13:15.721877",
     "exception": false,
     "start_time": "2020-10-21T22:13:15.574851",
     "status": "completed"
    },
    "tags": []
   },
   "outputs": [
    {
     "ename": "NameError",
     "evalue": "name 'iter_' is not defined",
     "output_type": "error",
     "traceback": [
      "\u001b[0;31m---------------------------------------------------------------------------\u001b[0m",
      "\u001b[0;31mNameError\u001b[0m                                 Traceback (most recent call last)",
      "\u001b[0;32m<ipython-input-38-339324b1e0fe>\u001b[0m in \u001b[0;36m<module>\u001b[0;34m\u001b[0m\n\u001b[1;32m      8\u001b[0m      \u001b[0;34m'class_weight'\u001b[0m\u001b[0;34m:\u001b[0m\u001b[0;34m[\u001b[0m\u001b[0;34m'none'\u001b[0m\u001b[0;34m,\u001b[0m \u001b[0;34m'balanced'\u001b[0m\u001b[0;34m]\u001b[0m\u001b[0;34m,\u001b[0m\u001b[0;34m\u001b[0m\u001b[0;34m\u001b[0m\u001b[0m\n\u001b[1;32m      9\u001b[0m      \u001b[0;34m'multi_class'\u001b[0m\u001b[0;34m:\u001b[0m \u001b[0;34m[\u001b[0m\u001b[0;34m'auto'\u001b[0m\u001b[0;34m,\u001b[0m\u001b[0;34m'ovr'\u001b[0m\u001b[0;34m]\u001b[0m\u001b[0;34m,\u001b[0m\u001b[0;34m\u001b[0m\u001b[0;34m\u001b[0m\u001b[0m\n\u001b[0;32m---> 10\u001b[0;31m      'max_iter':[iter_]},\n\u001b[0m\u001b[1;32m     11\u001b[0m     {'penalty': ['l2'], \n\u001b[1;32m     12\u001b[0m      \u001b[0;34m'solver'\u001b[0m\u001b[0;34m:\u001b[0m \u001b[0;34m[\u001b[0m\u001b[0;34m'newton-cg'\u001b[0m\u001b[0;34m,\u001b[0m \u001b[0;34m'lbfgs'\u001b[0m\u001b[0;34m,\u001b[0m \u001b[0;34m'liblinear'\u001b[0m\u001b[0;34m,\u001b[0m \u001b[0;34m'sag'\u001b[0m\u001b[0;34m,\u001b[0m \u001b[0;34m'saga'\u001b[0m\u001b[0;34m]\u001b[0m\u001b[0;34m,\u001b[0m\u001b[0;34m\u001b[0m\u001b[0;34m\u001b[0m\u001b[0m\n",
      "\u001b[0;31mNameError\u001b[0m: name 'iter_' is not defined"
     ]
    }
   ],
   "source": [
    "model = LogisticRegression(random_state=RANDOM_SEED)\n",
    "\n",
    "iter_max = 100\n",
    "\n",
    "param_grid = [\n",
    "    {'penalty': ['l1'], \n",
    "     'solver': ['liblinear', 'lbfgs'], \n",
    "     'class_weight':['none', 'balanced'], \n",
    "     'multi_class': ['auto','ovr'], \n",
    "     'max_iter':[iter_]},\n",
    "    {'penalty': ['l2'], \n",
    "     'solver': ['newton-cg', 'lbfgs', 'liblinear', 'sag', 'saga'], \n",
    "     'class_weight':['none', 'balanced'], \n",
    "     'multi_class': ['auto','ovr'], \n",
    "     'max_iter':[iter_]},\n",
    "    {'penalty': ['none'], \n",
    "     'solver': ['newton-cg', 'lbfgs', 'sag', 'saga'], \n",
    "     'class_weight':['none', 'balanced'], \n",
    "     'multi_class': ['auto','ovr'], \n",
    "     'max_iter':[iter_]},\n",
    "]\n",
    "\n",
    "gridsearch = GridSearchCV(model, param_grid, scoring='f1', n_jobs=-1)\n",
    "gridsearch.fit(X_train, y_train)\n",
    "model = gridsearch.best_estimator_\n",
    "print(model)"
   ]
  },
  {
   "cell_type": "code",
   "execution_count": 39,
   "metadata": {
    "execution": {
     "iopub.execute_input": "2020-10-21T22:13:15.855510Z",
     "iopub.status.busy": "2020-10-21T22:13:15.854365Z",
     "iopub.status.idle": "2020-10-21T22:13:16.664658Z",
     "shell.execute_reply": "2020-10-21T22:13:16.664027Z"
    },
    "papermill": {
     "duration": 0.879286,
     "end_time": "2020-10-21T22:13:16.664767",
     "exception": false,
     "start_time": "2020-10-21T22:13:15.785481",
     "status": "completed"
    },
    "tags": []
   },
   "outputs": [
    {
     "name": "stderr",
     "output_type": "stream",
     "text": [
      "/opt/conda/lib/python3.7/site-packages/sklearn/linear_model/_logistic.py:764: ConvergenceWarning: lbfgs failed to converge (status=1):\n",
      "STOP: TOTAL NO. of ITERATIONS REACHED LIMIT.\n",
      "\n",
      "Increase the number of iterations (max_iter) or scale the data as shown in:\n",
      "    https://scikit-learn.org/stable/modules/preprocessing.html\n",
      "Please also refer to the documentation for alternative solver options:\n",
      "    https://scikit-learn.org/stable/modules/linear_model.html#logistic-regression\n",
      "  extra_warning_msg=_LOGISTIC_SOLVER_CONVERGENCE_MSG)\n"
     ]
    }
   ],
   "source": [
    "# Обучим модель на данных и проверим confusion_matrix\n",
    "\n",
    "model.fit(X_train, y_train)\n",
    "\n",
    "y_pred_prob = model.predict_proba(X_valid)[:,1]\n",
    "y_pred = model.predict(X_valid)"
   ]
  },
  {
   "cell_type": "code",
   "execution_count": 40,
   "metadata": {
    "execution": {
     "iopub.execute_input": "2020-10-21T22:13:16.800025Z",
     "iopub.status.busy": "2020-10-21T22:13:16.799141Z",
     "iopub.status.idle": "2020-10-21T22:13:16.816998Z",
     "shell.execute_reply": "2020-10-21T22:13:16.817659Z"
    },
    "papermill": {
     "duration": 0.08848,
     "end_time": "2020-10-21T22:13:16.817862",
     "exception": false,
     "start_time": "2020-10-21T22:13:16.729382",
     "status": "completed"
    },
    "tags": []
   },
   "outputs": [
    {
     "name": "stdout",
     "output_type": "stream",
     "text": [
      "35 57\n",
      "1792 12876\n"
     ]
    }
   ],
   "source": [
    "# матрица ошибок\n",
    "tn, fp, fn, tp = confusion_matrix(y_valid, y_pred).ravel()\n",
    "print(tp, fp) \n",
    "print(fn, tn)"
   ]
  },
  {
   "cell_type": "code",
   "execution_count": 41,
   "metadata": {
    "execution": {
     "iopub.execute_input": "2020-10-21T22:13:16.958968Z",
     "iopub.status.busy": "2020-10-21T22:13:16.958256Z",
     "iopub.status.idle": "2020-10-21T22:13:16.994502Z",
     "shell.execute_reply": "2020-10-21T22:13:16.995373Z"
    },
    "papermill": {
     "duration": 0.107697,
     "end_time": "2020-10-21T22:13:16.995608",
     "exception": false,
     "start_time": "2020-10-21T22:13:16.887911",
     "status": "completed"
    },
    "tags": []
   },
   "outputs": [
    {
     "name": "stdout",
     "output_type": "stream",
     "text": [
      "Accuracy: 0.8747\n",
      "Precision: 0.3804\n",
      "Recall: 0.0192\n",
      "F1: 0.0365\n",
      "ROC_AUC =  0.7432\n",
      "PRC_AUC =  0.2819\n"
     ]
    }
   ],
   "source": [
    "print('Accuracy: %.4f' % accuracy_score(y_valid, y_pred))\n",
    "print('Precision: %.4f' % precision_score(y_valid, y_pred))\n",
    "print('Recall: %.4f' % recall_score(y_valid, y_pred))\n",
    "print('F1: %.4f' % f1_score(y_valid, y_pred))\n",
    "\n",
    "precision, recall, thresholds = precision_recall_curve(y_valid, y_pred_prob)\n",
    "print('ROC_AUC = ', round(roc_auc_score(y_valid, y_pred_prob), 4))\n",
    "print('PRC_AUC = ', round(auc(recall, precision), 4))"
   ]
  },
  {
   "cell_type": "code",
   "execution_count": 42,
   "metadata": {
    "execution": {
     "iopub.execute_input": "2020-10-21T22:13:17.135074Z",
     "iopub.status.busy": "2020-10-21T22:13:17.134240Z",
     "iopub.status.idle": "2020-10-21T22:13:17.138742Z",
     "shell.execute_reply": "2020-10-21T22:13:17.139229Z"
    },
    "papermill": {
     "duration": 0.078064,
     "end_time": "2020-10-21T22:13:17.139387",
     "exception": false,
     "start_time": "2020-10-21T22:13:17.061323",
     "status": "completed"
    },
    "tags": []
   },
   "outputs": [
    {
     "data": {
      "text/html": [
       "<div>\n",
       "<style scoped>\n",
       "    .dataframe tbody tr th:only-of-type {\n",
       "        vertical-align: middle;\n",
       "    }\n",
       "\n",
       "    .dataframe tbody tr th {\n",
       "        vertical-align: top;\n",
       "    }\n",
       "\n",
       "    .dataframe thead th {\n",
       "        text-align: right;\n",
       "    }\n",
       "</style>\n",
       "<table border=\"1\" class=\"dataframe\">\n",
       "  <thead>\n",
       "    <tr style=\"text-align: right;\">\n",
       "      <th></th>\n",
       "      <th>Метрика</th>\n",
       "      <th>Значение</th>\n",
       "    </tr>\n",
       "  </thead>\n",
       "  <tbody>\n",
       "    <tr>\n",
       "      <th>0</th>\n",
       "      <td>accuracy</td>\n",
       "      <td>0.874729</td>\n",
       "    </tr>\n",
       "    <tr>\n",
       "      <th>1</th>\n",
       "      <td>precision</td>\n",
       "      <td>0.380435</td>\n",
       "    </tr>\n",
       "    <tr>\n",
       "      <th>2</th>\n",
       "      <td>recall</td>\n",
       "      <td>0.019157</td>\n",
       "    </tr>\n",
       "    <tr>\n",
       "      <th>3</th>\n",
       "      <td>f1_score</td>\n",
       "      <td>0.036477</td>\n",
       "    </tr>\n",
       "    <tr>\n",
       "      <th>4</th>\n",
       "      <td>ROC_AUC</td>\n",
       "      <td>0.743242</td>\n",
       "    </tr>\n",
       "    <tr>\n",
       "      <th>5</th>\n",
       "      <td>PRC_AUC</td>\n",
       "      <td>0.282098</td>\n",
       "    </tr>\n",
       "  </tbody>\n",
       "</table>\n",
       "</div>"
      ],
      "text/plain": [
       "     Метрика  Значение\n",
       "0   accuracy  0.874729\n",
       "1  precision  0.380435\n",
       "2     recall  0.019157\n",
       "3   f1_score  0.036477\n",
       "4    ROC_AUC  0.743242\n",
       "5    PRC_AUC  0.282098"
      ]
     },
     "execution_count": 42,
     "metadata": {},
     "output_type": "execute_result"
    }
   ],
   "source": [
    "# Метрики первой модели\n",
    "first_metrics_df"
   ]
  },
  {
   "cell_type": "markdown",
   "metadata": {
    "papermill": {
     "duration": 0.078255,
     "end_time": "2020-10-21T22:13:17.283884",
     "exception": false,
     "start_time": "2020-10-21T22:13:17.205629",
     "status": "completed"
    },
    "tags": []
   },
   "source": []
  },
  {
   "cell_type": "markdown",
   "metadata": {
    "papermill": {
     "duration": 0.06904,
     "end_time": "2020-10-21T22:13:17.433480",
     "exception": false,
     "start_time": "2020-10-21T22:13:17.364440",
     "status": "completed"
    },
    "tags": []
   },
   "source": [
    "# Submission"
   ]
  },
  {
   "cell_type": "code",
   "execution_count": 43,
   "metadata": {
    "execution": {
     "iopub.execute_input": "2020-10-21T22:13:17.572083Z",
     "iopub.status.busy": "2020-10-21T22:13:17.571388Z",
     "iopub.status.idle": "2020-10-21T22:13:17.601900Z",
     "shell.execute_reply": "2020-10-21T22:13:17.602438Z"
    },
    "papermill": {
     "duration": 0.104122,
     "end_time": "2020-10-21T22:13:17.602580",
     "exception": false,
     "start_time": "2020-10-21T22:13:17.498458",
     "status": "completed"
    },
    "tags": []
   },
   "outputs": [],
   "source": [
    "train_data = df[df['Train'] == 1].drop(['Train'], axis=1)\n",
    "test_data = df[df['Train'] == 0].drop(['Train'], axis=1)"
   ]
  },
  {
   "cell_type": "code",
   "execution_count": 44,
   "metadata": {
    "execution": {
     "iopub.execute_input": "2020-10-21T22:13:17.740642Z",
     "iopub.status.busy": "2020-10-21T22:13:17.740001Z",
     "iopub.status.idle": "2020-10-21T22:13:17.747217Z",
     "shell.execute_reply": "2020-10-21T22:13:17.746464Z"
    },
    "papermill": {
     "duration": 0.079134,
     "end_time": "2020-10-21T22:13:17.747335",
     "exception": false,
     "start_time": "2020-10-21T22:13:17.668201",
     "status": "completed"
    },
    "tags": []
   },
   "outputs": [],
   "source": [
    "X_train=train_data.drop(['default'], axis=1)\n",
    "y_train = train_data.default.values\n",
    "X_test = test_data.drop(['default'], axis=1)"
   ]
  },
  {
   "cell_type": "code",
   "execution_count": 45,
   "metadata": {
    "execution": {
     "iopub.execute_input": "2020-10-21T22:13:17.883350Z",
     "iopub.status.busy": "2020-10-21T22:13:17.882528Z",
     "iopub.status.idle": "2020-10-21T22:13:17.886859Z",
     "shell.execute_reply": "2020-10-21T22:13:17.886350Z"
    },
    "papermill": {
     "duration": 0.074872,
     "end_time": "2020-10-21T22:13:17.886972",
     "exception": false,
     "start_time": "2020-10-21T22:13:17.812100",
     "status": "completed"
    },
    "tags": []
   },
   "outputs": [
    {
     "data": {
      "text/plain": [
       "((36349, 42), (73799, 42), (73799, 41), (73799,), (36349, 41))"
      ]
     },
     "execution_count": 45,
     "metadata": {},
     "output_type": "execute_result"
    }
   ],
   "source": [
    "test_data.shape, train_data.shape, X_train.shape, y_train.shape, X_test.shape"
   ]
  },
  {
   "cell_type": "code",
   "execution_count": 46,
   "metadata": {
    "execution": {
     "iopub.execute_input": "2020-10-21T22:13:18.032428Z",
     "iopub.status.busy": "2020-10-21T22:13:18.031129Z",
     "iopub.status.idle": "2020-10-21T22:13:18.420449Z",
     "shell.execute_reply": "2020-10-21T22:13:18.419912Z"
    },
    "papermill": {
     "duration": 0.467967,
     "end_time": "2020-10-21T22:13:18.420581",
     "exception": false,
     "start_time": "2020-10-21T22:13:17.952614",
     "status": "completed"
    },
    "tags": []
   },
   "outputs": [
    {
     "data": {
      "text/html": [
       "<div>\n",
       "<style scoped>\n",
       "    .dataframe tbody tr th:only-of-type {\n",
       "        vertical-align: middle;\n",
       "    }\n",
       "\n",
       "    .dataframe tbody tr th {\n",
       "        vertical-align: top;\n",
       "    }\n",
       "\n",
       "    .dataframe thead th {\n",
       "        text-align: right;\n",
       "    }\n",
       "</style>\n",
       "<table border=\"1\" class=\"dataframe\">\n",
       "  <thead>\n",
       "    <tr style=\"text-align: right;\">\n",
       "      <th></th>\n",
       "      <th>client_id</th>\n",
       "      <th>default</th>\n",
       "    </tr>\n",
       "  </thead>\n",
       "  <tbody>\n",
       "    <tr>\n",
       "      <th>0</th>\n",
       "      <td>74835</td>\n",
       "      <td>0.042986</td>\n",
       "    </tr>\n",
       "    <tr>\n",
       "      <th>1</th>\n",
       "      <td>17527</td>\n",
       "      <td>0.343920</td>\n",
       "    </tr>\n",
       "    <tr>\n",
       "      <th>2</th>\n",
       "      <td>75683</td>\n",
       "      <td>0.068629</td>\n",
       "    </tr>\n",
       "    <tr>\n",
       "      <th>3</th>\n",
       "      <td>26883</td>\n",
       "      <td>0.086554</td>\n",
       "    </tr>\n",
       "    <tr>\n",
       "      <th>4</th>\n",
       "      <td>28862</td>\n",
       "      <td>0.024743</td>\n",
       "    </tr>\n",
       "    <tr>\n",
       "      <th>5</th>\n",
       "      <td>99881</td>\n",
       "      <td>0.158830</td>\n",
       "    </tr>\n",
       "    <tr>\n",
       "      <th>6</th>\n",
       "      <td>26630</td>\n",
       "      <td>0.338496</td>\n",
       "    </tr>\n",
       "    <tr>\n",
       "      <th>7</th>\n",
       "      <td>79934</td>\n",
       "      <td>0.024565</td>\n",
       "    </tr>\n",
       "    <tr>\n",
       "      <th>8</th>\n",
       "      <td>16605</td>\n",
       "      <td>0.014373</td>\n",
       "    </tr>\n",
       "    <tr>\n",
       "      <th>9</th>\n",
       "      <td>105449</td>\n",
       "      <td>0.024768</td>\n",
       "    </tr>\n",
       "  </tbody>\n",
       "</table>\n",
       "</div>"
      ],
      "text/plain": [
       "   client_id   default\n",
       "0      74835  0.042986\n",
       "1      17527  0.343920\n",
       "2      75683  0.068629\n",
       "3      26883  0.086554\n",
       "4      28862  0.024743\n",
       "5      99881  0.158830\n",
       "6      26630  0.338496\n",
       "7      79934  0.024565\n",
       "8      16605  0.014373\n",
       "9     105449  0.024768"
      ]
     },
     "metadata": {},
     "output_type": "display_data"
    }
   ],
   "source": [
    "predict_submission = model.predict_proba(X_test)[:,1]\n",
    "\n",
    "submit = pd.DataFrame(df_test.client_id)\n",
    "submit['default']=predict_submission\n",
    "submit.to_csv('submission.csv', index=False)\n",
    "display(submit.head(10))"
   ]
  },
  {
   "cell_type": "markdown",
   "metadata": {
    "papermill": {
     "duration": 0.066758,
     "end_time": "2020-10-21T22:13:18.553735",
     "exception": false,
     "start_time": "2020-10-21T22:13:18.486977",
     "status": "completed"
    },
    "tags": []
   },
   "source": [
    "# Заключение\n",
    "\n",
    "\n",
    "Путем поиска оптимальных параметров модели классификации удалось значительно улучшить результаты.\n"
   ]
  }
 ],
 "metadata": {
  "kernelspec": {
   "display_name": "Python 3",
   "language": "python",
   "name": "python3"
  },
  "language_info": {
   "codemirror_mode": {
    "name": "ipython",
    "version": 3
   },
   "file_extension": ".py",
   "mimetype": "text/x-python",
   "name": "python",
   "nbconvert_exporter": "python",
   "pygments_lexer": "ipython3",
   "version": "3.7.4"
  },
  "papermill": {
   "duration": 42.415906,
   "end_time": "2020-10-21T22:13:18.728070",
   "environment_variables": {},
   "exception": null,
   "input_path": "__notebook__.ipynb",
   "output_path": "__notebook__.ipynb",
   "parameters": {},
   "start_time": "2020-10-21T22:12:36.312164",
   "version": "2.1.0"
  }
 },
 "nbformat": 4,
 "nbformat_minor": 4
}
