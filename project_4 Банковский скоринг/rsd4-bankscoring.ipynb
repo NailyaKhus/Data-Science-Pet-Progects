{
 "cells": [
  {
   "cell_type": "markdown",
   "metadata": {
    "papermill": {
     "duration": 0.050103,
     "end_time": "2020-10-22T05:53:54.753176",
     "exception": false,
     "start_time": "2020-10-22T05:53:54.703073",
     "status": "completed"
    },
    "tags": []
   },
   "source": [
    "# Итоговое решение по проекту 4 - \"Компьютер говорит \"Нет!\"\n",
    "**Выполнила Наиля Хуснуллина**"
   ]
  },
  {
   "cell_type": "code",
   "execution_count": 1,
   "metadata": {
    "_cell_guid": "b1076dfc-b9ad-4769-8c92-a6c4dae69d19",
    "_uuid": "8f2839f25d086af736a60e9eeb907d3b93b6e0e5",
    "execution": {
     "iopub.execute_input": "2020-10-22T05:53:54.864634Z",
     "iopub.status.busy": "2020-10-22T05:53:54.863718Z",
     "iopub.status.idle": "2020-10-22T05:53:56.470537Z",
     "shell.execute_reply": "2020-10-22T05:53:56.469350Z"
    },
    "papermill": {
     "duration": 1.66687,
     "end_time": "2020-10-22T05:53:56.470852",
     "exception": false,
     "start_time": "2020-10-22T05:53:54.803982",
     "status": "completed"
    },
    "tags": []
   },
   "outputs": [
    {
     "name": "stdout",
     "output_type": "stream",
     "text": [
      "/kaggle/input/sf-dst-scoring/train.csv\n",
      "/kaggle/input/sf-dst-scoring/test.csv\n",
      "/kaggle/input/sf-dst-scoring/sample_submission.csv\n"
     ]
    }
   ],
   "source": [
    "import numpy as np \n",
    "import pandas as pd \n",
    "from pandas import Series\n",
    "\n",
    "import matplotlib.pyplot as plt\n",
    "import seaborn as sns\n",
    "\n",
    "from sklearn.feature_selection import f_classif, mutual_info_classif\n",
    "from sklearn.preprocessing import LabelEncoder, OneHotEncoder, StandardScaler, RobustScaler\n",
    "\n",
    "from sklearn.model_selection import train_test_split, GridSearchCV\n",
    "from sklearn.linear_model import LogisticRegression\n",
    "\n",
    "\n",
    "from sklearn.metrics import accuracy_score, precision_score, recall_score, f1_score, confusion_matrix\n",
    "from sklearn.metrics import auc, roc_auc_score, roc_curve, precision_recall_curve, average_precision_score\n",
    "\n",
    "import os\n",
    "for dirname, _, filenames in os.walk('/kaggle/input'):\n",
    "    for filename in filenames:\n",
    "        print(os.path.join(dirname, filename))"
   ]
  },
  {
   "cell_type": "code",
   "execution_count": 2,
   "metadata": {
    "_cell_guid": "79c7e3d0-c299-4dcb-8224-4455121ee9b0",
    "_uuid": "d629ff2d2480ee46fbb7e2d37f6b5fab8052498a",
    "execution": {
     "iopub.execute_input": "2020-10-22T05:53:56.586934Z",
     "iopub.status.busy": "2020-10-22T05:53:56.586125Z",
     "iopub.status.idle": "2020-10-22T05:54:00.242624Z",
     "shell.execute_reply": "2020-10-22T05:54:00.241881Z"
    },
    "papermill": {
     "duration": 3.716845,
     "end_time": "2020-10-22T05:54:00.242895",
     "exception": false,
     "start_time": "2020-10-22T05:53:56.526050",
     "status": "completed"
    },
    "tags": []
   },
   "outputs": [
    {
     "name": "stdout",
     "output_type": "stream",
     "text": [
      "df_train:  (73799, 19)\n"
     ]
    },
    {
     "data": {
      "text/html": [
       "<div>\n",
       "<style scoped>\n",
       "    .dataframe tbody tr th:only-of-type {\n",
       "        vertical-align: middle;\n",
       "    }\n",
       "\n",
       "    .dataframe tbody tr th {\n",
       "        vertical-align: top;\n",
       "    }\n",
       "\n",
       "    .dataframe thead th {\n",
       "        text-align: right;\n",
       "    }\n",
       "</style>\n",
       "<table border=\"1\" class=\"dataframe\">\n",
       "  <thead>\n",
       "    <tr style=\"text-align: right;\">\n",
       "      <th></th>\n",
       "      <th>client_id</th>\n",
       "      <th>app_date</th>\n",
       "      <th>education</th>\n",
       "      <th>sex</th>\n",
       "      <th>age</th>\n",
       "      <th>car</th>\n",
       "      <th>car_type</th>\n",
       "      <th>decline_app_cnt</th>\n",
       "      <th>good_work</th>\n",
       "      <th>score_bki</th>\n",
       "      <th>bki_request_cnt</th>\n",
       "      <th>region_rating</th>\n",
       "      <th>home_address</th>\n",
       "      <th>work_address</th>\n",
       "      <th>income</th>\n",
       "      <th>sna</th>\n",
       "      <th>first_time</th>\n",
       "      <th>foreign_passport</th>\n",
       "      <th>default</th>\n",
       "    </tr>\n",
       "  </thead>\n",
       "  <tbody>\n",
       "    <tr>\n",
       "      <th>0</th>\n",
       "      <td>25905</td>\n",
       "      <td>01FEB2014</td>\n",
       "      <td>SCH</td>\n",
       "      <td>M</td>\n",
       "      <td>62</td>\n",
       "      <td>Y</td>\n",
       "      <td>Y</td>\n",
       "      <td>0</td>\n",
       "      <td>0</td>\n",
       "      <td>-2.008753</td>\n",
       "      <td>1</td>\n",
       "      <td>50</td>\n",
       "      <td>1</td>\n",
       "      <td>2</td>\n",
       "      <td>18000</td>\n",
       "      <td>4</td>\n",
       "      <td>1</td>\n",
       "      <td>N</td>\n",
       "      <td>0</td>\n",
       "    </tr>\n",
       "    <tr>\n",
       "      <th>1</th>\n",
       "      <td>63161</td>\n",
       "      <td>12MAR2014</td>\n",
       "      <td>SCH</td>\n",
       "      <td>F</td>\n",
       "      <td>59</td>\n",
       "      <td>N</td>\n",
       "      <td>N</td>\n",
       "      <td>0</td>\n",
       "      <td>0</td>\n",
       "      <td>-1.532276</td>\n",
       "      <td>3</td>\n",
       "      <td>50</td>\n",
       "      <td>2</td>\n",
       "      <td>3</td>\n",
       "      <td>19000</td>\n",
       "      <td>4</td>\n",
       "      <td>1</td>\n",
       "      <td>N</td>\n",
       "      <td>0</td>\n",
       "    </tr>\n",
       "    <tr>\n",
       "      <th>2</th>\n",
       "      <td>25887</td>\n",
       "      <td>01FEB2014</td>\n",
       "      <td>SCH</td>\n",
       "      <td>M</td>\n",
       "      <td>25</td>\n",
       "      <td>Y</td>\n",
       "      <td>N</td>\n",
       "      <td>2</td>\n",
       "      <td>0</td>\n",
       "      <td>-1.408142</td>\n",
       "      <td>1</td>\n",
       "      <td>80</td>\n",
       "      <td>1</td>\n",
       "      <td>2</td>\n",
       "      <td>30000</td>\n",
       "      <td>1</td>\n",
       "      <td>4</td>\n",
       "      <td>Y</td>\n",
       "      <td>0</td>\n",
       "    </tr>\n",
       "    <tr>\n",
       "      <th>3</th>\n",
       "      <td>16222</td>\n",
       "      <td>23JAN2014</td>\n",
       "      <td>SCH</td>\n",
       "      <td>F</td>\n",
       "      <td>53</td>\n",
       "      <td>N</td>\n",
       "      <td>N</td>\n",
       "      <td>0</td>\n",
       "      <td>0</td>\n",
       "      <td>-2.057471</td>\n",
       "      <td>2</td>\n",
       "      <td>50</td>\n",
       "      <td>2</td>\n",
       "      <td>3</td>\n",
       "      <td>10000</td>\n",
       "      <td>1</td>\n",
       "      <td>3</td>\n",
       "      <td>N</td>\n",
       "      <td>0</td>\n",
       "    </tr>\n",
       "    <tr>\n",
       "      <th>4</th>\n",
       "      <td>101655</td>\n",
       "      <td>18APR2014</td>\n",
       "      <td>GRD</td>\n",
       "      <td>M</td>\n",
       "      <td>48</td>\n",
       "      <td>N</td>\n",
       "      <td>N</td>\n",
       "      <td>0</td>\n",
       "      <td>1</td>\n",
       "      <td>-1.244723</td>\n",
       "      <td>1</td>\n",
       "      <td>60</td>\n",
       "      <td>2</td>\n",
       "      <td>3</td>\n",
       "      <td>30000</td>\n",
       "      <td>1</td>\n",
       "      <td>4</td>\n",
       "      <td>Y</td>\n",
       "      <td>0</td>\n",
       "    </tr>\n",
       "  </tbody>\n",
       "</table>\n",
       "</div>"
      ],
      "text/plain": [
       "   client_id   app_date education sex  age car car_type  decline_app_cnt  \\\n",
       "0      25905  01FEB2014       SCH   M   62   Y        Y                0   \n",
       "1      63161  12MAR2014       SCH   F   59   N        N                0   \n",
       "2      25887  01FEB2014       SCH   M   25   Y        N                2   \n",
       "3      16222  23JAN2014       SCH   F   53   N        N                0   \n",
       "4     101655  18APR2014       GRD   M   48   N        N                0   \n",
       "\n",
       "   good_work  score_bki  bki_request_cnt  region_rating  home_address  \\\n",
       "0          0  -2.008753                1             50             1   \n",
       "1          0  -1.532276                3             50             2   \n",
       "2          0  -1.408142                1             80             1   \n",
       "3          0  -2.057471                2             50             2   \n",
       "4          1  -1.244723                1             60             2   \n",
       "\n",
       "   work_address  income  sna  first_time foreign_passport  default  \n",
       "0             2   18000    4           1                N        0  \n",
       "1             3   19000    4           1                N        0  \n",
       "2             2   30000    1           4                Y        0  \n",
       "3             3   10000    1           3                N        0  \n",
       "4             3   30000    1           4                Y        0  "
      ]
     },
     "metadata": {},
     "output_type": "display_data"
    },
    {
     "name": "stdout",
     "output_type": "stream",
     "text": [
      "df_test:  (36349, 18)\n"
     ]
    },
    {
     "data": {
      "text/html": [
       "<div>\n",
       "<style scoped>\n",
       "    .dataframe tbody tr th:only-of-type {\n",
       "        vertical-align: middle;\n",
       "    }\n",
       "\n",
       "    .dataframe tbody tr th {\n",
       "        vertical-align: top;\n",
       "    }\n",
       "\n",
       "    .dataframe thead th {\n",
       "        text-align: right;\n",
       "    }\n",
       "</style>\n",
       "<table border=\"1\" class=\"dataframe\">\n",
       "  <thead>\n",
       "    <tr style=\"text-align: right;\">\n",
       "      <th></th>\n",
       "      <th>client_id</th>\n",
       "      <th>app_date</th>\n",
       "      <th>education</th>\n",
       "      <th>sex</th>\n",
       "      <th>age</th>\n",
       "      <th>car</th>\n",
       "      <th>car_type</th>\n",
       "      <th>decline_app_cnt</th>\n",
       "      <th>good_work</th>\n",
       "      <th>score_bki</th>\n",
       "      <th>bki_request_cnt</th>\n",
       "      <th>region_rating</th>\n",
       "      <th>home_address</th>\n",
       "      <th>work_address</th>\n",
       "      <th>income</th>\n",
       "      <th>sna</th>\n",
       "      <th>first_time</th>\n",
       "      <th>foreign_passport</th>\n",
       "    </tr>\n",
       "  </thead>\n",
       "  <tbody>\n",
       "    <tr>\n",
       "      <th>0</th>\n",
       "      <td>74835</td>\n",
       "      <td>22MAR2014</td>\n",
       "      <td>GRD</td>\n",
       "      <td>M</td>\n",
       "      <td>29</td>\n",
       "      <td>Y</td>\n",
       "      <td>Y</td>\n",
       "      <td>0</td>\n",
       "      <td>0</td>\n",
       "      <td>-2.271884</td>\n",
       "      <td>3</td>\n",
       "      <td>50</td>\n",
       "      <td>1</td>\n",
       "      <td>2</td>\n",
       "      <td>50000</td>\n",
       "      <td>1</td>\n",
       "      <td>4</td>\n",
       "      <td>N</td>\n",
       "    </tr>\n",
       "    <tr>\n",
       "      <th>1</th>\n",
       "      <td>17527</td>\n",
       "      <td>24JAN2014</td>\n",
       "      <td>SCH</td>\n",
       "      <td>F</td>\n",
       "      <td>39</td>\n",
       "      <td>N</td>\n",
       "      <td>N</td>\n",
       "      <td>5</td>\n",
       "      <td>0</td>\n",
       "      <td>-1.504999</td>\n",
       "      <td>2</td>\n",
       "      <td>50</td>\n",
       "      <td>1</td>\n",
       "      <td>2</td>\n",
       "      <td>5000</td>\n",
       "      <td>4</td>\n",
       "      <td>3</td>\n",
       "      <td>N</td>\n",
       "    </tr>\n",
       "    <tr>\n",
       "      <th>2</th>\n",
       "      <td>75683</td>\n",
       "      <td>23MAR2014</td>\n",
       "      <td>UGR</td>\n",
       "      <td>M</td>\n",
       "      <td>50</td>\n",
       "      <td>Y</td>\n",
       "      <td>Y</td>\n",
       "      <td>0</td>\n",
       "      <td>0</td>\n",
       "      <td>-1.691339</td>\n",
       "      <td>1</td>\n",
       "      <td>50</td>\n",
       "      <td>1</td>\n",
       "      <td>2</td>\n",
       "      <td>30000</td>\n",
       "      <td>1</td>\n",
       "      <td>3</td>\n",
       "      <td>Y</td>\n",
       "    </tr>\n",
       "    <tr>\n",
       "      <th>3</th>\n",
       "      <td>26883</td>\n",
       "      <td>03FEB2014</td>\n",
       "      <td>SCH</td>\n",
       "      <td>M</td>\n",
       "      <td>56</td>\n",
       "      <td>N</td>\n",
       "      <td>N</td>\n",
       "      <td>0</td>\n",
       "      <td>0</td>\n",
       "      <td>-2.374182</td>\n",
       "      <td>1</td>\n",
       "      <td>40</td>\n",
       "      <td>1</td>\n",
       "      <td>2</td>\n",
       "      <td>17000</td>\n",
       "      <td>1</td>\n",
       "      <td>3</td>\n",
       "      <td>N</td>\n",
       "    </tr>\n",
       "    <tr>\n",
       "      <th>4</th>\n",
       "      <td>28862</td>\n",
       "      <td>04FEB2014</td>\n",
       "      <td>GRD</td>\n",
       "      <td>F</td>\n",
       "      <td>38</td>\n",
       "      <td>N</td>\n",
       "      <td>N</td>\n",
       "      <td>0</td>\n",
       "      <td>0</td>\n",
       "      <td>-2.487502</td>\n",
       "      <td>0</td>\n",
       "      <td>80</td>\n",
       "      <td>2</td>\n",
       "      <td>3</td>\n",
       "      <td>120000</td>\n",
       "      <td>1</td>\n",
       "      <td>3</td>\n",
       "      <td>N</td>\n",
       "    </tr>\n",
       "  </tbody>\n",
       "</table>\n",
       "</div>"
      ],
      "text/plain": [
       "   client_id   app_date education sex  age car car_type  decline_app_cnt  \\\n",
       "0      74835  22MAR2014       GRD   M   29   Y        Y                0   \n",
       "1      17527  24JAN2014       SCH   F   39   N        N                5   \n",
       "2      75683  23MAR2014       UGR   M   50   Y        Y                0   \n",
       "3      26883  03FEB2014       SCH   M   56   N        N                0   \n",
       "4      28862  04FEB2014       GRD   F   38   N        N                0   \n",
       "\n",
       "   good_work  score_bki  bki_request_cnt  region_rating  home_address  \\\n",
       "0          0  -2.271884                3             50             1   \n",
       "1          0  -1.504999                2             50             1   \n",
       "2          0  -1.691339                1             50             1   \n",
       "3          0  -2.374182                1             40             1   \n",
       "4          0  -2.487502                0             80             2   \n",
       "\n",
       "   work_address  income  sna  first_time foreign_passport  \n",
       "0             2   50000    1           4                N  \n",
       "1             2    5000    4           3                N  \n",
       "2             2   30000    1           3                Y  \n",
       "3             2   17000    1           3                N  \n",
       "4             3  120000    1           3                N  "
      ]
     },
     "metadata": {},
     "output_type": "display_data"
    }
   ],
   "source": [
    "RANDOM_SEED = 42\n",
    "!pip freeze > requirements.txt\n",
    "\n",
    "path_to_data = '/kaggle/input/sf-dst-scoring/'\n",
    "\n",
    "# Импорт и просмотр данных\n",
    "df_train = pd.read_csv(path_to_data+'train.csv')\n",
    "df_test = pd.read_csv(path_to_data+'test.csv')\n",
    "#sample_submission = pd.read_csv(path_to_data+'/sample_submission.csv')\n",
    "\n",
    "print('df_train: ', df_train.shape)\n",
    "display(df_train.head())\n",
    "print('df_test: ', df_test.shape)\n",
    "display(df_test.head())"
   ]
  },
  {
   "cell_type": "code",
   "execution_count": 3,
   "metadata": {
    "execution": {
     "iopub.execute_input": "2020-10-22T05:54:00.360880Z",
     "iopub.status.busy": "2020-10-22T05:54:00.359827Z",
     "iopub.status.idle": "2020-10-22T05:54:00.428816Z",
     "shell.execute_reply": "2020-10-22T05:54:00.428089Z"
    },
    "papermill": {
     "duration": 0.130213,
     "end_time": "2020-10-22T05:54:00.428961",
     "exception": false,
     "start_time": "2020-10-22T05:54:00.298748",
     "status": "completed"
    },
    "tags": []
   },
   "outputs": [
    {
     "name": "stdout",
     "output_type": "stream",
     "text": [
      "<class 'pandas.core.frame.DataFrame'>\n",
      "RangeIndex: 73799 entries, 0 to 73798\n",
      "Data columns (total 19 columns):\n",
      " #   Column            Non-Null Count  Dtype  \n",
      "---  ------            --------------  -----  \n",
      " 0   client_id         73799 non-null  int64  \n",
      " 1   app_date          73799 non-null  object \n",
      " 2   education         73492 non-null  object \n",
      " 3   sex               73799 non-null  object \n",
      " 4   age               73799 non-null  int64  \n",
      " 5   car               73799 non-null  object \n",
      " 6   car_type          73799 non-null  object \n",
      " 7   decline_app_cnt   73799 non-null  int64  \n",
      " 8   good_work         73799 non-null  int64  \n",
      " 9   score_bki         73799 non-null  float64\n",
      " 10  bki_request_cnt   73799 non-null  int64  \n",
      " 11  region_rating     73799 non-null  int64  \n",
      " 12  home_address      73799 non-null  int64  \n",
      " 13  work_address      73799 non-null  int64  \n",
      " 14  income            73799 non-null  int64  \n",
      " 15  sna               73799 non-null  int64  \n",
      " 16  first_time        73799 non-null  int64  \n",
      " 17  foreign_passport  73799 non-null  object \n",
      " 18  default           73799 non-null  int64  \n",
      "dtypes: float64(1), int64(12), object(6)\n",
      "memory usage: 10.7+ MB\n"
     ]
    }
   ],
   "source": [
    "df_train.info()"
   ]
  },
  {
   "cell_type": "code",
   "execution_count": 4,
   "metadata": {
    "execution": {
     "iopub.execute_input": "2020-10-22T05:54:00.593136Z",
     "iopub.status.busy": "2020-10-22T05:54:00.544181Z",
     "iopub.status.idle": "2020-10-22T05:54:00.603551Z",
     "shell.execute_reply": "2020-10-22T05:54:00.602887Z"
    },
    "papermill": {
     "duration": 0.119453,
     "end_time": "2020-10-22T05:54:00.603696",
     "exception": false,
     "start_time": "2020-10-22T05:54:00.484243",
     "status": "completed"
    },
    "tags": []
   },
   "outputs": [
    {
     "data": {
      "text/plain": [
       "client_id             0\n",
       "app_date              0\n",
       "education           307\n",
       "sex                   0\n",
       "age                   0\n",
       "car                   0\n",
       "car_type              0\n",
       "decline_app_cnt       0\n",
       "good_work             0\n",
       "score_bki             0\n",
       "bki_request_cnt       0\n",
       "region_rating         0\n",
       "home_address          0\n",
       "work_address          0\n",
       "income                0\n",
       "sna                   0\n",
       "first_time            0\n",
       "foreign_passport      0\n",
       "default               0\n",
       "dtype: int64"
      ]
     },
     "execution_count": 4,
     "metadata": {},
     "output_type": "execute_result"
    }
   ],
   "source": [
    "df_train.isnull().sum()"
   ]
  },
  {
   "cell_type": "code",
   "execution_count": 5,
   "metadata": {
    "execution": {
     "iopub.execute_input": "2020-10-22T05:54:00.741991Z",
     "iopub.status.busy": "2020-10-22T05:54:00.717944Z",
     "iopub.status.idle": "2020-10-22T05:54:00.756890Z",
     "shell.execute_reply": "2020-10-22T05:54:00.757775Z"
    },
    "papermill": {
     "duration": 0.099822,
     "end_time": "2020-10-22T05:54:00.758016",
     "exception": false,
     "start_time": "2020-10-22T05:54:00.658194",
     "status": "completed"
    },
    "tags": []
   },
   "outputs": [
    {
     "name": "stdout",
     "output_type": "stream",
     "text": [
      "<class 'pandas.core.frame.DataFrame'>\n",
      "RangeIndex: 36349 entries, 0 to 36348\n",
      "Data columns (total 18 columns):\n",
      " #   Column            Non-Null Count  Dtype  \n",
      "---  ------            --------------  -----  \n",
      " 0   client_id         36349 non-null  int64  \n",
      " 1   app_date          36349 non-null  object \n",
      " 2   education         36178 non-null  object \n",
      " 3   sex               36349 non-null  object \n",
      " 4   age               36349 non-null  int64  \n",
      " 5   car               36349 non-null  object \n",
      " 6   car_type          36349 non-null  object \n",
      " 7   decline_app_cnt   36349 non-null  int64  \n",
      " 8   good_work         36349 non-null  int64  \n",
      " 9   score_bki         36349 non-null  float64\n",
      " 10  bki_request_cnt   36349 non-null  int64  \n",
      " 11  region_rating     36349 non-null  int64  \n",
      " 12  home_address      36349 non-null  int64  \n",
      " 13  work_address      36349 non-null  int64  \n",
      " 14  income            36349 non-null  int64  \n",
      " 15  sna               36349 non-null  int64  \n",
      " 16  first_time        36349 non-null  int64  \n",
      " 17  foreign_passport  36349 non-null  object \n",
      "dtypes: float64(1), int64(11), object(6)\n",
      "memory usage: 5.0+ MB\n"
     ]
    }
   ],
   "source": [
    "df_test.info()"
   ]
  },
  {
   "cell_type": "code",
   "execution_count": 6,
   "metadata": {
    "execution": {
     "iopub.execute_input": "2020-10-22T05:54:00.898629Z",
     "iopub.status.busy": "2020-10-22T05:54:00.874577Z",
     "iopub.status.idle": "2020-10-22T05:54:00.907892Z",
     "shell.execute_reply": "2020-10-22T05:54:00.907205Z"
    },
    "papermill": {
     "duration": 0.093951,
     "end_time": "2020-10-22T05:54:00.908026",
     "exception": false,
     "start_time": "2020-10-22T05:54:00.814075",
     "status": "completed"
    },
    "tags": []
   },
   "outputs": [
    {
     "data": {
      "text/plain": [
       "client_id             0\n",
       "app_date              0\n",
       "education           171\n",
       "sex                   0\n",
       "age                   0\n",
       "car                   0\n",
       "car_type              0\n",
       "decline_app_cnt       0\n",
       "good_work             0\n",
       "score_bki             0\n",
       "bki_request_cnt       0\n",
       "region_rating         0\n",
       "home_address          0\n",
       "work_address          0\n",
       "income                0\n",
       "sna                   0\n",
       "first_time            0\n",
       "foreign_passport      0\n",
       "dtype: int64"
      ]
     },
     "execution_count": 6,
     "metadata": {},
     "output_type": "execute_result"
    }
   ],
   "source": [
    "df_test.isnull().sum()"
   ]
  },
  {
   "cell_type": "code",
   "execution_count": 7,
   "metadata": {
    "execution": {
     "iopub.execute_input": "2020-10-22T05:54:01.030634Z",
     "iopub.status.busy": "2020-10-22T05:54:01.029492Z",
     "iopub.status.idle": "2020-10-22T05:54:01.114339Z",
     "shell.execute_reply": "2020-10-22T05:54:01.113643Z"
    },
    "papermill": {
     "duration": 0.151546,
     "end_time": "2020-10-22T05:54:01.114489",
     "exception": false,
     "start_time": "2020-10-22T05:54:00.962943",
     "status": "completed"
    },
    "tags": []
   },
   "outputs": [],
   "source": [
    "# Объединяем данные для обработки\n",
    "\n",
    "df_train['Train'] = 1 # помечаем трейн\n",
    "df_test['Train'] = 0 # помечаем тест\n",
    "\n",
    "df = df_train.append(df_test, sort=False).reset_index(drop=True)"
   ]
  },
  {
   "cell_type": "code",
   "execution_count": 8,
   "metadata": {
    "execution": {
     "iopub.execute_input": "2020-10-22T05:54:01.244484Z",
     "iopub.status.busy": "2020-10-22T05:54:01.243384Z",
     "iopub.status.idle": "2020-10-22T05:54:01.248423Z",
     "shell.execute_reply": "2020-10-22T05:54:01.247748Z"
    },
    "papermill": {
     "duration": 0.073863,
     "end_time": "2020-10-22T05:54:01.248591",
     "exception": false,
     "start_time": "2020-10-22T05:54:01.174728",
     "status": "completed"
    },
    "tags": []
   },
   "outputs": [
    {
     "data": {
      "text/plain": [
       "(110148, 20)"
      ]
     },
     "execution_count": 8,
     "metadata": {},
     "output_type": "execute_result"
    }
   ],
   "source": [
    "df.shape"
   ]
  },
  {
   "cell_type": "code",
   "execution_count": 9,
   "metadata": {
    "execution": {
     "iopub.execute_input": "2020-10-22T05:54:01.383175Z",
     "iopub.status.busy": "2020-10-22T05:54:01.382337Z",
     "iopub.status.idle": "2020-10-22T05:54:01.498026Z",
     "shell.execute_reply": "2020-10-22T05:54:01.498662Z"
    },
    "papermill": {
     "duration": 0.182403,
     "end_time": "2020-10-22T05:54:01.498823",
     "exception": false,
     "start_time": "2020-10-22T05:54:01.316420",
     "status": "completed"
    },
    "tags": []
   },
   "outputs": [
    {
     "name": "stdout",
     "output_type": "stream",
     "text": [
      "<class 'pandas.core.frame.DataFrame'>\n",
      "RangeIndex: 110148 entries, 0 to 110147\n",
      "Data columns (total 20 columns):\n",
      " #   Column            Non-Null Count   Dtype  \n",
      "---  ------            --------------   -----  \n",
      " 0   client_id         110148 non-null  int64  \n",
      " 1   app_date          110148 non-null  object \n",
      " 2   education         109670 non-null  object \n",
      " 3   sex               110148 non-null  object \n",
      " 4   age               110148 non-null  int64  \n",
      " 5   car               110148 non-null  object \n",
      " 6   car_type          110148 non-null  object \n",
      " 7   decline_app_cnt   110148 non-null  int64  \n",
      " 8   good_work         110148 non-null  int64  \n",
      " 9   score_bki         110148 non-null  float64\n",
      " 10  bki_request_cnt   110148 non-null  int64  \n",
      " 11  region_rating     110148 non-null  int64  \n",
      " 12  home_address      110148 non-null  int64  \n",
      " 13  work_address      110148 non-null  int64  \n",
      " 14  income            110148 non-null  int64  \n",
      " 15  sna               110148 non-null  int64  \n",
      " 16  first_time        110148 non-null  int64  \n",
      " 17  foreign_passport  110148 non-null  object \n",
      " 18  default           73799 non-null   float64\n",
      " 19  Train             110148 non-null  int64  \n",
      "dtypes: float64(2), int64(12), object(6)\n",
      "memory usage: 16.8+ MB\n"
     ]
    }
   ],
   "source": [
    "df.info()"
   ]
  },
  {
   "cell_type": "markdown",
   "metadata": {
    "papermill": {
     "duration": 0.059142,
     "end_time": "2020-10-22T05:54:01.614686",
     "exception": false,
     "start_time": "2020-10-22T05:54:01.555544",
     "status": "completed"
    },
    "tags": []
   },
   "source": [
    "В тренировочной выборке 73799 клиентов.     \n",
    "В тестовой выборке - 36349 клиентов.     \n",
    "Всего 110148 клиентов.       \n",
    "      \n",
    "В исходных данных **19 признаков**:  \n",
    "1 временной  ('app_date'),      \n",
    "                                 6 бинарных   ('sex', 'car', 'car_type', 'good_work', 'foreign_passport', 'default'),       \n",
    "                                 6 категориальных ('education', 'region_rating', 'home_address', 'work_address', 'sna', 'first_time')      \n",
    "                                 6 числовых   ('client_id', 'age', 'decline_app_cnt', 'score_bki', 'bki_request_cnt', 'income').    \n",
    "\n",
    "Пропуски встречаются только в признаке 'education' - 478 (в train - 307 пропусков, в test - 171 пропуск).      \n",
    "\n",
    "**client_id** - числовой идентификационный признак, можно удалить.      \n",
    "**default** - целевая переменная, есть только в данных train.\n",
    "\n",
    "> Описание признаков\n",
    "\n",
    "1. client_id - идентификатор клиента\n",
    "2. app_date - дата подачи заявки \n",
    "3. education - уровень образования \n",
    "4. sex - пол заемщика \n",
    "5. age - возраст заемщика \n",
    "6. car - флаг наличия автомобиля\n",
    "7. car_type - флаг автомобиля иномарки \n",
    "8. decline_app_cnt - количество отказанных прошлых заявок \n",
    "9. good_work - флаг наличия “хорошей” работы \n",
    "10. score_bki - скоринговый балл по данным из БКИ\n",
    "11. bki_request_cnt - количество запросов в БКИ\n",
    "12. region_rating - рейтинг региона\n",
    "13. home_address - категоризатор домашнего адреса\n",
    "14. work_address - категоризатор рабочего адреса\n",
    "15. income - доход заемщика\n",
    "16. sna - связь заемщика с клиентами банка\n",
    "17. first_time - давность наличия информации о заемщике\n",
    "18. foreign_passport - наличие загранпаспорта\n",
    "19. default - флаг дефолта по кредиту"
   ]
  },
  {
   "cell_type": "markdown",
   "metadata": {
    "papermill": {
     "duration": 0.060839,
     "end_time": "2020-10-22T05:54:01.739379",
     "exception": false,
     "start_time": "2020-10-22T05:54:01.678540",
     "status": "completed"
    },
    "tags": []
   },
   "source": [
    "# Анализ признаков"
   ]
  },
  {
   "cell_type": "markdown",
   "metadata": {
    "papermill": {
     "duration": 0.057781,
     "end_time": "2020-10-22T05:54:01.858057",
     "exception": false,
     "start_time": "2020-10-22T05:54:01.800276",
     "status": "completed"
    },
    "tags": []
   },
   "source": [
    "### Временной признак 'app_date'"
   ]
  },
  {
   "cell_type": "code",
   "execution_count": 10,
   "metadata": {
    "execution": {
     "iopub.execute_input": "2020-10-22T05:54:01.978669Z",
     "iopub.status.busy": "2020-10-22T05:54:01.977549Z",
     "iopub.status.idle": "2020-10-22T05:54:01.981262Z",
     "shell.execute_reply": "2020-10-22T05:54:01.980531Z"
    },
    "papermill": {
     "duration": 0.066255,
     "end_time": "2020-10-22T05:54:01.981387",
     "exception": false,
     "start_time": "2020-10-22T05:54:01.915132",
     "status": "completed"
    },
    "tags": []
   },
   "outputs": [],
   "source": [
    "from datetime import datetime\n",
    "current_date = pd.to_datetime('21/10/2020')"
   ]
  },
  {
   "cell_type": "code",
   "execution_count": 11,
   "metadata": {
    "execution": {
     "iopub.execute_input": "2020-10-22T05:54:02.120750Z",
     "iopub.status.busy": "2020-10-22T05:54:02.114331Z",
     "iopub.status.idle": "2020-10-22T05:54:02.153250Z",
     "shell.execute_reply": "2020-10-22T05:54:02.152412Z"
    },
    "papermill": {
     "duration": 0.107708,
     "end_time": "2020-10-22T05:54:02.153381",
     "exception": false,
     "start_time": "2020-10-22T05:54:02.045673",
     "status": "completed"
    },
    "tags": []
   },
   "outputs": [],
   "source": [
    "df.app_date = pd.to_datetime(df.app_date, format='%d%b%Y')"
   ]
  },
  {
   "cell_type": "code",
   "execution_count": 12,
   "metadata": {
    "execution": {
     "iopub.execute_input": "2020-10-22T05:54:02.276436Z",
     "iopub.status.busy": "2020-10-22T05:54:02.275550Z",
     "iopub.status.idle": "2020-10-22T05:54:02.286242Z",
     "shell.execute_reply": "2020-10-22T05:54:02.285614Z"
    },
    "papermill": {
     "duration": 0.074695,
     "end_time": "2020-10-22T05:54:02.286380",
     "exception": false,
     "start_time": "2020-10-22T05:54:02.211685",
     "status": "completed"
    },
    "tags": []
   },
   "outputs": [],
   "source": [
    "# Признак последовательности дней \n",
    "df['days'] = (df.app_date - df.app_date.min()).dt.days.astype('int')"
   ]
  },
  {
   "cell_type": "code",
   "execution_count": 13,
   "metadata": {
    "execution": {
     "iopub.execute_input": "2020-10-22T05:54:02.407686Z",
     "iopub.status.busy": "2020-10-22T05:54:02.406887Z",
     "iopub.status.idle": "2020-10-22T05:54:03.364653Z",
     "shell.execute_reply": "2020-10-22T05:54:03.363878Z"
    },
    "papermill": {
     "duration": 1.021773,
     "end_time": "2020-10-22T05:54:03.364783",
     "exception": false,
     "start_time": "2020-10-22T05:54:02.343010",
     "status": "completed"
    },
    "tags": []
   },
   "outputs": [
    {
     "data": {
      "text/plain": [
       "<matplotlib.axes._subplots.AxesSubplot at 0x7f016d836bd0>"
      ]
     },
     "execution_count": 13,
     "metadata": {},
     "output_type": "execute_result"
    },
    {
     "data": {
      "image/png": "[encoded data removed]",
      "text/plain": [
       "<Figure size 864x288 with 1 Axes>"
      ]
     },
     "metadata": {
      "needs_background": "light"
     },
     "output_type": "display_data"
    }
   ],
   "source": [
    "plt.subplots(figsize=(12, 4))\n",
    "sns.barplot(data=df[df['Train']==1], x=df.loc[df['Train']==1,'app_date'].dt.month, y='default', palette=\"rainbow\")"
   ]
  },
  {
   "cell_type": "markdown",
   "metadata": {
    "papermill": {
     "duration": 0.057144,
     "end_time": "2020-10-22T05:54:03.481384",
     "exception": false,
     "start_time": "2020-10-22T05:54:03.424240",
     "status": "completed"
    },
    "tags": []
   },
   "source": [
    "Среднее число дефолтов по тренировочному датасету отрицательно коррелирует с месяцем подачи заявки"
   ]
  },
  {
   "cell_type": "code",
   "execution_count": 14,
   "metadata": {
    "execution": {
     "iopub.execute_input": "2020-10-22T05:54:03.603606Z",
     "iopub.status.busy": "2020-10-22T05:54:03.602787Z",
     "iopub.status.idle": "2020-10-22T05:54:03.619795Z",
     "shell.execute_reply": "2020-10-22T05:54:03.618956Z"
    },
    "papermill": {
     "duration": 0.080427,
     "end_time": "2020-10-22T05:54:03.619943",
     "exception": false,
     "start_time": "2020-10-22T05:54:03.539516",
     "status": "completed"
    },
    "tags": []
   },
   "outputs": [],
   "source": [
    "# Введем новый признак - месяц подачи заявки\n",
    "\n",
    "df['app_date_month'] = df.app_date.dt.month"
   ]
  },
  {
   "cell_type": "code",
   "execution_count": 15,
   "metadata": {
    "execution": {
     "iopub.execute_input": "2020-10-22T05:54:03.744839Z",
     "iopub.status.busy": "2020-10-22T05:54:03.743994Z",
     "iopub.status.idle": "2020-10-22T05:54:04.206644Z",
     "shell.execute_reply": "2020-10-22T05:54:04.207429Z"
    },
    "papermill": {
     "duration": 0.53004,
     "end_time": "2020-10-22T05:54:04.207664",
     "exception": false,
     "start_time": "2020-10-22T05:54:03.677624",
     "status": "completed"
    },
    "tags": []
   },
   "outputs": [
    {
     "data": {
      "text/plain": [
       "<matplotlib.axes._subplots.AxesSubplot at 0x7f0162762c90>"
      ]
     },
     "execution_count": 15,
     "metadata": {},
     "output_type": "execute_result"
    },
    {
     "data": {
      "image/png": "[encoded data removed]",
      "text/plain": [
       "<Figure size 432x288 with 1 Axes>"
      ]
     },
     "metadata": {
      "needs_background": "light"
     },
     "output_type": "display_data"
    }
   ],
   "source": [
    "sns.scatterplot(x='client_id',y='days',data=df)"
   ]
  },
  {
   "cell_type": "markdown",
   "metadata": {
    "papermill": {
     "duration": 0.058766,
     "end_time": "2020-10-22T05:54:04.329066",
     "exception": false,
     "start_time": "2020-10-22T05:54:04.270300",
     "status": "completed"
    },
    "tags": []
   },
   "source": [
    "Идентификационый номер в 'client_id' прямо пропорционален дню подачи заявки, т.е. в банке велась последовательная нумерация заявок "
   ]
  },
  {
   "cell_type": "code",
   "execution_count": 16,
   "metadata": {
    "execution": {
     "iopub.execute_input": "2020-10-22T05:54:04.459398Z",
     "iopub.status.busy": "2020-10-22T05:54:04.458587Z",
     "iopub.status.idle": "2020-10-22T05:54:04.462301Z",
     "shell.execute_reply": "2020-10-22T05:54:04.461703Z"
    },
    "papermill": {
     "duration": 0.072432,
     "end_time": "2020-10-22T05:54:04.462441",
     "exception": false,
     "start_time": "2020-10-22T05:54:04.390009",
     "status": "completed"
    },
    "tags": []
   },
   "outputs": [],
   "source": [
    "# объединим все полученные признаки по категориям\n",
    "date_cols = ['app_date']\n",
    "bin_cols = ['sex', 'car', 'car_type', 'good_work', 'foreign_passport'] # default - целевая переменная\n",
    "cat_cols = ['education', 'region_rating', 'home_address', 'work_address', 'sna', 'first_time', 'app_date_month']\n",
    "num_cols = ['age','decline_app_cnt','score_bki','bki_request_cnt','income', 'days'] # client_id исключили из списка"
   ]
  },
  {
   "cell_type": "markdown",
   "metadata": {
    "papermill": {
     "duration": 0.06066,
     "end_time": "2020-10-22T05:54:04.583137",
     "exception": false,
     "start_time": "2020-10-22T05:54:04.522477",
     "status": "completed"
    },
    "tags": []
   },
   "source": [
    "### Числовые признаки"
   ]
  },
  {
   "cell_type": "code",
   "execution_count": 17,
   "metadata": {
    "execution": {
     "iopub.execute_input": "2020-10-22T05:54:04.720092Z",
     "iopub.status.busy": "2020-10-22T05:54:04.719175Z",
     "iopub.status.idle": "2020-10-22T05:54:09.388748Z",
     "shell.execute_reply": "2020-10-22T05:54:09.387894Z"
    },
    "papermill": {
     "duration": 4.744961,
     "end_time": "2020-10-22T05:54:09.388930",
     "exception": false,
     "start_time": "2020-10-22T05:54:04.643969",
     "status": "completed"
    },
    "tags": []
   },
   "outputs": [
    {
     "data": {
      "image/png": "[encoded data removed]",
      "text/plain": [
       "<Figure size 720x216 with 2 Axes>"
      ]
     },
     "metadata": {
      "needs_background": "light"
     },
     "output_type": "display_data"
    },
    {
     "data": {
      "image/png": "[encoded data removed]",
      "text/plain": [
       "<Figure size 720x216 with 2 Axes>"
      ]
     },
     "metadata": {
      "needs_background": "light"
     },
     "output_type": "display_data"
    },
    {
     "data": {
      "image/png": "[encoded data removed]",
      "text/plain": [
       "<Figure size 720x216 with 2 Axes>"
      ]
     },
     "metadata": {
      "needs_background": "light"
     },
     "output_type": "display_data"
    },
    {
     "data": {
      "image/png": "[encoded data removed]",
      "text/plain": [
       "<Figure size 720x216 with 2 Axes>"
      ]
     },
     "metadata": {
      "needs_background": "light"
     },
     "output_type": "display_data"
    },
    {
     "data": {
      "image/png": "[encoded data removed]",
      "text/plain": [
       "<Figure size 720x216 with 2 Axes>"
      ]
     },
     "metadata": {
      "needs_background": "light"
     },
     "output_type": "display_data"
    },
    {
     "data": {
      "image/png": "[encoded data removed]",
      "text/plain": [
       "<Figure size 720x216 with 2 Axes>"
      ]
     },
     "metadata": {
      "needs_background": "light"
     },
     "output_type": "display_data"
    }
   ],
   "source": [
    "\n",
    "for i in num_cols:\n",
    "    f = plt.figure(figsize=(10, 3))\n",
    "    gs = f.add_gridspec(1, 2)\n",
    "    with sns.axes_style(\"white\"):\n",
    "        ax = f.add_subplot(gs[0, 0])\n",
    "        sns.distplot(df[i], kde = False, rug=False, color='b')\n",
    "\n",
    "    with sns.axes_style(\"white\"):\n",
    "        ax = f.add_subplot(gs[0, 1])\n",
    "        sns.boxplot(data=df[i], palette='rainbow')\n",
    "\n",
    "    f.tight_layout()\n"
   ]
  },
  {
   "cell_type": "markdown",
   "metadata": {
    "papermill": {
     "duration": 0.071173,
     "end_time": "2020-10-22T05:54:09.532279",
     "exception": false,
     "start_time": "2020-10-22T05:54:09.461106",
     "status": "completed"
    },
    "tags": []
   },
   "source": [
    "У всех признаков, кроме 'age'и 'days' имеются выбросы.    \n",
    "Все признаки, кроме 'score_bki'и 'days' распределены не нормально."
   ]
  },
  {
   "cell_type": "code",
   "execution_count": 18,
   "metadata": {
    "execution": {
     "iopub.execute_input": "2020-10-22T05:54:09.687208Z",
     "iopub.status.busy": "2020-10-22T05:54:09.686055Z",
     "iopub.status.idle": "2020-10-22T05:54:14.377947Z",
     "shell.execute_reply": "2020-10-22T05:54:14.377308Z"
    },
    "papermill": {
     "duration": 4.772376,
     "end_time": "2020-10-22T05:54:14.378189",
     "exception": false,
     "start_time": "2020-10-22T05:54:09.605813",
     "status": "completed"
    },
    "tags": []
   },
   "outputs": [
    {
     "data": {
      "image/png": "[encoded data removed]",
      "text/plain": [
       "<Figure size 720x216 with 2 Axes>"
      ]
     },
     "metadata": {
      "needs_background": "light"
     },
     "output_type": "display_data"
    },
    {
     "data": {
      "image/png": "[encoded data removed]",
      "text/plain": [
       "<Figure size 720x216 with 2 Axes>"
      ]
     },
     "metadata": {
      "needs_background": "light"
     },
     "output_type": "display_data"
    },
    {
     "data": {
      "image/png": "[encoded data removed]",
      "text/plain": [
       "<Figure size 720x216 with 2 Axes>"
      ]
     },
     "metadata": {
      "needs_background": "light"
     },
     "output_type": "display_data"
    },
    {
     "data": {
      "image/png": "[encoded data removed]",
      "text/plain": [
       "<Figure size 720x216 with 2 Axes>"
      ]
     },
     "metadata": {
      "needs_background": "light"
     },
     "output_type": "display_data"
    },
    {
     "data": {
      "image/png": "[encoded data removed]",
      "text/plain": [
       "<Figure size 720x216 with 2 Axes>"
      ]
     },
     "metadata": {
      "needs_background": "light"
     },
     "output_type": "display_data"
    },
    {
     "data": {
      "image/png": "[encoded data removed]",
      "text/plain": [
       "<Figure size 720x216 with 2 Axes>"
      ]
     },
     "metadata": {
      "needs_background": "light"
     },
     "output_type": "display_data"
    }
   ],
   "source": [
    "# пробуем логарифмировать\n",
    "\n",
    "for i in num_cols:\n",
    "    df[i] = np.log(df[i] + 4)\n",
    "    f = plt.figure(figsize=(10, 3))\n",
    "    gs = f.add_gridspec(1, 2)\n",
    "    with sns.axes_style(\"white\"):\n",
    "        ax = f.add_subplot(gs[0, 0])\n",
    "        sns.distplot(df[i], kde = False, rug=False, color='b')\n",
    "\n",
    "    with sns.axes_style(\"white\"):\n",
    "        ax = f.add_subplot(gs[0, 1])\n",
    "        sns.boxplot(data=df[i], palette='rainbow')\n",
    "\n",
    "    f.tight_layout()\n"
   ]
  },
  {
   "cell_type": "markdown",
   "metadata": {
    "papermill": {
     "duration": 0.076053,
     "end_time": "2020-10-22T05:54:14.531605",
     "exception": false,
     "start_time": "2020-10-22T05:54:14.455552",
     "status": "completed"
    },
    "tags": []
   },
   "source": [
    "От выбросов избавиться не удалось.\n",
    "Вернёмся к вопросу удаления выбросов при посроении модели."
   ]
  },
  {
   "cell_type": "markdown",
   "metadata": {
    "papermill": {
     "duration": 0.071753,
     "end_time": "2020-10-22T05:54:14.676629",
     "exception": false,
     "start_time": "2020-10-22T05:54:14.604876",
     "status": "completed"
    },
    "tags": []
   },
   "source": [
    "### Категориальные признаки"
   ]
  },
  {
   "cell_type": "code",
   "execution_count": 19,
   "metadata": {
    "execution": {
     "iopub.execute_input": "2020-10-22T05:54:14.834967Z",
     "iopub.status.busy": "2020-10-22T05:54:14.834044Z",
     "iopub.status.idle": "2020-10-22T05:54:14.841241Z",
     "shell.execute_reply": "2020-10-22T05:54:14.840567Z"
    },
    "papermill": {
     "duration": 0.094626,
     "end_time": "2020-10-22T05:54:14.841381",
     "exception": false,
     "start_time": "2020-10-22T05:54:14.746755",
     "status": "completed"
    },
    "tags": []
   },
   "outputs": [],
   "source": [
    "# Для облегчения анализа избавимся от пропусков и закодируем данные\n",
    "# Заполнение популярным SCH.\n",
    "\n",
    "df['education'] = df['education'].fillna('SCH')"
   ]
  },
  {
   "cell_type": "code",
   "execution_count": 20,
   "metadata": {
    "execution": {
     "iopub.execute_input": "2020-10-22T05:54:14.992483Z",
     "iopub.status.busy": "2020-10-22T05:54:14.991685Z",
     "iopub.status.idle": "2020-10-22T05:54:18.289201Z",
     "shell.execute_reply": "2020-10-22T05:54:18.288557Z"
    },
    "papermill": {
     "duration": 3.376963,
     "end_time": "2020-10-22T05:54:18.289340",
     "exception": false,
     "start_time": "2020-10-22T05:54:14.912377",
     "status": "completed"
    },
    "tags": []
   },
   "outputs": [],
   "source": [
    "# Для анализа закодируем 'education' по категориям\n",
    "df['education'] = df.apply(lambda x: 1 if x['education']=='SCH' else 2 if x['education']=='GRD' \n",
    "                           else 3 if x['education']=='UGR' else 4 if x['education']=='PGR' \n",
    "                           else 5, axis=1)"
   ]
  },
  {
   "cell_type": "code",
   "execution_count": 21,
   "metadata": {
    "execution": {
     "iopub.execute_input": "2020-10-22T05:54:18.456260Z",
     "iopub.status.busy": "2020-10-22T05:54:18.449502Z",
     "iopub.status.idle": "2020-10-22T05:54:32.489269Z",
     "shell.execute_reply": "2020-10-22T05:54:32.488636Z"
    },
    "papermill": {
     "duration": 14.127867,
     "end_time": "2020-10-22T05:54:32.489435",
     "exception": false,
     "start_time": "2020-10-22T05:54:18.361568",
     "status": "completed"
    },
    "tags": []
   },
   "outputs": [
    {
     "data": {
      "image/png": "[encoded data removed]",
      "text/plain": [
       "<Figure size 1080x216 with 4 Axes>"
      ]
     },
     "metadata": {
      "needs_background": "light"
     },
     "output_type": "display_data"
    },
    {
     "data": {
      "image/png": "[encoded data removed]",
      "text/plain": [
       "<Figure size 1080x216 with 4 Axes>"
      ]
     },
     "metadata": {
      "needs_background": "light"
     },
     "output_type": "display_data"
    },
    {
     "data": {
      "image/png": "[encoded data removed]",
      "text/plain": [
       "<Figure size 1080x216 with 4 Axes>"
      ]
     },
     "metadata": {
      "needs_background": "light"
     },
     "output_type": "display_data"
    },
    {
     "data": {
      "image/png": "[encoded data removed]",
      "text/plain": [
       "<Figure size 1080x216 with 4 Axes>"
      ]
     },
     "metadata": {
      "needs_background": "light"
     },
     "output_type": "display_data"
    },
    {
     "data": {
      "image/png": "[encoded data removed]",
      "text/plain": [
       "<Figure size 1080x216 with 4 Axes>"
      ]
     },
     "metadata": {
      "needs_background": "light"
     },
     "output_type": "display_data"
    },
    {
     "data": {
      "image/png": "[encoded data removed]",
      "text/plain": [
       "<Figure size 1080x216 with 4 Axes>"
      ]
     },
     "metadata": {
      "needs_background": "light"
     },
     "output_type": "display_data"
    },
    {
     "data": {
      "image/png": "[encoded data removed]",
      "text/plain": [
       "<Figure size 1080x216 with 4 Axes>"
      ]
     },
     "metadata": {
      "needs_background": "light"
     },
     "output_type": "display_data"
    }
   ],
   "source": [
    "for i in cat_cols:\n",
    "    f = plt.figure(figsize=(15, 3))\n",
    "    gs = f.add_gridspec(1, 4)\n",
    "    with sns.axes_style(\"white\"):\n",
    "        ax = f.add_subplot(gs[0, 0])\n",
    "        sns.barplot(x=i, y='default', data=df[df['Train'] ==1], estimator=len)\n",
    "        \n",
    "    with sns.axes_style(\"white\"):\n",
    "        ax = f.add_subplot(gs[0, 1])\n",
    "        sns.barplot(x='default', y=i, data=df[df['Train'] ==1], estimator=len)\n",
    "\n",
    "    with sns.axes_style(\"white\"):\n",
    "        ax = f.add_subplot(gs[0, 2])\n",
    "        sns.boxplot(x='default', y=i, data=df[df['Train'] ==1], palette='rainbow')\n",
    "        \n",
    "    with sns.axes_style(\"white\"):\n",
    "        ax = f.add_subplot(gs[0, 3])\n",
    "        sns.boxplot(data=df[i], palette='rainbow')\n",
    "\n",
    "    f.tight_layout()"
   ]
  },
  {
   "cell_type": "markdown",
   "metadata": {
    "papermill": {
     "duration": 0.077523,
     "end_time": "2020-10-22T05:54:32.645694",
     "exception": false,
     "start_time": "2020-10-22T05:54:32.568171",
     "status": "completed"
    },
    "tags": []
   },
   "source": [
    "Есть незначительные выбросы. \n",
    "Имеем дело с несбалансированной моделью: дефолтных представителей мало."
   ]
  },
  {
   "cell_type": "markdown",
   "metadata": {
    "papermill": {
     "duration": 0.078239,
     "end_time": "2020-10-22T05:54:32.800590",
     "exception": false,
     "start_time": "2020-10-22T05:54:32.722351",
     "status": "completed"
    },
    "tags": []
   },
   "source": [
    "### Бинарные признаки"
   ]
  },
  {
   "cell_type": "code",
   "execution_count": 22,
   "metadata": {
    "execution": {
     "iopub.execute_input": "2020-10-22T05:54:33.003183Z",
     "iopub.status.busy": "2020-10-22T05:54:32.970764Z",
     "iopub.status.idle": "2020-10-22T05:54:33.143337Z",
     "shell.execute_reply": "2020-10-22T05:54:33.142574Z"
    },
    "papermill": {
     "duration": 0.265354,
     "end_time": "2020-10-22T05:54:33.143501",
     "exception": false,
     "start_time": "2020-10-22T05:54:32.878147",
     "status": "completed"
    },
    "tags": []
   },
   "outputs": [],
   "source": [
    "# Закодируем бинарные признаки\n",
    "label_encoder = LabelEncoder()\n",
    "\n",
    "for column in bin_cols:\n",
    "    df[column] = label_encoder.fit_transform(df[column])"
   ]
  },
  {
   "cell_type": "markdown",
   "metadata": {
    "papermill": {
     "duration": 0.082868,
     "end_time": "2020-10-22T05:54:33.309534",
     "exception": false,
     "start_time": "2020-10-22T05:54:33.226666",
     "status": "completed"
    },
    "tags": []
   },
   "source": [
    "## Корреляция числовых признаков"
   ]
  },
  {
   "cell_type": "code",
   "execution_count": 23,
   "metadata": {
    "execution": {
     "iopub.execute_input": "2020-10-22T05:54:33.476660Z",
     "iopub.status.busy": "2020-10-22T05:54:33.474805Z",
     "iopub.status.idle": "2020-10-22T05:54:33.894873Z",
     "shell.execute_reply": "2020-10-22T05:54:33.894219Z"
    },
    "papermill": {
     "duration": 0.506919,
     "end_time": "2020-10-22T05:54:33.894999",
     "exception": false,
     "start_time": "2020-10-22T05:54:33.388080",
     "status": "completed"
    },
    "tags": []
   },
   "outputs": [
    {
     "data": {
      "text/plain": [
       "<matplotlib.axes._subplots.AxesSubplot at 0x7f0162561910>"
      ]
     },
     "execution_count": 23,
     "metadata": {},
     "output_type": "execute_result"
    },
    {
     "data": {
      "image/png": "[encoded data removed]",
      "text/plain": [
       "<Figure size 432x288 with 2 Axes>"
      ]
     },
     "metadata": {
      "needs_background": "light"
     },
     "output_type": "display_data"
    }
   ],
   "source": [
    "df_num = df[num_cols]\n",
    "sns.heatmap(df_num.corr(), annot = True)"
   ]
  },
  {
   "cell_type": "markdown",
   "metadata": {
    "papermill": {
     "duration": 0.132234,
     "end_time": "2020-10-22T05:54:34.107177",
     "exception": false,
     "start_time": "2020-10-22T05:54:33.974943",
     "status": "completed"
    },
    "tags": []
   },
   "source": [
    "Сильно скоррелированных числовых признаков нет"
   ]
  },
  {
   "cell_type": "markdown",
   "metadata": {
    "papermill": {
     "duration": 0.082922,
     "end_time": "2020-10-22T05:54:34.269550",
     "exception": false,
     "start_time": "2020-10-22T05:54:34.186628",
     "status": "completed"
    },
    "tags": []
   },
   "source": [
    "# Значимость переменных"
   ]
  },
  {
   "cell_type": "code",
   "execution_count": 24,
   "metadata": {
    "execution": {
     "iopub.execute_input": "2020-10-22T05:54:34.439865Z",
     "iopub.status.busy": "2020-10-22T05:54:34.438531Z",
     "iopub.status.idle": "2020-10-22T05:54:34.829310Z",
     "shell.execute_reply": "2020-10-22T05:54:34.828553Z"
    },
    "papermill": {
     "duration": 0.479967,
     "end_time": "2020-10-22T05:54:34.829440",
     "exception": false,
     "start_time": "2020-10-22T05:54:34.349473",
     "status": "completed"
    },
    "tags": []
   },
   "outputs": [
    {
     "data": {
      "text/plain": [
       "<matplotlib.axes._subplots.AxesSubplot at 0x7f0161823810>"
      ]
     },
     "execution_count": 24,
     "metadata": {},
     "output_type": "execute_result"
    },
    {
     "data": {
      "image/png": "[encoded data removed]",
      "text/plain": [
       "<Figure size 432x288 with 1 Axes>"
      ]
     },
     "metadata": {
      "needs_background": "light"
     },
     "output_type": "display_data"
    }
   ],
   "source": [
    "train_df = df[df['Train']==1]\n",
    "imp_num = pd.Series(f_classif(train_df[num_cols], train_df['default'])[0], index = num_cols)\n",
    "imp_num.sort_values(inplace = True)\n",
    "imp_num.plot(kind = 'barh', title='Значимость числовых переменных')"
   ]
  },
  {
   "cell_type": "code",
   "execution_count": 25,
   "metadata": {
    "execution": {
     "iopub.execute_input": "2020-10-22T05:54:35.002973Z",
     "iopub.status.busy": "2020-10-22T05:54:35.002089Z",
     "iopub.status.idle": "2020-10-22T05:54:35.398181Z",
     "shell.execute_reply": "2020-10-22T05:54:35.397385Z"
    },
    "papermill": {
     "duration": 0.488785,
     "end_time": "2020-10-22T05:54:35.398477",
     "exception": false,
     "start_time": "2020-10-22T05:54:34.909692",
     "status": "completed"
    },
    "tags": []
   },
   "outputs": [
    {
     "data": {
      "text/plain": [
       "<matplotlib.axes._subplots.AxesSubplot at 0x7f01619506d0>"
      ]
     },
     "execution_count": 25,
     "metadata": {},
     "output_type": "execute_result"
    },
    {
     "data": {
      "image/png": "[encoded data removed]",
      "text/plain": [
       "<Figure size 432x288 with 1 Axes>"
      ]
     },
     "metadata": {
      "needs_background": "light"
     },
     "output_type": "display_data"
    }
   ],
   "source": [
    "imp_cat = Series(mutual_info_classif(train_df[bin_cols + cat_cols], train_df['default'],\n",
    "                                     discrete_features =True), index = bin_cols + cat_cols)\n",
    "imp_cat.sort_values(inplace = True)\n",
    "imp_cat.plot(kind = 'barh', title = 'Значимость бинарных и категориальных признаков')"
   ]
  },
  {
   "cell_type": "markdown",
   "metadata": {
    "papermill": {
     "duration": 0.082256,
     "end_time": "2020-10-22T05:54:35.564824",
     "exception": false,
     "start_time": "2020-10-22T05:54:35.482568",
     "status": "completed"
    },
    "tags": []
   },
   "source": [
    "## Подготовка к ML"
   ]
  },
  {
   "cell_type": "code",
   "execution_count": 26,
   "metadata": {
    "execution": {
     "iopub.execute_input": "2020-10-22T05:54:35.743728Z",
     "iopub.status.busy": "2020-10-22T05:54:35.742927Z",
     "iopub.status.idle": "2020-10-22T05:54:35.779136Z",
     "shell.execute_reply": "2020-10-22T05:54:35.778486Z"
    },
    "papermill": {
     "duration": 0.13235,
     "end_time": "2020-10-22T05:54:35.779274",
     "exception": false,
     "start_time": "2020-10-22T05:54:35.646924",
     "status": "completed"
    },
    "tags": []
   },
   "outputs": [],
   "source": [
    "df = pd.get_dummies(df, prefix=cat_cols, columns=cat_cols)"
   ]
  },
  {
   "cell_type": "markdown",
   "metadata": {
    "papermill": {
     "duration": 0.081697,
     "end_time": "2020-10-22T05:54:35.942695",
     "exception": false,
     "start_time": "2020-10-22T05:54:35.860998",
     "status": "completed"
    },
    "tags": []
   },
   "source": [
    "### Нормирование данных"
   ]
  },
  {
   "cell_type": "code",
   "execution_count": 27,
   "metadata": {
    "execution": {
     "iopub.execute_input": "2020-10-22T05:54:36.124990Z",
     "iopub.status.busy": "2020-10-22T05:54:36.123131Z",
     "iopub.status.idle": "2020-10-22T05:54:36.365729Z",
     "shell.execute_reply": "2020-10-22T05:54:36.364955Z"
    },
    "papermill": {
     "duration": 0.336334,
     "end_time": "2020-10-22T05:54:36.365860",
     "exception": false,
     "start_time": "2020-10-22T05:54:36.029526",
     "status": "completed"
    },
    "tags": []
   },
   "outputs": [],
   "source": [
    "# Поскольку в данных выбросы, воспользуемся RobustScaler\n",
    "scaler = RobustScaler()\n",
    "\n",
    "df[num_cols] = scaler.fit_transform(df[num_cols].values)"
   ]
  },
  {
   "cell_type": "code",
   "execution_count": 28,
   "metadata": {
    "execution": {
     "iopub.execute_input": "2020-10-22T05:54:36.543172Z",
     "iopub.status.busy": "2020-10-22T05:54:36.542268Z",
     "iopub.status.idle": "2020-10-22T05:54:36.547891Z",
     "shell.execute_reply": "2020-10-22T05:54:36.547068Z"
    },
    "papermill": {
     "duration": 0.098431,
     "end_time": "2020-10-22T05:54:36.548025",
     "exception": false,
     "start_time": "2020-10-22T05:54:36.449594",
     "status": "completed"
    },
    "tags": []
   },
   "outputs": [],
   "source": [
    "df.drop(['app_date', 'client_id'], axis=1, inplace=True)"
   ]
  },
  {
   "cell_type": "markdown",
   "metadata": {
    "papermill": {
     "duration": 0.082542,
     "end_time": "2020-10-22T05:54:36.714590",
     "exception": false,
     "start_time": "2020-10-22T05:54:36.632048",
     "status": "completed"
    },
    "tags": []
   },
   "source": [
    "# ML"
   ]
  },
  {
   "cell_type": "code",
   "execution_count": 29,
   "metadata": {
    "execution": {
     "iopub.execute_input": "2020-10-22T05:54:36.889838Z",
     "iopub.status.busy": "2020-10-22T05:54:36.889024Z",
     "iopub.status.idle": "2020-10-22T05:54:36.926577Z",
     "shell.execute_reply": "2020-10-22T05:54:36.925776Z"
    },
    "papermill": {
     "duration": 0.127903,
     "end_time": "2020-10-22T05:54:36.926712",
     "exception": false,
     "start_time": "2020-10-22T05:54:36.798809",
     "status": "completed"
    },
    "tags": []
   },
   "outputs": [],
   "source": [
    "# Возвращаем первоначальное разбиение на train и test\n",
    "\n",
    "train_data = df[df['Train'] == 1].drop(['Train'], axis=1)\n",
    "test_data = df[df['Train'] == 0].drop(['Train'], axis=1)\n",
    "\n",
    "y = train_data.default.values           \n",
    "X = train_data.drop(['default'], axis=1).values"
   ]
  },
  {
   "cell_type": "code",
   "execution_count": 30,
   "metadata": {
    "execution": {
     "iopub.execute_input": "2020-10-22T05:54:37.103253Z",
     "iopub.status.busy": "2020-10-22T05:54:37.100863Z",
     "iopub.status.idle": "2020-10-22T05:54:37.144687Z",
     "shell.execute_reply": "2020-10-22T05:54:37.144064Z"
    },
    "papermill": {
     "duration": 0.134452,
     "end_time": "2020-10-22T05:54:37.144831",
     "exception": false,
     "start_time": "2020-10-22T05:54:37.010379",
     "status": "completed"
    },
    "tags": []
   },
   "outputs": [
    {
     "data": {
      "text/plain": [
       "((36349, 42), (73799, 42), (73799, 41), (59039, 41), (14760, 41))"
      ]
     },
     "execution_count": 30,
     "metadata": {},
     "output_type": "execute_result"
    }
   ],
   "source": [
    "# Из train выделяем данные на валидацию \n",
    "X_train, X_valid, y_train, y_valid = train_test_split(X, y, test_size=0.2, random_state=RANDOM_SEED)\n",
    "test_data.shape, train_data.shape, X.shape, X_train.shape, X_valid.shape"
   ]
  },
  {
   "cell_type": "code",
   "execution_count": 31,
   "metadata": {
    "execution": {
     "iopub.execute_input": "2020-10-22T05:54:37.320892Z",
     "iopub.status.busy": "2020-10-22T05:54:37.320098Z",
     "iopub.status.idle": "2020-10-22T05:54:38.606553Z",
     "shell.execute_reply": "2020-10-22T05:54:38.605760Z"
    },
    "papermill": {
     "duration": 1.377855,
     "end_time": "2020-10-22T05:54:38.606690",
     "exception": false,
     "start_time": "2020-10-22T05:54:37.228835",
     "status": "completed"
    },
    "tags": []
   },
   "outputs": [],
   "source": [
    "model = LogisticRegression(random_state=RANDOM_SEED, max_iter = 1000)\n",
    "\n",
    "model.fit(X_train, y_train)\n",
    "\n",
    "y_pred_prob = model.predict_proba(X_valid)[:,1]\n",
    "y_pred = model.predict(X_valid)"
   ]
  },
  {
   "cell_type": "markdown",
   "metadata": {
    "papermill": {
     "duration": 0.094248,
     "end_time": "2020-10-22T05:54:38.791104",
     "exception": false,
     "start_time": "2020-10-22T05:54:38.696856",
     "status": "completed"
    },
    "tags": []
   },
   "source": [
    "## Метрики качества"
   ]
  },
  {
   "cell_type": "code",
   "execution_count": 32,
   "metadata": {
    "execution": {
     "iopub.execute_input": "2020-10-22T05:54:38.976707Z",
     "iopub.status.busy": "2020-10-22T05:54:38.975844Z",
     "iopub.status.idle": "2020-10-22T05:54:39.005208Z",
     "shell.execute_reply": "2020-10-22T05:54:39.004265Z"
    },
    "papermill": {
     "duration": 0.124379,
     "end_time": "2020-10-22T05:54:39.005358",
     "exception": false,
     "start_time": "2020-10-22T05:54:38.880979",
     "status": "completed"
    },
    "tags": []
   },
   "outputs": [],
   "source": [
    "metrics = ['accuracy', 'precision', 'recall', 'f1_score']\n",
    "value = [accuracy_score(y_valid,y_pred), precision_score(y_valid,y_pred), recall_score(y_valid,y_pred), f1_score(y_valid,y_pred)]\n",
    "first_metrics_df = pd.DataFrame({'Метрика': metrics, 'Значение': value}, columns=['Метрика', 'Значение'])"
   ]
  },
  {
   "cell_type": "markdown",
   "metadata": {
    "papermill": {
     "duration": 0.086679,
     "end_time": "2020-10-22T05:54:39.183438",
     "exception": false,
     "start_time": "2020-10-22T05:54:39.096759",
     "status": "completed"
    },
    "tags": []
   },
   "source": [
    "### Кривая ROC-AUC"
   ]
  },
  {
   "cell_type": "code",
   "execution_count": 33,
   "metadata": {
    "execution": {
     "iopub.execute_input": "2020-10-22T05:54:39.374033Z",
     "iopub.status.busy": "2020-10-22T05:54:39.372282Z",
     "iopub.status.idle": "2020-10-22T05:54:39.602228Z",
     "shell.execute_reply": "2020-10-22T05:54:39.601384Z"
    },
    "papermill": {
     "duration": 0.325438,
     "end_time": "2020-10-22T05:54:39.602362",
     "exception": false,
     "start_time": "2020-10-22T05:54:39.276924",
     "status": "completed"
    },
    "tags": []
   },
   "outputs": [
    {
     "data": {
      "image/png": "[encoded data removed]",
      "text/plain": [
       "<Figure size 432x288 with 1 Axes>"
      ]
     },
     "metadata": {
      "needs_background": "light"
     },
     "output_type": "display_data"
    }
   ],
   "source": [
    "fpr, tpr, threshold = roc_curve(y_valid, y_pred_prob)\n",
    "roc_auc = roc_auc_score(y_valid, y_pred_prob)\n",
    "\n",
    "plt.figure()\n",
    "plt.plot([0, 1], label='Baseline', linestyle='--')\n",
    "plt.plot(fpr, tpr, label = 'Regression')\n",
    "plt.title('Logistic Regression ROC AUC = %0.3f' % roc_auc)\n",
    "plt.ylabel('True Positive Rate')\n",
    "plt.xlabel('False Positive Rate')\n",
    "plt.legend(loc = 'lower right')\n",
    "plt.show()"
   ]
  },
  {
   "cell_type": "markdown",
   "metadata": {
    "papermill": {
     "duration": 0.098218,
     "end_time": "2020-10-22T05:54:39.787793",
     "exception": false,
     "start_time": "2020-10-22T05:54:39.689575",
     "status": "completed"
    },
    "tags": []
   },
   "source": [
    "### Матрица ошибок"
   ]
  },
  {
   "cell_type": "code",
   "execution_count": 34,
   "metadata": {
    "execution": {
     "iopub.execute_input": "2020-10-22T05:54:39.979024Z",
     "iopub.status.busy": "2020-10-22T05:54:39.978218Z",
     "iopub.status.idle": "2020-10-22T05:54:40.014102Z",
     "shell.execute_reply": "2020-10-22T05:54:40.012689Z"
    },
    "papermill": {
     "duration": 0.135513,
     "end_time": "2020-10-22T05:54:40.014264",
     "exception": false,
     "start_time": "2020-10-22T05:54:39.878751",
     "status": "completed"
    },
    "tags": []
   },
   "outputs": [
    {
     "name": "stdout",
     "output_type": "stream",
     "text": [
      "35 57\n",
      "1792 12876\n"
     ]
    }
   ],
   "source": [
    "tn, fp, fn, tp = confusion_matrix(y_valid, y_pred).ravel()\n",
    "print(tp, fp) \n",
    "print(fn, tn)"
   ]
  },
  {
   "cell_type": "markdown",
   "metadata": {
    "papermill": {
     "duration": 0.090692,
     "end_time": "2020-10-22T05:54:40.195257",
     "exception": false,
     "start_time": "2020-10-22T05:54:40.104565",
     "status": "completed"
    },
    "tags": []
   },
   "source": [
    "Хотя ROC-AUC дал неплохой результат, мы абсолютно не угадали дефолтных клиентов. \n",
    "Посмотрим на PRC-AUC, поскольку данная метрика может оценивать эффективность алгоритма на несбалансированных данных."
   ]
  },
  {
   "cell_type": "code",
   "execution_count": 35,
   "metadata": {
    "execution": {
     "iopub.execute_input": "2020-10-22T05:54:40.382797Z",
     "iopub.status.busy": "2020-10-22T05:54:40.382047Z",
     "iopub.status.idle": "2020-10-22T05:54:40.389230Z",
     "shell.execute_reply": "2020-10-22T05:54:40.388479Z"
    },
    "papermill": {
     "duration": 0.103594,
     "end_time": "2020-10-22T05:54:40.389352",
     "exception": false,
     "start_time": "2020-10-22T05:54:40.285758",
     "status": "completed"
    },
    "tags": []
   },
   "outputs": [],
   "source": [
    "precision, recall, thresholds = precision_recall_curve(y_valid, y_pred_prob)"
   ]
  },
  {
   "cell_type": "code",
   "execution_count": 36,
   "metadata": {
    "execution": {
     "iopub.execute_input": "2020-10-22T05:54:40.584426Z",
     "iopub.status.busy": "2020-10-22T05:54:40.583260Z",
     "iopub.status.idle": "2020-10-22T05:54:40.810859Z",
     "shell.execute_reply": "2020-10-22T05:54:40.810079Z"
    },
    "papermill": {
     "duration": 0.328917,
     "end_time": "2020-10-22T05:54:40.810988",
     "exception": false,
     "start_time": "2020-10-22T05:54:40.482071",
     "status": "completed"
    },
    "tags": []
   },
   "outputs": [
    {
     "data": {
      "image/png": "[encoded data removed]",
      "text/plain": [
       "<Figure size 576x432 with 1 Axes>"
      ]
     },
     "metadata": {
      "needs_background": "light"
     },
     "output_type": "display_data"
    }
   ],
   "source": [
    "plt.figure(figsize=(8, 6))\n",
    "prc_area = auc(recall, precision)\n",
    "plt.plot(recall, precision, lw=3, label='площадь под PR кривой = %0.3f)' % prc_area)\n",
    "    \n",
    "plt.xlim([-.05, 1.0])\n",
    "plt.ylim([-.05, 1.05])\n",
    "plt.xlabel('Recall')\n",
    "plt.ylabel('Precision')\n",
    "plt.title('Precision-Recall Curve')\n",
    "plt.legend(loc=\"upper right\")\n",
    "plt.show()"
   ]
  },
  {
   "cell_type": "code",
   "execution_count": 37,
   "metadata": {
    "execution": {
     "iopub.execute_input": "2020-10-22T05:54:41.000358Z",
     "iopub.status.busy": "2020-10-22T05:54:40.999525Z",
     "iopub.status.idle": "2020-10-22T05:54:41.003555Z",
     "shell.execute_reply": "2020-10-22T05:54:41.002352Z"
    },
    "papermill": {
     "duration": 0.102017,
     "end_time": "2020-10-22T05:54:41.003705",
     "exception": false,
     "start_time": "2020-10-22T05:54:40.901688",
     "status": "completed"
    },
    "tags": []
   },
   "outputs": [],
   "source": [
    "# Добавим метрики в наш датасет метрик для первой модели\n",
    "\n",
    "add_metrics = pd.DataFrame({'Метрика': ['ROC_AUC', 'PRC_AUC'], 'Значение': [roc_auc, prc_area]}, columns=['Метрика', 'Значение'])\n",
    "\n",
    "first_metrics_df = first_metrics_df.append(add_metrics, ignore_index=True)"
   ]
  },
  {
   "cell_type": "markdown",
   "metadata": {
    "papermill": {
     "duration": 0.088108,
     "end_time": "2020-10-22T05:54:41.186786",
     "exception": false,
     "start_time": "2020-10-22T05:54:41.098678",
     "status": "completed"
    },
    "tags": []
   },
   "source": [
    "**Итого** \n",
    "\n",
    "f1_score = 0.033\n",
    "recall = 0.018         \n",
    "Из 1828 дефолтных клиентов модель угадала лишь 32. Имеем ошибку второго рода.            \n",
    "В данном случае метрика ROC-AUC (= 0.743) не показательна, поскольку мы имеем дело с несбалансированной моделью.             "
   ]
  },
  {
   "cell_type": "markdown",
   "metadata": {
    "papermill": {
     "duration": 0.10781,
     "end_time": "2020-10-22T05:54:41.404121",
     "exception": false,
     "start_time": "2020-10-22T05:54:41.296311",
     "status": "completed"
    },
    "tags": []
   },
   "source": [
    "## Поиск оптимальных параметров модели"
   ]
  },
  {
   "cell_type": "code",
   "execution_count": 38,
   "metadata": {
    "execution": {
     "iopub.execute_input": "2020-10-22T05:54:41.610270Z",
     "iopub.status.busy": "2020-10-22T05:54:41.609275Z",
     "iopub.status.idle": "2020-10-22T05:56:57.540298Z",
     "shell.execute_reply": "2020-10-22T05:56:57.540946Z"
    },
    "papermill": {
     "duration": 136.043506,
     "end_time": "2020-10-22T05:56:57.541117",
     "exception": false,
     "start_time": "2020-10-22T05:54:41.497611",
     "status": "completed"
    },
    "tags": []
   },
   "outputs": [
    {
     "name": "stdout",
     "output_type": "stream",
     "text": [
      "LogisticRegression(class_weight='balanced', random_state=42, solver='liblinear')\n"
     ]
    }
   ],
   "source": [
    "model = LogisticRegression(random_state=RANDOM_SEED)\n",
    "\n",
    "iter_max = 100\n",
    "\n",
    "param_grid = [\n",
    "    {'penalty': ['l1'], \n",
    "     'solver': ['liblinear', 'lbfgs'], \n",
    "     'class_weight':['none', 'balanced'], \n",
    "     'multi_class': ['auto','ovr'], \n",
    "     'max_iter':[iter_max]},\n",
    "    {'penalty': ['l2'], \n",
    "     'solver': ['newton-cg', 'lbfgs', 'liblinear', 'sag', 'saga'], \n",
    "     'class_weight':['none', 'balanced'], \n",
    "     'multi_class': ['auto','ovr'], \n",
    "     'max_iter':[iter_max]},\n",
    "    {'penalty': ['none'], \n",
    "     'solver': ['newton-cg', 'lbfgs', 'sag', 'saga'], \n",
    "     'class_weight':['none', 'balanced'], \n",
    "     'multi_class': ['auto','ovr'], \n",
    "     'max_iter':[iter_max]},\n",
    "]\n",
    "\n",
    "gridsearch = GridSearchCV(model, param_grid, scoring='f1', n_jobs=-1)\n",
    "gridsearch.fit(X_train, y_train)\n",
    "model = gridsearch.best_estimator_\n",
    "print(model)"
   ]
  },
  {
   "cell_type": "code",
   "execution_count": 39,
   "metadata": {
    "execution": {
     "iopub.execute_input": "2020-10-22T05:56:57.728338Z",
     "iopub.status.busy": "2020-10-22T05:56:57.727552Z",
     "iopub.status.idle": "2020-10-22T05:56:58.458223Z",
     "shell.execute_reply": "2020-10-22T05:56:58.457406Z"
    },
    "papermill": {
     "duration": 0.82636,
     "end_time": "2020-10-22T05:56:58.458364",
     "exception": false,
     "start_time": "2020-10-22T05:56:57.632004",
     "status": "completed"
    },
    "tags": []
   },
   "outputs": [],
   "source": [
    "# Обучим модель на данных и проверим confusion_matrix\n",
    "\n",
    "model.fit(X_train, y_train)\n",
    "\n",
    "y_pred_prob = model.predict_proba(X_valid)[:,1]\n",
    "y_pred = model.predict(X_valid)"
   ]
  },
  {
   "cell_type": "code",
   "execution_count": 40,
   "metadata": {
    "execution": {
     "iopub.execute_input": "2020-10-22T05:56:58.663858Z",
     "iopub.status.busy": "2020-10-22T05:56:58.662709Z",
     "iopub.status.idle": "2020-10-22T05:56:58.696236Z",
     "shell.execute_reply": "2020-10-22T05:56:58.695048Z"
    },
    "papermill": {
     "duration": 0.140571,
     "end_time": "2020-10-22T05:56:58.696383",
     "exception": false,
     "start_time": "2020-10-22T05:56:58.555812",
     "status": "completed"
    },
    "tags": []
   },
   "outputs": [
    {
     "name": "stdout",
     "output_type": "stream",
     "text": [
      "1254 4331\n",
      "573 8602\n"
     ]
    }
   ],
   "source": [
    "# матрица ошибок\n",
    "tn, fp, fn, tp = confusion_matrix(y_valid, y_pred).ravel()\n",
    "print(tp, fp) \n",
    "print(fn, tn)"
   ]
  },
  {
   "cell_type": "code",
   "execution_count": 41,
   "metadata": {
    "execution": {
     "iopub.execute_input": "2020-10-22T05:56:58.891837Z",
     "iopub.status.busy": "2020-10-22T05:56:58.890658Z",
     "iopub.status.idle": "2020-10-22T05:56:58.937959Z",
     "shell.execute_reply": "2020-10-22T05:56:58.936938Z"
    },
    "papermill": {
     "duration": 0.147987,
     "end_time": "2020-10-22T05:56:58.938133",
     "exception": false,
     "start_time": "2020-10-22T05:56:58.790146",
     "status": "completed"
    },
    "tags": []
   },
   "outputs": [
    {
     "name": "stdout",
     "output_type": "stream",
     "text": [
      "Accuracy: 0.6678\n",
      "Precision: 0.2245\n",
      "Recall: 0.6864\n",
      "F1: 0.3384\n",
      "ROC_AUC =  0.7429\n",
      "PRC_AUC =  0.2809\n"
     ]
    }
   ],
   "source": [
    "print('Accuracy: %.4f' % accuracy_score(y_valid, y_pred))\n",
    "print('Precision: %.4f' % precision_score(y_valid, y_pred))\n",
    "print('Recall: %.4f' % recall_score(y_valid, y_pred))\n",
    "print('F1: %.4f' % f1_score(y_valid, y_pred))\n",
    "\n",
    "precision, recall, thresholds = precision_recall_curve(y_valid, y_pred_prob)\n",
    "print('ROC_AUC = ', round(roc_auc_score(y_valid, y_pred_prob), 4))\n",
    "print('PRC_AUC = ', round(auc(recall, precision), 4))"
   ]
  },
  {
   "cell_type": "code",
   "execution_count": 42,
   "metadata": {
    "execution": {
     "iopub.execute_input": "2020-10-22T05:56:59.136084Z",
     "iopub.status.busy": "2020-10-22T05:56:59.135141Z",
     "iopub.status.idle": "2020-10-22T05:56:59.139992Z",
     "shell.execute_reply": "2020-10-22T05:56:59.139342Z"
    },
    "papermill": {
     "duration": 0.109061,
     "end_time": "2020-10-22T05:56:59.140119",
     "exception": false,
     "start_time": "2020-10-22T05:56:59.031058",
     "status": "completed"
    },
    "tags": []
   },
   "outputs": [
    {
     "data": {
      "text/html": [
       "<div>\n",
       "<style scoped>\n",
       "    .dataframe tbody tr th:only-of-type {\n",
       "        vertical-align: middle;\n",
       "    }\n",
       "\n",
       "    .dataframe tbody tr th {\n",
       "        vertical-align: top;\n",
       "    }\n",
       "\n",
       "    .dataframe thead th {\n",
       "        text-align: right;\n",
       "    }\n",
       "</style>\n",
       "<table border=\"1\" class=\"dataframe\">\n",
       "  <thead>\n",
       "    <tr style=\"text-align: right;\">\n",
       "      <th></th>\n",
       "      <th>Метрика</th>\n",
       "      <th>Значение</th>\n",
       "    </tr>\n",
       "  </thead>\n",
       "  <tbody>\n",
       "    <tr>\n",
       "      <th>0</th>\n",
       "      <td>accuracy</td>\n",
       "      <td>0.874729</td>\n",
       "    </tr>\n",
       "    <tr>\n",
       "      <th>1</th>\n",
       "      <td>precision</td>\n",
       "      <td>0.380435</td>\n",
       "    </tr>\n",
       "    <tr>\n",
       "      <th>2</th>\n",
       "      <td>recall</td>\n",
       "      <td>0.019157</td>\n",
       "    </tr>\n",
       "    <tr>\n",
       "      <th>3</th>\n",
       "      <td>f1_score</td>\n",
       "      <td>0.036477</td>\n",
       "    </tr>\n",
       "    <tr>\n",
       "      <th>4</th>\n",
       "      <td>ROC_AUC</td>\n",
       "      <td>0.743241</td>\n",
       "    </tr>\n",
       "    <tr>\n",
       "      <th>5</th>\n",
       "      <td>PRC_AUC</td>\n",
       "      <td>0.282095</td>\n",
       "    </tr>\n",
       "  </tbody>\n",
       "</table>\n",
       "</div>"
      ],
      "text/plain": [
       "     Метрика  Значение\n",
       "0   accuracy  0.874729\n",
       "1  precision  0.380435\n",
       "2     recall  0.019157\n",
       "3   f1_score  0.036477\n",
       "4    ROC_AUC  0.743241\n",
       "5    PRC_AUC  0.282095"
      ]
     },
     "execution_count": 42,
     "metadata": {},
     "output_type": "execute_result"
    }
   ],
   "source": [
    "# Метрики первой модели\n",
    "first_metrics_df"
   ]
  },
  {
   "cell_type": "markdown",
   "metadata": {
    "papermill": {
     "duration": 0.096945,
     "end_time": "2020-10-22T05:56:59.334763",
     "exception": false,
     "start_time": "2020-10-22T05:56:59.237818",
     "status": "completed"
    },
    "tags": []
   },
   "source": [
    "# Submission"
   ]
  },
  {
   "cell_type": "code",
   "execution_count": 43,
   "metadata": {
    "execution": {
     "iopub.execute_input": "2020-10-22T05:56:59.525100Z",
     "iopub.status.busy": "2020-10-22T05:56:59.523823Z",
     "iopub.status.idle": "2020-10-22T05:56:59.551762Z",
     "shell.execute_reply": "2020-10-22T05:56:59.551069Z"
    },
    "papermill": {
     "duration": 0.126759,
     "end_time": "2020-10-22T05:56:59.551948",
     "exception": false,
     "start_time": "2020-10-22T05:56:59.425189",
     "status": "completed"
    },
    "tags": []
   },
   "outputs": [],
   "source": [
    "train_data = df[df['Train'] == 1].drop(['Train'], axis=1)\n",
    "test_data = df[df['Train'] == 0].drop(['Train'], axis=1)"
   ]
  },
  {
   "cell_type": "code",
   "execution_count": 44,
   "metadata": {
    "execution": {
     "iopub.execute_input": "2020-10-22T05:56:59.744205Z",
     "iopub.status.busy": "2020-10-22T05:56:59.743379Z",
     "iopub.status.idle": "2020-10-22T05:56:59.751657Z",
     "shell.execute_reply": "2020-10-22T05:56:59.750884Z"
    },
    "papermill": {
     "duration": 0.106752,
     "end_time": "2020-10-22T05:56:59.751785",
     "exception": false,
     "start_time": "2020-10-22T05:56:59.645033",
     "status": "completed"
    },
    "tags": []
   },
   "outputs": [],
   "source": [
    "X_train=train_data.drop(['default'], axis=1)\n",
    "y_train = train_data.default.values\n",
    "X_test = test_data.drop(['default'], axis=1)"
   ]
  },
  {
   "cell_type": "code",
   "execution_count": 45,
   "metadata": {
    "execution": {
     "iopub.execute_input": "2020-10-22T05:56:59.943252Z",
     "iopub.status.busy": "2020-10-22T05:56:59.942105Z",
     "iopub.status.idle": "2020-10-22T05:56:59.946832Z",
     "shell.execute_reply": "2020-10-22T05:56:59.946160Z"
    },
    "papermill": {
     "duration": 0.102619,
     "end_time": "2020-10-22T05:56:59.946971",
     "exception": false,
     "start_time": "2020-10-22T05:56:59.844352",
     "status": "completed"
    },
    "tags": []
   },
   "outputs": [
    {
     "data": {
      "text/plain": [
       "((36349, 42), (73799, 42), (73799, 41), (73799,), (36349, 41))"
      ]
     },
     "execution_count": 45,
     "metadata": {},
     "output_type": "execute_result"
    }
   ],
   "source": [
    "test_data.shape, train_data.shape, X_train.shape, y_train.shape, X_test.shape"
   ]
  },
  {
   "cell_type": "code",
   "execution_count": 46,
   "metadata": {
    "execution": {
     "iopub.execute_input": "2020-10-22T05:57:00.147338Z",
     "iopub.status.busy": "2020-10-22T05:57:00.146538Z",
     "iopub.status.idle": "2020-10-22T05:57:00.653416Z",
     "shell.execute_reply": "2020-10-22T05:57:00.652679Z"
    },
    "papermill": {
     "duration": 0.612847,
     "end_time": "2020-10-22T05:57:00.653580",
     "exception": false,
     "start_time": "2020-10-22T05:57:00.040733",
     "status": "completed"
    },
    "tags": []
   },
   "outputs": [
    {
     "data": {
      "text/html": [
       "<div>\n",
       "<style scoped>\n",
       "    .dataframe tbody tr th:only-of-type {\n",
       "        vertical-align: middle;\n",
       "    }\n",
       "\n",
       "    .dataframe tbody tr th {\n",
       "        vertical-align: top;\n",
       "    }\n",
       "\n",
       "    .dataframe thead th {\n",
       "        text-align: right;\n",
       "    }\n",
       "</style>\n",
       "<table border=\"1\" class=\"dataframe\">\n",
       "  <thead>\n",
       "    <tr style=\"text-align: right;\">\n",
       "      <th></th>\n",
       "      <th>client_id</th>\n",
       "      <th>default</th>\n",
       "    </tr>\n",
       "  </thead>\n",
       "  <tbody>\n",
       "    <tr>\n",
       "      <th>0</th>\n",
       "      <td>74835</td>\n",
       "      <td>0.225461</td>\n",
       "    </tr>\n",
       "    <tr>\n",
       "      <th>1</th>\n",
       "      <td>17527</td>\n",
       "      <td>0.795891</td>\n",
       "    </tr>\n",
       "    <tr>\n",
       "      <th>2</th>\n",
       "      <td>75683</td>\n",
       "      <td>0.332247</td>\n",
       "    </tr>\n",
       "    <tr>\n",
       "      <th>3</th>\n",
       "      <td>26883</td>\n",
       "      <td>0.397728</td>\n",
       "    </tr>\n",
       "    <tr>\n",
       "      <th>4</th>\n",
       "      <td>28862</td>\n",
       "      <td>0.139417</td>\n",
       "    </tr>\n",
       "    <tr>\n",
       "      <th>5</th>\n",
       "      <td>99881</td>\n",
       "      <td>0.587787</td>\n",
       "    </tr>\n",
       "    <tr>\n",
       "      <th>6</th>\n",
       "      <td>26630</td>\n",
       "      <td>0.790809</td>\n",
       "    </tr>\n",
       "    <tr>\n",
       "      <th>7</th>\n",
       "      <td>79934</td>\n",
       "      <td>0.146371</td>\n",
       "    </tr>\n",
       "    <tr>\n",
       "      <th>8</th>\n",
       "      <td>16605</td>\n",
       "      <td>0.084702</td>\n",
       "    </tr>\n",
       "    <tr>\n",
       "      <th>9</th>\n",
       "      <td>105449</td>\n",
       "      <td>0.144492</td>\n",
       "    </tr>\n",
       "  </tbody>\n",
       "</table>\n",
       "</div>"
      ],
      "text/plain": [
       "   client_id   default\n",
       "0      74835  0.225461\n",
       "1      17527  0.795891\n",
       "2      75683  0.332247\n",
       "3      26883  0.397728\n",
       "4      28862  0.139417\n",
       "5      99881  0.587787\n",
       "6      26630  0.790809\n",
       "7      79934  0.146371\n",
       "8      16605  0.084702\n",
       "9     105449  0.144492"
      ]
     },
     "metadata": {},
     "output_type": "display_data"
    }
   ],
   "source": [
    "predict_submission = model.predict_proba(X_test)[:,1]\n",
    "\n",
    "submit = pd.DataFrame(df_test.client_id)\n",
    "submit['default']=predict_submission\n",
    "submit.to_csv('submission.csv', index=False)\n",
    "display(submit.head(10))"
   ]
  },
  {
   "cell_type": "markdown",
   "metadata": {
    "papermill": {
     "duration": 0.093398,
     "end_time": "2020-10-22T05:57:00.849872",
     "exception": false,
     "start_time": "2020-10-22T05:57:00.756474",
     "status": "completed"
    },
    "tags": []
   },
   "source": [
    "# Заключение\n",
    "\n",
    "\n",
    "Путем поиска оптимальных параметров модели классификации удалось значительно улучшить результаты.\n"
   ]
  }
 ],
 "metadata": {
  "kernelspec": {
   "display_name": "Python 3",
   "language": "python",
   "name": "python3"
  },
  "language_info": {
   "codemirror_mode": {
    "name": "ipython",
    "version": 3
   },
   "file_extension": ".py",
   "mimetype": "text/x-python",
   "name": "python",
   "nbconvert_exporter": "python",
   "pygments_lexer": "ipython3",
   "version": "3.7.6"
  },
  "papermill": {
   "duration": 191.849349,
   "end_time": "2020-10-22T05:57:01.052513",
   "environment_variables": {},
   "exception": null,
   "input_path": "__notebook__.ipynb",
   "output_path": "__notebook__.ipynb",
   "parameters": {},
   "start_time": "2020-10-22T05:53:49.203164",
   "version": "2.1.0"
  }
 },
 "nbformat": 4,
 "nbformat_minor": 4
}
